{
  "nbformat": 4,
  "nbformat_minor": 0,
  "metadata": {
    "colab": {
      "name": "Lecture 4.ipynb",
      "provenance": [],
      "include_colab_link": true
    },
    "kernelspec": {
      "name": "python3",
      "display_name": "Python 3"
    }
  },
  "cells": [
    {
      "cell_type": "markdown",
      "metadata": {
        "id": "view-in-github",
        "colab_type": "text"
      },
      "source": [
        "<a href=\"https://colab.research.google.com/github/ddinesan/Manga/blob/master/Lecture_4.ipynb\" target=\"_parent\"><img src=\"https://colab.research.google.com/assets/colab-badge.svg\" alt=\"Open In Colab\"/></a>"
      ]
    },
    {
      "cell_type": "markdown",
      "metadata": {
        "id": "41z4_mXVsLiW",
        "colab_type": "text"
      },
      "source": [
        "# **Case Study: Complexity Theory**\n",
        "\n",
        "This is a worksheet prepared by Evan Peters for Lecture 4 of the reading course \"Introduction to Quantum Computer Programming\" (AMATH 900/ AMATH 495/ QIC 895) at the University of Waterloo.\n",
        "\n",
        "Course Webpage: https://sites.google.com/view/quantum-computer-programming\n",
        "\n",
        "Text followed in the course: [Quantum Computing, An Applied Approach](https://www.springer.com/gp/book/9783030239213) by Jack D. Hidary (2019)"
      ]
    },
    {
      "cell_type": "code",
      "metadata": {
        "id": "1AItphBwLaG3",
        "colab_type": "code",
        "colab": {
          "base_uri": "https://localhost:8080/",
          "height": 1000
        },
        "outputId": "00ae4c73-d2c6-48ff-8718-e6132c26c52b"
      },
      "source": [
        "!pip install cirq"
      ],
      "execution_count": null,
      "outputs": [
        {
          "output_type": "stream",
          "text": [
            "Collecting cirq\n",
            "\u001b[?25l  Downloading https://files.pythonhosted.org/packages/0e/20/387309f4c789f95c89d1fafe405e82587bd1dfdf43b397abee5c7a164f03/cirq-0.6.0-py3-none-any.whl (1.2MB)\n",
            "\u001b[K     |████████████████████████████████| 1.2MB 8.5MB/s \n",
            "\u001b[?25hRequirement already satisfied: scipy in /usr/local/lib/python3.6/dist-packages (from cirq) (1.4.1)\n",
            "Requirement already satisfied: matplotlib~=3.0 in /usr/local/lib/python3.6/dist-packages (from cirq) (3.1.2)\n",
            "Collecting networkx==2.3\n",
            "\u001b[?25l  Downloading https://files.pythonhosted.org/packages/85/08/f20aef11d4c343b557e5de6b9548761811eb16e438cee3d32b1c66c8566b/networkx-2.3.zip (1.7MB)\n",
            "\u001b[K     |████████████████████████████████| 1.8MB 34.0MB/s \n",
            "\u001b[?25hRequirement already satisfied: google-api-python-client~=1.6 in /usr/local/lib/python3.6/dist-packages (from cirq) (1.7.11)\n",
            "Requirement already satisfied: typing-extensions in /usr/local/lib/python3.6/dist-packages (from cirq) (3.6.6)\n",
            "Requirement already satisfied: dataclasses; python_version < \"3.7\" in /usr/local/lib/python3.6/dist-packages (from cirq) (0.7)\n",
            "Requirement already satisfied: pandas in /usr/local/lib/python3.6/dist-packages (from cirq) (0.25.3)\n",
            "Requirement already satisfied: sympy in /usr/local/lib/python3.6/dist-packages (from cirq) (1.1.1)\n",
            "Collecting protobuf==3.8.0\n",
            "\u001b[?25l  Downloading https://files.pythonhosted.org/packages/d2/fb/29de8d08967f0cce1bb10b39846d836b0f3bf6776ddc36aed7c73498ca7e/protobuf-3.8.0-cp36-cp36m-manylinux1_x86_64.whl (1.2MB)\n",
            "\u001b[K     |████████████████████████████████| 1.2MB 43.9MB/s \n",
            "\u001b[?25hRequirement already satisfied: requests~=2.18 in /usr/local/lib/python3.6/dist-packages (from cirq) (2.21.0)\n",
            "Requirement already satisfied: numpy~=1.16 in /usr/local/lib/python3.6/dist-packages (from cirq) (1.17.5)\n",
            "Requirement already satisfied: sortedcontainers~=2.0 in /usr/local/lib/python3.6/dist-packages (from cirq) (2.1.0)\n",
            "Requirement already satisfied: kiwisolver>=1.0.1 in /usr/local/lib/python3.6/dist-packages (from matplotlib~=3.0->cirq) (1.1.0)\n",
            "Requirement already satisfied: pyparsing!=2.0.4,!=2.1.2,!=2.1.6,>=2.0.1 in /usr/local/lib/python3.6/dist-packages (from matplotlib~=3.0->cirq) (2.4.6)\n",
            "Requirement already satisfied: python-dateutil>=2.1 in /usr/local/lib/python3.6/dist-packages (from matplotlib~=3.0->cirq) (2.6.1)\n",
            "Requirement already satisfied: cycler>=0.10 in /usr/local/lib/python3.6/dist-packages (from matplotlib~=3.0->cirq) (0.10.0)\n",
            "Requirement already satisfied: decorator>=4.3.0 in /usr/local/lib/python3.6/dist-packages (from networkx==2.3->cirq) (4.4.1)\n",
            "Requirement already satisfied: httplib2<1dev,>=0.9.2 in /usr/local/lib/python3.6/dist-packages (from google-api-python-client~=1.6->cirq) (0.11.3)\n",
            "Requirement already satisfied: uritemplate<4dev,>=3.0.0 in /usr/local/lib/python3.6/dist-packages (from google-api-python-client~=1.6->cirq) (3.0.1)\n",
            "Requirement already satisfied: google-auth>=1.4.1 in /usr/local/lib/python3.6/dist-packages (from google-api-python-client~=1.6->cirq) (1.4.2)\n",
            "Requirement already satisfied: google-auth-httplib2>=0.0.3 in /usr/local/lib/python3.6/dist-packages (from google-api-python-client~=1.6->cirq) (0.0.3)\n",
            "Requirement already satisfied: six<2dev,>=1.6.1 in /usr/local/lib/python3.6/dist-packages (from google-api-python-client~=1.6->cirq) (1.12.0)\n",
            "Requirement already satisfied: pytz>=2017.2 in /usr/local/lib/python3.6/dist-packages (from pandas->cirq) (2018.9)\n",
            "Requirement already satisfied: mpmath>=0.19 in /usr/local/lib/python3.6/dist-packages (from sympy->cirq) (1.1.0)\n",
            "Requirement already satisfied: setuptools in /usr/local/lib/python3.6/dist-packages (from protobuf==3.8.0->cirq) (42.0.2)\n",
            "Requirement already satisfied: chardet<3.1.0,>=3.0.2 in /usr/local/lib/python3.6/dist-packages (from requests~=2.18->cirq) (3.0.4)\n",
            "Requirement already satisfied: urllib3<1.25,>=1.21.1 in /usr/local/lib/python3.6/dist-packages (from requests~=2.18->cirq) (1.24.3)\n",
            "Requirement already satisfied: idna<2.9,>=2.5 in /usr/local/lib/python3.6/dist-packages (from requests~=2.18->cirq) (2.8)\n",
            "Requirement already satisfied: certifi>=2017.4.17 in /usr/local/lib/python3.6/dist-packages (from requests~=2.18->cirq) (2019.11.28)\n",
            "Requirement already satisfied: rsa>=3.1.4 in /usr/local/lib/python3.6/dist-packages (from google-auth>=1.4.1->google-api-python-client~=1.6->cirq) (4.0)\n",
            "Requirement already satisfied: cachetools>=2.0.0 in /usr/local/lib/python3.6/dist-packages (from google-auth>=1.4.1->google-api-python-client~=1.6->cirq) (4.0.0)\n",
            "Requirement already satisfied: pyasn1-modules>=0.2.1 in /usr/local/lib/python3.6/dist-packages (from google-auth>=1.4.1->google-api-python-client~=1.6->cirq) (0.2.7)\n",
            "Requirement already satisfied: pyasn1>=0.1.3 in /usr/local/lib/python3.6/dist-packages (from rsa>=3.1.4->google-auth>=1.4.1->google-api-python-client~=1.6->cirq) (0.4.8)\n",
            "Building wheels for collected packages: networkx\n",
            "  Building wheel for networkx (setup.py) ... \u001b[?25l\u001b[?25hdone\n",
            "  Created wheel for networkx: filename=networkx-2.3-py2.py3-none-any.whl size=1556408 sha256=aac856673e34b17fd2c75dd8307552d2825c42a17a7a7e8338a79eedbb39a303\n",
            "  Stored in directory: /root/.cache/pip/wheels/de/63/64/3699be2a9d0ccdb37c7f16329acf3863fd76eda58c39c737af\n",
            "Successfully built networkx\n",
            "\u001b[31mERROR: albumentations 0.1.12 has requirement imgaug<0.2.7,>=0.2.5, but you'll have imgaug 0.2.9 which is incompatible.\u001b[0m\n",
            "Installing collected packages: networkx, protobuf, cirq\n",
            "  Found existing installation: networkx 2.4\n",
            "    Uninstalling networkx-2.4:\n",
            "      Successfully uninstalled networkx-2.4\n",
            "  Found existing installation: protobuf 3.10.0\n",
            "    Uninstalling protobuf-3.10.0:\n",
            "      Successfully uninstalled protobuf-3.10.0\n",
            "Successfully installed cirq-0.6.0 networkx-2.3 protobuf-3.8.0\n"
          ],
          "name": "stdout"
        },
        {
          "output_type": "display_data",
          "data": {
            "application/vnd.colab-display-data+json": {
              "pip_warning": {
                "packages": [
                  "google"
                ]
              }
            }
          },
          "metadata": {
            "tags": []
          }
        }
      ]
    },
    {
      "cell_type": "markdown",
      "metadata": {
        "id": "6Mn3mvS9RDDs",
        "colab_type": "text"
      },
      "source": [
        "## Case Study: Classical complexity of quantum circuit simulators\n",
        "\n",
        "QIP tends to focus on the _algorithmic_ complexity when comparing quantum circuits to some classical counterpart problem. However here I'll introduce a quick study into the complexity of running a classical simulation of a quantum algorithm. The goal is to provide a means of estimating the scaling and overheads that a user might experience as they try to run quantum circuit simulations.\n",
        "\n",
        "---\n",
        "\n",
        "Small survey: \n",
        "* Whats the time complexity of simulating a Clifford circuit using...\n",
        "    * ...stabilizer formalism\n",
        "    * ...unitary matrix multiplication\n",
        "\n",
        "* Whats the total time complexity doing something with complexity $\\mathcal{O}(m)$ followed by something else with complexity $\\mathcal{O}(m^2)$ ?\n",
        "\n",
        "---\n",
        "\n",
        "### Computing matrix products\n",
        "\n",
        "Given: Two matrices, $A$ and $B$ with shapes like $(m \\times n) and (n \\times \\ell)$ respectively\n",
        "\n",
        "Find: Complexity of matrix multiplication $AB$\n",
        "\n",
        "_Use the algorithm below. How does the total number of multiplications scale with each of m, n, l?_"
      ]
    },
    {
      "cell_type": "code",
      "metadata": {
        "id": "zuy-NfvpFonK",
        "colab_type": "code",
        "colab": {}
      },
      "source": [
        "# Algorithm for matrix multiplication\n",
        "import numpy as np\n",
        "m, n, el = 10, 20, 13\n",
        "A = np.random.random(size=(m, n))\n",
        "B = np.random.random(size=(n, el))\n",
        "C = np.zeros((m, el))\n",
        "for i in range(m):\n",
        "  for j in range(el):\n",
        "    for k in range(n):\n",
        "      C[i,j] += A[i,k] * B[k,j]"
      ],
      "execution_count": null,
      "outputs": []
    },
    {
      "cell_type": "markdown",
      "metadata": {
        "id": "-b05YsMXFmT9",
        "colab_type": "text"
      },
      "source": [
        "\n",
        "### Computing amplitudes in a quantum state\n",
        "\n",
        "Given: Array multiplication of shapes like $(m \\times n) * (n \\times \\ell)$ has complexity $\\mathcal{O}(mn\\ell)$\n",
        "\n",
        "Goal: Compute $U_k U_j |\\psi \\rangle$ with lowest possible complexity.\n",
        "\n",
        " - Each $U_s \\in \\mathbb{C}^{2^s \\times 2^s}$  acts on $s$ qubits, $s = k, j$\n",
        "\n",
        "- $|\\psi \\rangle \\in \\mathbb{C}^{2^m}$ acts over $m$ qubits\n",
        "\n",
        "---\n",
        "#### 1. Naive algorithm\n",
        "\n",
        "\"Naive\" square matrix multiplication scales like $\\mathcal{O}(n^3)$. This results in $\\mathcal{O}(2^{3m})$ complexity:\n",
        "\n",
        "1. While $j < m$, tensor up $U_j$ with identity matrices (This is $\\mathcal{O}(2^{2m})$ since we have to fill a $(2^m \\times 2^m)$ sparse matrix with values)\n",
        "2. Repeat for $U_k$ while $k < m$\n",
        "3. Matrix multiplication $U_j U_k$  (This is $\\mathcal{O}(2^{3m})$ using our formula for matrix multiplication complexity from above)\n",
        "4. Multiply the result by $\\psi$ (This is $\\mathcal{O}(2^{2m})$ using our above formula for shapes $(2^m \\times 2^m) * (2^m \\times 1)$)\n",
        "\n",
        "<u>Total Complexity</u>: $\\mathcal{O}(2^{3m})$\n",
        "\n",
        "---\n",
        "#### 2. Quick and easy improvement\n",
        "Do the above but swap steps [3] and [4]. That is,\n",
        "3. Multiply  $ U_k \\psi$ ... $\\mathcal{O}(2^{2m})$\n",
        "4. Multiply $ U_j$ by the result... $\\mathcal{O}(2^{2m})$\n",
        "\n",
        "<u>Total Complexity</u>: $\\mathcal{O}(2^{2m})$\n",
        "\n",
        "We just exponentially improved by changing barely anything, since **matmul complexity is not constant with respect to associativity**. That is, the matrix multiplication $ABC$ can have vastly different complexities if its computed as $A(BC)$ compared to $(AB)C$. This comes across a wide range of fields, including autodifferentiation ('backpropagation'), tensor networks (specificially, tensor contraction), and quantum circuit simulators.\n",
        "\n",
        "Lets look at a quick practical demo of how complexity affects runtime\n"
      ]
    },
    {
      "cell_type": "code",
      "metadata": {
        "id": "t8yksmfFYX58",
        "colab_type": "code",
        "colab": {
          "base_uri": "https://localhost:8080/",
          "height": 35
        },
        "outputId": "26d23709-93cf-4a9f-c39d-52081d9c96db"
      },
      "source": [
        "# Demo: Timing scaling of matmul\n",
        "import numpy as np\n",
        "import cirq\n",
        "from timeit import default_timer as timer # <-- This is how we'll benchmark\n",
        "from tqdm import tqdm # <-- This is a cool library for progress bars\n",
        "\n",
        "matrix_sizes = np.logspace(1, 3.5, 100, dtype=np.int)\n",
        "times = []\n",
        "for m in tqdm(matrix_sizes):\n",
        "  a = np.random.random(size=(m, m))\n",
        "  b = np.random.random(size=(m, m))\n",
        "  start = timer()\n",
        "  np.dot(a, b)\n",
        "  end = timer()\n",
        "  times.append(end - start)\n",
        "  "
      ],
      "execution_count": null,
      "outputs": [
        {
          "output_type": "stream",
          "text": [
            "100%|██████████| 100/100 [00:14<00:00,  1.21it/s]\n"
          ],
          "name": "stderr"
        }
      ]
    },
    {
      "cell_type": "code",
      "metadata": {
        "id": "KdWBzDjoiH0U",
        "colab_type": "code",
        "colab": {
          "base_uri": "https://localhost:8080/",
          "height": 286
        },
        "outputId": "3c683ecf-ccd1-42ad-d489-042ecf6033da"
      },
      "source": [
        "import matplotlib.pyplot as plt\n",
        "plt.plot(matrix_sizes, times)\n",
        "plt.plot(matrix_sizes, matrix_sizes ** 3 / 2e10) # <--- empirical scaling factor"
      ],
      "execution_count": null,
      "outputs": [
        {
          "output_type": "execute_result",
          "data": {
            "text/plain": [
              "[<matplotlib.lines.Line2D at 0x7fc8ab0a7748>]"
            ]
          },
          "metadata": {
            "tags": []
          },
          "execution_count": 3
        },
        {
          "output_type": "display_data",
          "data": {
            "image/png": "[encoded data removed]",
            "text/plain": [
              "<Figure size 432x288 with 1 Axes>"
            ]
          },
          "metadata": {
            "tags": []
          }
        }
      ]
    },
    {
      "cell_type": "markdown",
      "metadata": {
        "id": "4EIAXv-Vt_PW",
        "colab_type": "text"
      },
      "source": [
        "#### 3. Tensor contraction\n",
        "\n",
        "So far we haven't done any better than $\\mathcal{O}(2^{2m})$ calculation of the $2^m$ amplitues in a wavefunction. But we should be able to satisfy a $\\mathcal{O}(2^m)$ lower bound in some cases (why?).\n",
        "\n",
        "To further improve our performance lets introduce tensors. For relevance, discussion is limited to N-dimensional tensors where each dimension is size-2. The tensor is simply a collection of numbers with an index corresponding to every dimension. \n",
        "\n",
        "For example, we could define a 2-Tensor:\n",
        "$$\n",
        "X_{ij}=\\begin{pmatrix}\n",
        "    x_{00}       & x_{01}  \\\\\n",
        "    x_{10}      & x_{11} \n",
        "\\end{pmatrix}\n",
        "$$\n",
        "\n",
        "Because of our size-2 restriction we require $i,j \\in [0,1]$. We can also specify a 1-qubit state like this:\n",
        "$$\n",
        "\\psi_{i}=\\begin{pmatrix}\n",
        "    \\psi_{0}        \\\\\n",
        "    \\psi_{1}     \n",
        "\\end{pmatrix}\n",
        "$$\n",
        "\n",
        "If we want to define a 2-qubit state, we add another dimension:\n",
        "$$\n",
        "\\psi_{ij}=\\begin{pmatrix}\n",
        "    \\psi_{00}       & \\psi_{01}  \\\\\n",
        "    \\psi_{10}      & \\psi_{11}    \n",
        "\\end{pmatrix}\n",
        "$$\n",
        "How do we interpret these amplitudes? Just read off the base-10 value of the binary subscript on each amplitude. Then you can reconstruct a regular 4x1 wavefunction:\n",
        "$$\n",
        "\\psi_{ij}=\\begin{pmatrix}\n",
        "    \\psi_{00}    \\\\ \\psi_{01}  \\\\\n",
        "    \\psi_{10}      \\\\ \\psi_{11}    \n",
        "\\end{pmatrix}\\rightarrow \\begin{pmatrix}\n",
        "    \\psi_{0}    \\\\ \\psi_{1}  \\\\\n",
        "    \\psi_{2}      \\\\ \\psi_{3}    \n",
        "\\end{pmatrix}\n",
        "$$\n",
        "\n",
        "For a 3-qubit state, we add yet another dimension:\n",
        "$$\n",
        "\\psi_{ijk}=\\begin{pmatrix}\n",
        "    \\psi_{000}       & \\psi_{001}  \\\\\n",
        "    \\psi_{010}      & \\psi_{011}   \\\\\n",
        "    \\psi_{100}       & \\psi_{101}  \\\\\n",
        "    \\psi_{110}      & \\psi_{111}   \n",
        "\\end{pmatrix}\n",
        "$$\n",
        "\n",
        "Tensors can be thought of as nested matrices, where indices in the outermost matrix point to inner matrices. In this view, our state looks like this:\n",
        "\n",
        "![](https://drive.google.com/uc?id=1fiavWcbIFUl6bobxMY7gUSKuWGqzvxQ1)    \n",
        "\n",
        "So to find $\\psi_{010}$ go to the zeroth row of the outermost matrix, then the first row of the next matrix in, then the zeroth column of that row. \n",
        "\n",
        "\n"
      ]
    },
    {
      "cell_type": "code",
      "metadata": {
        "id": "-JBJO16eH4oy",
        "colab_type": "code",
        "colab": {
          "base_uri": "https://localhost:8080/",
          "height": 90
        },
        "outputId": "aa12850a-2cb8-4371-cedb-2f1e6541eac8"
      },
      "source": [
        "# Example of using tensors in numpy/cirq\n",
        "import cirq\n",
        "\n",
        "# Create an array with integers from 0 to 8:\n",
        "v = cirq.testing.random_superposition(8)\n",
        "print(v)\n",
        "print(v.shape)"
      ],
      "execution_count": null,
      "outputs": [
        {
          "output_type": "stream",
          "text": [
            "[-0.11331812-0.18930691j -0.05960319+0.18412199j -0.01806402+0.50849099j\n",
            "  0.02335629+0.46844417j -0.00436651+0.06903506j -0.15900937+0.32144014j\n",
            " -0.43121931+0.23821223j  0.12214662-0.20972838j]\n",
            "(8,)\n"
          ],
          "name": "stdout"
        }
      ]
    },
    {
      "cell_type": "code",
      "metadata": {
        "id": "Dnmz6kExIdqr",
        "colab_type": "code",
        "colab": {
          "base_uri": "https://localhost:8080/",
          "height": 35
        },
        "outputId": "0872b3de-3cbd-4426-d88b-97a1a3cf649e"
      },
      "source": [
        "# To find the amplitude to be in \"|010>\", index at the location `decimal(0b010)`\n",
        "index = int(0b010)\n",
        "v[index]"
      ],
      "execution_count": null,
      "outputs": [
        {
          "output_type": "execute_result",
          "data": {
            "text/plain": [
              "(-0.018064022115801045+0.5084909922991787j)"
            ]
          },
          "metadata": {
            "tags": []
          },
          "execution_count": 6
        }
      ]
    },
    {
      "cell_type": "code",
      "metadata": {
        "id": "kCcidjRfIKbc",
        "colab_type": "code",
        "colab": {
          "base_uri": "https://localhost:8080/",
          "height": 108
        },
        "outputId": "52127aaf-64de-43cb-e382-c3262e4caeb9"
      },
      "source": [
        "# reshape the array into a 2 x 2 x 2 tensor\n",
        "v = v.reshape((2,2,2))\n",
        "print(v)"
      ],
      "execution_count": null,
      "outputs": [
        {
          "output_type": "stream",
          "text": [
            "[[[-0.11331812-0.18930691j -0.05960319+0.18412199j]\n",
            "  [-0.01806402+0.50849099j  0.02335629+0.46844417j]]\n",
            "\n",
            " [[-0.00436651+0.06903506j -0.15900937+0.32144014j]\n",
            "  [-0.43121931+0.23821223j  0.12214662-0.20972838j]]]\n"
          ],
          "name": "stdout"
        }
      ]
    },
    {
      "cell_type": "code",
      "metadata": {
        "id": "03ONTq8TIKh5",
        "colab_type": "code",
        "colab": {
          "base_uri": "https://localhost:8080/",
          "height": 35
        },
        "outputId": "0a921151-f587-4a96-b27b-f07a15dd35c1"
      },
      "source": [
        "# Now its easier to access the amplitude for the qubits to be in \"|010>\"\n",
        "v[0,1,0]"
      ],
      "execution_count": null,
      "outputs": [
        {
          "output_type": "execute_result",
          "data": {
            "text/plain": [
              "(-0.018064022115801045+0.5084909922991787j)"
            ]
          },
          "metadata": {
            "tags": []
          },
          "execution_count": 8
        }
      ]
    },
    {
      "cell_type": "markdown",
      "metadata": {
        "id": "cvExM7opHxbr",
        "colab_type": "text"
      },
      "source": [
        "Now we're ready to implement more efficient operations. For example, lets compute $ |\\phi \\rangle = U |\\psi \\rangle$ for a two-qubit gate acting on a 3-qubit state. A two-qubit gate is represented by a 4x4 matrix, which requires 4 size-2 dimensions to represent as a tensor: $U \\rightarrow U_{ijk\\ell}$. Meanwhile a 3-qubit state has three indices as we saw above: $\\psi \\rightarrow \\psi_{mnp}$. If the two-qubit matrix acts on qubits 0 and 2, we write the following to represent multiplication occuring only in that subspace:\n",
        "$$\n",
        "\\phi_{jm\\ell} = U_{ijk\\ell}\\psi_{imk}\n",
        "$$\n",
        "\n",
        "We set up $\\psi$ and $U$ to share indices in the subspace that we wanted to multiply - at indices 0 and 2, which represent information held in states 0 and 2 - and then we multiplied _only the submatrices defined by those indices_. \n",
        "\n",
        "Why bother? The above operation turns out to have complexity $\\mathcal{O}(2^{m+2})$, which is an exponential speedup over the previous method. \n",
        "\n",
        "**The main takeaway**: Tensor contractions allow us to do amplitude updates in states without the massive overhead of $2^n \\times 2^n$ matrix multiplication. \"Tensor Networks\" are just larger chains of products like the one we computed above, where nodes are defined as tensors and edges are defined as shared indices.\n",
        "\n",
        "Lets interrogate Cirq and confirm that they are doing multiplication efficiently"
      ]
    },
    {
      "cell_type": "code",
      "metadata": {
        "id": "wD0Hhanm60GY",
        "colab_type": "code",
        "colab": {
          "base_uri": "https://localhost:8080/",
          "height": 1000
        },
        "outputId": "d7403e41-0a54-44a1-8a59-985ee24d728c"
      },
      "source": [
        "# Benchmark demo 1: Constant operation over larger state\n",
        "# If I only have a single CNOT in my circuit, how much slowdown do I incur\n",
        "# by acting on larger and larger states?\n",
        "# We will time how long it takes to run CNOT|psi> 3000 times, for increasing\n",
        "# sizes of |psi>\n",
        "state_sizes = range(2, 8)\n",
        "times = []\n",
        "for m in tqdm(state_sizes):\n",
        "  qubits = cirq.GridQubit.rect(1, m)\n",
        "  circuit = cirq.Circuit(cirq.CNOT(qubits[0], qubits[-1]))\n",
        "  circuit += cirq.measure_each(*qubits)\n",
        "  display(circuit)\n",
        "  tot_time = 0\n",
        "  # We run the circuit 3000 times = 3000 sample size\n",
        "  for _ in range(3000):\n",
        "    start = timer() \n",
        "    cirq.Simulator().simulate(circuit)\n",
        "    end = timer()\n",
        "    tot_time += end - start\n",
        "  times.append(tot_time) # <- you should actually look at _minimum_ times, but colab servers are finnicky..."
      ],
      "execution_count": null,
      "outputs": [
        {
          "output_type": "stream",
          "text": [
            "\r  0%|          | 0/6 [00:00<?, ?it/s]"
          ],
          "name": "stderr"
        },
        {
          "output_type": "display_data",
          "data": {
            "text/html": [
              "<pre style=\"overflow: auto; white-space: pre;\">(0, 0): ───@───M───\n",
              "           │\n",
              "(0, 1): ───X───M───</pre>"
            ],
            "text/plain": [
              "(0, 0): ───@───M───\n",
              "           │\n",
              "(0, 1): ───X───M───"
            ]
          },
          "metadata": {
            "tags": []
          }
        },
        {
          "output_type": "stream",
          "text": [
            "\r 17%|█▋        | 1/6 [00:02<00:13,  2.71s/it]"
          ],
          "name": "stderr"
        },
        {
          "output_type": "display_data",
          "data": {
            "text/html": [
              "<pre style=\"overflow: auto; white-space: pre;\">           ┌──┐\n",
              "(0, 0): ────@─────M───\n",
              "            │\n",
              "(0, 1): ────┼M────────\n",
              "            │\n",
              "(0, 2): ────X─────M───\n",
              "           └──┘</pre>"
            ],
            "text/plain": [
              "           ┌──┐\n",
              "(0, 0): ────@─────M───\n",
              "            │\n",
              "(0, 1): ────┼M────────\n",
              "            │\n",
              "(0, 2): ────X─────M───\n",
              "           └──┘"
            ]
          },
          "metadata": {
            "tags": []
          }
        },
        {
          "output_type": "stream",
          "text": [
            "\r 33%|███▎      | 2/6 [00:06<00:11,  2.95s/it]"
          ],
          "name": "stderr"
        },
        {
          "output_type": "display_data",
          "data": {
            "text/html": [
              "<pre style=\"overflow: auto; white-space: pre;\">           ┌──┐\n",
              "(0, 0): ────@─────M───\n",
              "            │\n",
              "(0, 1): ────┼M────────\n",
              "            │\n",
              "(0, 2): ────┼M────────\n",
              "            │\n",
              "(0, 3): ────X─────M───\n",
              "           └──┘</pre>"
            ],
            "text/plain": [
              "           ┌──┐\n",
              "(0, 0): ────@─────M───\n",
              "            │\n",
              "(0, 1): ────┼M────────\n",
              "            │\n",
              "(0, 2): ────┼M────────\n",
              "            │\n",
              "(0, 3): ────X─────M───\n",
              "           └──┘"
            ]
          },
          "metadata": {
            "tags": []
          }
        },
        {
          "output_type": "stream",
          "text": [
            "\r 50%|█████     | 3/6 [00:10<00:09,  3.33s/it]"
          ],
          "name": "stderr"
        },
        {
          "output_type": "display_data",
          "data": {
            "text/html": [
              "<pre style=\"overflow: auto; white-space: pre;\">           ┌──┐\n",
              "(0, 0): ────@─────M───\n",
              "            │\n",
              "(0, 1): ────┼M────────\n",
              "            │\n",
              "(0, 2): ────┼M────────\n",
              "            │\n",
              "(0, 3): ────┼M────────\n",
              "            │\n",
              "(0, 4): ────X─────M───\n",
              "           └──┘</pre>"
            ],
            "text/plain": [
              "           ┌──┐\n",
              "(0, 0): ────@─────M───\n",
              "            │\n",
              "(0, 1): ────┼M────────\n",
              "            │\n",
              "(0, 2): ────┼M────────\n",
              "            │\n",
              "(0, 3): ────┼M────────\n",
              "            │\n",
              "(0, 4): ────X─────M───\n",
              "           └──┘"
            ]
          },
          "metadata": {
            "tags": []
          }
        },
        {
          "output_type": "stream",
          "text": [
            "\r 67%|██████▋   | 4/6 [00:15<00:07,  3.85s/it]"
          ],
          "name": "stderr"
        },
        {
          "output_type": "display_data",
          "data": {
            "text/html": [
              "<pre style=\"overflow: auto; white-space: pre;\">           ┌──┐\n",
              "(0, 0): ────@─────M───\n",
              "            │\n",
              "(0, 1): ────┼M────────\n",
              "            │\n",
              "(0, 2): ────┼M────────\n",
              "            │\n",
              "(0, 3): ────┼M────────\n",
              "            │\n",
              "(0, 4): ────┼M────────\n",
              "            │\n",
              "(0, 5): ────X─────M───\n",
              "           └──┘</pre>"
            ],
            "text/plain": [
              "           ┌──┐\n",
              "(0, 0): ────@─────M───\n",
              "            │\n",
              "(0, 1): ────┼M────────\n",
              "            │\n",
              "(0, 2): ────┼M────────\n",
              "            │\n",
              "(0, 3): ────┼M────────\n",
              "            │\n",
              "(0, 4): ────┼M────────\n",
              "            │\n",
              "(0, 5): ────X─────M───\n",
              "           └──┘"
            ]
          },
          "metadata": {
            "tags": []
          }
        },
        {
          "output_type": "stream",
          "text": [
            "\r 83%|████████▎ | 5/6 [00:21<00:04,  4.43s/it]"
          ],
          "name": "stderr"
        },
        {
          "output_type": "display_data",
          "data": {
            "text/html": [
              "<pre style=\"overflow: auto; white-space: pre;\">           ┌──┐\n",
              "(0, 0): ────@─────M───\n",
              "            │\n",
              "(0, 1): ────┼M────────\n",
              "            │\n",
              "(0, 2): ────┼M────────\n",
              "            │\n",
              "(0, 3): ────┼M────────\n",
              "            │\n",
              "(0, 4): ────┼M────────\n",
              "            │\n",
              "(0, 5): ────┼M────────\n",
              "            │\n",
              "(0, 6): ────X─────M───\n",
              "           └──┘</pre>"
            ],
            "text/plain": [
              "           ┌──┐\n",
              "(0, 0): ────@─────M───\n",
              "            │\n",
              "(0, 1): ────┼M────────\n",
              "            │\n",
              "(0, 2): ────┼M────────\n",
              "            │\n",
              "(0, 3): ────┼M────────\n",
              "            │\n",
              "(0, 4): ────┼M────────\n",
              "            │\n",
              "(0, 5): ────┼M────────\n",
              "            │\n",
              "(0, 6): ────X─────M───\n",
              "           └──┘"
            ]
          },
          "metadata": {
            "tags": []
          }
        },
        {
          "output_type": "stream",
          "text": [
            "\r100%|██████████| 6/6 [00:27<00:00,  5.10s/it]\n"
          ],
          "name": "stderr"
        }
      ]
    },
    {
      "cell_type": "code",
      "metadata": {
        "id": "OyT6SSiWK5bk",
        "colab_type": "code",
        "colab": {
          "base_uri": "https://localhost:8080/",
          "height": 297
        },
        "outputId": "3c23a1c7-2ae1-4e3d-86ad-ea7a5fb15d9f"
      },
      "source": [
        "plt.plot(state_sizes, times)\n",
        "plt.xlabel(\"total qubits (n)\")\n",
        "plt.ylabel(\"Total time\")"
      ],
      "execution_count": null,
      "outputs": [
        {
          "output_type": "execute_result",
          "data": {
            "text/plain": [
              "Text(0, 0.5, 'Total time')"
            ]
          },
          "metadata": {
            "tags": []
          },
          "execution_count": 27
        },
        {
          "output_type": "display_data",
          "data": {
            "image/png": "[encoded data removed]",
            "text/plain": [
              "<Figure size 432x288 with 1 Axes>"
            ]
          },
          "metadata": {
            "tags": []
          }
        }
      ]
    },
    {
      "cell_type": "markdown",
      "metadata": {
        "id": "wp2tynYn8uXi",
        "colab_type": "text"
      },
      "source": [
        "Time increases linearly, which is _way_ better than exponentially and is actually due to read/write and memory OPS and not algorithmic complexity. \n",
        "\n",
        "#### 4. Nonlinear array operations\n",
        "Meanwhile, we can show empirically that some gates can be computed faster than others:\n"
      ]
    },
    {
      "cell_type": "code",
      "metadata": {
        "id": "4h9qURqA7kn_",
        "colab_type": "code",
        "colab": {
          "base_uri": "https://localhost:8080/",
          "height": 286
        },
        "outputId": "0a771573-eb1e-411d-ad19-4bede26c0e2d"
      },
      "source": [
        "# Demo 2: Simulation speed of different gates\n",
        "# Here we will run a circuit consisting of 5000 of a gate in a row and \n",
        "# record the total runtime\n",
        "qubit = cirq.GridQubit(0, 0)\n",
        "\n",
        "def benchmark_gate(n, gate):\n",
        "  \"\"\"Time n simulation iterations of gate.\"\"\"\n",
        "  circuit = cirq.Circuit()\n",
        "  sim = cirq.Simulator()\n",
        "  for _ in range(n):\n",
        "    circuit += gate.on(qubit)\n",
        "\n",
        "  start = timer() \n",
        "  sim.simulate(circuit)\n",
        "  end = timer()\n",
        "  return end - start\n",
        "\n",
        "\n",
        "# Run the experiment for a bunch of gates\n",
        "n = 5000\n",
        "display(cirq.Circuit(cirq.X(qubit)))\n",
        "print(f\"\\tTime to run {n} times:\", benchmark_gate(n, cirq.X), \"\\n\")\n",
        "display(cirq.Circuit(cirq.Y(qubit)))\n",
        "print(f\"\\tTime to run {n} times:\", benchmark_gate(n, cirq.Y), \"\\n\")\n",
        "display(cirq.Circuit(cirq.T.on(qubit)))\n",
        "print(f\"\\tTime to run {n} times:\", benchmark_gate(n, cirq.T), \"\\n\")\n",
        "display(cirq.Circuit(cirq.H(qubit)))\n",
        "print(f\"\\tTime to run {n} times:\", benchmark_gate(n, cirq.H), \"\\n\")\n",
        "display(cirq.Circuit(cirq.Rx(.3958).on(qubit)))\n",
        "print(f\"\\tTime to run {n} times:\", benchmark_gate(n, cirq.Rx(.3958)), \"\\n\")\n"
      ],
      "execution_count": null,
      "outputs": [
        {
          "output_type": "display_data",
          "data": {
            "text/html": [
              "<pre style=\"overflow: auto; white-space: pre;\">(0, 0): ───X───</pre>"
            ],
            "text/plain": [
              "(0, 0): ───X───"
            ]
          },
          "metadata": {
            "tags": []
          }
        },
        {
          "output_type": "stream",
          "text": [
            "\tTime to run 5000 times: 0.48989480399995955 \n",
            "\n"
          ],
          "name": "stdout"
        },
        {
          "output_type": "display_data",
          "data": {
            "text/html": [
              "<pre style=\"overflow: auto; white-space: pre;\">(0, 0): ───Y───</pre>"
            ],
            "text/plain": [
              "(0, 0): ───Y───"
            ]
          },
          "metadata": {
            "tags": []
          }
        },
        {
          "output_type": "stream",
          "text": [
            "\tTime to run 5000 times: 0.5362299620001068 \n",
            "\n"
          ],
          "name": "stdout"
        },
        {
          "output_type": "display_data",
          "data": {
            "text/html": [
              "<pre style=\"overflow: auto; white-space: pre;\">(0, 0): ───T───</pre>"
            ],
            "text/plain": [
              "(0, 0): ───T───"
            ]
          },
          "metadata": {
            "tags": []
          }
        },
        {
          "output_type": "stream",
          "text": [
            "\tTime to run 5000 times: 0.498792135000258 \n",
            "\n"
          ],
          "name": "stdout"
        },
        {
          "output_type": "display_data",
          "data": {
            "text/html": [
              "<pre style=\"overflow: auto; white-space: pre;\">(0, 0): ───H───</pre>"
            ],
            "text/plain": [
              "(0, 0): ───H───"
            ]
          },
          "metadata": {
            "tags": []
          }
        },
        {
          "output_type": "stream",
          "text": [
            "\tTime to run 5000 times: 0.6473524289999659 \n",
            "\n"
          ],
          "name": "stdout"
        },
        {
          "output_type": "display_data",
          "data": {
            "text/html": [
              "<pre style=\"overflow: auto; white-space: pre;\">(0, 0): ───Rx(0.126π)───</pre>"
            ],
            "text/plain": [
              "(0, 0): ───Rx(0.126π)───"
            ]
          },
          "metadata": {
            "tags": []
          }
        },
        {
          "output_type": "stream",
          "text": [
            "\tTime to run 5000 times: 0.7710820390002482 \n",
            "\n"
          ],
          "name": "stdout"
        }
      ]
    },
    {
      "cell_type": "markdown",
      "metadata": {
        "id": "78A3_GTHCDV6",
        "colab_type": "text"
      },
      "source": [
        "Some gates are harder to simulate than others! Here I will just demonstrate with an example why some gates like $X$ are so fast. Suppose we have a three-qubit state $\\psi_{ijk}$ and want to apply $X(0)$. With our tensor form of states, we can just shuffle the matrices around, and not do any multiplication at all!\n",
        "\n",
        "![](https://drive.google.com/uc?id=1bm_8ctIVQt8bo1B_o19lJwXIpfcDAIg5)\n",
        "\n",
        "Tensor indexing turns out to be $\\mathcal{O}(1)$, so our complexity is now as low as $\\mathcal{O}(2^{m+1})$.\n",
        "\n",
        "The generalization of techniques leads to \"Tensor Network\" simulations of quantum states (a good intro reference is ([Biamonte, 2017](https://arxiv.org/pdf/1708.00006.pdf))) ). Many of the most competitive large quantum state simulators use tensor networks, including [IBM's rebuttal to Google's supremacy paper](https://www.ibm.com/blogs/research/2019/10/on-quantum-supremac|y/)."
      ]
    },
    {
      "cell_type": "code",
      "metadata": {
        "id": "LjKmMmApTWQ_",
        "colab_type": "code",
        "colab": {}
      },
      "source": [
        ""
      ],
      "execution_count": null,
      "outputs": []
    }
  ]
}