{
  "nbformat": 4,
  "nbformat_minor": 0,
  "metadata": {
    "colab": {
      "name": "Lecture 11",
      "provenance": [],
      "collapsed_sections": [],
      "include_colab_link": true
    },
    "kernelspec": {
      "display_name": "Python [default]",
      "language": "python",
      "name": "python3"
    }
  },
  "cells": [
    {
      "cell_type": "markdown",
      "metadata": {
        "id": "view-in-github",
        "colab_type": "text"
      },
      "source": [
        "<a href=\"https://colab.research.google.com/github/ddinesan/Manga/blob/master/Lecture_11.ipynb\" target=\"_parent\"><img src=\"https://colab.research.google.com/assets/colab-badge.svg\" alt=\"Open In Colab\"/></a>"
      ]
    },
    {
      "cell_type": "markdown",
      "metadata": {
        "id": "lORoela1QICx",
        "colab_type": "text"
      },
      "source": [
        "#Quantum Fourier Transform Implementation\n",
        "\n",
        "\n",
        "\n",
        "\n",
        "\n"
      ]
    },
    {
      "cell_type": "markdown",
      "metadata": {
        "id": "-qtgyA--k-CV",
        "colab_type": "text"
      },
      "source": [
        "This is a worksheet prepared by Jing Song Du for Lecture 11 of the reading course \"Introduction to Quantum Computer Programming\" (AMATH 900/ AMATH 495/ QIC 895) at the University of Waterloo.\n",
        "\n",
        "Course Webpage: https://sites.google.com/view/quantum-computer-programming\n",
        "\n",
        "Text followed in the course: [Quantum Computing, An Applied Approach](https://www.springer.com/gp/book/9783030239213) by Jack D. Hidary (2019)\n"
      ]
    },
    {
      "cell_type": "code",
      "metadata": {
        "id": "pPMSHs4HQfSR",
        "colab_type": "code",
        "colab": {}
      },
      "source": [
        "# install cirq\n",
        "!pip install cirq==0.5 --quiet"
      ],
      "execution_count": null,
      "outputs": []
    },
    {
      "cell_type": "markdown",
      "metadata": {
        "id": "wTQFlM356vQG",
        "colab_type": "text"
      },
      "source": [
        "### What is a QFT?\n",
        "\n",
        "\n"
      ]
    },
    {
      "cell_type": "markdown",
      "metadata": {
        "id": "fTWfUNb4-Rim",
        "colab_type": "text"
      },
      "source": [
        "Scott Aaronson Blog\n",
        "\n",
        "QFT is a linear transformation (indeed a unitary transformation) that maps one vector of complex numbers to another vector of complex numbers"
      ]
    },
    {
      "cell_type": "markdown",
      "metadata": {
        "id": "yiLJJCqs-WfC",
        "colab_type": "text"
      },
      "source": [
        "###Circuit Diagram"
      ]
    },
    {
      "cell_type": "markdown",
      "metadata": {
        "id": "xyhgCosQK3j4",
        "colab_type": "text"
      },
      "source": [
        "The construction of the QFT as a circuit follows a simple recursive form\n",
        "\n",
        ">![QFT Circuit](https://upload.wikimedia.org/wikipedia/commons/6/61/Q_fourier_nqubits.png)\n",
        "\n",
        "\n",
        "$H$ is the Hadamard gate, as usual. The Controlled-$R_j$ gates are phase gates similar to the Controlled-$Z$ gate. In fact, for us it will be useful to just think of them as fractional powers of Controlled-$Z$ gates:\n",
        "$$\n",
        "CR_j = CZ^{\\large 1/2^{j-1}}\n",
        "$$"
      ]
    },
    {
      "cell_type": "markdown",
      "metadata": {
        "id": "2dyP_y5AGcWP",
        "colab_type": "text"
      },
      "source": [
        "### Quantum Fourier Transform as a Circuit"
      ]
    },
    {
      "cell_type": "markdown",
      "metadata": {
        "id": "RJhjgemX8QXe",
        "colab_type": "text"
      },
      "source": [
        "Let's define a generator which produces the QFT circuit. It should accept a list of qubits as input and `yield`s the gates to construct the QFT in the right order. A useful observation is that the the QFT circuit \"repeats\" smaller versions of itself as you move from left to right across the diagram.\n",
        "\n",
        "\n",
        "```\n",
        "  \"\"\"Generator for the QFT on an arbitrary number of qubits. With four qubits\n",
        "  the answer is\n",
        "  ---H--@-------@--------@---------------------------------------------\n",
        "        |       |        |\n",
        "  ------@^0.5---+--------+---------H--@-------@------------------------\n",
        "                |        |            |       |\n",
        "  --------------@^0.25---+------------@^0.5---+---------H--@-----------\n",
        "                         |                    |            |\n",
        "  -----------------------@^0.125--------------@^0.25-------@^0.5---H---\n",
        "  \"\"\"\n",
        "```\n"
      ]
    },
    {
      "cell_type": "markdown",
      "metadata": {
        "id": "GbFgwEIW83qL",
        "colab_type": "text"
      },
      "source": [
        "#### Solution"
      ]
    },
    {
      "cell_type": "code",
      "metadata": {
        "id": "CtDX3krz87eC",
        "colab_type": "code",
        "colab": {}
      },
      "source": [
        "import cirq\n",
        "import numpy as np\n",
        "import random\n",
        "\n",
        "def make_qft(qubits):\n",
        "  qubits = list(qubits)\n",
        "  while len(qubits) > 0:\n",
        "      q_head = qubits.pop(0)\n",
        "      yield cirq.H(q_head)\n",
        "      for i, qubit in enumerate(qubits):\n",
        "          yield (cirq.CZ**(1/2**(i+1)))(qubit, q_head)"
      ],
      "execution_count": null,
      "outputs": []
    },
    {
      "cell_type": "code",
      "metadata": {
        "id": "nhbBPpf9GiHO",
        "colab_type": "code",
        "colab": {
          "base_uri": "https://localhost:8080/",
          "height": 170
        },
        "outputId": "735c63a4-34f8-4f0f-d52b-ad63aca10cb7"
      },
      "source": [
        "num_qubits = 4\n",
        "qubits = cirq.LineQubit.range(num_qubits)\n",
        "\n",
        "qft = cirq.Circuit.from_ops(make_qft(qubits))\n",
        "print(qft)"
      ],
      "execution_count": null,
      "outputs": [
        {
          "output_type": "stream",
          "text": [
            "                  ┌───────┐   ┌────────────┐   ┌───────┐\n",
            "0: ───H───@────────@───────────@───────────────────────────────────────\n",
            "          │        │           │\n",
            "1: ───────@^0.5────┼─────H─────┼──────@─────────@──────────────────────\n",
            "                   │           │      │         │\n",
            "2: ────────────────@^0.25──────┼──────@^0.5─────┼─────H────@───────────\n",
            "                               │                │          │\n",
            "3: ────────────────────────────@^(1/8)──────────@^0.25─────@^0.5───H───\n",
            "                  └───────┘   └────────────┘   └───────┘\n"
          ],
          "name": "stdout"
        }
      ]
    },
    {
      "cell_type": "markdown",
      "metadata": {
        "id": "uaDb6B_jPgrb",
        "colab_type": "text"
      },
      "source": [
        "### Quantum Fourier Transform as a Gate\n",
        "\n"
      ]
    },
    {
      "cell_type": "markdown",
      "metadata": {
        "id": "2CASB7V2dZt3",
        "colab_type": "text"
      },
      "source": [
        "For later convenience, it will be useful to encapsulate the QFT construction into a single gate. We can inherit from  `cirq.Gate` to define a gate which acts on an unspecified number of qubits, and then use the same strategy as for `make_qft` in the `_decompose_` method of the gate. Fill in the following code block to make a QFT gate."
      ]
    },
    {
      "cell_type": "code",
      "metadata": {
        "id": "aNpadPGxMicI",
        "colab_type": "code",
        "colab": {}
      },
      "source": [
        "class QFT(cirq.Gate):\n",
        "  \"\"\"Gate for the Quantum Fourier Transformation\n",
        "  \"\"\"\n",
        "  \n",
        "  def __init__(self, n_qubits):\n",
        "    self.n_qubits = n_qubits\n",
        "\n",
        "  def num_qubits(self):\n",
        "    return self.n_qubits\n",
        "    \n",
        "  def _decompose_(self, qubits):\n",
        "    qubits = list(qubits)\n",
        "    while len(qubits) > 0:\n",
        "        q_head = qubits.pop(0)\n",
        "        yield cirq.H(q_head)\n",
        "        for i, qubit in enumerate(qubits):\n",
        "            yield (cirq.CZ**(1/2**(i+1)))(qubit, q_head)\n",
        "            \n",
        "  # How should the gate look in ASCII diagrams?          \n",
        "  def _circuit_diagram_info_(self, args):        \n",
        "    return tuple('QFT{}'.format(i) for i in range(self.n_qubits))"
      ],
      "execution_count": null,
      "outputs": []
    },
    {
      "cell_type": "markdown",
      "metadata": {
        "id": "L9dMWuwqewjc",
        "colab_type": "text"
      },
      "source": [
        "#### Test the Circuit"
      ]
    },
    {
      "cell_type": "markdown",
      "metadata": {
        "id": "HgYjV70FfnDr",
        "colab_type": "text"
      },
      "source": [
        "We should confirm that the gate we've defined is actually doing the same thing as the `make_qft` function from before. We can do that with the following test:"
      ]
    },
    {
      "cell_type": "code",
      "metadata": {
        "id": "i3Ir6kjmDqtt",
        "colab_type": "code",
        "colab": {
          "base_uri": "https://localhost:8080/",
          "height": 289
        },
        "outputId": "f9056543-ca59-42c5-cc54-717f8b44869f"
      },
      "source": [
        "num_qubits = 4\n",
        "\n",
        "qubits = cirq.LineQubit.range(num_qubits)\n",
        "circuit = cirq.Circuit.from_ops(QFT(num_qubits).on(*qubits))\n",
        "print(circuit)\n",
        "\n",
        "qft_test = cirq.Circuit.from_ops(make_qft(qubits))\n",
        "print(qft_test)\n",
        "np.testing.assert_allclose(cirq.unitary(qft_test), cirq.unitary(circuit))"
      ],
      "execution_count": null,
      "outputs": [
        {
          "output_type": "stream",
          "text": [
            "0: ───QFT0───\n",
            "      │\n",
            "1: ───QFT1───\n",
            "      │\n",
            "2: ───QFT2───\n",
            "      │\n",
            "3: ───QFT3───\n",
            "                  ┌───────┐   ┌────────────┐   ┌───────┐\n",
            "0: ───H───@────────@───────────@───────────────────────────────────────\n",
            "          │        │           │\n",
            "1: ───────@^0.5────┼─────H─────┼──────@─────────@──────────────────────\n",
            "                   │           │      │         │\n",
            "2: ────────────────@^0.25──────┼──────@^0.5─────┼─────H────@───────────\n",
            "                               │                │          │\n",
            "3: ────────────────────────────@^(1/8)──────────@^0.25─────@^0.5───H───\n",
            "                  └───────┘   └────────────┘   └───────┘\n"
          ],
          "name": "stdout"
        }
      ]
    },
    {
      "cell_type": "code",
      "metadata": {
        "id": "FapPzjRBH3Qa",
        "colab_type": "code",
        "colab": {
          "base_uri": "https://localhost:8080/",
          "height": 170
        },
        "outputId": "fcdc48a0-458a-4dc3-8f2d-f688fff4f84f"
      },
      "source": [
        "num_qubits = 4\n",
        "\n",
        "qubits = cirq.LineQubit.range(num_qubits + 1)\n",
        "circuit = cirq.Circuit.from_ops([QFT(num_qubits).on(*qubits[:4]), cirq.H(qubits[-1])])\n",
        "print(circuit)"
      ],
      "execution_count": null,
      "outputs": [
        {
          "output_type": "stream",
          "text": [
            "0: ───QFT0───\n",
            "      │\n",
            "1: ───QFT1───\n",
            "      │\n",
            "2: ───QFT2───\n",
            "      │\n",
            "3: ───QFT3───\n",
            "\n",
            "4: ───H──────\n"
          ],
          "name": "stdout"
        }
      ]
    },
    {
      "cell_type": "markdown",
      "metadata": {
        "id": "grSAE3QKf6JB",
        "colab_type": "text"
      },
      "source": [
        "#### Inverse QFT\n",
        "\n",
        "We also want to implement the inverse QFT, which we'll do with a completely separate gate. Modify the `QFT` gate from above to create a `QFT_inv` gate:"
      ]
    },
    {
      "cell_type": "markdown",
      "metadata": {
        "id": "v8xOsr6limAI",
        "colab_type": "text"
      },
      "source": [
        "Compared to the `QFT` code above, we just have to add in a few minus signs. You can convince yourself that this is the same as complex-conjugating the associated unitary matrix of the QFT, which gives us the inverse QFT."
      ]
    },
    {
      "cell_type": "code",
      "metadata": {
        "id": "bOw5cWIJM8aU",
        "colab_type": "code",
        "colab": {}
      },
      "source": [
        "class QFT_inv(cirq.Gate):\n",
        "  \"\"\"Gate for the inverse Quantum Fourier Transformation\n",
        "  \"\"\"\n",
        "  \n",
        "  def __init__(self, n_qubits):\n",
        "    self.n_qubits = n_qubits\n",
        "\n",
        "  def num_qubits(self):\n",
        "    return self.n_qubits   \n",
        "    \n",
        "  def _decompose_(self, qubits):\n",
        "    \"\"\"Implements the inverse QFT on an arbitrary number of qubits. The circuit\n",
        "    for num_qubits = 4 is given by\n",
        "    ---H--@-------@--------@---------------------------------------------\n",
        "          |       |        |\n",
        "    ------@^-0.5--+--------+---------H--@-------@------------------------\n",
        "                  |        |            |       |\n",
        "    --------------@^-0.25--+------------@^-0.5--+---------H--@-----------\n",
        "                           |                    |            |\n",
        "    -----------------------@^-0.125-------------@^-0.25------@^-0.5--H---\n",
        "    \"\"\"\n",
        "    qubits = list(qubits)\n",
        "    while len(qubits) > 0:\n",
        "        q_head = qubits.pop(0)\n",
        "        yield cirq.H(q_head)\n",
        "        for i, qubit in enumerate(qubits):\n",
        "            yield (cirq.CZ**(-1/2**(i+1)))(qubit, q_head)\n",
        "                      \n",
        "  def _circuit_diagram_info_(self, args):        \n",
        "    return tuple('QFT{}^-1'.format(i) for i in range(self.n_qubits))"
      ],
      "execution_count": null,
      "outputs": []
    },
    {
      "cell_type": "markdown",
      "metadata": {
        "id": "96A0m3YUZ8D9",
        "colab_type": "text"
      },
      "source": [
        "#### Solution"
      ]
    },
    {
      "cell_type": "markdown",
      "metadata": {
        "id": "oIGLoN1ZZ-FF",
        "colab_type": "text"
      },
      "source": [
        "The QFT and QFT_inv circuits we have defined are not literal inverses of each other because the both reverse the order of the bits when going from input to output. We can explicitly see this in the following code block:"
      ]
    },
    {
      "cell_type": "code",
      "metadata": {
        "id": "dN-3VfHIaNIb",
        "colab_type": "code",
        "colab": {
          "base_uri": "https://localhost:8080/",
          "height": 136
        },
        "outputId": "57f5bfb2-874b-4d02-be79-dc239dae5c8b"
      },
      "source": [
        "num_qubits = 2\n",
        "\n",
        "qubits = cirq.LineQubit.range(num_qubits)\n",
        "circuit = cirq.Circuit.from_ops(QFT(num_qubits).on(*qubits),\n",
        "                                QFT_inv(num_qubits).on(*qubits))\n",
        "print(circuit)\n",
        "cirq.unitary(circuit).round(2)"
      ],
      "execution_count": null,
      "outputs": [
        {
          "output_type": "stream",
          "text": [
            "0: ───QFT0───QFT0^-1───\n",
            "      │      │\n",
            "1: ───QFT1───QFT1^-1───\n"
          ],
          "name": "stdout"
        },
        {
          "output_type": "execute_result",
          "data": {
            "text/plain": [
              "array([[1. +0.j , 0. +0.j , 0. +0.j , 0. +0.j ],\n",
              "       [0. +0.j , 0.5+0.5j, 0. +0.j , 0.5-0.5j],\n",
              "       [0. +0.j , 0.5+0.j , 0.5-0.5j, 0. +0.5j],\n",
              "       [0. +0.j , 0. -0.5j, 0.5+0.5j, 0.5+0.j ]])"
            ]
          },
          "metadata": {
            "tags": []
          },
          "execution_count": 28
        }
      ]
    },
    {
      "cell_type": "markdown",
      "metadata": {
        "id": "gzCrlfiyacUB",
        "colab_type": "text"
      },
      "source": [
        "If `QFT` and `QFT_inv` were really inverses then we would have gotten the identity matrix here. There are a couple of ways to fix this. One is to change the implementations of these two gates in such a way that the outputs are \"rightside-up.\" A different solution is to turn the qubits around in between acting with `QFT` and `QFT_inv`. In other words, we can insert the `QFT_inv` gate \"upside-down\" as follows:"
      ]
    },
    {
      "cell_type": "code",
      "metadata": {
        "colab_type": "code",
        "id": "gS8CqE9F9ilJ",
        "colab": {
          "base_uri": "https://localhost:8080/",
          "height": 136
        },
        "outputId": "1f60ab5f-201f-4302-cc50-a02ba0cce806"
      },
      "source": [
        "num_qubits = 2\n",
        "\n",
        "qubits = cirq.LineQubit.range(num_qubits)\n",
        "circuit = cirq.Circuit.from_ops(QFT(num_qubits).on(*qubits),\n",
        "                                QFT_inv(num_qubits).on(*qubits[::-1])) # qubit order reversed\n",
        "print(circuit)\n",
        "cirq.unitary(circuit)"
      ],
      "execution_count": null,
      "outputs": [
        {
          "output_type": "stream",
          "text": [
            "0: ───QFT0───QFT1^-1───\n",
            "      │      │\n",
            "1: ───QFT1───QFT0^-1───\n"
          ],
          "name": "stdout"
        },
        {
          "output_type": "execute_result",
          "data": {
            "text/plain": [
              "array([[1.+0.j, 0.+0.j, 0.+0.j, 0.+0.j],\n",
              "       [0.+0.j, 1.+0.j, 0.+0.j, 0.+0.j],\n",
              "       [0.+0.j, 0.+0.j, 1.+0.j, 0.+0.j],\n",
              "       [0.+0.j, 0.+0.j, 0.+0.j, 1.+0.j]])"
            ]
          },
          "metadata": {
            "tags": []
          },
          "execution_count": 29
        }
      ]
    },
    {
      "cell_type": "markdown",
      "metadata": {
        "id": "Njo9x-H9cZ4K",
        "colab_type": "text"
      },
      "source": [
        "We find the identity matrix, as desired (up to finite-precision numerical errors). Notice that the `QFT_inv` gate is upside-down relative to the `QFT` gate in the diagram. This is why we included the extra digits in the `wire_symobls`!"
      ]
    },
    {
      "cell_type": "markdown",
      "metadata": {
        "id": "FbcnL3H0e1XO",
        "colab_type": "text"
      },
      "source": [
        "## Quantum Fourier Transform By Hidary\n",
        "\n",
        "In many quantum computing systems there are constraints one which qubits can interact with each other. For example perhaps only nearest-neighbor qubits can interact. Then we cannot apply the standard QFT circuit described above."
      ]
    },
    {
      "cell_type": "code",
      "metadata": {
        "id": "7YJ67BiwHoZi",
        "colab_type": "code",
        "colab": {
          "base_uri": "https://localhost:8080/",
          "height": 221
        },
        "outputId": "7d8ea09f-9016-4c56-af6f-9e0a2a86d406"
      },
      "source": [
        "def _cz_and_swap(q0, q1, rot):\n",
        "    yield cirq.CZ(q0, q1)**rot\n",
        "    yield cirq.SWAP(q0,q1)\n",
        "\n",
        "def generate_2x2_grid_qft_circuit():\n",
        "    # Define a 2*2 square grid of qubits.\n",
        "    a,b,c,d = [cirq.GridQubit(0, 0), cirq.GridQubit(0, 1),\n",
        "               cirq.GridQubit(1, 0), cirq.GridQubit(1, 1)]\n",
        "\n",
        "    circuit = cirq.Circuit.from_ops(\n",
        "        cirq.H(a),\n",
        "        _cz_and_swap(a, b, 0.5),\n",
        "        _cz_and_swap(b, c, 0.25),\n",
        "        _cz_and_swap(c, d, 0.125),\n",
        "        cirq.H(a),\n",
        "        _cz_and_swap(a, b, 0.5),\n",
        "        _cz_and_swap(b, c, 0.25),\n",
        "        cirq.H(a),\n",
        "        _cz_and_swap(a, b, 0.5),\n",
        "        cirq.H(a),\n",
        "        strategy=cirq.InsertStrategy.EARLIEST\n",
        "    )\n",
        "    return circuit\n",
        "\n",
        "# Modified QFT circuit includes SWAP operations fit for running on \n",
        "# a 2z2 grid of qubits with nearest-neightbour interactions\n",
        "qft_circuit = generate_2x2_grid_qft_circuit()\n",
        "print('Circuit:')\n",
        "print(qft_circuit)\n",
        "# Simulate and collect final_state\n",
        "simulator = cirq.Simulator()\n",
        "result = simulator.simulate(qft_circuit)\n",
        "print()\n",
        "print('FinalState')\n",
        "print(np.around(result.final_state, 3))"
      ],
      "execution_count": null,
      "outputs": [
        {
          "output_type": "stream",
          "text": [
            "Circuit:\n",
            "(0, 0): ───H───@───────×───H────────────@─────────×───H────────────@───────×───H───\n",
            "               │       │                │         │                │       │\n",
            "(0, 1): ───────@^0.5───×───@────────×───@^0.5─────×───@────────×───@^0.5───×───────\n",
            "                           │        │                 │        │\n",
            "(1, 0): ───────────────────@^0.25───×───@─────────×───@^0.25───×───────────────────\n",
            "                                        │         │\n",
            "(1, 1): ────────────────────────────────@^(1/8)───×────────────────────────────────\n",
            "\n",
            "FinalState\n",
            "[0.25+0.j 0.25+0.j 0.25+0.j 0.25+0.j 0.25+0.j 0.25+0.j 0.25+0.j 0.25+0.j\n",
            " 0.25+0.j 0.25+0.j 0.25+0.j 0.25+0.j 0.25+0.j 0.25+0.j 0.25+0.j 0.25+0.j]\n"
          ],
          "name": "stdout"
        }
      ]
    },
    {
      "cell_type": "markdown",
      "metadata": {
        "id": "-3BFPDbBNlZJ",
        "colab_type": "text"
      },
      "source": [
        "##Nearest Neighbour QFT Generator"
      ]
    },
    {
      "cell_type": "code",
      "metadata": {
        "id": "ONJeSlHQ3S09",
        "colab_type": "code",
        "colab": {
          "base_uri": "https://localhost:8080/",
          "height": 187
        },
        "outputId": "87e5fcf8-6ad2-41cd-eed8-385054dee63a"
      },
      "source": [
        "def cz_and_swap(q0, q1, rot):\n",
        "    \"\"\"Yields a controlled-RZ gate and SWAP gate on the input\n",
        "    qubits.\"\"\"\n",
        "    yield cirq.CZ(q0, q1)**rot \n",
        "    yield cirq.SWAP(q0,q1)\n",
        "\n",
        "\n",
        "def make_qft2(qubits):\n",
        "\n",
        "    register_length = len(qubits)\n",
        "    for i in range(0, register_length):\n",
        "        yield cirq.H(qubits[0])\n",
        "        for j in range(0, register_length - i - 1):\n",
        "          yield cz_and_swap(qubits[j], qubits[j+1], 1/2**(j+1))\n",
        "\n",
        "qubits = [cirq.GridQubit(0, 0), cirq.GridQubit(0, 1),\n",
        "               cirq.GridQubit(1, 0), cirq.GridQubit(1, 1)]\n",
        "\n",
        "# qubits = [cirq.GridQubit(0, 0), cirq.GridQubit(0, 1), cirq.GridQubit(0, 2), \n",
        "#                cirq.GridQubit(1, 0), cirq.GridQubit(1, 1), cirq.GridQubit(1, 2), \n",
        "#            cirq.GridQubit(2, 0), cirq.GridQubit(2, 1), cirq.GridQubit(2, 2)]\n",
        "\n",
        "qft = cirq.Circuit.from_ops(make_qft2(qubits))\n",
        "print(qft)\n",
        "print('FinalState')\n",
        "print(np.around(result.final_state, 3))\n"
      ],
      "execution_count": null,
      "outputs": [
        {
          "output_type": "stream",
          "text": [
            "(0, 0): ───H───@───────×───H────────────@─────────×───H────────────@───────×───H───\n",
            "               │       │                │         │                │       │\n",
            "(0, 1): ───────@^0.5───×───@────────×───@^0.5─────×───@────────×───@^0.5───×───────\n",
            "                           │        │                 │        │\n",
            "(1, 0): ───────────────────@^0.25───×───@─────────×───@^0.25───×───────────────────\n",
            "                                        │         │\n",
            "(1, 1): ────────────────────────────────@^(1/8)───×────────────────────────────────\n",
            "FinalState\n",
            "[0.25+0.j 0.25+0.j 0.25+0.j 0.25+0.j 0.25+0.j 0.25+0.j 0.25+0.j 0.25+0.j\n",
            " 0.25+0.j 0.25+0.j 0.25+0.j 0.25+0.j 0.25+0.j 0.25+0.j 0.25+0.j 0.25+0.j]\n"
          ],
          "name": "stdout"
        }
      ]
    },
    {
      "cell_type": "markdown",
      "metadata": {
        "id": "wN9PtwlVMpCW",
        "colab_type": "text"
      },
      "source": [
        "##Nearest Neighbour QFT Gate"
      ]
    },
    {
      "cell_type": "code",
      "metadata": {
        "id": "EB3DL17c_NBe",
        "colab_type": "code",
        "colab": {}
      },
      "source": [
        "class QFT2(cirq.Gate):\n",
        "\n",
        "  def __init__(self, n_qubits):\n",
        "    self.n_qubits = n_qubits\n",
        "\n",
        "  def num_qubits(self):\n",
        "    return self.n_qubits   \n",
        "\n",
        "  def cz_and_swap(q0, q1, rot):\n",
        "    \"\"\"Yields a controlled-RZ gate and SWAP gate on the input\n",
        "    qubits.\"\"\"\n",
        "    yield cirq.CZ(q0, q1)**rot \n",
        "    yield cirq.SWAP(q0,q1)\n",
        "    \n",
        "  def _decompose_(self, qubits):\n",
        "    register_length = len(qubits)\n",
        "    for i in range(0, register_length):\n",
        "        yield cirq.H(qubits[0])\n",
        "        for j in range(0, register_length - i - 1):\n",
        "          yield cz_and_swap(qubits[j], qubits[j+1], 1/2**(j+1))\n",
        "            \n",
        "  def _circuit_diagram_info_(self, args):        \n",
        "    return tuple('QFT{}'.format(i) for i in range(self.n_qubits))"
      ],
      "execution_count": null,
      "outputs": []
    },
    {
      "cell_type": "markdown",
      "metadata": {
        "id": "yXLQkO4BYzpz",
        "colab_type": "text"
      },
      "source": [
        "#Cirq's Default Implementation\n",
        "https://cirq.readthedocs.io/en/stable/_modules/cirq/ops/fourier_transform.html#QFT"
      ]
    },
    {
      "cell_type": "markdown",
      "metadata": {
        "id": "bF3qH4Dz6njw",
        "colab_type": "text"
      },
      "source": [
        "#References\n",
        "\n",
        "https://www.scottaaronson.com/blog/?p=208\n",
        "\n",
        "Stefan Leichanauer Cirq Algos Day 2\n",
        "\n",
        "Hidary, Jack. (2019). Quantum Computing: An Applied Approach. 10.1007/978-3-030-23922-0. \n",
        "\n",
        "https://colab.research.google.com/drive/1X0H39CWQzx2uO9UGiokdseWsxt6ckxOw#scrollTo=lORoela1QICx\n",
        "\n",
        "https://dkopczyk.quantee.co.uk/qft/\n",
        "\n"
      ]
    }
  ]
}