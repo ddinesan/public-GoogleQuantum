{
  "nbformat": 4,
  "nbformat_minor": 0,
  "metadata": {
    "colab": {
      "name": "Lecture_23_Worksheet_Quantum_Walks",
      "provenance": [],
      "collapsed_sections": [],
      "toc_visible": true,
      "include_colab_link": true
    },
    "kernelspec": {
      "name": "python3",
      "display_name": "Python 3"
    },
    "widgets": {
      "application/vnd.jupyter.widget-state+json": {
        "b489cdf430f544d6b49c02280d09c360": {
          "model_module": "@jupyter-widgets/controls",
          "model_name": "VBoxModel",
          "state": {
            "_view_name": "VBoxView",
            "_dom_classes": [
              "widget-interact"
            ],
            "_model_name": "VBoxModel",
            "_view_module": "@jupyter-widgets/controls",
            "_model_module_version": "1.5.0",
            "_view_count": null,
            "_view_module_version": "1.5.0",
            "box_style": "",
            "layout": "IPY_MODEL_c0edcab7984a41bcb7332a15ee4ff4e6",
            "_model_module": "@jupyter-widgets/controls",
            "children": [
              "IPY_MODEL_ceae66f5918c44d2961fcb1ad660d64b",
              "IPY_MODEL_45fba4c4af8a460b8c95694f3b00288f",
              "IPY_MODEL_02ce861e669a467abc6460911f8bb190"
            ]
          }
        },
        "c0edcab7984a41bcb7332a15ee4ff4e6": {
          "model_module": "@jupyter-widgets/base",
          "model_name": "LayoutModel",
          "state": {
            "_view_name": "LayoutView",
            "grid_template_rows": null,
            "right": null,
            "justify_content": null,
            "_view_module": "@jupyter-widgets/base",
            "overflow": null,
            "_model_module_version": "1.2.0",
            "_view_count": null,
            "flex_flow": null,
            "width": null,
            "min_width": null,
            "border": null,
            "align_items": null,
            "bottom": null,
            "_model_module": "@jupyter-widgets/base",
            "top": null,
            "grid_column": null,
            "overflow_y": null,
            "overflow_x": null,
            "grid_auto_flow": null,
            "grid_area": null,
            "grid_template_columns": null,
            "flex": null,
            "_model_name": "LayoutModel",
            "justify_items": null,
            "grid_row": null,
            "max_height": null,
            "align_content": null,
            "visibility": null,
            "align_self": null,
            "height": null,
            "min_height": null,
            "padding": null,
            "grid_auto_rows": null,
            "grid_gap": null,
            "max_width": null,
            "order": null,
            "_view_module_version": "1.2.0",
            "grid_template_areas": null,
            "object_position": null,
            "object_fit": null,
            "grid_auto_columns": null,
            "margin": null,
            "display": null,
            "left": null
          }
        },
        "ceae66f5918c44d2961fcb1ad660d64b": {
          "model_module": "@jupyter-widgets/controls",
          "model_name": "DropdownModel",
          "state": {
            "_options_labels": [
              "10",
              "11",
              "12",
              "13",
              "14",
              "15",
              "16",
              "17",
              "18",
              "19",
              "20",
              "21",
              "22",
              "23",
              "24",
              "25",
              "26",
              "27",
              "28",
              "29",
              "30",
              "31",
              "32",
              "33",
              "34",
              "35",
              "36",
              "37",
              "38",
              "39",
              "40",
              "41",
              "42",
              "43",
              "44",
              "45",
              "46",
              "47",
              "48",
              "49",
              "50",
              "51",
              "52",
              "53",
              "54",
              "55",
              "56",
              "57",
              "58",
              "59",
              "60",
              "61",
              "62",
              "63",
              "64",
              "65",
              "66",
              "67",
              "68",
              "69",
              "70",
              "71",
              "72",
              "73",
              "74",
              "75",
              "76",
              "77",
              "78",
              "79",
              "80",
              "81",
              "82",
              "83",
              "84",
              "85",
              "86",
              "87",
              "88",
              "89",
              "90",
              "91",
              "92",
              "93",
              "94",
              "95",
              "96",
              "97",
              "98",
              "99"
            ],
            "_view_name": "DropdownView",
            "style": "IPY_MODEL_a4845683439246fd84d42749825db21b",
            "_dom_classes": [],
            "description": "t",
            "_model_name": "DropdownModel",
            "index": 60,
            "_view_module": "@jupyter-widgets/controls",
            "_model_module_version": "1.5.0",
            "_view_count": null,
            "disabled": false,
            "_view_module_version": "1.5.0",
            "description_tooltip": null,
            "_model_module": "@jupyter-widgets/controls",
            "layout": "IPY_MODEL_d0f472045ca94b04b53eba6a5e25c9c5"
          }
        },
        "45fba4c4af8a460b8c95694f3b00288f": {
          "model_module": "@jupyter-widgets/controls",
          "model_name": "IntSliderModel",
          "state": {
            "_view_name": "IntSliderView",
            "style": "IPY_MODEL_136418b0d1a7443b92807e80acf88e1b",
            "_dom_classes": [],
            "description": "n_sample",
            "step": 1,
            "_model_name": "IntSliderModel",
            "orientation": "horizontal",
            "max": 3000,
            "_view_module": "@jupyter-widgets/controls",
            "_model_module_version": "1.5.0",
            "value": 1400,
            "_view_count": null,
            "disabled": false,
            "_view_module_version": "1.5.0",
            "min": -1000,
            "continuous_update": true,
            "readout_format": "d",
            "description_tooltip": null,
            "readout": true,
            "_model_module": "@jupyter-widgets/controls",
            "layout": "IPY_MODEL_72c103b23b8e4343b82a1749de1248e3"
          }
        },
        "02ce861e669a467abc6460911f8bb190": {
          "model_module": "@jupyter-widgets/output",
          "model_name": "OutputModel",
          "state": {
            "_view_name": "OutputView",
            "msg_id": "",
            "_dom_classes": [],
            "_model_name": "OutputModel",
            "outputs": [
              {
                "output_type": "display_data",
                "metadata": {
                  "tags": []
                },
                "image/png": "iVBORw0KGgoAAAANSUhEUgAAAZUAAAEWCAYAAACufwpNAAAABHNCSVQICAgIfAhkiAAAAAlwSFlz\nAAALEgAACxIB0t1+/AAAADh0RVh0U29mdHdhcmUAbWF0cGxvdGxpYiB2ZXJzaW9uMy4yLjEsIGh0\ndHA6Ly9tYXRwbG90bGliLm9yZy+j8jraAAAgAElEQVR4nOy9eZgcV3nv/317n00zo9Folyxbkg0y\n3rBsY5ktrIbkWuTGDiY3N5BAIAST3BDyi7P8CHCdBAKB3ARnISG5Zgk2EBwUsDE4hsTBxpZsybZk\nW3gkW/sy0qzdPb3WuX9UnarT1aeqTo16xj3T7+d55pme7jM11TNSfev7boeEEGAYhmGYVpB4sU+A\nYRiGWTywqDAMwzAtg0WFYRiGaRksKgzDMEzLYFFhGIZhWgaLCsMwDNMyWFQYhmGYlsGiwjAMw7SM\nBSUqRHQ9Ee0nohEiulXz+joi+gERPU1E+4joN6NeI6IcET1KRE84z3/M8Fz6iehuInqMiJ4iovec\n43v7Lefn7yWirxJRTrNGe64R7/sfieg0Ee09l/NjGIYxQggxqw8AGQA9EWsGZ3t8zbGSAA4AuMD5\n2U8A2OJbswrAy53HfQB+ItcEvQaAAPQ6z6cBPALgFQbn8ysAvqh83XUO720NgOflMQB8DcC7NOu0\n5xrxvl8N4OUA9rbqb8Ef/MEf/BH0EdupENFLiejPAewHcCERXUVETzp30T3OnfLLnOW7iOgrRPQ6\nIqK4P8vH1QBGhBAHhRAVAHcC2K4uEEKcEEI87jyeBvAM7At24GvCJu8cIu18mMyueRzAa4hol+MY\nygDgOIY3Oo9vI6K/Mnx/KQBdRJQC0A3guH9B0LlGvO//BDBmeA4MwzDnRMpkERH1APh5AO92nvon\nAB91LmAgoh0AbgPQBeDLQggZarkQwFsA3ALgdiL6EoD/K4Q47nzfg7DvrP18WAhxv++5NQCOKF8f\nBXBNyDlvAHAF7Lv50NeIKAngMQCbANwuhGj6Ht/39wP4MwCXAigAeADAHgB3A/gjAB8nouXOz7jB\n+Z7Q90pEnwZwGMAMgO8JIb4X8LNDzzXsfTMMw8w1RqIC4ASAJwG8RwjxrOb1jwPYCaAE4Dfkk0KI\nOoBvA/g2EQ0D+FMAh4lomxDiUSHEq87p7AMgol4A/wLgfwkhpqJec87zciIaAHA3Eb1MEUYd7wNw\nnxBi0jnmwwBWOsf6T8eVfQjAa51jI+y9EtEgbNd1PoAJAF8nol8UQnzZvzbsXMPeN8MwzHxgGv66\nEcAxAN8koo8Q0Xm+14cA9MK+E29IMDsJ7fcB2AFgM+xcxJPOaw8S0R7Nxxuc1z8gn4MtbOuUQ691\nzqkBIkrDvrB+RQjxTdPXAEAIMQHgBwCuj/h9XAFgn+/rp5yfcQnsHEdFOjmD9/oGAM8LIUaFEFUA\n3wSwLewE/Oca9d4YhmHmhTgJGNji8ZuwQz33A9jgPL8DwC8A+AMAn1PWfxl2cv0TADafS/IHtqs6\nCPtuXibqL/atIQBfBPAXmu/XvgZgGMCA87gLwIMAfsb5+t9h5138x/prAL/nPP5pAD+GLdCrYAvm\nSwF8H8D1hu/tGtgi1e2c5x0APqhZpz3XsPftrN0ATtTzB3/wxzx8zP4b7cT5OgC/BOBfnOeSsGP5\nr3O+vgFAqmUnC7wVdmXTAQB/4HvtHtiVTsK5sO9xPt7qvP5K3Wuw8yK7nef3AviIsz4B4BA0VV2O\nsD3qCNu/AljtCMLDAN7orHk1gIdjvLePAXjWOYcvAcgq72u18zjoXLXvzXntq7BdXhV2HurdL/Y/\nOv7gD/5YvB8kBG/SpcOpYPsVIcSHXuxzYRiGWSiwqDAMwzAtY0F11DMMwzDtDYsKwzAM0zJYVBiG\nYZiWwaLCMAzDtAwWFYZhGKZlsKgwDMMwLYNFhWEYhmkZLCoMwzBMy2BRYRiGYVoGiwrDMAzTMlhU\nGIZhmJbBosIwDMO0DBYVhmEYpmWwqDAMwzAtg0WFYRiGaRksKgzDMEzLYFFhGIZhWkbqxT6BF4Nl\ny5aJDRs2vNinwTAMs6B47LHHzgghhsPWtI2oENH1AP4PgCSAfxBCfML3+qsB/AWASwHcLIT4hvLa\nOwH8ofPlbUKIO8J+1oYNG7Br165Wnj7DMMyih4gORa1pi/AXESUB3A7gLQC2AHgHEW3xLTsM4F0A\n/tn3vUsB/BGAawBcDeCPiGhwrs+ZYRiGaaYtRAW2GIwIIQ4KISoA7gSwXV0ghHhBCPEkAMv3vW8G\n8H0hxJgQYhzA9wFcPx8nzTAMwzTSLqKyBsAR5eujznMt+14iei8R7SKiXaOjo7M+UYZhGCaYdhGV\nOUcI8XkhxFYhxNbh4dA8E8MwDDNL2kVUjgFYp3y91nlurr+XYRiGaSHtIio7AWwmovOJKAPgZgA7\nDL/3PgBvIqJBJ0H/Juc5hmEYZp5pC1ERQtQA3AJbDJ4B8DUhxD4i+jgR3QAARHQVER0FcBOAvyOi\nfc73jgH437CFaSeAjzvPMQzDMPMMCSFe7HOYd7Zu3Sq4T4VZKJycLGHvsUm8YcuKF/tUmA6HiB4T\nQmwNW9MWToVhmGD++ZFDeP9XHkMn3gAyCw8WFYZpc4qVOqp1gZrFosK0PywqDNPmVOp2v2+l5u/7\nZZj2g0WFYdqcctUWkzKLCrMAYFFhmDaHnQqzkGBRYZg2R4oJiwqzEGBRYZg2p1yrN3xmmHaGRYVh\n2hyZS+GcCrMQYFFhmDbHDX/VWVSY9odFhWHaHNepVFlUmPaHRYVh2hx2KsxCgkWFYVpArW7hPXfs\nxGOHWj/LlEuKmYUEiwrDtIDJmSruf+Y0dr4w3vJjc/UXs5BgUWGYFjCXboL7VJiFBIsKw7QAb5SK\nmZv46I59+Mz39hutZVFhFhKpF/sEGGYxELdC69HnxzDYkzZay4l6ZiHBToVhWoCX9zC78JdrdWMB\n4pJiZiHBosIwLSBuiKpcs4wEyLK8fVTYqTALARYVpqN46ugkvrXnWMuP641SMcup2KISvVYVEh7T\nwiwEWFSYjuKLD7+A//3tZ1p+3Njhr2rdaK0a8uKSYmYhwKLCdBQlQ4cQl7gbaZVrllGOpFz3zpWr\nv5iFAIsK01GYOoS4xOlTEUKYh7+U47GoMAsBFhWmoyjXLFRqFoQQrT1ujD4VKUBG4a8a51SYhQWL\nCtNRxM19zMVx41SKsVNhFhosKkxHMVcbXsXpJZFra5ZALaJMmEWFWWiwqDAdRdxxKsbHjdH1rgpa\n1Hr1de5TYRYCLCpMR+GGqVrcne45lWixUtdEnQeXFDMLDRYVpqOYu/CXeU4lTvK94pQU92ZTcxL+\n+uBXd+P7T59q+XGZzoVFheko4na+Gx83Rp9Ko6iEn4cUkrkQFSEEvv3kcTxy8GxLj8t0NiwqTEch\nQ0+tdipx+lQawl8R6+XrfbnUnJyzEECJw2pMC2FRYTqKOFVaz5yYwus+/UNMFCvRx616iXrLCu+B\naXAqUTkVRVRa7VR4+jEzF7CoMB2D7GQHzO7Onz05hYNnCjg6PhO5Vg1jRVVpNVZ/GYa/cumWO5WS\n45hKXKrMtJC2ERUiup6I9hPRCBHdqnk9S0R3Oa8/QkQbnOfTRHQHET1FRM8Q0e/N97kzC4M4DgEA\nSjHKj+McuzIbp5JtffjLzQMZVKwxjCltISpElARwO4C3ANgC4B1EtMW37N0AxoUQmwB8FsAnnedv\nApAVQlwC4EoA75OCwzAqcRLkgHInH6OhEWgcAqlfa55TqTSEv1rdW8NOhWk9bSEqAK4GMCKEOCiE\nqAC4E8B235rtAO5wHn8DwOuJiAAIAD1ElALQBaACYGp+TptZSMS5mKtrzAY/xug9mW31V4ubH0vs\nVJg5oF1EZQ2AI8rXR53ntGuEEDUAkwCGYAtMAcAJAIcBfFoIMeb/AUT0XiLaRUS7RkdHW/8OmLan\nsZHQJPw1S6cSVdEVo/qrUq8jmSB0ZZItH4TJToWZC9pFVM6FqwHUAawGcD6A3yaiC/yLhBCfF0Js\nFUJsHR4enu9zZNqAxryHeZ6kZNQlb+4+YlV/VS1kUwlkUwlYAu7Wwq2AcyrMXNAuonIMwDrl67XO\nc9o1TqirH8BZAL8A4LtCiKoQ4jSAHwHYOudnzCw44oa/SjF6Wsq1OnoySQDRvSqxwl91C5lUAplU\nwujYcSjN0cRmprNpF1HZCWAzEZ1PRBkANwPY4VuzA8A7ncc3AnhA2LGAwwBeBwBE1APgFQCenZez\nZhYUcfcmkWEvE6dSqVtY0pU2OnbcRH0mmUAm2XpRYafCzAVtISpOjuQWAPcBeAbA14QQ+4jo40R0\ng7PsCwCGiGgEwIcAyLLj2wH0EtE+2OL0T0KIJ+f3HTALgbjDGWPN86paWJIzFJWqhVSCzNbWLGTT\nCWTTSeNzMaXEORVmDki92CcgEULcA+Ae33MfUR6XYJcP+78vr3ueYfyUY1RoqWuMcio1C325lPN9\n0SGt3lwKE8UqOxVm0dEWToVh5oP44a841V91T1QMnEoulUQ2lTBK6mdSSS+nEtEDEwfuqGfmAhYV\npmOI2/xo2qcihECl5uVUohP1dTuklUoY9LTUkVUS9SYCZ4p8f3WDHSgZxhQWFaZjkGEe2yG0zqnU\nLAFLwDynUnPKhNNJs/CXU1IMtHb3R/V9sVthWgWLCtMxyAv4kq60UR7BLbmNWKtOEra/jl6fNQx/\nVepWg1NpaU6lIcfEeRWmNbCoMB2DKyqGe5OYbrwlL8h9xk6l7vaemORfMknPqbS0+oudCjMHsKgw\nHYO8M7edikH4S5bcGlRzAZ5TicypuF3yyeiJxnWnpDhl1lgZB3YqzFzAosJ0DPLOvC+XNkvUy5Li\nqHCWs64nm0QqQYbhL9t9ROVI3JLiueioV50Kb9TFtAgWFaZjkGGnXMxEvenU4UzSLv01q+hycipR\nLshJ1Lt9Ki0sKW7s7GenwrQGFhWmY3DDTgZVV4CXZ4h0KjWvqsyksqyidMmb5F+ySp9KlGC9cKaA\ni/7wXhwYzYeuA9ipMHMDiwrTMTRUXUU4BNl7Apjv5ChzHyYDJeMIUJyS4kNjRZRrFg6fLYaus8+j\nDiLvMcO0AhYVpmMo1+rIpRPIpQ2qrmpqZZRZSXE2lUQ2bdYlH6ekOM6U4pmKfbwZw3H9fVm7uICd\nCtMqWFSYjsFzCNFhJ7XiK+qCK4VB5j5MSpBNqr8sS6BaFw19KqbnLcUl6rz7u9PuY4ZpBSwqTMdg\n51TMZ24BcBLvZtVfdr7GzAWZ9KnIUJeaqDcVlSh3JY/VL8f1s1NhWgSLCtMxeDO3kqjWBeohuyjK\ni/NAVzqyMVBe/KX7CAtR1eoWapYwEjevqiwBIkImlYgOf8VwKqVq3RMVdipMi2BRYToGb+ZWdH5C\nXtD7u9Ko1CxYIQLkOpV0tFC4ApS2zyP8HLyqMgDIJqMd1ow7ryyeU+GcCtMqWFSYjkFNkNtfB194\n5UVZXnTDqq7cnEoyOqTVECpzcjv2BqbNVJQCAACRImSft9XwOXwtOxWm9bCoMB2DmiAHwvMT8qLs\n3clHh6lMxtl7obJkZJlwRcnrALZoRYtKjOqvmoWeTAoJYqfCtA4WFaZjsJsOvYt5uFA0OpVQ91Hz\n5VTCXE2DUwlPvquJevk5qk/FtKRYCIFStY5cOuk4JnYqTGtgUWE6Bn9OxcipdJs7FTlNOKxazM2T\nqPvOB7gEVYAAGI2AcXMqEYl6uQeMad8Ow5jCosJ0DHIXRTf8FXKB9udUwsJDcqaYrNAyczXRuR2/\nU4lyQep5R5UUy3X2eSSNEvsMYwKLCtMxqH0qQHhyWq3+ilzrzBQDENlYqTZKRoa/FAckv8c4pxLh\nVOTPZKfCtBoWFaZjKCl7wwNR4S+nT6U72qnYuzOaVWhpcypB4S83VGYfOxOjpDgqp8JOhZkrWFSY\njqCujDxxcxkxnEpoTqXBqdjJ9KC+Fn9SHzCo/nKciklJsZeoN5ttlmWnwrQYFhWmI6jochkxcipR\nIS01mQ4EC4XX0Kieh16wypqS4ugxLXKyMjsV5sWBRYXpCOTF3M4hRPeplKv2WPglObPqLzWZbn9/\nkKg0dtSHnYfqaoCYOZWoeWVKTsVkXhnDmMKiwnQEcaqu5PpsyhOgMFGR/S/28Z1jB+zQqAt/RSXq\nG0qKWzT7q9mpsKgwrYFFhekI4jQdAvZFt1GAzMJf0cn3GCXFvvBXnJJiU6eSdZ0Kh7+Y1sCiwnQE\ncZoOATs3kVPWRoW//DmVwJBWVTkPw1BZRi0CMHQqUU2S8jxyqSRyEfu6MEwcWFSYjiB++CuGU/H1\nqYQdW+2+jxIgXZ9K2DlblkCpaiFBdqFALXQIJjsVZm5gUWE6AnWMfCpBSFD0mJac09NCFF5N5e9T\nAYLH6jfmVKI66utIJgippJlTkcce6M7Y78GgDyeXtp0K51SYVsGiwnQEak6FiCLLaO397JPO2kTo\nBVqbUwkUFW+kS5QAVWqW61IA27FYAoEORL6fwRjzyrzdKtmpMK2BRYXpCLxwj+coopxKw+iViObH\njKmoKMeN2iK4XLNc4QGi8zUyn7K0x3YqYRVgfqcStRMmw5jSNqJCRNcT0X4iGiGiWzWvZ4noLuf1\nR4hog/LapUT0MBHtI6KniCg3n+fOtD9NuyhGTPwtOU4FsHs5wgdKanIqIQ2Nck0qaYfiwqq/VKfi\n7r8SISpu+CtCCOUxvX4ZdivMudMWokJESQC3A3gLgC0A3kFEW3zL3g1gXAixCcBnAXzS+d4UgC8D\n+DUhxMUAXgugOk+nziwQ/I2EUXuIyOGTgH03Hzb1V9enEjZ6Ra6R64PEraI0VQJAJmKsi3QmMvwV\nVlZcqtn5mnQygZy7vwznVZhzpy1EBcDVAEaEEAeFEBUAdwLY7luzHcAdzuNvAHg9ERGANwF4Ugjx\nBAAIIc4KIfiWi2lA3UcecC7mYeEvZ/ikuzbggiuE8OVUosqE6w0hrWw6eKpxuUlUzAZQDvZIp2JY\nsWYwC41hTGkXUVkD4Ijy9VHnOe0aIUQNwCSAIQAXAhBEdB8RPU5E/5/uBxDRe4loFxHtGh0dbfkb\nYNqbpvBXRE6lXLWQM3AqcrMr9bj2zwvJkzjHlecTVn6srvXmiunXz1TsnznohL+inIoa3gOincpz\np6bx5NGJ0DUM0y6ici6kALwSwP9wPv8sEb3ev0gI8XkhxFYhxNbh4eH5PkfmRaZUjRn+qtXdi20u\npFJMN/RRfn/Q+qbwV8h2wplUc04lKlHvhr9CEvVxemskn/zus/j9u58KXcMw7SIqxwCsU75e6zyn\nXePkUfoBnIXtav5TCHFGCFEEcA+Al8/5GTMLCnU6sP05IlFfbew9iZ7PZdinUq03hbSCtxOuI5ts\nDn8FHdsrKY5O1JdqVmynMjVTw9RMLXQNw7SLqOwEsJmIzieiDICbAezwrdkB4J3O4xsBPCCEEADu\nA3AJEXU7YvMaAE/P03kzC4Ryze40TycJgB3Sipr9lUt7d/JBF1x/WM2oTLjBfQTP86rUG0uKsxHH\n9pcUh1d/6fJA4U6lUKmhWGFRYcJJvdgnANg5EiK6BbZAJAH8oxBiHxF9HMAuIcQOAF8A8CUiGgEw\nBlt4IIQYJ6LPwBYmAeAeIcR3XpQ3wrwoWJYAEWDXbeiR+Qm5JiyXUatbqFnC51QCwlluAYB9gY4q\nEy7XLCwzzKlUahYy3WpS38ypDBjlVLyKNdepGGwAVoyYfswwbSEqACCEuAd26Ep97iPK4xKAmwK+\n98uwy4qZDuSmv3sY2zYO4bffdFHgmnLVV3UVkstQ9xoBEDpw0Zvl1ZhQN6/+ilFS7PyMwD6VGCXF\ns3cqdViWQCIRLOBMZ9Mu4S+GmTUHR/M4OFoIXaMLO0UJRWPzY/h4en/yPXDnx6rmPAxDZVEd9TJE\n526BHNZRr8upRDiVYtlsrD7T2bCoMAueQqWOQkSsv6mUNySk5W1gpVaKReRU0maCpQ6flD8jNPyl\nEZXAkmKnCCCVTKArnQyfVxbTqQgh3N9x1O+a6WxYVJgFTbVuoVKzUChHiUq9yU0E3/F7c7Hsz8FO\nRR2p7x47NAdjfh5BJcVhORXZHZ9LJ0JLiiuKU8kaOJVyzYIcDSYdC8PoYFFhFjTyAleIuNCVq1aT\nmyhV67ALCH1r/TmVdBI1S2inA0vxaMx9hOdrTF1NuVpvytWo5+dnplJHV8Ze35VOhifqYzoVVbTZ\nqTBhsKgwC5q8YUhG18luCbsj3o+6f7tcK4/hR5tTSev3PbFHulhNvSfB+6nopxQHOpVaHV3SXWWi\nRvtbimhGb0SmVn1xBRgTBosKs6ApOnfQkU7FH/4KuZCWfGXCuZAthf2DKu3H+hyMTN7LUl75fTqR\nsCyBal1opxSHORU3ZBexX4ztVOy1mWT0RmSqaEeFGpnOhkWFWdAUnLvmqKY8XfUXoL+Q6rrvAX3O\nwT+oUq7XuQ+tAAV060sB8ofV1OP4mal6otKVCQ9/qU7FZCMyVbTZqTBhsKgwCxp51yz7J4JQR9kD\n4Xf90qnkfE4lTIAyTSGtEAHyiZsuX6MTICJCJhm8pXC5arnhr650MjBR72/ulOcR5lSK7FQYQ1hU\nmAWNeoErRmwP7G86tJ8PTr6bzMbydpT09amEHFcnbv6+Fl2uJuzYgO1UZKI+lw4bLdMomvJx2Owv\ndiqMKSwqzILGNNYfGP7Shak0E40D18bJqQQIkPoz3bWa8Jf8OqxPRU2+B+VU/IUI3jkbOhWD6q9H\nDp7Fz/3NQ7xHSwfCosK0HUIIfGvPsdBEs0S9gw4TFTUxDQRfzAG4e6c09XGEOBV/Ql0fKtPlVJIN\nr7lrq82lyvLroBJkNVEfVlI8K6eiVn8Z9Kk8fngCjx0ax5l8JXIts7hgUWHajoNnCvjNO/fgvn0n\nI9eqd9BhYRk1MQ0oeZKQ3IcX/nKqv7ROxe5iV4dZBuZUdI2Sbm6n8dhupZiyVh47cASMUlIclqif\nlVNxBDuZICOnUnCr8jj/0mmwqDBtx+RMFQAw5XwOI6/cNecjw1/RF3NAN6Yl2NX4Z3nZ65P6nIrG\nfQQ1NFY0DkieS9hASTVRHzUFYDZOZWlPxsipyL/FdIlFpdNgUWHajrxzIZo2uMstqon6gDvoWt1C\n3RIBJcX68FcyQUgnfdVfGgHyz/ICgsuEg/IvQHNDo39HSUmQCxJCNJQUZ51Eva4ibrZOpTuTRF82\nZeRU8uxUOhYWFabtkBekvMFdrnqBywfcQWsrtMKqv6qWO0MLiGh+1DoVO0Tlv6DHCn8FVH8FlRRX\n6vZsLnVMS+D70/w+TJxKdyaF7mzSqPpL/u3C3COzOGFRYdqOOBekQtnrlC8GrI9zMQdsp+JvZlSP\n03jsevOFP6BMWD/ROKD6K8CpBIXWSr48UJfzM3R5ldlWf/Vkk+jOpIzcR5wbA2ZxwaLCtB3uBclI\nVGpYviRrPw64g/Zv+Ws/lu7jHJ2Kbzy9euzmiq4Y1V+aQZXy67A8kJqoDztn+31Fd/ZLCmXbqfRk\nDJ1KjL8hs7hgUWHajrjhr+FeR1SCnEpVE/4KdSqW3qloBKjiWxt27DiOSbcWCM6pyO55/xSAOE4l\nLPxVrNTQk0miO2ZOhUWl82BRYdqOOBekYqWO/q40MqlE4MUuaM8T9TUVdSw8AKSTCSQTFFhSrMup\nALqQls4xhVd/6UJrupJieW5dvjJo3agWfcFA8LRkwMmpZB2nYlD9xSXFnQuLCtN2TMfIqeTLNfRk\nU+jNBsf6deEvdzhjQENjzuc+cil9ItvfqQ8ElwnrCwb0VWhB1V9BJcWuU2lK1OuKCxqbO+XjoKZK\nwM5X9WScnIqJU4lRwccsLlhUmLYjllMp19GTSaE75A5a51RSyQRSCQrMTzS5j7Q+kR3UpwKElAkn\nNeIWUP2l61PRhr+kUKT8TiXGvDJNxZqk6FR/9TjVX7rNzSRCCG+fGxaVjoNFhWk7CnFyKuUaurNJ\n9GRSgSKky6kAwRfostLvIQlyKkF9KoAuT2L3v6TUkS4BYThv7xWzkmI3Ue9zKmE5lVyq0anozkOi\nVn/VLRHY1W+vrUNqDld/dR4sKkzbYVpSLIRAoVJDb9a7g9ahC38BIe7DN9IFkFN/Y+ZUNNVfpmsD\nnUo6vKTYq/4KLiku1ywQAemkN1omrHAB8PpUehzRCsurqH83Dn91HiwqTNshL0TFSh31sD1SanbD\nnx2WCY71B1VSZQOGM/qHTwLhe6To8h7qz1XPQ9fMqF9bR4LQ4Grket2FX+ZU/Il6nRCWqnXkUsmG\neWXe+ub3WK1bqNQst/oLCJ9UrIoKh786DxYVpu3Il6vK4+iLV68T/oqTqJdfB3WcmzuVODmVZrGS\nuy7qcir+tYAtbpZA06Zebk7FcAtkXShQnqMf6QDt6q9Uw3M6pNPsywaHJJnFC4sK03YUynX37j/s\nTleGYOT4kKB96v3d5pJcQPhL51SCXE3cPhX/xTzo2BVNU6V6bH9Ow82T+HMqmou/dCoqYU5FzlSz\nnYq9LuzvIoVkRX+OnUoHwqLCtB35Ug0rl+TsxwYXrx7pVILCX9V4TqVU1TsVv0gIIQJyKvoy4YrG\n1QAyt9McKtOJiluuXNWLSlOfSgucihRrY6fi/F1WLsnxlOIOhEWFaSvKtToqdQsr+21RCbsouXfQ\nWTunEllS3HQhbe7NkELR7Gqaq79qloAlmpPpYX0qupBWcPgrWFT8TmWmWkdKmaycTBAyARVr5+RU\nMgZOxfmbrezPoVyzUA2pFGMWHywqTFshL0ir+s2diqxKqjgJZT+6/hBAzrtqvJhX67ZQ6NxH4CiV\ngLv+iqakWOtUNI6pXA9wKkl5bJ+oVIIaNg2dSkAZNKA4FacgAgh3KtIxSrfJIbDOgkWFaSvc0IkU\nlVCnYl/YerPqxa55fblm38X7K6mymjt5/1bCEp1TqQRVlQX0nugqxQAgo5k8XK5aTSJoH1vfT1LS\nuKuuTNI8pxIyYNNzhEm3pDis+ku6yxUGbpNZfLCoMG2FGo8Hwu9yC65TSaJHJpB1s640/SFAgPtw\nGyWbw0P+2V9BVWXBZcJB59HsVOymymCn4j/vUqXu9qZIgvapj+1UKmpBhCPeEX0qqQRhqCfjfD+L\nSifBosK0FW483hGVsOa5Qk47390AACAASURBVLkxp6I+p1LWVGgB+ou5fyvhhrX++VxV/XyulDOA\nUtdRH5hTqfpzKsFr7debcypdOiHU9qk053ZCnYoi3vJnhAlFoVxDb86exwZwV32n0TaiQkTXE9F+\nIhohols1r2eJ6C7n9UeIaIPv9fVElCeiD8/XOTOtRy1HBcIvSPIOWlZ/AUGiEpDL0OwhUg4Mf9lO\nRZ15FdRUaT/XPE4lsKRYU/0VWVKsERXdOeudSn1WTqUnk0IyQcilE5F9Kr3ZFHpz9t+Eu+o7i7YQ\nFSJKArgdwFsAbAHwDiLa4lv2bgDjQohNAD4L4JO+1z8D4N65PldmbpGi0t+VRncm2dAI6afghFky\nyYRSlWTWoAjI6i9fGEn2tPjW59JJCNFYdRU0nl4+ZzKmJXBtVEmxxmE15VSCGjarVrycivM3kXPF\nwhpNAftv2Jv1nAon6juLthAVAFcDGBFCHBRCVADcCWC7b812AHc4j78B4PXkzJkgorcBeB7Avnk6\nX2aOmFa6sXuyqcB95wE7Ud+TTYGIvPCXLlGvCfcAQRdzueVvUEOjpVkbJFjRHfXeecQsKW5yKlZT\n+Ksro994azZOJZNMuD87ap96v6hw+KuzaBdRWQPgiPL1Uec57RohRA3AJIAhIuoF8LsAPhb2A4jo\nvUS0i4h2jY6OtuzEmdai5kmixnwUnD0+5HoguPorsJO9ZjWGtAKcStbt4/AupqHhL025cmDzo0aA\nKkElxUEd9ZW6pmEzoQ9/aZyKPK+g6i/ZSQ+YORU1z8WjWjqLdhGVc+GjAD4rhMiHLRJCfF4IsVUI\nsXV4eHh+zoyJTb5cA5GdFO7NpZAvhYS/KjW3GklWf+mcTWD4yxEK9QJdinIq1WanEtRP4r/wB+dU\n9KEybUmx7Nb3CVZQol5bUqwRWSJyhmbq+1Rkzgqw/zaRTkVN1LOodBSp6CXzwjEA65Sv1zrP6dYc\nJaIUgH4AZwFcA+BGIvozAAMALCIqCSE+N/enzbSaaSfJS0TojXQqdfdu2B0fElD95b/gAo0hrawv\np6Ab02Kv9S6moTmVdGO1WK1uoWYJZJKaIZHJRFOjZKWuF6Cg8FepWndzHhJdTqVuCVTrosmpALY7\n0803K1Zqbs4KgBOWDO+o78vaSf3uTJLDXx1GuziVnQA2E9H5RJQBcDOAHb41OwC803l8I4AHhM2r\nhBAbhBAbAPwFgD9hQVm45Mv2BQmwmxrDGufU8FdXOgmimNVfIe6jOZHdHB7S7fXuHbuxoito0y35\nnLb6K0CA5OsquuovnaiE5oECBmzK/eklYbtsAs7fxXWQZtsPM4uHtnAqQogaEd0C4D4ASQD/KITY\nR0QfB7BLCLEDwBcAfImIRgCMwRYeZpGRL9XcUtTeiAtSoVLHoNNgl0gQutPJwOZH/wUXULvTve8p\nVfUXf93aoEZJoDn57q4NESAhhLvHSblW15cUB3Tr66q/ZElxw3EDckb2ev2ssKIi3gBCh3fWLYFC\npe6GvvoibgyYxUdbiAoACCHuAXCP77mPKI9LAG6KOMZH5+TkmHmjUPHucu2ciplTAewpurpEfSnK\nqSgXaN1Wu/bXOqfi5FQ0uY9MKtHgmqJ6WgBva2LLCVGFzf5Sz7lWt1CtC231lyUatzwOyhnJcwty\nKgPdGffrsOovKTa9qlPhnEpH0S7hL4YB4OVUALg5FbU6S6WoCJC3PmBMS0DZr3zdXVsL3nsFCKj+\nCqks89bqO/XV5+R6N1RmOFCyVGvcSrjpnCvKeQTkjORzQdVfPYbVX/J51W1yor6zYFFh2op8uYa+\nnOdUqnWh3fMEaEzUAzLWHzCmJaDs135dDX8F7Wev61Mxz6mEClC6UdzCjptwmj3VyjJZ4ZXTJOoB\nNMwsc52K1jEFOJWyvT+9pDuTQrlmNe0+CXg9Kb2q2wzJvzCLDxYVpq3IK06lL6QktW4JzFTrRlVJ\nUYl6f/I9k0wgkaCGtV7HebNT0Zf+Ns7zCpporJ6HvKDLtbrwl3xedVdeyK65TwVo3P1xNk5lpuLL\nqTiupajpgfG2eFadSnBZOLP4YFFh5oV/f+YUXvEn/67tm1Cxu7HTABA6JLLoi90D9iZS/li/velW\ncNMh0OxUgkqE7dcbQ1qZVMJNgqtkUo1uolXhL+/Yze5KV1IMNO7+6DkxM6diWQLFqr/6y36s+1vm\ndeEvTtR3FCwqzLyw99gUTk6VcGqqFLjGsgQKlRp6nTthKRi66iF14yhJt6ZarFoXECK4QgvwJ+r1\nE41zGgEK6pC3j93YJR800Vg9D+lQIp1KsnFYpRSNppxKpllUvJyRmVOxh2hC61R0Yi8FRPYN2Yl6\nDn91EiwqzLwwXqwAAMaczzqKVfsC1qvkVAB9+KugbBwl6dUkkMMcQk6bJ2ked2KvbR64GJSrAZp7\nT6LyL+oar6rM7NjSMTRVf2mKC+I6FXV/ekl3yD718m8l82J9uRQqdUubq2EWJywqzLxwtuCISj5Y\nVLwkrx3+6nM+68InsvmuYXxItrkpz+hiXm3MOYTnX6LXyvWVugXLEs55hF3MZRNmY04lMPwV4FR0\nG4s1nXNMp6LuTy/pCdmnXpdTsdeyqHQKLCrMvDBeiHYqMqErHYq3m2PwxUsddCibJePseaKuAfRN\nhIBXdeV3NWF5D8DLj4RXf/lyKgaJ+oovZAcEO5WZSuP7A0KcSjXAqfjCjIDeqagDQdXPnFfpHFhU\nmHlhzBEVKS46ZOlpX7Yx/KXLqegS9d2ZFCzhC1G5d/HRYSf5WCcq8hglX0VX0IW/KaQV0VHfsDZC\nVPw9MFGJeuPemnTC7XmRFDVhxrB96qfLNWRS3ph8Ny/GFWAdA4sKMy+Y5FTcJK9bUuyEv0LCLOod\ndK87qVjXyR7mEKKrv+xjNPee6JL66s+TxzYKf8UoKdaFv3Sj79XX5fsLPo8kKr6tANT96SVh+9Sr\nJeEAh786ERYVZs4RQpjlVGT4y7kQ5dL2Xu/anIpzsfM7Ffs1s/Eo7siTqplTyaUbe0/Cwl/+YZXh\n3ffmzY8AkEklUa5rnEpA9Zd+DxizsTXFcjynUij7RMUttmCn0imwqDBzTrFSd++sx0Ocirvro3Mh\nCht/X9DkVLxSVzWZHlz9pcuT2DkV/X8LuU+9e+yQkuLAnIrBkMiwijUgOFGvm1IM+Jsfw6rhmsfW\nqPvTS6KqvxpH5wTvc8MsTlhUmDlnTMmjjIXmVJrzJMGi4oRl0qqoNG8p7DmEsPLcxjEmgWXCvk72\nqD4VoNl9aIdPuvO8fOGv0JJi5ZwrdRA1C0U6mUAqQVoh1DVsuhVuynrp+tTJBZlUAukkBVZ/9TX8\n/YIr+JjFCYsKM+dId9KTSWK8GLKTo69yCAjuyC5WasilE0gpF2l5B62fDmyYJ6laMZ1K8IXfXuPl\nVIK675uqv0L2XgGArMap5FJJ7bHt3R+jq9vkWsDnVGTptvI3AezfdZBTkSEvgMNfnQiLCjPnyHzK\nxuW9OJsvB67zVw4BciCh/o5YDckA+qRwKSCJLfG7DztRH+xU/GNaInMqSvVXWDhLXVsJcTWAvqTY\nX/klkXuqeOcc3lsj35ekWKkhoXFBPZlkYEd9w5DPNIe/Og0WFWbOkWXEG4d7MVWqoaqZbgt429Cq\n9GZTmNbO/qpr7p6bE8hhiXpAltGq4S/9mHzAvkD7N94KK/sFPIEIczUpJ0zluZp4JcW6/eklXZlE\nU0d9lFMp+ZxKdybV5IK6Avapz5frDeHLRIJ4/leHwaLCzDljrqj0AAAmAkJg/tAJIDfqal6fLzfu\nmw54IZpiQ/grPOmtzugSQqBSs7T7twPNHef25leGfSohrkaenzyPyI56TUlxkBPzbyk8G6fi/z0D\nwdsE58tVNznvrdW7GmZxwqLCzDnjxQqSCcJ5Qz3u1zr8PQ6AnOfVfEfs36ALUDvwddv4hiTffQ4h\nMJeRanYq5n0qwQ7I/pnJhvBXgtCQL1LxT0AuVcLdh79PJZZT0ThCQL9Pfa1uoVS13OS8hDfq6ixY\nVJg5Z6xQwWB3BkO99pa0ZwN6VfzlqEBwTsW/QRdg5yBSCdIn6sNyKr6udxOnYo/UD2+UVI9p51T0\nx/XOozGpH7w2ibol3E2ySrXg8JedqD8Hp6JxhIB+n3op/s1uM60NYTKLExYVZs4ZK1SwtCeNpT22\nqAQ6lbI+p5Iv19zBjBL//vSA3dfi3xM9bB95oNEhyNxK4JiWlBdKqlkClghPpts/36voigp/qaPv\ng46rHlu6lZlKPTBR7w9/xXcqzQURgN1V78+pTLvNq43H7+XwV0fBosLMOeOFKga7M1jabYtKUK+K\nLqciGyH9d8W6RD3gVCX57sx1OzlK1B0ag7YSdtcqI+crBg7IXue4j5DxL/b6ZKMABVz4geZ96mdC\nXJA/DxQ/p1JvaDCV6Kq/XKeiC3+FJOrrlsDnHngOEyGNsczCgUWFmXPOFsoY6s1gIEpUNDkVd8qt\n7wKW1zgVub7BqYSU8gKNDsEbCx9wgXZmY1mWMKoqU49ZDhk+CThbBCthOCOn4q4PdyrnlFPRlG4D\n+j4V2YvS05SoD8+pPHNiCp/+3k9w796TgWuYhQOLCjPnjBdtp5JJJdCXSwWKyrSu+itgS+Fipdaw\ncZTE3v3RN58rLEGuOAQTp2If09t0yrT3JKykWB7HzakYhMrUY9slxQHVX5lz7VOpB1R/JZu2GXCn\nTPvdZoSonJwsNXxmFjYsKsycUrcEJooVN5+ytCejzalUahYqNQu9/oZGzfj7cq2Oal00uRrA2afe\nl6gPvZgrI0/kHXqYU5E/P2x7YMCu3Eo29J5EiFu6saQ4ytXI9waE96nkdCXFcZ2KtvorBeHbZsC/\nyZqkN2e7R1WAVE5N22JyeppFZTHAosLMmqlSNXSWFwBMzVRhCWDQCX0Ndme03yOdSFNORRP+Krob\nR+nDX/7R96b9IWU3UR/c/AjYF1J3lEqE+6jU1Oovw5yKwTnLdYCdqA8LafkT9XGcykw12KkAjbmu\nsPBXTQkZ+jnFTmVRwaLCzJrf/+ZTeN+XdoWukSNaZDnx0h69qOiGSQLK7CjFqXj70wc4Fd9U3qjy\nXC/8Fd3TYq+rh266pa6fVfjLoKRYrpP5nSBR6UonUa0Ld4pB2Fo5tbmkOKZqXQQ6FaBxTxVvk7VG\npyJvDHSbrQHAySlHVKaCR/gwCwcWFWbWjJzO47nT+dA1MtQlncrSnox290f/2HuJTBKr7qOg2Z/e\nXd9UUhxeSaXuJR81J8wduKjmVKLyNYoLMhWgSoQAqYl6+T1hiXrAFkLLEkYuSL433YRiiSySKFYV\np+JusqafdBBUVizF5NQUO5XFAIsKM2uOT8xgolhtaK7zI12JmlPR7f7oORXfXW5OIyqaLW4l/vEh\n5VoduZCLqBSKSt27QIdt0gU4TiVi6CMgK7oMO+qdyjJ5LiY5lUrdcpPwgTmVTHPILuj9AXbfjnQq\nur1UJN2uUHh/+4JmcjTguc+gZL0Mf40VKg2hN2ZhwqLCzIpCuYYp5870+ORM4DrpSgZ7vJxKqWo1\nCZE39l5/l9sQ/tKMyJd0Z+yLYt1pljRxKoCd84is/lLmeXl9KtEuSM4Uiy4YMCwpVnasDNpKWJJT\nQnZR70++5joVzUZoEtepKAI+Xao13RQA6vj74PCXFMXTHAJb8LCoMLPihCIkJyaCwxYyp7LUDX+l\nnecbLx5yjIc//JVOJpBLJ7ThL11Yxi1Bdi52pagEuXQfNc99BFdHqU7F4ALtVHR5Sf1woZBNmFFO\nRZ5zpW4pIbugKcXO7o+KuwpzKjmlCi3UqWSanUq+XGvqpgcUp6LJqZSqdUzOVHHJmn4AHAJbDLCo\nMLPiuCIkUU6lK510L25Le7LO842Th4PKUeVz6uwoeXesKyn2J5CjcxnejC7TnIoa/jKp6DJam/bn\nVKKdSqXmOb7A0ffKlsJmTiXZ7FRCqr9Up1LQ9BkB4eEvKSKXrbNF5SSLyoKnbUSFiK4nov1ENEJE\nt2pezxLRXc7rjxDRBuf5NxLRY0T0lPP5dfN97p3I8YkZ7WM/Y0qPCuA5FX9eRZaj6i9KjSNB3P3p\ntYl6uSmUvcZkkCMge0/sbXkD54Qp/SFRfSqA4z5qppViSdScIZEm3ffynKVQmCTqTZ1KU04lRLzV\nRtN8Sd99HyYqsoz4snUDDV8zC5e2EBUiSgK4HcBbAGwB8A4i2uJb9m4A40KITQA+C+CTzvNnAPw3\nIcQlAN4J4Evzc9adzfHJEoiAwe50aPhrvFDBYI/nPmQVmL8CLF+2L+jdmguevaeKmqiXM6Z0JcWO\nU3HuoKMT5GqXfPD+7YDfqci7/vA8SaWh+z5a3Cp1K7L5UR6nUrMiGzZlKG/GOKeSNKv+kk5FEYp8\nudYUvgTCcyrSmVy0og/ZVILDX4uAthAVAFcDGBFCHBRCVADcCWC7b812AHc4j78B4PVEREKI3UKI\n487z+wB0EVF2Xs66gzkxMYPh3izWLe0ODX/ZE4q9P4d0LWf9ouLc5eoGP/p3fyyUayDSh6l6fFVJ\nkeEvt0y4HrqVMKD0qaghrQjBKsdYC9jOyrSkuFyLrv46J6cSsD89YE8XIPI5lXLz7DZ5DgnSlxRL\nEVnRn8PK/hz3qiwC2kVU1gA4onx91HlOu0YIUQMwCWDIt+bnADwuhGj6l0lE7yWiXUS0a3R0tGUn\n3qmcmCxh9UAXVvd34URIyGKsWMHSbs+pLMmlkUyQxqlUtRckwM6pNFZ/1dGj2eIWUDq9y4pTMQl/\nVe27/qB8CqAIUNycikn4S178a/XoRL2mpNgkUe86lchZaNFOJZEgdKeTTU5FJ0BySwJd8+PJyTK6\nM0n0ZVNYsSTHTmUR0C6ics4Q0cWwQ2Lv070uhPi8EGKrEGLr8PDw/J7cIuT45AxWD+SwaiCHExMz\ngXOdxgtVt5wYsC9Gg91pTU5Fn+QF7JxK3udUdD0qgBrrrymlvKbhr+BxJ4DnjFT3EVb6K8fqxwl/\nSfE0SdSXqxZKlajiAlmxZkVuQibX+52KLncFNA/vDPsbBg2VPDVVwoolORARi8oioV1E5RiAdcrX\na53ntGuIKAWgH8BZ5+u1AO4G8EtCiANzfrYdjhACJyZKWNVvO5VCpe72rKiUa3XkyzUMKaIC2HkV\nv1OZ1oy9l8iBhJKgjaMAdapx3TDspIa/oquuiLycSiYk/wJ42/5G7TmvnseUgagkEoR0kuyS4lqM\n6i/TKQCKU8ml7cGYOuyROPb5Bg0Eddf6Jh1IbFGxw6Mrl2RxcrIUeIPCLAzaRVR2AthMROcTUQbA\nzQB2+NbsgJ2IB4AbATwghBBENADgOwBuFUL8aN7OuIOZKFYxU61jVb/tVAB9BZgsGx70i0pPpimn\nUghI8gK6kmL9Bl2A16hXrNQi9zwBmsfZhzkVInLzJFEOSP7cclVxNQYVXdOlauRawBa4hpLigOqv\nnJKoj+1UQsQbsB2MdDNBA0ElQdtCn5wqYeUS+9/QiiU5lGsWJmeqTeuYhUNbiIqTI7kFwH0AngHw\nNSHEPiL6OBHd4Cz7AoAhIhoB8CEAsuz4FgCbAHyEiPY4H8vn+S10FDIxv3qgC6v6uwA0NkNKxnyN\nj5IhzfyvfMBmUIDdEKlWUeUD9k0HGmeFGTUo+nMqIRdcwJv6G5WrAbzeEyNxc85DOpWwsBrgjYBx\ncyohQzCJ7DyQkVNJq30q+l0fJT1Zz6kEDQSV9GrCX0IInJ4qY0W/LSornc/cq7KwCb4NmWeEEPcA\nuMf33EeUxyUAN2m+7zYAt835CTIusoR49UCXe5d5XFNW7A6T1DgV/54q+VJYTsULaWVT9oVseV9O\nuzaZIOTSCRQr5v0hgBP+qtUDL4reervjvGYJA6eSaEimm1R/mToVOStsxpnCHLRdMhEhl0qaO5WU\n7VSEEChUauhOB/8+ujIp11VMl6JFxd+DMlaooFK33H9D8vOpqTJesjLwx+IfHjyITct78dqLou8d\nH3xuFE8fn8L7XrMxci3TGtrCqTALC+lKVvfnMNyXRSpBoU7Fn1NZ2p3BeLEKy/Ji59MB5ahA85Tb\nQjk4/AXYbqVQVsJfoQMUGxsao9xHLp10RrqElyoDnjCYJN/lOU67a8PPI+Ps1VKuWoH5FInc/dHU\nqQB2ZVnQ/vQSdUM0ORYn7MbAn1ORjkQNfwHegEkdliXw6e/txx0PvRC4RuWOhw7hz7//E3cWHDP3\nsKgwsTk+WUI6SVjWm0UyYVft6BogxwrBTqVuCUw5d+VCiIicSuN+HIWA/eklMinsbroVNqVYGRJZ\nqtVDS4rl+lK1HtmgCKjJ92rD1/q1TvhrxjCn4uR2ZirBuz5KutJJzFQMS5vdAZRW4P70EnWfem/s\nffCNwbRPVGSl13JHTJY7Cfuw8NexiRmUqhZGRsO3XJAcGM2jUrNwZKxotJ45d1hUmNgcn5jBiiU5\nN+Syqj+HY5pEvRSVga7GeV7SucjXZ6p1WCI4dOIffx+WqAfsvopCJXpAJACkk+RVdBk4FTVPEnZc\noFkoTC7m8j1GC1bCDX8FJekluXQCJSe8F1WxpjaDBu1PL5H71Kvn3RfyN/RvKXxy0m4nk7mUbCqJ\npT2ZUFEZcfbvOTo+E7rlAmD/TQ+dLQBA5L4/TOtgUWFic2KihNVOgh4AVg3oGyDHixX0d6Wb9teQ\nzkXmVaLucr3ZUVU31h/mVGSoxeTOXK3oKsdwKibhLy9P4oS0DMJO0wahMsArVw7bHtg953QSpYoU\nTbNzLlct+/ccKt4pd3BnPqr6K5uCJeDmlwDbqRABy/u8iQsrluRCw19SVISwXUgYL5wtQEa9RlhU\n5g0WFSY2svFRsnogh5OTpYYcCWA7EX8+BfCqwcackuOgsfcSeaGaLtUwU61DCG+TKB2yKa9kUP1l\nv560q6MMnUqp6s0JC6OpTDiiURKIEf5KJtwxLVFOpSvtJOojSqYBdXfLul39FeZUMkm3D8ck/AU0\njr8/NVXCUE8WaeX3snJJNtSpPHd6GtJoRYnKc6fs14ns72PmBxYVJhaWJXBqqoRVA55TWd3fhUrd\nauo9GStUmvIpANwBk2POnip5g8ohwE7QyzvisDvo3qydQPacSnSYytSpyNErpn0qgF0mnEpQk2Pz\nnwPgORWzkmLbqZgm6uM4lZKJU3Fem6kof5eQsnCgcajkyakSVvY3julb2Z/DqZD5XyOn87hi3QCS\nCXJFI2xtgoCXrx/EAXYq8waLChOLM/kyqnWB1f2eU1nlPPZXgI0VKu5UYpUhZ8CkdComPQ72uqob\nbgkLf3VnGhP1YWEn+XqxUke1Lgzu5BPu7C8TVwPY7sMk8Q54SX0TcXNzKgbuo1SVhQhmTqVYsZ1b\nlFMB7Mov2TsU3H2vEZVJr/FRsmJJDmcLZVSdjc1UhBAYOZ3HltVLcN7S7siQ1shoHuuWduNlq5dg\n5HSeO/XnCRYVJhYyIb9KyamsdlyLv1dlvFhx909R6cokkUsnvJxKRDy+O2NPxM2XakZOpcefqDdw\nFJMGyXS5Nm5OZapUjQ6VJf1OJdpdVZzRMiZCUYrpVOTfJrT6K+ttM1AIKQkHlPH3vvDXco2oCAGc\nnm52K6PTZUyVati8vA+blvdGhrRGTuWxeXkvNq3oQ6FSDx18yrQOFhXGxbIEtn/uv3Dno4cD18j/\nmKsGmp2KOqpFCNE09l5laXfGrf6KCn8RkTv+vhiyxa3ELSmuRg9ytF9PKA7BwKk4/SEmFVqALRRR\n5yALBqZMx7QoJcVR59yVTrizv0ydipx4ENWnAthhyemQYZJA80ZdpWod48Vqk1ORX+s265LOZNPy\nXmxa3otDZ4taRwMAtbqF588UsHF5LzYN9zZ8PzO3sKgwLs+fLeCJo5P47r6TgWukcKxRcipLezLI\nphIN4a98uYZqXWidCmBXgLmiEhH+kq/lSzW3hDV8fEgKNUu4BQCR4a9UwnUqkdVfzl1/pR4jpzJT\njTwHeR5xS4pL1Tq6MuFr3UR9DKci82NRfSqAHSrLhwwEBZpFZdRxIrrwF6Dfq172pkhRqVnCLRn2\nc3isiErdwqZhey3AojJfsKgwLnsOTwAAnjgyERh/PjFZQlc6iX6l94SIsHqgC8eVu0t3mKQmpwLY\nQtQkKhF3ugUnzCK/DkLeQY/l7eObXPy9XhLDpH7VvE+lUIkOlQF2WbH8tZuWFM9U68bzymblVCL6\nVIB44S/59zupbM6lIntWdKLy3Kk8+nIpLO/LYvPyPvc5HVJANq/ow7LeDAa609yrMk+wqDAue47Y\nojJerOLQWX0H8onJGawayDU10K3qt/dVkcj9UoZ6g0VFxu2nSzVkkonQC3pvzt7kqeju8RGSqHcu\nbvIcoiqpsul4TqVmCcwY9Ieo7ydKrOw13vGMSoqr0qlEC4UMlZk6FSn4UX0qgC2aQRt0SdypCFJU\nJhtHtEgGu9PIpBLasuKR03lsWt4LIsLG5T3uczqkq9k43AMiwqbhXq4AmydYVBY5hXINn/zus26v\nRBh7jkxg2GlEkwLj57iv8VGyyrcDpCwXDnIqg0pOpRARjwe8KbcmoTIZshkvVEL3nJdkUwlU68J5\nbOY+ALOyX933RR2bCEgFVFGpx5aTCCJzKo7oTM7UjJ2KFGQjp+L8XYK66QH7vaUS5ObPTk3pRcXe\nrCurbYB87nTezY90Z1JYM9AVOK5l5FQeK5fk0JezHfXmFdGJfaY1sKgscu7dexJ/88MDuPep4DwJ\nYCdOnzkxhf9+xRp0pZMhojLjJuZVVg/Yu/bVnMSpLBdequlTkc9Pl2p241zITo6SvpydU/G2uA1L\n1DsXRkdUomhwFAZOxXSt+rPNcipJ9/uihdA7D5PZXwAwORP9+3Crv2bhVMJuDIioYbO1k5MlZFMJ\nLOlq/p4VfbkmpzJZrOJMvozNK3rd5zYt7w0Of43mG9ZuHO7FeLGKs/ngHhimNbCoLHIeOnCm4XMQ\n+45PomYJvPy8QVyyVavS+AAAGmtJREFUth+7D483ranULIzmy24JscrqgS5YAjjlJGDHA4ZJSqTY\nTBQrzq6P+oS+RE4eLlTqyCQToeGhHiX8FZX3ABov/ibVX973mfWpANGuBvCcTZy19jmZnbNJH44/\nUR8aZnSrv2rIl8LDX4D9N5xWcior+5vDqICdZ/E3QI6M2i5DJt3l44Nn8k2THGQ/y8bhxrUAJ+vn\nAxaVRYwQAg8fOAsAeOjA2dDmr91Okv6KdQO4Yv0Anj4xhVK1cWDfqakShEDDiBaJ2wDp5FXGihWk\nkxQYEpGiMlasIF+uhoZOACenUrYTwmGVX4AX/hrLVyJzJIDPfcTKk5j1nvi/L/jYjqgYrFVFJar6\nK877SyXtMNW4QfVX2hH38WIFNUtE7kXTpzgVuTe9jpVLck3bCktHsmm4z31u8/JelKpW0zDT45Ml\nFCv1BgHavMJJ7LOozDksKouYF84WcWKyhEvW9OP0dBkHRvXllwCw+8gE1gx0YfmSHK5YN4BqXeDp\nE1MNa9weFU1OxW2AdNaM5e1u+qAwjsy1jOUrKJTrkTmVPiWnEnahA7zwl111NXdOJSqZnkp6+7sb\nhb/SXvgrcq0qKobhL/VnhJFL282jQHjpNmBX2p12XEWUqPQouz+emio35VMkK5fkMFOtN4zKHzmd\nRy6dwJpB79+eFA1/rsSt/FJEZXV/Dt2ZJDuVeYBFZREjQ16//aYLAQAPh4TA9hyewOXrBgAAl68b\ndJ9TcTfnMnQqQfkUwO9UwstRAdupCGH3N0TlX9QwjFkpr7moZBvu+s0FK45QmKyNE/5Sq8PinEcq\nQZGhuO5MCqen7RuJyL+h02skhHDDXzpkmbGarB8ZzeOCZb0NY2CCQlrPnWoOlRERNg73Rg6hZM4d\nFpVFzEMHzmJVfw6vuXAYawa68JATCvMzOl3GsYkZV1RW9uewckmuKVmvG9Ei6cul0ZdNuc2R4wFz\nvyRSVMYLdk4lKh4vcy6np8qhSXqgMWQTO1FvmMg2P7YUijjhr3hOxbSiy2StusYejxNeMNCTTbr5\nj8gKvpztVCaKVVRqVsPIe5UVfc2bdT13Kt8gEgAw0J3Bst5sk6gcGM1jsDuNod7G428OSewDtji9\n658exWQxulKSCYZFZQEyWawGVmdJLEvgxwfO4tqNQyAibNs4hIcPnm1KagJe+fDl6wfc5y5fN9D0\nM05MlNDflQ4UALUBcqxYwdKAHhUAGOiWk4qrdk4l4oIk3cmp6VLkHXEunYC8oW19+Mu8+kv9+XHE\nLa6oxAp/xTh2lNADtlOR5cGRTiVji4q7jXCAU5HPy16WYqWGYxMzDeEsyablPU15kpHTebc5UmXj\n8l6cnCoFltff8dAL+OH+Uex44ljo+2DCYVFZgNz2nafxc3/zkHY+kmT/qWmcLVSwbeMyAMC2TUOY\nKFab8iQAsOfIOJIJwstW97vPXb5+AIfHig0lmCcm9eXEklUDOTdENlaouPum6EgnE1iSs0Mnpapl\nlOQFgIliNbQiCbBDHdKtmI5HkYRtPWy/7v3sOFVaZjmV2YW/TJofdY+Dz8NzKlH0ZJPu4E6TEGah\nXG/am96Pf1TLQScX6HcqALB5eV/DBGIhBJ47ncdG7drgCrBq3cJ3njoBAPjWnuOh74MJh0VlgTFd\nquLbT55A3RL4l8ePBq6Toa5rNw7Zny+wxeVhTQhsz5EJvHRVX8PF6QonFKa6leMTJW05sWRVfxdO\nTNi9KpMz1cByYsnSngyOjNsiFB2P90qOje6gszEcgnMRTUbseWKvVXtP4uRUWhv+UqcYm+yn4v8Z\nJudh6lQkkSXFTqJe3gwFVX/l0kkMdKfdsJpMxOtEZdPyXkyXau4ssbOFCiaK1cC1gF5U/mvkDMYK\nFWw9bxC7Do3znvbnAIvKAuPbT57ATLWOVf05fG3XEW04C7CT8huGut3Bjyv7c7hguKepX6VuCTxx\nZNLNp0guWduPZIIaRCXKqazuz+FsoYLT02UIASztDu89WdqTcf/zmnTUS6IS9fYax6nEuJhHuRQg\nXnku4ImQkVDMsk8lsmEzRnjPXmOvN3IqypqoEKYsG3/+jO08gkQFcMqKHacycjqPVIJw3lBP0zqv\nAswWCpkz0YXK1i/tRiaZ0Hbh79hzHP1daXzyxksBAP/2JLuV2cKissC4a+cRbF7ei99580U4dLaI\nR54fa1pTq1t45OAYrnVCX5JtG4fw6PNjDePCD4zmkS/X3IovSXcmhQtX9LmiMlOxR5WHOhXntaeP\n2yG2pb36RKxkaU8GR8cdUTGoHJJElRSra+LkMuI2SsY6dqy18c6j9U7FXm/ye1a3dTYJfwG2SAz1\nZEKFdsWSnBv+eu5UHucNdWvX+0Na6iRjP6lkAucv68GIL1lfrNRw376TeOslK7FxuBdXnjeIb+2O\nFhXe9EsPi8oCYv/Jaew5MoG3X7UOb71kFfpyKdy183DTur3HpzBdruG6TUMNz1+3cRkKlTqePOq5\nD1k27Hcq8rk9RyZgWQLHQ8qJJfK1vccnASA0pwLYvSpy5pbpBQkwDctIoTAP98R1KmZhqjkKf8Up\nLkjFy6lIpxKVqwGAbud4RNHORv7dDozmmzbn8rNiSdYNk42M6hPvADDcl0VfLuWGyA6czqMnkwx0\n1JuW9zY5lfufOY1ipY7tl68BALzt8tXYf2oaz55szj9KRqfLeMNn/gN37w4OQXcqLCoLiLt2HkE6\nSfjZK9Ygl05i++Wrce/ek+6EXYkMcb3igkZRkV8/NOLlVXYfmUBfLoULljWHFq5YN4DpUg0HzxRw\nYiK48VEiB03uPWb/ZxwM2EtFovaxRIW/1JCXSVimN074y7mIGl1wG5yK+bHj5DLiiEoqQUhHhMsS\nCfIKBubIqfRmUpHlxzL8dWSsiJVLwl3syiU5nMmXMVOp49DZotZ5AHZRxublva5Tee70tDvJWMem\n5b04MlZsmBaxY88xrFySw9UblgIA3nrJKiQTFJqw/4v7f4IDowXc9u1njIa1dhIsKguEcq2Ou3cf\nxRu3rHDr79++dT3KNQs79jSWQD584CxesrIPy3zhp8GeDLasWtLQr7LniN30mNBMxZUlxnuOTHhO\nJURUZCno045TGQrY9VGiikrUmJZsKuleGM0S9fHDXyYX89hd8rGqv+J31EeFviRyXayciknuyhF4\nk7+JXGOJ4HJiyYr+HCwB7HxhDHVLBIoK4LiP03aeZiSg8ktdawmvomy8UMEP94/ihstXu/8Hhnqz\neNXmZdix57g2Zzlyehp37jyCV21ehrOFCv72Pw6Ev3HYIemg/Odig0VlgXD/06cxXqzi57euc597\n2ZoleOmqJbhr1xH3uXKtjp0vjLlVX362bRzCY4fHUarWUazUsP/klDb0BdiTXXuzKew+PO46lRX9\nwUKRSycx1JNxe1UGIhL1gzGcCuAJj8kFrDcbPz9hcsEFPLcyV3mSOE4lZ+DaAE9U5sypGPz91BBn\nWJIe8MqNfzRiu+4oUTmTL+PIWBGnpsqBoTL1ODIEdu/ek6hZAtsvX92w7m2Xr8GxiRk8phms+ol7\nn0V3Oom/ePvleNvlq/EPDz7fsJW2n0K5hhs+9yPc/Pc/RqWm3/54McGiskC4a9cRrO7P4VWbh93n\niAg3X7UOe49NYe8x2x3sPjyBUtVy+1P8bNs0hErNwuOHxvHU0UlYArhivV5UkgnCZev6sefIBE5M\nzmBZbzby4ij3ru/JJCMv0mrOJc6dbo9JrD9On4ob/jL77yDfV6w+lRaHv7JOSbGxU8nMrVOJyokB\njdVhQT0qEik6/zVyBkRomDjsR4rIfc422GECdP6yHiQIGHFGufzrnmPYtLwXW1YtaVj3xi0rkEsn\n8C1fFOChA2dw/zOn8es/tQlDvVl8+M0XQQD49Pf2a3+eEAK/982n8MzJKTz6/Bj++DtPh77vxQCL\nyhxyaqqEuqHlnZypusP2/BwdL+LB50Zx45VrG2YfAfYdVSaVwNcct/LQgbNIEHD1+Uu1x7pqw1Ik\nE4SHDpzFbqey67K1elEB7GT9syencXC0gDUhSXqJDI9F9aj415jcFffGcCpyjVHyPYabsNfZ03mj\ncghyrfo5fK1zHjHEylQIZ3MeRk7FWWMiKurfzb+NsB8ZHtt3fAprBrpCiwakiNy7N1pUcukk1i/t\nxshoHscnZvDo82PYftnqpr9lTzaFN25Zie88ecKtlrQsgT+55xmsGejCL1+3AQCwdrAbv3Ld+bh7\n9zH3xk7liw8fwo4njuPDb7oI73nl+bjj4UNNQuWnWrfceWoLERaVOcCyBG7/wQiu/dN/xzv+/seR\n/0D+4yejeO2nfoDX//kP8dih5hLhbzxmV5jcpIS+JP3daVx/8Ur86+5jKFXrePjAGVyydqBhD3mV\nvlwal63tx48OnMGewxNYv7S7aUaSyuXrBlG3BHYdGgtN0ktkyfGQgajINT2ZZJNY6pAhFrOS4hhl\nwrNwKiYXZ2B2o1dMzjkTN6cyG6di2FEPmIqKd7wVfeGisrQ7g3TS/jeh6zlRWTPQhVw6gccOjSOT\nSmDdYPi/001OF/6/PWEn4m/whb4k2y9bjfFiFQ8+NwoA+NYTx7D32BQ+/OYLG36Pv/5TGzHQlcYf\nf+eZhjLjxw6N47bvPI03vHQ53v+ajfjdt7wEV29Yilv/5SnsP6nfhfLIWBE/+9c/wnWfeABfeviF\nBVm2zKLSYiaLVfzqF3fhU/ftx3WbluHJoxP46b/8Lzyq6SexLIH/c/9zeNc/PYrlfTnk0km8/e9+\njH/60fPuPybLEvj6rqO4buMyrFvarf2Zb79qHaZKNdy9+xh2H57AtoB8imTbxmV48ugkdr4wFphP\nkcjXLeGFtsKQpZxxnIpJPB7wciomYZnZJOpNnUomlTB3NW71V4ycioFTSSYIqQQZ54FmlVOJ0VFv\nsjabSrrvLSpRn0gQljvCE+Y85FoZHrtgWU/kVIRNy3vx/JkCvvn4MVyxfkDbVAkAr75wGAPdaXxr\nz3GUqnV86rv78bI1S7D9sjUN65bk0vjN12/GwwfP4gf7TwMAzuTL+MBXHseq/i78+c9fjoRTpfe5\nX7gCvbkU3v/lx5qqxn7w7Gn8zF/9Fw6dLeLK8wbx/39rH37rrj3ubqcLhbYRFSK6noj2E9EIEd2q\neT1LRHc5rz9CRBuU137PeX4/Eb15rs7xbL6MB549FRim2ntsEj/zuQfxn8+N4mM3XIwv/srV+NcP\nXIfebArv+Psf4x8ePOiKxUSxgl+5Yyc+e/9P8LbL1+DuD2zDjlteiddetBwf+7en8cGv7kahXMOP\nDpzBsYkZ/PxVzS5Fcu0FQ1i3tAufuPdZ1CxhICpDqFsCZwuVSFEZ7su6XflhlV8S2QAZ1aMCAEty\nKSQTZHRBAjzxMbkrnl2ivvVOxe1TiZHbMXE1cp1JLwlgi0ommdBW+fmZjVOJ6qaX9OZSyKQSGIwo\n4gDsXhUgWlTUNWGVX+raal1g/6lpbL9M71IA+/f71ktW4Xv7TuGvfzCC45Ml/P5bX6r9Hf7CNefh\n/GU9+NN7nkW5VsdvfHU3xosV/M0vvrwharB8SQ6fe8cVODRWxO98/UkIIVC3BD7zvf345f+7E6sH\nuvDtD74S//yeV+B33nwRdjxxHG+7/Uc42IKR/ZWahUefH5vzPWXM/iXMMUSUBHA7gDcCOApgJxHt\nEEKoWa13AxgXQmwiopsBfBLA24loC4CbAVwMYDWA+4noQiFE47aFLeCH+0fx219/AskE4dK1/di2\ncQjbNi7DlecNYsee4/jDb+3F0u4M7nzvtbjyPLtD/SUrl2DHLdfhd77+JG77zjN47NA4funaDfjw\n15/A6HQZt73tZfgf16x3Y7qf/59X4u/+8yA+dd+zeObEFIb7shjoTuNNW1YEnlciQfj5K9fhz7//\nE6SThK3n6fMpkpefN4hMKoFKzWqYTBzE5esHcGxixsiprI7hVIgIg92ZyHJiiRQfk4tdd6yO+pjV\nX+mEefgrVp+KuZuQ63KGjmk2ITuj3JXrVMzOoyebRE82eqQ+4LmZTSHVXBIZIosKlalrEgT89KXB\nogLYIbB/fuQw/vKBEbzhpcsDC2AyqQR+9/qX4Ne+/Bhu+tuH8eTRSXz6pstwsTKkVXLNBUO49fqX\n4I/veQaf+f5PsOfIBB587gxuvHItbnvby9x/hx/4qU24bO0AfuPO3bjhcz/Cp268FG+5ZFXk+5PU\n6hb2HZ/CQwfO4qEDZ7DzhTGUqhbetW0DPnrDxcbHiUtbiAqAqwGMCCEOAgAR3QlgOwBVVLYD+Kjz\n+BsAPkf2v8ztAO4UQpQBPE9EI87xHm71Sf70pauwqj/n/pH+9j8O4vYfHEA6SajWBa7bNIS/vPmK\nphxFXy6Nv/nFl+MfHnwen/jus7h370msGejC137t2iankEgQ3v/ajbhsXT9+46u7cWC0gHdt2xB5\nwbtx61p89v6f4Ir1g0ZTa69cP4hdh8aaql50XLFuAN958kSsnErYBl0qQz0ZY6fihr9iJPXj9J6Y\nXnRz6aSxm5irkmJ5zFjuyjSpLzvqDUS2O0afCmAPBu01FCBZARbHqZislW7muk3LMBywp4vkqg1L\nsbo/h1PTZdz6lpeErn3zxStw1YZB7HxhHO+4ej1uvHJt4Nr3vOp8PH54HH/1wAgyqQQ+8d8vwduv\nWtcktq/cvAzf/uAr8etfeRzv/8rj2Djcg4SBIANwxvzbUZWLVvTh5qvWY9vGIVxzQXgk41xpF1FZ\nA+CI8vVRANcErRFC1IhoEsCQ8/yPfd+7xve9IKL3AngvAKxfv35WJ5lLJ7Ft0zJs27QMwEXIl2vY\n+fwYHjpwBiuW5PDL150fmHAmIvzqqy/AZesGcO/eE/jg6zaHXni3bVyGb3/wVfj7Bw/iV191QeS5\nrervwh/9t4uN/lMBwG+8fjOeOz1tdHf+tivW4PR0GZesab7raj6PHH7rDRfiZy41u6P64Os3GTkP\neR7DfVmjpP7L1w/iva++AFs3DEauBYA/eOtLmyYQBPGubRvc/6xRvGnLCkyXqlgWsreM5ILhXrz/\ntRvxmguHI9cCwIfeeCE2aCYh6PiFa9YZ/y5evXkYv/aajXjJymiHsLQngw+98UL8tOEd9Ad+aqNx\nccFNV67DyiW5wKITlVdtHsZ7Xnm+0e+uN5vCrW95Ca41+HsnEoQ/uuFijBUqkY6JiPDJn7sU//L4\nUXzwdZsj1/7ZjZdi9UAX3nb5GlyyNvj/1uqBLnztfdfi9h+MNG2dHMZV5y/FtRcM4RUXDEWKZyuh\ndqguIKIbAVwvhHiP8/X/BHCNEOIWZc1eZ81R5+sDsIXnowB+LIT4svP8FwDcK4T4RtDP27p1q9i1\na9dcvR2GYZhFCRE9JoTYGramXRL1xwComei1znPaNUSUAtAP4Kzh9zIMwzDzQLuIyk4Am4nofCLK\nwE687/Ct2QHgnc7jGwE8IGybtQPAzU512PkANgN4dJ7Om2EYhlFoi5yKkyO5BcB9AJIA/lEIsY+I\nPg5glxBiB4AvAPiSk4gfgy08cNZ9DXZSvwbgA3NR+cUwDMNE0xY5lfmGcyoMwzDxWUg5FYZhGGYR\nwKLCMAzDtAwWFYZhGKZlsKgwDMMwLaMjE/VENArg0It9HufIMgBnXuyTmGMW+3vk97fwWezv0f/+\nzhNChI4t6EhRWQwQ0a6oKoyFzmJ/j/z+Fj6L/T3O5v1x+IthGIZpGSwqDMMwTMtgUVm4fP7FPoF5\nYLG/R35/C5/F/h5jvz/OqTAMwzAtg50KwzAM0zJYVBiGYZiWwaKywCCiTxHRs0T0JBHdTUQDymu/\nR0QjRLSfiN78Yp7nbCGim4hoHxFZRLTV99qCf38AQETXO+9hhIhufbHPpxUQ0T8S0WlnMz353FIi\n+j4RPed8Ntt6sg0honVE9AMietr59/mbzvOL6T3miOhRInrCeY8fc54/n4gecf693uVsTxIIi8rC\n4/sAXiaEuBTA/2vvjkKrLOM4jn9/rDUEL0QQlamUOIgFtW5iQhehRUtELSISgkXdCN0EgZS7EIQu\nvDFB9K7Ii9EYpLmbQSSDdWMFNSgYxqoLjTkhGhXCZPjr4nlWbzF3Tuzdznlf/h8YvOd5Di/Pj3Pg\nf573ed89PwDvAkjqJW0H8CgwAFyQ1Ny+re3le+BFYLLYWJd8eczngeeBXuBozlZ1H5E+l6J3gKu2\ne4Cr+XVVLQJv2+4F+oE38+dWp4wLwD7bjwN9wICkfuA08L7tPcBvwBsrnSSKSsXY/sz20gbp10g7\nXQIcBkZsL9j+GZgBnmzFGFfD9rTt68t01SIfacwztn+yfRcYIWWrNNuTpH2Oig4DF/PxReDIug6q\nRLZnbX+Tj/8ApoFu6pXRtv/MLzvzn4F9wNL27A0zRlGptteB8XzcDdwo9N3MbXVRl3x1ydGMrbZn\n8/EtYGsrB1MWSQ8BTwBfUrOMkjokTQG3SVdFfgTmCz9kG35f22Lnx/Bvkj4Hti3TNWT7Sn7PEGlK\nPryeYytDM/lCvdi2pMo/vyBpI/AJ8Jbt3yX93VeHjHnX3L68VnsZeOT/niOKShuy/cxK/ZJeAw4C\n+/3Pg0a/ADsLb9uR29pOo3z3UZl8DdQlRzPmJG23PStpO+nXb2VJ6iQVlGHbl3JzrTIusT0vaQLY\nC2yS9ECerTT8vsblr4qRNAAcBw7ZvlPoGgNekdQl6WGgB/iqFWNcI3XJ9zXQk++oeZB088FYi8e0\nVsaAwXw8CFR2Fqo0JfkAmLZ9ptBVp4xblu4mlbQBeJa0djQBvJTf1jBjPFFfMZJmgC7g19x0zfax\n3DdEWmdZJE3Px5c/S/uS9AJwDtgCzANTtp/LfZXPByDpAHAW6AA+tP1ei4e0apI+Bp4m/av0OeAk\n8CkwCuwibTXxsu3/LuZXgqSngC+A74B7ufkEaV2lLhkfIy3Ed5AmHKO2T0naTbqhZDPwLfCq7YX7\nnieKSgghhLLE5a8QQgiliaISQgihNFFUQgghlCaKSgghhNJEUQkhhFCaKCohhBBKE0UlhBBCaf4C\naXA1r3KMjmAAAAAASUVORK5CYII=\n",
                "text/plain": "<Figure size 432x288 with 1 Axes>"
              }
            ],
            "_view_module": "@jupyter-widgets/output",
            "_model_module_version": "1.0.0",
            "_view_count": null,
            "_view_module_version": "1.0.0",
            "layout": "IPY_MODEL_7659c03782864f77a2a8b15515a2b371",
            "_model_module": "@jupyter-widgets/output"
          }
        },
        "a4845683439246fd84d42749825db21b": {
          "model_module": "@jupyter-widgets/controls",
          "model_name": "DescriptionStyleModel",
          "state": {
            "_view_name": "StyleView",
            "_model_name": "DescriptionStyleModel",
            "description_width": "",
            "_view_module": "@jupyter-widgets/base",
            "_model_module_version": "1.5.0",
            "_view_count": null,
            "_view_module_version": "1.2.0",
            "_model_module": "@jupyter-widgets/controls"
          }
        },
        "d0f472045ca94b04b53eba6a5e25c9c5": {
          "model_module": "@jupyter-widgets/base",
          "model_name": "LayoutModel",
          "state": {
            "_view_name": "LayoutView",
            "grid_template_rows": null,
            "right": null,
            "justify_content": null,
            "_view_module": "@jupyter-widgets/base",
            "overflow": null,
            "_model_module_version": "1.2.0",
            "_view_count": null,
            "flex_flow": null,
            "width": null,
            "min_width": null,
            "border": null,
            "align_items": null,
            "bottom": null,
            "_model_module": "@jupyter-widgets/base",
            "top": null,
            "grid_column": null,
            "overflow_y": null,
            "overflow_x": null,
            "grid_auto_flow": null,
            "grid_area": null,
            "grid_template_columns": null,
            "flex": null,
            "_model_name": "LayoutModel",
            "justify_items": null,
            "grid_row": null,
            "max_height": null,
            "align_content": null,
            "visibility": null,
            "align_self": null,
            "height": null,
            "min_height": null,
            "padding": null,
            "grid_auto_rows": null,
            "grid_gap": null,
            "max_width": null,
            "order": null,
            "_view_module_version": "1.2.0",
            "grid_template_areas": null,
            "object_position": null,
            "object_fit": null,
            "grid_auto_columns": null,
            "margin": null,
            "display": null,
            "left": null
          }
        },
        "136418b0d1a7443b92807e80acf88e1b": {
          "model_module": "@jupyter-widgets/controls",
          "model_name": "SliderStyleModel",
          "state": {
            "_view_name": "StyleView",
            "handle_color": null,
            "_model_name": "SliderStyleModel",
            "description_width": "",
            "_view_module": "@jupyter-widgets/base",
            "_model_module_version": "1.5.0",
            "_view_count": null,
            "_view_module_version": "1.2.0",
            "_model_module": "@jupyter-widgets/controls"
          }
        },
        "72c103b23b8e4343b82a1749de1248e3": {
          "model_module": "@jupyter-widgets/base",
          "model_name": "LayoutModel",
          "state": {
            "_view_name": "LayoutView",
            "grid_template_rows": null,
            "right": null,
            "justify_content": null,
            "_view_module": "@jupyter-widgets/base",
            "overflow": null,
            "_model_module_version": "1.2.0",
            "_view_count": null,
            "flex_flow": null,
            "width": null,
            "min_width": null,
            "border": null,
            "align_items": null,
            "bottom": null,
            "_model_module": "@jupyter-widgets/base",
            "top": null,
            "grid_column": null,
            "overflow_y": null,
            "overflow_x": null,
            "grid_auto_flow": null,
            "grid_area": null,
            "grid_template_columns": null,
            "flex": null,
            "_model_name": "LayoutModel",
            "justify_items": null,
            "grid_row": null,
            "max_height": null,
            "align_content": null,
            "visibility": null,
            "align_self": null,
            "height": null,
            "min_height": null,
            "padding": null,
            "grid_auto_rows": null,
            "grid_gap": null,
            "max_width": null,
            "order": null,
            "_view_module_version": "1.2.0",
            "grid_template_areas": null,
            "object_position": null,
            "object_fit": null,
            "grid_auto_columns": null,
            "margin": null,
            "display": null,
            "left": null
          }
        },
        "cc00162f582244b99cfebbdf48d2dd8c": {
          "model_module": "@jupyter-widgets/controls",
          "model_name": "VBoxModel",
          "state": {
            "_view_name": "VBoxView",
            "_dom_classes": [
              "widget-interact"
            ],
            "_model_name": "VBoxModel",
            "_view_module": "@jupyter-widgets/controls",
            "_model_module_version": "1.5.0",
            "_view_count": null,
            "_view_module_version": "1.5.0",
            "box_style": "",
            "layout": "IPY_MODEL_a0729398e279442aaaa7401ce63a842f",
            "_model_module": "@jupyter-widgets/controls",
            "children": [
              "IPY_MODEL_7a87ca95c91745f7945df57b4e581ad8",
              "IPY_MODEL_e70c57835e9947d49fed6dfc01c54c49",
              "IPY_MODEL_8b99e601c774495bbaae3f6c062cd8bc"
            ]
          }
        },
        "a0729398e279442aaaa7401ce63a842f": {
          "model_module": "@jupyter-widgets/base",
          "model_name": "LayoutModel",
          "state": {
            "_view_name": "LayoutView",
            "grid_template_rows": null,
            "right": null,
            "justify_content": null,
            "_view_module": "@jupyter-widgets/base",
            "overflow": null,
            "_model_module_version": "1.2.0",
            "_view_count": null,
            "flex_flow": null,
            "width": null,
            "min_width": null,
            "border": null,
            "align_items": null,
            "bottom": null,
            "_model_module": "@jupyter-widgets/base",
            "top": null,
            "grid_column": null,
            "overflow_y": null,
            "overflow_x": null,
            "grid_auto_flow": null,
            "grid_area": null,
            "grid_template_columns": null,
            "flex": null,
            "_model_name": "LayoutModel",
            "justify_items": null,
            "grid_row": null,
            "max_height": null,
            "align_content": null,
            "visibility": null,
            "align_self": null,
            "height": null,
            "min_height": null,
            "padding": null,
            "grid_auto_rows": null,
            "grid_gap": null,
            "max_width": null,
            "order": null,
            "_view_module_version": "1.2.0",
            "grid_template_areas": null,
            "object_position": null,
            "object_fit": null,
            "grid_auto_columns": null,
            "margin": null,
            "display": null,
            "left": null
          }
        },
        "7a87ca95c91745f7945df57b4e581ad8": {
          "model_module": "@jupyter-widgets/controls",
          "model_name": "DropdownModel",
          "state": {
            "_options_labels": [
              "10",
              "11",
              "12",
              "13",
              "14",
              "15",
              "16",
              "17",
              "18",
              "19",
              "20",
              "21",
              "22",
              "23",
              "24",
              "25",
              "26",
              "27",
              "28",
              "29",
              "30",
              "31",
              "32",
              "33",
              "34",
              "35",
              "36",
              "37",
              "38",
              "39",
              "40",
              "41",
              "42",
              "43",
              "44",
              "45",
              "46",
              "47",
              "48",
              "49",
              "50",
              "51",
              "52",
              "53",
              "54",
              "55",
              "56",
              "57",
              "58",
              "59",
              "60",
              "61",
              "62",
              "63",
              "64",
              "65",
              "66",
              "67",
              "68",
              "69",
              "70",
              "71",
              "72",
              "73",
              "74",
              "75",
              "76",
              "77",
              "78",
              "79",
              "80",
              "81",
              "82",
              "83",
              "84",
              "85",
              "86",
              "87",
              "88",
              "89",
              "90",
              "91",
              "92",
              "93",
              "94",
              "95",
              "96",
              "97",
              "98",
              "99"
            ],
            "_view_name": "DropdownView",
            "style": "IPY_MODEL_e405212e21af42459bec43665d748e94",
            "_dom_classes": [],
            "description": "t",
            "_model_name": "DropdownModel",
            "index": 0,
            "_view_module": "@jupyter-widgets/controls",
            "_model_module_version": "1.5.0",
            "_view_count": null,
            "disabled": false,
            "_view_module_version": "1.5.0",
            "description_tooltip": null,
            "_model_module": "@jupyter-widgets/controls",
            "layout": "IPY_MODEL_fe0b6683368e4f00960dacd89b417e9b"
          }
        },
        "e70c57835e9947d49fed6dfc01c54c49": {
          "model_module": "@jupyter-widgets/controls",
          "model_name": "DropdownModel",
          "state": {
            "_options_labels": [
              "0",
              "1",
              "equal"
            ],
            "_view_name": "DropdownView",
            "style": "IPY_MODEL_d94f596182354d768ad5a1576ef05c23",
            "_dom_classes": [],
            "description": "initial",
            "_model_name": "DropdownModel",
            "index": 0,
            "_view_module": "@jupyter-widgets/controls",
            "_model_module_version": "1.5.0",
            "_view_count": null,
            "disabled": false,
            "_view_module_version": "1.5.0",
            "description_tooltip": null,
            "_model_module": "@jupyter-widgets/controls",
            "layout": "IPY_MODEL_c9368d29c0e740ab8cf694c0921b8d34"
          }
        },
        "8b99e601c774495bbaae3f6c062cd8bc": {
          "model_module": "@jupyter-widgets/output",
          "model_name": "OutputModel",
          "state": {
            "_view_name": "OutputView",
            "msg_id": "",
            "_dom_classes": [],
            "_model_name": "OutputModel",
            "outputs": [
              {
                "output_type": "stream",
                "metadata": {
                  "tags": []
                },
                "text": "/usr/local/lib/python3.6/dist-packages/numpy/core/_asarray.py:85: ComplexWarning: Casting complex values to real discards the imaginary part\n  return array(a, dtype, copy=False, order=order)\n",
                "stream": "stderr"
              },
              {
                "output_type": "display_data",
                "metadata": {
                  "tags": []
                },
                "image/png": "iVBORw0KGgoAAAANSUhEUgAAAZMAAAEWCAYAAACjYXoKAAAABHNCSVQICAgIfAhkiAAAAAlwSFlz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\nTBQd+123zwAAAABJRU5ErkJggg==\n",
                "text/plain": "<Figure size 432x288 with 1 Axes>"
              }
            ],
            "_view_module": "@jupyter-widgets/output",
            "_model_module_version": "1.0.0",
            "_view_count": null,
            "_view_module_version": "1.0.0",
            "layout": "IPY_MODEL_fe19dfed2dbf40899f825d47414affd9",
            "_model_module": "@jupyter-widgets/output"
          }
        },
        "e405212e21af42459bec43665d748e94": {
          "model_module": "@jupyter-widgets/controls",
          "model_name": "DescriptionStyleModel",
          "state": {
            "_view_name": "StyleView",
            "_model_name": "DescriptionStyleModel",
            "description_width": "",
            "_view_module": "@jupyter-widgets/base",
            "_model_module_version": "1.5.0",
            "_view_count": null,
            "_view_module_version": "1.2.0",
            "_model_module": "@jupyter-widgets/controls"
          }
        },
        "fe0b6683368e4f00960dacd89b417e9b": {
          "model_module": "@jupyter-widgets/base",
          "model_name": "LayoutModel",
          "state": {
            "_view_name": "LayoutView",
            "grid_template_rows": null,
            "right": null,
            "justify_content": null,
            "_view_module": "@jupyter-widgets/base",
            "overflow": null,
            "_model_module_version": "1.2.0",
            "_view_count": null,
            "flex_flow": null,
            "width": null,
            "min_width": null,
            "border": null,
            "align_items": null,
            "bottom": null,
            "_model_module": "@jupyter-widgets/base",
            "top": null,
            "grid_column": null,
            "overflow_y": null,
            "overflow_x": null,
            "grid_auto_flow": null,
            "grid_area": null,
            "grid_template_columns": null,
            "flex": null,
            "_model_name": "LayoutModel",
            "justify_items": null,
            "grid_row": null,
            "max_height": null,
            "align_content": null,
            "visibility": null,
            "align_self": null,
            "height": null,
            "min_height": null,
            "padding": null,
            "grid_auto_rows": null,
            "grid_gap": null,
            "max_width": null,
            "order": null,
            "_view_module_version": "1.2.0",
            "grid_template_areas": null,
            "object_position": null,
            "object_fit": null,
            "grid_auto_columns": null,
            "margin": null,
            "display": null,
            "left": null
          }
        },
        "d94f596182354d768ad5a1576ef05c23": {
          "model_module": "@jupyter-widgets/controls",
          "model_name": "DescriptionStyleModel",
          "state": {
            "_view_name": "StyleView",
            "_model_name": "DescriptionStyleModel",
            "description_width": "",
            "_view_module": "@jupyter-widgets/base",
            "_model_module_version": "1.5.0",
            "_view_count": null,
            "_view_module_version": "1.2.0",
            "_model_module": "@jupyter-widgets/controls"
          }
        },
        "c9368d29c0e740ab8cf694c0921b8d34": {
          "model_module": "@jupyter-widgets/base",
          "model_name": "LayoutModel",
          "state": {
            "_view_name": "LayoutView",
            "grid_template_rows": null,
            "right": null,
            "justify_content": null,
            "_view_module": "@jupyter-widgets/base",
            "overflow": null,
            "_model_module_version": "1.2.0",
            "_view_count": null,
            "flex_flow": null,
            "width": null,
            "min_width": null,
            "border": null,
            "align_items": null,
            "bottom": null,
            "_model_module": "@jupyter-widgets/base",
            "top": null,
            "grid_column": null,
            "overflow_y": null,
            "overflow_x": null,
            "grid_auto_flow": null,
            "grid_area": null,
            "grid_template_columns": null,
            "flex": null,
            "_model_name": "LayoutModel",
            "justify_items": null,
            "grid_row": null,
            "max_height": null,
            "align_content": null,
            "visibility": null,
            "align_self": null,
            "height": null,
            "min_height": null,
            "padding": null,
            "grid_auto_rows": null,
            "grid_gap": null,
            "max_width": null,
            "order": null,
            "_view_module_version": "1.2.0",
            "grid_template_areas": null,
            "object_position": null,
            "object_fit": null,
            "grid_auto_columns": null,
            "margin": null,
            "display": null,
            "left": null
          }
        }
      }
    }
  },
  "cells": [
    {
      "cell_type": "markdown",
      "metadata": {
        "id": "view-in-github",
        "colab_type": "text"
      },
      "source": [
        "<a href=\"https://colab.research.google.com/github/ddinesan/Manga/blob/master/Lecture_23_Worksheet_Quantum_Walks.ipynb\" target=\"_parent\"><img src=\"https://colab.research.google.com/assets/colab-badge.svg\" alt=\"Open In Colab\"/></a>"
      ]
    },
    {
      "cell_type": "markdown",
      "metadata": {
        "id": "_OKRPS9CZA9j",
        "colab_type": "text"
      },
      "source": [
        "#Quantum Walk"
      ]
    },
    {
      "cell_type": "markdown",
      "metadata": {
        "id": "A9PuXpDDK44m",
        "colab_type": "text"
      },
      "source": [
        "\n",
        "This is a worksheet prepared by Xi Dai for Lecture 24 of the reading course \"Introduction to Quantum Computer Programming\" (AMATH 900/ AMATH 495/ QIC 895) at the University of Waterloo.\n",
        "\n",
        "Course Webpage: https://sites.google.com/view/quantum-computer-programming\n",
        "\n",
        "Text followed in the course: Quantum Computing, An Applied Approach by Jack D. Hidary (2019)"
      ]
    },
    {
      "cell_type": "code",
      "metadata": {
        "id": "bF8cWp4hKtiD",
        "colab_type": "code",
        "colab": {
          "base_uri": "https://localhost:8080/",
          "height": 670
        },
        "outputId": "62a298bf-d0c5-4a43-dd0d-6ec34306aa62"
      },
      "source": [
        "!pip install cirq\n",
        "!pip install networkx"
      ],
      "execution_count": null,
      "outputs": [
        {
          "output_type": "stream",
          "text": [
            "Requirement already satisfied: cirq in /usr/local/lib/python3.6/dist-packages (0.7.0)\n",
            "Requirement already satisfied: pandas in /usr/local/lib/python3.6/dist-packages (from cirq) (1.0.3)\n",
            "Requirement already satisfied: requests~=2.18 in /usr/local/lib/python3.6/dist-packages (from cirq) (2.21.0)\n",
            "Requirement already satisfied: numpy~=1.16 in /usr/local/lib/python3.6/dist-packages (from cirq) (1.18.2)\n",
            "Requirement already satisfied: sympy==1.4 in /usr/local/lib/python3.6/dist-packages (from cirq) (1.4)\n",
            "Requirement already satisfied: dataclasses; python_version < \"3.7\" in /usr/local/lib/python3.6/dist-packages (from cirq) (0.7)\n",
            "Requirement already satisfied: typing-extensions in /usr/local/lib/python3.6/dist-packages (from cirq) (3.6.6)\n",
            "Requirement already satisfied: matplotlib~=3.0 in /usr/local/lib/python3.6/dist-packages (from cirq) (3.2.1)\n",
            "Requirement already satisfied: networkx==2.3 in /usr/local/lib/python3.6/dist-packages (from cirq) (2.3)\n",
            "Requirement already satisfied: protobuf==3.8.0 in /usr/local/lib/python3.6/dist-packages (from cirq) (3.8.0)\n",
            "Requirement already satisfied: sortedcontainers~=2.0 in /usr/local/lib/python3.6/dist-packages (from cirq) (2.1.0)\n",
            "Requirement already satisfied: google-api-python-client~=1.6 in /usr/local/lib/python3.6/dist-packages (from cirq) (1.7.12)\n",
            "Requirement already satisfied: scipy in /usr/local/lib/python3.6/dist-packages (from cirq) (1.4.1)\n",
            "Requirement already satisfied: python-dateutil>=2.6.1 in /usr/local/lib/python3.6/dist-packages (from pandas->cirq) (2.8.1)\n",
            "Requirement already satisfied: pytz>=2017.2 in /usr/local/lib/python3.6/dist-packages (from pandas->cirq) (2018.9)\n",
            "Requirement already satisfied: idna<2.9,>=2.5 in /usr/local/lib/python3.6/dist-packages (from requests~=2.18->cirq) (2.8)\n",
            "Requirement already satisfied: chardet<3.1.0,>=3.0.2 in /usr/local/lib/python3.6/dist-packages (from requests~=2.18->cirq) (3.0.4)\n",
            "Requirement already satisfied: certifi>=2017.4.17 in /usr/local/lib/python3.6/dist-packages (from requests~=2.18->cirq) (2019.11.28)\n",
            "Requirement already satisfied: urllib3<1.25,>=1.21.1 in /usr/local/lib/python3.6/dist-packages (from requests~=2.18->cirq) (1.24.3)\n",
            "Requirement already satisfied: mpmath>=0.19 in /usr/local/lib/python3.6/dist-packages (from sympy==1.4->cirq) (1.1.0)\n",
            "Requirement already satisfied: kiwisolver>=1.0.1 in /usr/local/lib/python3.6/dist-packages (from matplotlib~=3.0->cirq) (1.1.0)\n",
            "Requirement already satisfied: cycler>=0.10 in /usr/local/lib/python3.6/dist-packages (from matplotlib~=3.0->cirq) (0.10.0)\n",
            "Requirement already satisfied: pyparsing!=2.0.4,!=2.1.2,!=2.1.6,>=2.0.1 in /usr/local/lib/python3.6/dist-packages (from matplotlib~=3.0->cirq) (2.4.6)\n",
            "Requirement already satisfied: decorator>=4.3.0 in /usr/local/lib/python3.6/dist-packages (from networkx==2.3->cirq) (4.4.2)\n",
            "Requirement already satisfied: setuptools in /usr/local/lib/python3.6/dist-packages (from protobuf==3.8.0->cirq) (46.0.0)\n",
            "Requirement already satisfied: six>=1.9 in /usr/local/lib/python3.6/dist-packages (from protobuf==3.8.0->cirq) (1.12.0)\n",
            "Requirement already satisfied: uritemplate<4dev,>=3.0.0 in /usr/local/lib/python3.6/dist-packages (from google-api-python-client~=1.6->cirq) (3.0.1)\n",
            "Requirement already satisfied: google-auth>=1.4.1 in /usr/local/lib/python3.6/dist-packages (from google-api-python-client~=1.6->cirq) (1.7.2)\n",
            "Requirement already satisfied: httplib2<1dev,>=0.17.0 in /usr/local/lib/python3.6/dist-packages (from google-api-python-client~=1.6->cirq) (0.17.0)\n",
            "Requirement already satisfied: google-auth-httplib2>=0.0.3 in /usr/local/lib/python3.6/dist-packages (from google-api-python-client~=1.6->cirq) (0.0.3)\n",
            "Requirement already satisfied: pyasn1-modules>=0.2.1 in /usr/local/lib/python3.6/dist-packages (from google-auth>=1.4.1->google-api-python-client~=1.6->cirq) (0.2.8)\n",
            "Requirement already satisfied: rsa<4.1,>=3.1.4 in /usr/local/lib/python3.6/dist-packages (from google-auth>=1.4.1->google-api-python-client~=1.6->cirq) (4.0)\n",
            "Requirement already satisfied: cachetools<3.2,>=2.0.0 in /usr/local/lib/python3.6/dist-packages (from google-auth>=1.4.1->google-api-python-client~=1.6->cirq) (3.1.1)\n",
            "Requirement already satisfied: pyasn1<0.5.0,>=0.4.6 in /usr/local/lib/python3.6/dist-packages (from pyasn1-modules>=0.2.1->google-auth>=1.4.1->google-api-python-client~=1.6->cirq) (0.4.8)\n",
            "Requirement already satisfied: networkx in /usr/local/lib/python3.6/dist-packages (2.3)\n",
            "Requirement already satisfied: decorator>=4.3.0 in /usr/local/lib/python3.6/dist-packages (from networkx) (4.4.2)\n"
          ],
          "name": "stdout"
        }
      ]
    },
    {
      "cell_type": "code",
      "metadata": {
        "id": "yUmkLSnJL6-b",
        "colab_type": "code",
        "colab": {}
      },
      "source": [
        "import os\n",
        "\n",
        "import numpy as np\n",
        "from matplotlib import pyplot as plt\n",
        "import scipy\n",
        "import ipywidgets as widgets\n",
        "from ipywidgets import interact, interact_manual\n",
        "from scipy.linalg import expm\n",
        "from IPython.display import SVG, display\n",
        "import networkx as nx\n",
        "import sympy\n",
        "\n",
        "import cirq\n",
        "from cirq.contrib.svg import circuit_to_svg\n",
        "\n",
        "\n",
        "def cprint(circuit):\n",
        "  \"\"\"Convert the cirq.Circuit to a temp svg and display + garbage collect.\"\"\"\n",
        "  with open(\"temp.svg\", 'w+') as f:\n",
        "    f.write(circuit_to_svg(circuit))\n",
        "  display(SVG('temp.svg'))\n",
        "  os.remove('temp.svg')"
      ],
      "execution_count": null,
      "outputs": []
    },
    {
      "cell_type": "markdown",
      "metadata": {
        "id": "8ZiB3iuoDp8b",
        "colab_type": "text"
      },
      "source": [
        "##Discrete time algorithm\n",
        "A simple demonstration of the difference between classical and quantum walk."
      ]
    },
    {
      "cell_type": "markdown",
      "metadata": {
        "id": "_Qt2cumJV3YY",
        "colab_type": "text"
      },
      "source": [
        "###Classical Random Walk on a line"
      ]
    },
    {
      "cell_type": "code",
      "metadata": {
        "id": "XQ2KOx1TV23H",
        "colab_type": "code",
        "colab": {
          "base_uri": "https://localhost:8080/",
          "height": 359,
          "referenced_widgets": [
            "b489cdf430f544d6b49c02280d09c360",
            "c0edcab7984a41bcb7332a15ee4ff4e6",
            "ceae66f5918c44d2961fcb1ad660d64b",
            "45fba4c4af8a460b8c95694f3b00288f",
            "02ce861e669a467abc6460911f8bb190",
            "a4845683439246fd84d42749825db21b",
            "d0f472045ca94b04b53eba6a5e25c9c5",
            "136418b0d1a7443b92807e80acf88e1b",
            "72c103b23b8e4343b82a1749de1248e3"
          ]
        },
        "outputId": "b3ef80eb-9e88-4e22-b163-64f90cff1b21"
      },
      "source": [
        "def rd_line(t):\n",
        "  x = 0\n",
        "  coins = [(np.random.randint(0, 2) - 0.5) * 2 for ti in range(t)]\n",
        "  return x + np.sum(coins)\n",
        "\n",
        "def get_probability(x_array):\n",
        "  hist_range = (min(x_array) - 0.5, max(x_array) + 0.5)\n",
        "  hist_bins = int(max(x_array) - min(x_array) + 1)\n",
        "  x_hist, x_edges = np.histogram(x_array, bins=hist_bins, range=hist_range)\n",
        "  x_prob = x_hist / len(x_array)\n",
        "  x_values = x_edges[:-1] + 0.5\n",
        "  return x_values, x_prob, \n",
        "\n",
        "def get_expectation_std(x_values, x_prob):\n",
        "  x_expectation = np.dot(x_values, x_prob)\n",
        "  x_std = (np.dot([x**2 for x in x_values], x_prob) - x_expectation)**0.5\n",
        "  return x_expectation, x_std\n",
        "\n",
        "@interact\n",
        "def plot_sample_rd_line(t=np.arange(10, 100), n_sample=1000):\n",
        "  x_array = [rd_line(t) for _ in range(n_sample)]\n",
        "  x_values, x_prob = get_probability(x_array)\n",
        "  plt.plot(x_values, x_prob)\n",
        "  x_expectation, x_std = get_expectation_std(x_values, x_prob)\n",
        "  plt.figtext(0, 0.95, r\"<x>={:.3f}, $\\delta x$={:.3f}\".format(\n",
        "      x_expectation, x_std))"
      ],
      "execution_count": null,
      "outputs": [
        {
          "output_type": "display_data",
          "data": {
            "application/vnd.jupyter.widget-view+json": {
              "model_id": "b489cdf430f544d6b49c02280d09c360",
              "version_minor": 0,
              "version_major": 2
            },
            "text/plain": [
              "interactive(children=(Dropdown(description='t', options=(10, 11, 12, 13, 14, 15, 16, 17, 18, 19, 20, 21, 22, 2…"
            ]
          },
          "metadata": {
            "tags": []
          }
        }
      ]
    },
    {
      "cell_type": "code",
      "metadata": {
        "id": "KaGTbxAmpy8I",
        "colab_type": "code",
        "colab": {
          "base_uri": "https://localhost:8080/",
          "height": 281
        },
        "outputId": "ec71b035-3677-4354-9c94-faed76994322"
      },
      "source": [
        "def mean_std_rd_line(t_range, n_sample=200):\n",
        "  x_mean_std_array = np.array([get_expectation_std(\n",
        "      *get_probability(\n",
        "          [rd_line(t) for _ in range(n_sample)]\n",
        "      )\n",
        "      ) for t in t_range])\n",
        "  x_mean_array = x_mean_std_array[:, 0]\n",
        "  x_std_array = x_mean_std_array[:, 1]\n",
        "  return x_mean_array, x_std_array\n",
        "\n",
        "t_range = np.arange(10, 100)\n",
        "rd_mean_array, rd_std_array = mean_std_rd_line(t_range)\n",
        "plt.plot(t_range, rd_std_array, label=\"std\")\n",
        "plt.plot(t_range, rd_mean_array, label=\"mean\")\n",
        "plt.title(\"mean and std of displacement vs t\")\n",
        "plt.show()"
      ],
      "execution_count": null,
      "outputs": [
        {
          "output_type": "display_data",
          "data": {
            "image/png": "[encoded data removed]",
            "text/plain": [
              "<Figure size 432x288 with 1 Axes>"
            ]
          },
          "metadata": {
            "tags": []
          }
        }
      ]
    },
    {
      "cell_type": "markdown",
      "metadata": {
        "id": "9-4ew-jNAJtV",
        "colab_type": "text"
      },
      "source": [
        "###Coined Quantum walk on a line\n"
      ]
    },
    {
      "cell_type": "markdown",
      "metadata": {
        "id": "ZL5lNMFMvF-5",
        "colab_type": "text"
      },
      "source": [
        "The quantized version of 1d random walk is the coined quantum walk on a line. Two registers are needed to perform this walk. The first resgister stores the position of the walker, the second plays the role of the coin. Coin toss is implemented as a Hadarmard gate."
      ]
    },
    {
      "cell_type": "code",
      "metadata": {
        "id": "HB92i_aVp3Uu",
        "colab_type": "code",
        "colab": {}
      },
      "source": [
        "def coined_walk_update(amplitudes):\n",
        "  \"\"\"amplitudes has dimention n*2, \n",
        "  where first axis is size of walk, \n",
        "  second is amplitude of coin qubit\n",
        "  \"\"\"\n",
        "  new_amplitudes = np.zeros_like(amplitudes, dtype=complex)\n",
        "  for n in range(1, len(new_amplitudes)-1):\n",
        "      new_amplitudes[n, 0] = np.sum(amplitudes[n-1]) / np.sqrt(2)\n",
        "      new_amplitudes[n, 1] = np.subtract(*amplitudes[n+1]) / np.sqrt(2)\n",
        "  return new_amplitudes\n",
        "\n",
        "def coined_walk_initiate(n=50, initial=\"0\"):\n",
        "  x_values = np.arange(-n, n, 1)\n",
        "  initial_amplitudes = np.zeros((len(x_values), 2), dtype=complex)\n",
        "  if initial == \"0\":\n",
        "    initial_amplitudes[n, 0] = 1\n",
        "  elif initial == \"1\":\n",
        "    initial_amplitudes[n, 1] = - 1\n",
        "  elif initial == \"equal\":\n",
        "    initial_amplitudes[n, 0] = 1 / np.sqrt(2)\n",
        "    initial_amplitudes[n, 1] = - 1 / np.sqrt(2) * 1j\n",
        "  else:\n",
        "    raise ValueError(\"initial is either '0', '1', or 'equal'\")\n",
        "  return x_values, initial_amplitudes\n",
        "\n",
        "def coined_walk(t, initial_amplitudes):\n",
        "  amplitudes = initial_amplitudes\n",
        "  for _ in range(t):\n",
        "    amplitudes = coined_walk_update(amplitudes)\n",
        "  return amplitudes"
      ],
      "execution_count": null,
      "outputs": []
    },
    {
      "cell_type": "markdown",
      "metadata": {
        "id": "mt4_35Gh9n9W",
        "colab_type": "text"
      },
      "source": [
        "For coined quantum walk, the initial condition matters and the choice of the coin matters.  "
      ]
    },
    {
      "cell_type": "code",
      "metadata": {
        "id": "w8uibkV39lQA",
        "colab_type": "code",
        "colab": {
          "base_uri": "https://localhost:8080/",
          "height": 394,
          "referenced_widgets": [
            "cc00162f582244b99cfebbdf48d2dd8c",
            "a0729398e279442aaaa7401ce63a842f",
            "7a87ca95c91745f7945df57b4e581ad8",
            "e70c57835e9947d49fed6dfc01c54c49",
            "8b99e601c774495bbaae3f6c062cd8bc",
            "e405212e21af42459bec43665d748e94",
            "fe0b6683368e4f00960dacd89b417e9b",
            "d94f596182354d768ad5a1576ef05c23",
            "c9368d29c0e740ab8cf694c0921b8d34"
          ]
        },
        "outputId": "4124ac59-8dc9-498e-f5ce-3ac15c440b11"
      },
      "source": [
        "@interact\n",
        "def plot_coined_walk(t=np.arange(10, 100), initial=[\"0\", \"1\", \"equal\"]):\n",
        "  x_values, initial_amplitudes = coined_walk_initiate(50, initial)\n",
        "  amplitudes = coined_walk(t, initial_amplitudes)\n",
        "  #print (x_values)\n",
        "  #print (amplitudes)\n",
        "  x_prob = np.sum(amplitudes * np.conj(amplitudes), axis=1)\n",
        "  plt.plot(x_values, x_prob)\n",
        "  x_expectation, x_std = get_expectation_std(x_values, x_prob)\n",
        "  plt.figtext(0, 0.95, r\"<x>={:.3f}, $\\delta x$={:.3f}\".format(\n",
        "      x_expectation, x_std))"
      ],
      "execution_count": null,
      "outputs": [
        {
          "output_type": "display_data",
          "data": {
            "application/vnd.jupyter.widget-view+json": {
              "model_id": "cc00162f582244b99cfebbdf48d2dd8c",
              "version_minor": 0,
              "version_major": 2
            },
            "text/plain": [
              "interactive(children=(Dropdown(description='t', options=(10, 11, 12, 13, 14, 15, 16, 17, 18, 19, 20, 21, 22, 2…"
            ]
          },
          "metadata": {
            "tags": []
          }
        }
      ]
    },
    {
      "cell_type": "code",
      "metadata": {
        "id": "8bk8fKPhclf_",
        "colab_type": "code",
        "colab": {}
      },
      "source": [
        "def mean_std_cqw_line(t_range):\n",
        "  x_values, initial_amplitudes = coined_walk_initiate(n=100, initial=\"equal\")\n",
        "  amplitudes_array = [coined_walk(t, initial_amplitudes) for t in t_range]\n",
        "  prob_array = [np.sum(\n",
        "      amplitudes * np.conj(amplitudes), axis=1\n",
        "      ) for amplitudes in amplitudes_array]\n",
        "  x_mean_std_array = np.array([get_expectation_std(\n",
        "      x_values, x_prob\n",
        "      ) for x_prob in prob_array])\n",
        "  x_mean_array = x_mean_std_array[:, 0]\n",
        "  x_std_array = x_mean_std_array[:, 1]\n",
        "  return x_mean_array, x_std_array\n",
        "\n",
        "t_range = np.arange(10, 100)\n",
        "cqw_mean_array, cqw_std_array = mean_std_cqw_line(t_range)"
      ],
      "execution_count": null,
      "outputs": []
    },
    {
      "cell_type": "markdown",
      "metadata": {
        "id": "kAOEI491Ed4-",
        "colab_type": "text"
      },
      "source": [
        "###Compare distribution"
      ]
    },
    {
      "cell_type": "code",
      "metadata": {
        "id": "URF9UtCo8DGr",
        "colab_type": "code",
        "colab": {
          "base_uri": "https://localhost:8080/",
          "height": 366
        },
        "outputId": "849b0cb5-0d10-4f6d-ca89-d8da992d885e"
      },
      "source": [
        "plt.plot(t_range, rd_std_array, label=\"$\\delta x$ classical\")\n",
        "plt.plot(t_range, cqw_std_array, label=r\"$\\delta x$ quantum\")\n",
        "plt.plot(t_range, rd_mean_array, label=\"<x> classical\")\n",
        "plt.plot(t_range, cqw_mean_array, label=\"<x> quantum\")\n",
        "plt.xlabel(\"t\")\n",
        "plt.legend()\n",
        "plt.title(\"mean and std of displacement vs t\")\n",
        "plt.show()"
      ],
      "execution_count": null,
      "outputs": [
        {
          "output_type": "stream",
          "text": [
            "/usr/local/lib/python3.6/dist-packages/numpy/core/_asarray.py:85: ComplexWarning: Casting complex values to real discards the imaginary part\n",
            "  return array(a, dtype, copy=False, order=order)\n",
            "/usr/local/lib/python3.6/dist-packages/numpy/core/_asarray.py:85: ComplexWarning: Casting complex values to real discards the imaginary part\n",
            "  return array(a, dtype, copy=False, order=order)\n"
          ],
          "name": "stderr"
        },
        {
          "output_type": "display_data",
          "data": {
            "image/png": "[encoded data removed]",
            "text/plain": [
              "<Figure size 432x288 with 1 Axes>"
            ]
          },
          "metadata": {
            "tags": []
          }
        }
      ]
    },
    {
      "cell_type": "markdown",
      "metadata": {
        "id": "kcfR14OSC-Hl",
        "colab_type": "text"
      },
      "source": [
        "##Continuous Time Algorithms"
      ]
    },
    {
      "cell_type": "code",
      "metadata": {
        "id": "9NtkSLAmLf3V",
        "colab_type": "code",
        "colab": {
          "base_uri": "https://localhost:8080/",
          "height": 389
        },
        "outputId": "fd89a650-d8fa-4b61-e7f7-19e80f31fb8d"
      },
      "source": [
        "graph = nx.complete_graph(4)\n",
        "nx.draw_networkx(graph)\n",
        "adjacency_mat = nx.adjacency_matrix(graph).toarray()\n",
        "eigvals, _ = np.linalg.eigh(adjacency_mat)\n",
        "\n",
        "print (adjacency_mat)\n",
        "print (eigvals)"
      ],
      "execution_count": null,
      "outputs": [
        {
          "output_type": "stream",
          "text": [
            "/usr/local/lib/python3.6/dist-packages/networkx/drawing/nx_pylab.py:579: MatplotlibDeprecationWarning: \n",
            "The iterable function was deprecated in Matplotlib 3.1 and will be removed in 3.3. Use np.iterable instead.\n",
            "  if not cb.iterable(width):\n"
          ],
          "name": "stderr"
        },
        {
          "output_type": "stream",
          "text": [
            "[[0 1 1 1]\n",
            " [1 0 1 1]\n",
            " [1 1 0 1]\n",
            " [1 1 1 0]]\n",
            "[-1. -1. -1.  3.]\n"
          ],
          "name": "stdout"
        },
        {
          "output_type": "display_data",
          "data": {
            "image/png": "[encoded data removed]",
            "text/plain": [
              "<Figure size 432x288 with 1 Axes>"
            ]
          },
          "metadata": {
            "tags": []
          }
        }
      ]
    },
    {
      "cell_type": "markdown",
      "metadata": {
        "id": "kqV_bANQLwaE",
        "colab_type": "text"
      },
      "source": [
        "###Continuous Time Markov Chain"
      ]
    },
    {
      "cell_type": "markdown",
      "metadata": {
        "id": "BEMr0ajWKVjj",
        "colab_type": "text"
      },
      "source": [
        "The classical counterpart of CTQW is Continuous Time Markov Chain. Its evolution follows:\n",
        "\\begin{align}\n",
        "\\vec{p} = e^{-Ht}\\vec{p}(0)\n",
        "\\end{align}"
      ]
    },
    {
      "cell_type": "code",
      "metadata": {
        "id": "19BWeDEtKbCe",
        "colab_type": "code",
        "colab": {
          "base_uri": "https://localhost:8080/",
          "height": 265
        },
        "outputId": "9dca88ea-4886-49be-8d85-2c232eb2ce36"
      },
      "source": [
        "def k4_crw(t):\n",
        "  graph = nx.complete_graph(4)\n",
        "  adjacency_mat = nx.adjacency_matrix(graph).toarray()\n",
        "  stochastic_mat = adjacency_mat / np.sum(adjacency_mat, axis=0)\n",
        "  evolve = scipy.linalg.expm((stochastic_mat - np.eye(4)) * t)\n",
        "  probs = evolve[:,0]\n",
        "  return probs\n",
        "\n",
        "def prob_vs_time_crw(t_range):   \n",
        "  probs = np.array([k4_crw(t) for t in t_range])\n",
        "  initial_node_probs = probs[:, 0]\n",
        "  other_node_probs = probs[:, 1]\n",
        "  return initial_node_probs, other_node_probs\n",
        "\n",
        "t_range = np.arange(0, 5, 0.1)\n",
        "classical_probs = prob_vs_time_crw(t_range)\n",
        "\n",
        "t_range = np.arange(0, 5, 0.1)\n",
        "quantum_probs = prob_vs_time_ctqw(t_range, \"None\")\n",
        "plt.plot(t_range, np.real(classical_probs[0]), label=\"initial node prob\")\n",
        "plt.plot(t_range, np.real(classical_probs[1]), label=\"other node prob\")\n",
        "plt.legend()\n",
        "#plt.title(\"with identity\")\n",
        "plt.show()\n"
      ],
      "execution_count": null,
      "outputs": [
        {
          "output_type": "display_data",
          "data": {
            "image/png": "[encoded data removed]",
            "text/plain": [
              "<Figure size 432x288 with 1 Axes>"
            ]
          },
          "metadata": {
            "tags": []
          }
        }
      ]
    },
    {
      "cell_type": "markdown",
      "metadata": {
        "id": "k5i6AyDyelO4",
        "colab_type": "text"
      },
      "source": [
        ""
      ]
    },
    {
      "cell_type": "markdown",
      "metadata": {
        "id": "5-4TXbBCMXuo",
        "colab_type": "text"
      },
      "source": [
        "### Continuous Time Quantum Walk"
      ]
    },
    {
      "cell_type": "markdown",
      "metadata": {
        "id": "qU1O-HbQ7JNR",
        "colab_type": "text"
      },
      "source": [
        "Next, We try continuous time quantum walk. Instead of restricting us to 1d. We also look at the more general case, of random walk on a graph. In this case each quantum state reprents a node on a graph. Instead of letting a coin register to decide the evolution, the quantum system evolve according to some Hamiltonian, typically just the adcacency matrix of the graph.\n",
        "\n",
        "\\begin{align}\n",
        "\\psi(t)=e^{-iHt}\\psi(0)\n",
        "\\end{align}\n",
        "\n",
        "---\n",
        "\n"
      ]
    },
    {
      "cell_type": "markdown",
      "metadata": {
        "id": "F7IQpdMjMAhm",
        "colab_type": "text"
      },
      "source": [
        ""
      ]
    },
    {
      "cell_type": "code",
      "metadata": {
        "id": "_c-u3r3NE5y8",
        "colab_type": "code",
        "colab": {
          "base_uri": "https://localhost:8080/",
          "height": 52
        },
        "outputId": "725b75c9-a690-4263-91d6-adc0b3c21885"
      },
      "source": [
        "def k4_ctqw(t, ham):\n",
        "  graph = nx.complete_graph(4)\n",
        "  adjacency_mat = nx.adjacency_matrix(graph).toarray()\n",
        "  q1, q2 = cirq.GridQubit.rect(1,2)\n",
        "  c = cirq.Circuit()\n",
        "  if ham == \"None\":\n",
        "    hamiltonian = adjacency_mat + np.eye(4)\n",
        "    c.append(cirq.H(q1))\n",
        "    c.append(cirq.H(q2))\n",
        "    cphase00_unitary = np.eye(4, dtype=complex)\n",
        "    cphase00_unitary[0, 0] = np.exp(-4j * t)\n",
        "    cphase00_gate = cirq.MatrixGate(cphase00_unitary)\n",
        "    c.append(cphase00_gate.on(q1, q2))\n",
        "    c.append(cirq.H(q1))\n",
        "    c.append(cirq.H(q2))\n",
        "  elif ham == \"adjacency\":\n",
        "    hamiltonian = adjacency_mat\n",
        "    unitary = scipy.linalg.expm(hamiltonian * 1j * t)\n",
        "    gate = cirq.MatrixGate(unitary)\n",
        "    c.append(gate.on(q1, q2))\n",
        "  results = cirq.Simulator().simulate(c)\n",
        "  return results\n",
        "\n",
        "results = k4_ctqw(10, \"adjacency\")\n",
        "print (results)"
      ],
      "execution_count": null,
      "outputs": [
        {
          "output_type": "stream",
          "text": [
            "measurements: (no measurements)\n",
            "output vector: (-0.591+0.161j)|00⟩ + (0.248-0.383j)|01⟩ + (0.248-0.383j)|10⟩ + (0.248-0.383j)|11⟩\n"
          ],
          "name": "stdout"
        }
      ]
    },
    {
      "cell_type": "code",
      "metadata": {
        "id": "r6Vguqv-HzK9",
        "colab_type": "code",
        "colab": {
          "base_uri": "https://localhost:8080/",
          "height": 383
        },
        "outputId": "ed8caed8-42ec-4585-d234-f31ac8e0b821"
      },
      "source": [
        "def prob_vs_time_ctqw(t_range, ham):\n",
        "  final_states = np.array([k4_ctqw(t, ham).final_state for t in t_range])\n",
        "  initial_node_amp = final_states[:, 0]\n",
        "  other_node_amp = final_states[:, 1]\n",
        "  initial_node_probs = initial_node_amp * initial_node_amp.conj()\n",
        "  other_node_probs = other_node_amp * other_node_amp.conj()\n",
        "  return initial_node_probs, other_node_probs\n",
        "\n",
        "\n",
        "_, (ax1, ax2) = plt.subplots(2, sharex=True, sharey=True)\n",
        "ax1.set_title(\"Quantum\")\n",
        "ax1.set_ylabel(\"probability\")\n",
        "ax1.plot(t_range, quantum_probs[0], label=\"initial node prob\")\n",
        "ax1.plot(t_range, quantum_probs[1], label=\"other node prob\")\n",
        "ax1.legend(loc=\"center left\", bbox_to_anchor=(1, 0.5))\n",
        "ax2.set_title(\"Classical\")\n",
        "ax2.set_ylabel(\"probability\")\n",
        "ax2.set_xlabel(\"t\")\n",
        "ax2.plot(t_range, classical_probs[0], label=\"initial node prob\")\n",
        "ax2.plot(t_range, classical_probs[1], label=\"other node prob\")\n",
        "# t_range = np.arange(0, 5, 0.1)\n",
        "# quantum_probs = prob_vs_time_ctqw(t_range, \"adjacency\")\n",
        "# plt.plot(t_range, np.real(quantum_probs[0]), label=\"initial node prob\")\n",
        "# plt.plot(t_range, np.real(quantum_probs[1]), label=\"other node prob\")\n",
        "# plt.legend()\n",
        "# plt.title(\"without identity\")\n",
        "# plt.show()"
      ],
      "execution_count": null,
      "outputs": [
        {
          "output_type": "stream",
          "text": [
            "/usr/local/lib/python3.6/dist-packages/numpy/core/_asarray.py:85: ComplexWarning: Casting complex values to real discards the imaginary part\n",
            "  return array(a, dtype, copy=False, order=order)\n",
            "/usr/local/lib/python3.6/dist-packages/numpy/core/_asarray.py:85: ComplexWarning: Casting complex values to real discards the imaginary part\n",
            "  return array(a, dtype, copy=False, order=order)\n"
          ],
          "name": "stderr"
        },
        {
          "output_type": "execute_result",
          "data": {
            "text/plain": [
              "[<matplotlib.lines.Line2D at 0x7eff1310b2b0>]"
            ]
          },
          "metadata": {
            "tags": []
          },
          "execution_count": 62
        },
        {
          "output_type": "display_data",
          "data": {
            "image/png": "[encoded data removed]",
            "text/plain": [
              "<Figure size 432x288 with 2 Axes>"
            ]
          },
          "metadata": {
            "tags": []
          }
        }
      ]
    },
    {
      "cell_type": "markdown",
      "metadata": {
        "id": "1xgxmepjH6dz",
        "colab_type": "text"
      },
      "source": [
        "###Continuous time algorithms for a star graph\n"
      ]
    },
    {
      "cell_type": "code",
      "metadata": {
        "id": "bftfK6UnPMVQ",
        "colab_type": "code",
        "colab": {
          "base_uri": "https://localhost:8080/",
          "height": 301
        },
        "outputId": "8b3d36da-1c18-41fa-cf8b-c7ea146f394a"
      },
      "source": [
        "graph = nx.star_graph(7)\n",
        "nx.draw_networkx(graph)\n",
        "adjacency_mat = nx.adjacency_matrix(graph).toarray()\n",
        "stochastic_mat = adjacency_mat / np.sum(adjacency_mat, axis=0)\n",
        "\n",
        "t_range = np.arange(0, 10, 0.1)\n",
        "quantum_probs = np.zeros((len(t_range), 8))\n",
        "classical_probs = np.zeros((len(t_range), 8))\n",
        "for i, t in enumerate(t_range):\n",
        "  q1 = cirq.NamedQubit(\"q1\")\n",
        "  q2 = cirq.NamedQubit(\"q2\")\n",
        "  q3 = cirq.NamedQubit(\"q3\")\n",
        "  c = cirq.Circuit()\n",
        "  unitary = scipy.linalg.expm(1j * adjacency_mat * t)\n",
        "  gate = cirq.MatrixGate(unitary)\n",
        "  c.append(gate.on(q1, q2, q3))\n",
        "  result = cirq.Simulator().simulate(c).final_state\n",
        "  quantum_probs[i] = np.abs(result) ** 2\n",
        "\n",
        "  classical_ev = scipy.linalg.expm((stochastic_mat - np.eye(8)) * t)\n",
        "  classical_probs[i] = classical_ev[:, 0]"
      ],
      "execution_count": null,
      "outputs": [
        {
          "output_type": "stream",
          "text": [
            "/usr/local/lib/python3.6/dist-packages/networkx/drawing/nx_pylab.py:579: MatplotlibDeprecationWarning: \n",
            "The iterable function was deprecated in Matplotlib 3.1 and will be removed in 3.3. Use np.iterable instead.\n",
            "  if not cb.iterable(width):\n"
          ],
          "name": "stderr"
        },
        {
          "output_type": "display_data",
          "data": {
            "image/png": "[encoded data removed]",
            "text/plain": [
              "<Figure size 432x288 with 1 Axes>"
            ]
          },
          "metadata": {
            "tags": []
          }
        }
      ]
    },
    {
      "cell_type": "markdown",
      "metadata": {
        "id": "hf5o-7uoMiEJ",
        "colab_type": "text"
      },
      "source": [
        "####start at the center node"
      ]
    },
    {
      "cell_type": "code",
      "metadata": {
        "id": "xdlJcvJvXFoP",
        "colab_type": "code",
        "colab": {
          "base_uri": "https://localhost:8080/",
          "height": 330
        },
        "outputId": "6e869b13-1554-4d2b-e5de-d3a2510a769a"
      },
      "source": [
        "_, (ax1, ax2) = plt.subplots(2, sharex=True, sharey=True)\n",
        "ax1.set_title(\"Quantum\")\n",
        "ax1.set_ylabel(\"probability\")\n",
        "ax1.plot(t_range, quantum_probs[:, 0], label=\"0th node prob\")\n",
        "ax1.plot(t_range, quantum_probs[:, 1], label=\"other node prob\")\n",
        "ax1.legend(loc=\"center left\", bbox_to_anchor=(1, 0.5))\n",
        "ax2.set_title(\"Classical\")\n",
        "ax2.set_ylabel(\"probability\")\n",
        "ax2.set_xlabel(\"t\")\n",
        "ax2.plot(t_range, classical_probs[:, 0], label=\"0th node prob\")\n",
        "ax2.plot(t_range, classical_probs[:, 1], label=\"other node prob\")\n",
        "\n",
        "print (\"quatum case : max other node prob={:.5f}\".format(max(quantum_probs[:, 1])))\n",
        "print (\"classical case : max other node prob={:.5f}\".format(max(classical_probs[:, 1])))"
      ],
      "execution_count": null,
      "outputs": [
        {
          "output_type": "stream",
          "text": [
            "quatum case : max other node prob=0.14283\n",
            "classical case : max other node prob=0.07143\n"
          ],
          "name": "stdout"
        },
        {
          "output_type": "display_data",
          "data": {
            "image/png": "[encoded data removed]",
            "text/plain": [
              "<Figure size 432x288 with 2 Axes>"
            ]
          },
          "metadata": {
            "tags": []
          }
        }
      ]
    },
    {
      "cell_type": "markdown",
      "metadata": {
        "id": "OuR8FVJiMmWE",
        "colab_type": "text"
      },
      "source": [
        "####start at a peripheral node"
      ]
    },
    {
      "cell_type": "code",
      "metadata": {
        "id": "GUxZYbt9XvJt",
        "colab_type": "code",
        "colab": {
          "base_uri": "https://localhost:8080/",
          "height": 330
        },
        "outputId": "9850eec4-0e67-40ac-f627-e4a1f12b26ec"
      },
      "source": [
        "for i, t in enumerate(t_range):\n",
        "  q1 = cirq.NamedQubit(\"q1\")\n",
        "  q2 = cirq.NamedQubit(\"q2\")\n",
        "  q3 = cirq.NamedQubit(\"q3\")\n",
        "  c = cirq.Circuit()\n",
        "  unitary = scipy.linalg.expm(1j * adjacency_mat * t)\n",
        "  gate = cirq.MatrixGate(unitary)\n",
        "  c.append(cirq.X.on(q3))\n",
        "  c.append(gate.on(q1, q2, q3))\n",
        "  result = cirq.Simulator().simulate(c).final_state\n",
        "  quantum_probs[i] = np.abs(result) ** 2\n",
        "\n",
        "  classical_ev = scipy.linalg.expm((stochastic_mat - np.eye(8)) * t)\n",
        "  classical_probs[i] = classical_ev[:, 1]\n",
        "\n",
        "_, (ax1, ax2) = plt.subplots(2, sharex=True, sharey=True)\n",
        "ax1.set_title(\"Quantum\")\n",
        "ax1.set_ylabel(\"probability\")\n",
        "ax1.plot(t_range, quantum_probs[:, 0], label=\"0th node prob\")\n",
        "ax1.plot(t_range, quantum_probs[:, 1], label=\"initial node prob\")\n",
        "ax1.plot(t_range, quantum_probs[:, 2], label=\"other node prob\")\n",
        "ax1.legend(loc=\"center left\", bbox_to_anchor=(1, 0))\n",
        "ax2.set_title(\"Classical\")\n",
        "ax2.set_ylabel(\"probability\")\n",
        "ax2.set_xlabel(\"t\")\n",
        "ax2.plot(t_range, classical_probs[:, 0], label=\"oth node prob\")\n",
        "ax2.plot(t_range, classical_probs[:, 1], label=\"initial node prob\")\n",
        "ax2.plot(t_range, classical_probs[:, 2], label=\"other node prob\")\n",
        "\n",
        "print (\"quatum case : max other node prob={:.5f}\".format(max(quantum_probs[:, 2])))\n",
        "\n",
        "print (\"classical case : max other node prob={:.5f}\".format(max(classical_probs[:, 2])))"
      ],
      "execution_count": null,
      "outputs": [
        {
          "output_type": "stream",
          "text": [
            "quatum case : max other node prob=0.08159\n",
            "classical case : max other node prob=0.07142\n"
          ],
          "name": "stdout"
        },
        {
          "output_type": "display_data",
          "data": {
            "image/png": "[encoded data removed]",
            "text/plain": [
              "<Figure size 432x288 with 2 Axes>"
            ]
          },
          "metadata": {
            "tags": []
          }
        }
      ]
    },
    {
      "cell_type": "markdown",
      "metadata": {
        "id": "tNZOfdzzPCBI",
        "colab_type": "text"
      },
      "source": [
        "##References"
      ]
    },
    {
      "cell_type": "markdown",
      "metadata": {
        "id": "ZaXGFjDaPg2u",
        "colab_type": "text"
      },
      "source": [
        "[\"Quantum walks and search algorithms\" by R. Portugal](https://link.springer.com/book/10.1007/978-1-4614-6336-8)\n",
        "\n",
        "[\"Quantum Computing: An Applied Approach\" by J. Hidary](https://www.springer.com/gp/book/9783030239213)"
      ]
    },
    {
      "cell_type": "code",
      "metadata": {
        "id": "k5VZqsa1jXPA",
        "colab_type": "code",
        "colab": {}
      },
      "source": [
        ""
      ],
      "execution_count": null,
      "outputs": []
    }
  ]
}