{
  "nbformat": 4,
  "nbformat_minor": 0,
  "metadata": {
    "colab": {
      "name": "Lecture 2 and 3.ipynb",
      "provenance": [],
      "collapsed_sections": [
        "RE5XOOIYdBqA",
        "ji30A83cdKx9",
        "AJ5xbsXYZ0qU",
        "eNokP3VjjJ8x",
        "ET8UFY3-kVJm",
        "axFJPQPQVLzd",
        "qnP40BjLZqAa",
        "1OFzpKx528Nk",
        "VDp1poBTiKz4",
        "YTrkBZJNiiP5",
        "Fnv7DDlqRGpL",
        "tPEZBrwxQ7CA",
        "WnaYt9rp71e_"
      ],
      "include_colab_link": true
    },
    "kernelspec": {
      "name": "python3",
      "display_name": "Python 3"
    }
  },
  "cells": [
    {
      "cell_type": "markdown",
      "metadata": {
        "id": "view-in-github",
        "colab_type": "text"
      },
      "source": [
        "<a href=\"https://colab.research.google.com/github/ddinesan/Manga/blob/master/Lecture_2_and_3.ipynb\" target=\"_parent\"><img src=\"https://colab.research.google.com/assets/colab-badge.svg\" alt=\"Open In Colab\"/></a>"
      ]
    },
    {
      "cell_type": "markdown",
      "metadata": {
        "id": "nviN2YTfzcbf",
        "colab_type": "text"
      },
      "source": [
        "#**Lectures 2 & 3: Basics of Quantum Computing**\n",
        "\n",
        "This is a worksheet prepared by Nadine Stritzelberger for Lectures 2 and 3 of the reading course \"Introduction to Quantum Computer Programming\" (AMATH 900/ AMATH 495/ QIC 895) at the University of Waterloo.\n",
        "\n",
        "Course Webpage: https://sites.google.com/view/quantum-computer-programming\n",
        "\n",
        "Text followed in the course: [Quantum Computing, An Applied Approach](https://www.springer.com/gp/book/9783030239213) by Jack D. Hidary (2019)\n",
        "\n",
        "In this notebook we will use Cirq to demonstrate some of the basics of Quantum Computing (e.g. qubits, superpositions, entanglement, gates, measurements, Bloch sphere representation, etc.).\n",
        "This notebook is in large parts based on [this notebook](https://colab.research.google.com/drive/1mrDPc0HSBxgD_-wwif_gUGriM3VTNYoy#scrollTo=rPqVUsD9snYf&forceEdit=true&sandboxMode=true) by Stefan Leichenauer and others and the [Cirq documentation](https://readthedocs.org/projects/cirq/downloads/pdf/latest/).\n"
      ]
    },
    {
      "cell_type": "markdown",
      "metadata": {
        "id": "RE5XOOIYdBqA",
        "colab_type": "text"
      },
      "source": [
        "## Installing and importing Cirq"
      ]
    },
    {
      "cell_type": "markdown",
      "metadata": {
        "id": "qV0T6nZplvV2",
        "colab_type": "text"
      },
      "source": [
        "First of all, we need to install the Python library Cirq:"
      ]
    },
    {
      "cell_type": "code",
      "metadata": {
        "id": "XTkF6Wz_yV4O",
        "colab_type": "code",
        "colab": {
          "base_uri": "https://localhost:8080/",
          "height": 636
        },
        "outputId": "2547b190-213f-4979-edf0-56565783636b"
      },
      "source": [
        "!pip install cirq"
      ],
      "execution_count": null,
      "outputs": [
        {
          "output_type": "stream",
          "text": [
            "Requirement already satisfied: cirq in /usr/local/lib/python3.6/dist-packages (0.6.0)\n",
            "Requirement already satisfied: protobuf==3.8.0 in /usr/local/lib/python3.6/dist-packages (from cirq) (3.8.0)\n",
            "Requirement already satisfied: sortedcontainers~=2.0 in /usr/local/lib/python3.6/dist-packages (from cirq) (2.1.0)\n",
            "Requirement already satisfied: sympy in /usr/local/lib/python3.6/dist-packages (from cirq) (1.1.1)\n",
            "Requirement already satisfied: networkx==2.3 in /usr/local/lib/python3.6/dist-packages (from cirq) (2.3)\n",
            "Requirement already satisfied: google-api-python-client~=1.6 in /usr/local/lib/python3.6/dist-packages (from cirq) (1.7.11)\n",
            "Requirement already satisfied: pandas in /usr/local/lib/python3.6/dist-packages (from cirq) (0.25.3)\n",
            "Requirement already satisfied: matplotlib~=3.0 in /usr/local/lib/python3.6/dist-packages (from cirq) (3.1.2)\n",
            "Requirement already satisfied: numpy~=1.16 in /usr/local/lib/python3.6/dist-packages (from cirq) (1.17.5)\n",
            "Requirement already satisfied: scipy in /usr/local/lib/python3.6/dist-packages (from cirq) (1.4.1)\n",
            "Requirement already satisfied: requests~=2.18 in /usr/local/lib/python3.6/dist-packages (from cirq) (2.21.0)\n",
            "Requirement already satisfied: dataclasses; python_version < \"3.7\" in /usr/local/lib/python3.6/dist-packages (from cirq) (0.7)\n",
            "Requirement already satisfied: typing-extensions in /usr/local/lib/python3.6/dist-packages (from cirq) (3.6.6)\n",
            "Requirement already satisfied: setuptools in /usr/local/lib/python3.6/dist-packages (from protobuf==3.8.0->cirq) (42.0.2)\n",
            "Requirement already satisfied: six>=1.9 in /usr/local/lib/python3.6/dist-packages (from protobuf==3.8.0->cirq) (1.12.0)\n",
            "Requirement already satisfied: mpmath>=0.19 in /usr/local/lib/python3.6/dist-packages (from sympy->cirq) (1.1.0)\n",
            "Requirement already satisfied: decorator>=4.3.0 in /usr/local/lib/python3.6/dist-packages (from networkx==2.3->cirq) (4.4.1)\n",
            "Requirement already satisfied: google-auth>=1.4.1 in /usr/local/lib/python3.6/dist-packages (from google-api-python-client~=1.6->cirq) (1.4.2)\n",
            "Requirement already satisfied: httplib2<1dev,>=0.9.2 in /usr/local/lib/python3.6/dist-packages (from google-api-python-client~=1.6->cirq) (0.11.3)\n",
            "Requirement already satisfied: google-auth-httplib2>=0.0.3 in /usr/local/lib/python3.6/dist-packages (from google-api-python-client~=1.6->cirq) (0.0.3)\n",
            "Requirement already satisfied: uritemplate<4dev,>=3.0.0 in /usr/local/lib/python3.6/dist-packages (from google-api-python-client~=1.6->cirq) (3.0.1)\n",
            "Requirement already satisfied: python-dateutil>=2.6.1 in /usr/local/lib/python3.6/dist-packages (from pandas->cirq) (2.6.1)\n",
            "Requirement already satisfied: pytz>=2017.2 in /usr/local/lib/python3.6/dist-packages (from pandas->cirq) (2018.9)\n",
            "Requirement already satisfied: cycler>=0.10 in /usr/local/lib/python3.6/dist-packages (from matplotlib~=3.0->cirq) (0.10.0)\n",
            "Requirement already satisfied: pyparsing!=2.0.4,!=2.1.2,!=2.1.6,>=2.0.1 in /usr/local/lib/python3.6/dist-packages (from matplotlib~=3.0->cirq) (2.4.6)\n",
            "Requirement already satisfied: kiwisolver>=1.0.1 in /usr/local/lib/python3.6/dist-packages (from matplotlib~=3.0->cirq) (1.1.0)\n",
            "Requirement already satisfied: idna<2.9,>=2.5 in /usr/local/lib/python3.6/dist-packages (from requests~=2.18->cirq) (2.8)\n",
            "Requirement already satisfied: chardet<3.1.0,>=3.0.2 in /usr/local/lib/python3.6/dist-packages (from requests~=2.18->cirq) (3.0.4)\n",
            "Requirement already satisfied: certifi>=2017.4.17 in /usr/local/lib/python3.6/dist-packages (from requests~=2.18->cirq) (2019.11.28)\n",
            "Requirement already satisfied: urllib3<1.25,>=1.21.1 in /usr/local/lib/python3.6/dist-packages (from requests~=2.18->cirq) (1.24.3)\n",
            "Requirement already satisfied: cachetools>=2.0.0 in /usr/local/lib/python3.6/dist-packages (from google-auth>=1.4.1->google-api-python-client~=1.6->cirq) (4.0.0)\n",
            "Requirement already satisfied: rsa>=3.1.4 in /usr/local/lib/python3.6/dist-packages (from google-auth>=1.4.1->google-api-python-client~=1.6->cirq) (4.0)\n",
            "Requirement already satisfied: pyasn1-modules>=0.2.1 in /usr/local/lib/python3.6/dist-packages (from google-auth>=1.4.1->google-api-python-client~=1.6->cirq) (0.2.7)\n",
            "Requirement already satisfied: pyasn1>=0.1.3 in /usr/local/lib/python3.6/dist-packages (from rsa>=3.1.4->google-auth>=1.4.1->google-api-python-client~=1.6->cirq) (0.4.8)\n"
          ],
          "name": "stdout"
        }
      ]
    },
    {
      "cell_type": "markdown",
      "metadata": {
        "id": "ePBnn45savq3",
        "colab_type": "text"
      },
      "source": [
        "Now let's import Cirq: "
      ]
    },
    {
      "cell_type": "code",
      "metadata": {
        "id": "gp0h1OkUzBxu",
        "colab_type": "code",
        "colab": {}
      },
      "source": [
        "import cirq\n",
        "import numpy as np\n",
        "import matplotlib\n",
        "\n",
        "# Here Evan defined a utility function to print circuits nicely (see Lecture 1)\n",
        "from cirq.contrib.svg import circuit_to_svg\n",
        "from IPython.display import SVG, display\n",
        "import os\n",
        "\n",
        "def cprint(circuit):\n",
        "  \"\"\"Convert the cirq.Circuit to a temp svg and display + garbage collect.\"\"\"\n",
        "  with open(\"temp.svg\", 'w+') as f:\n",
        "    f.write(circuit_to_svg(circuit))\n",
        "  display(SVG('temp.svg'))\n",
        "  os.remove('temp.svg')"
      ],
      "execution_count": null,
      "outputs": []
    },
    {
      "cell_type": "markdown",
      "metadata": {
        "id": "cDAU1G2cdOBN",
        "colab_type": "text"
      },
      "source": [
        "We can now assume that Cirq has been imported throughout the rest of this notebook."
      ]
    },
    {
      "cell_type": "markdown",
      "metadata": {
        "id": "ji30A83cdKx9",
        "colab_type": "text"
      },
      "source": [
        "## Circuits, Moments and Operations"
      ]
    },
    {
      "cell_type": "markdown",
      "metadata": {
        "id": "kBUtvw2odIaE",
        "colab_type": "text"
      },
      "source": [
        "* In Cirq, a circuit is represented by a `Circuit` object\n",
        "* A `Circuit` is a collection of `Moment` objects\n",
        "* A `Moment` is a collection of `Operation`s that all act during the same time slice (i.e. `Operation`s appearing on the same vertical line constitute a Moment)\n",
        "* An `Operation` is a an effect that operates on a specific subset of Qubits. \n",
        "\n",
        "![Circuits, Moments, and Operations.](https://cirq.readthedocs.io/en/latest/_images/CircuitMomentOperation.png)\n"
      ]
    },
    {
      "cell_type": "markdown",
      "metadata": {
        "id": "AJ5xbsXYZ0qU",
        "colab_type": "text"
      },
      "source": [
        "## Qubits \n",
        "\n",
        "The first thing we do when building a circuit is pick some qubits to use. "
      ]
    },
    {
      "cell_type": "markdown",
      "metadata": {
        "id": "YfOGqblARsie",
        "colab_type": "text"
      },
      "source": [
        "Qubits (and other quantum objects) are identified by instances of subclasses of the `cirq.Qid` base class (Quantum id base class). \n",
        "These subclasses simply identify what you wish to operate on. Different subclasses of the `Qid` class can be used for different purposes. \n",
        "\n",
        "E.g. the subclass `cirq.NamedQubit` allows us to define some abstract qubits simply identified by a name such as \"a\":"
      ]
    },
    {
      "cell_type": "code",
      "metadata": {
        "id": "1hXraZq7SIdk",
        "colab_type": "code",
        "colab": {
          "base_uri": "https://localhost:8080/",
          "height": 35
        },
        "outputId": "41f97610-0022-42e2-a710-393e6cf711e3"
      },
      "source": [
        "a = cirq.NamedQubit(\"a\")\n",
        "b = cirq.NamedQubit(\"b\")\n",
        "c = cirq.NamedQubit(\"c\")\n",
        "qubits=[a, b, c]\n",
        "print(qubits)"
      ],
      "execution_count": null,
      "outputs": [
        {
          "output_type": "stream",
          "text": [
            "[cirq.NamedQubit('a'), cirq.NamedQubit('b'), cirq.NamedQubit('c')]\n"
          ],
          "name": "stdout"
        }
      ]
    },
    {
      "cell_type": "markdown",
      "metadata": {
        "id": "XTAtZumlb410",
        "colab_type": "text"
      },
      "source": [
        "The subclass `cirq.LineQubit` allows us to define a line of qubits of specified length:"
      ]
    },
    {
      "cell_type": "code",
      "metadata": {
        "id": "bjg20RVmbz0C",
        "colab_type": "code",
        "colab": {
          "base_uri": "https://localhost:8080/",
          "height": 35
        },
        "outputId": "d6cfae22-0c0b-45e1-baf9-d6ec5c562964"
      },
      "source": [
        "line = cirq.LineQubit.range(5)\n",
        "print(line)"
      ],
      "execution_count": null,
      "outputs": [
        {
          "output_type": "stream",
          "text": [
            "[cirq.LineQubit(0), cirq.LineQubit(1), cirq.LineQubit(2), cirq.LineQubit(3), cirq.LineQubit(4)]\n"
          ],
          "name": "stdout"
        }
      ]
    },
    {
      "cell_type": "markdown",
      "metadata": {
        "id": "MK4pgOtIS4pU",
        "colab_type": "text"
      },
      "source": [
        "The qubits that Google's Xmon devices use are often arranged on the vertices of a square grid. We use the subclass `cirq.GridQubit` to create e.g. a $2\\times 2$ grid of qubits:"
      ]
    },
    {
      "cell_type": "code",
      "metadata": {
        "id": "lSNHEj5KFoT8",
        "colab_type": "code",
        "colab": {
          "base_uri": "https://localhost:8080/",
          "height": 52
        },
        "outputId": "5eca56a2-a695-45d3-9f57-9aef117c8205"
      },
      "source": [
        "# Define the length of the grid\n",
        "length = 2\n",
        "# Define the qubits on the grid\n",
        "qubits = [cirq.GridQubit(x, y) for x in range(length) for y in range(length)]\n",
        "# Print the first qubit\n",
        "print(qubits[0])\n",
        "# Print all qubits\n",
        "print(qubits)"
      ],
      "execution_count": null,
      "outputs": [
        {
          "output_type": "stream",
          "text": [
            "(0, 0)\n",
            "[cirq.GridQubit(0, 0), cirq.GridQubit(0, 1), cirq.GridQubit(1, 0), cirq.GridQubit(1, 1)]\n"
          ],
          "name": "stdout"
        }
      ]
    },
    {
      "cell_type": "markdown",
      "metadata": {
        "id": "SlODiOwPTgZV",
        "colab_type": "text"
      },
      "source": [
        "We might want to create a circuit for the Bristlecone device (72 qubits) by Google:\n",
        "\n",
        "![Google's Bristecone chip](https://4.bp.blogspot.com/-b9akad6ismU/WpmyaJo-cYI/AAAAAAAACa8/mCqPBJxv5oUivy6Jq42FSOQYkeRlTmkiwCLcBGAs/s1600/image1.png)\n",
        "\n",
        "To see what the qubit architecture of the Bristlecone chip looks like, we can print out a diagram (a grid of qubits) of the device: "
      ]
    },
    {
      "cell_type": "code",
      "metadata": {
        "id": "9bE-M2j3TnZN",
        "colab_type": "code",
        "colab": {
          "base_uri": "https://localhost:8080/",
          "height": 563
        },
        "outputId": "057e7b62-b8aa-4bf8-c0a1-2f95d8e90325"
      },
      "source": [
        "print(cirq.google.Bristlecone)"
      ],
      "execution_count": null,
      "outputs": [
        {
          "output_type": "stream",
          "text": [
            "                                             (0, 5)────(0, 6)\n",
            "                                             │         │\n",
            "                                             │         │\n",
            "                                    (1, 4)───(1, 5)────(1, 6)────(1, 7)\n",
            "                                    │        │         │         │\n",
            "                                    │        │         │         │\n",
            "                           (2, 3)───(2, 4)───(2, 5)────(2, 6)────(2, 7)───(2, 8)\n",
            "                           │        │        │         │         │        │\n",
            "                           │        │        │         │         │        │\n",
            "                  (3, 2)───(3, 3)───(3, 4)───(3, 5)────(3, 6)────(3, 7)───(3, 8)───(3, 9)\n",
            "                  │        │        │        │         │         │        │        │\n",
            "                  │        │        │        │         │         │        │        │\n",
            "         (4, 1)───(4, 2)───(4, 3)───(4, 4)───(4, 5)────(4, 6)────(4, 7)───(4, 8)───(4, 9)───(4, 10)\n",
            "         │        │        │        │        │         │         │        │        │        │\n",
            "         │        │        │        │        │         │         │        │        │        │\n",
            "(5, 0)───(5, 1)───(5, 2)───(5, 3)───(5, 4)───(5, 5)────(5, 6)────(5, 7)───(5, 8)───(5, 9)───(5, 10)───(5, 11)\n",
            "         │        │        │        │        │         │         │        │        │        │\n",
            "         │        │        │        │        │         │         │        │        │        │\n",
            "         (6, 1)───(6, 2)───(6, 3)───(6, 4)───(6, 5)────(6, 6)────(6, 7)───(6, 8)───(6, 9)───(6, 10)\n",
            "                  │        │        │        │         │         │        │        │\n",
            "                  │        │        │        │         │         │        │        │\n",
            "                  (7, 2)───(7, 3)───(7, 4)───(7, 5)────(7, 6)────(7, 7)───(7, 8)───(7, 9)\n",
            "                           │        │        │         │         │        │\n",
            "                           │        │        │         │         │        │\n",
            "                           (8, 3)───(8, 4)───(8, 5)────(8, 6)────(8, 7)───(8, 8)\n",
            "                                    │        │         │         │\n",
            "                                    │        │         │         │\n",
            "                                    (9, 4)───(9, 5)────(9, 6)────(9, 7)\n",
            "                                             │         │\n",
            "                                             │         │\n",
            "                                             (10, 5)───(10, 6)\n"
          ],
          "name": "stdout"
        }
      ]
    },
    {
      "cell_type": "markdown",
      "metadata": {
        "id": "io6SX84jU0st",
        "colab_type": "text"
      },
      "source": [
        "We again use the subclass `cirq.GridQubit` and write e.g. `cirq.GridQubit(5, 0)` to refer to the qubit in the left most position of the device:"
      ]
    },
    {
      "cell_type": "code",
      "metadata": {
        "id": "IIuhou65UbOA",
        "colab_type": "code",
        "colab": {
          "base_uri": "https://localhost:8080/",
          "height": 35
        },
        "outputId": "93cd47ba-a851-44e9-aa68-55864dc9a6e8"
      },
      "source": [
        "print(cirq.GridQubit(5,0))"
      ],
      "execution_count": null,
      "outputs": [
        {
          "output_type": "stream",
          "text": [
            "(5, 0)\n"
          ],
          "name": "stdout"
        }
      ]
    },
    {
      "cell_type": "markdown",
      "metadata": {
        "id": "aV_nR2yAe9Cw",
        "colab_type": "text"
      },
      "source": [
        "Here is a diagram of another Google chip (Foxtail) with 22 Xmon qubits:"
      ]
    },
    {
      "cell_type": "code",
      "metadata": {
        "id": "7CYCLbh3eyZ-",
        "colab_type": "code",
        "colab": {
          "base_uri": "https://localhost:8080/",
          "height": 88
        },
        "outputId": "cfbc8f1d-f1b0-426c-e7ba-75c6018520dc"
      },
      "source": [
        "print(cirq.google.Foxtail)"
      ],
      "execution_count": null,
      "outputs": [
        {
          "output_type": "stream",
          "text": [
            "(0, 0)───(0, 1)───(0, 2)───(0, 3)───(0, 4)───(0, 5)───(0, 6)───(0, 7)───(0, 8)───(0, 9)───(0, 10)\n",
            "│        │        │        │        │        │        │        │        │        │        │\n",
            "│        │        │        │        │        │        │        │        │        │        │\n",
            "(1, 0)───(1, 1)───(1, 2)───(1, 3)───(1, 4)───(1, 5)───(1, 6)───(1, 7)───(1, 8)───(1, 9)───(1, 10)\n"
          ],
          "name": "stdout"
        }
      ]
    },
    {
      "cell_type": "markdown",
      "metadata": {
        "id": "gmh7kUwRhpTs",
        "colab_type": "text"
      },
      "source": [
        "To create a qudit named ‘q’ (e.g. a qutrit with dimension 3), we specify the dimension as follows:"
      ]
    },
    {
      "cell_type": "code",
      "metadata": {
        "id": "699J3PcMh755",
        "colab_type": "code",
        "colab": {
          "base_uri": "https://localhost:8080/",
          "height": 35
        },
        "outputId": "3f9ec29d-e750-4ffb-e4d5-48d9cb734030"
      },
      "source": [
        "q = cirq.NamedQubit('q').with_dimension(3)\n",
        "print(q)"
      ],
      "execution_count": null,
      "outputs": [
        {
          "output_type": "stream",
          "text": [
            "q (d=3)\n"
          ],
          "name": "stdout"
        }
      ]
    },
    {
      "cell_type": "markdown",
      "metadata": {
        "id": "eNokP3VjjJ8x",
        "colab_type": "text"
      },
      "source": [
        "##Operations and Gates\n",
        "\n",
        "Next we need some operations to apply to our qubits. "
      ]
    },
    {
      "cell_type": "markdown",
      "metadata": {
        "id": "lxAEr5u6b63B",
        "colab_type": "text"
      },
      "source": [
        "In Cirq, we distinguish between `Operation`s and `Gate`s :\n",
        "\n",
        "*   An `Operation` is associated with specific qubits and can be put in a `Circuit`.\n",
        "*   A `Gate` object has unspecified qubits. When applied to qubits, a `Gate` object will produce an `Operation`, more specifically a `GateOperation` (which is the most common type of `Operation`). `Gate` objects are instantiations of the `Gate` class.\n",
        "\n",
        "*Example:* \n",
        "* `cirq.H` is a gate object (which is an instance of the `HGate` class, which is a subclass of the `Gate` class)\n",
        "* `cirq.H(qubit)` is an operation.\n",
        "\n",
        "\n",
        "Cirq comes with lots of different gates --- here are a few of them:"
      ]
    },
    {
      "cell_type": "code",
      "metadata": {
        "id": "9noim7ppzM6I",
        "colab_type": "code",
        "colab": {
          "base_uri": "https://localhost:8080/",
          "height": 239
        },
        "outputId": "09b11e1f-2bea-4be2-bc92-7f133b743a61"
      },
      "source": [
        "q0, q1, q2 = cirq.LineQubit.range(3)\n",
        "ops = [\n",
        "    cirq.X(q0),\n",
        "    cirq.Y(q1),\n",
        "    cirq.Z(q2),\n",
        "    cirq.CZ(q0,q1),\n",
        "    cirq.CNOT(q1,q2),\n",
        "    cirq.H(q0),\n",
        "    cirq.T(q1),\n",
        "    cirq.S(q2),\n",
        "    cirq.CCZ(q0, q1, q2),\n",
        "    cirq.SWAP(q0, q1),\n",
        "    cirq.CSWAP(q0, q1, q2),\n",
        "    cirq.CCX(q0, q1, q2),\n",
        "    cirq.ISWAP(q0, q1),\n",
        "    cirq.Rx(0.5 * np.pi)(q0),\n",
        "    cirq.Ry(.5 * np.pi)(q1),\n",
        "    cirq.Rz(0.5 * np.pi)(q2),\n",
        "    (cirq.X**0.5)(q0),\n",
        "]\n",
        "cprint(cirq.Circuit(*ops))"
      ],
      "execution_count": null,
      "outputs": [
        {
          "output_type": "stream",
          "text": [
            "findfont: Font family ['Arial'] not found. Falling back to DejaVu Sans.\n"
          ],
          "name": "stderr"
        },
        {
          "output_type": "display_data",
          "data": {
            "text/plain": [
              "<IPython.core.display.SVG object>"
            ],
            "image/svg+xml": "<svg height=\"180\" width=\"825.1156250000001\"><line stroke=\"black\" stroke-width=\"1\" x1=\"30.0\" x2=\"795.1156250000001\" y1=\"25.0\" y2=\"25.0\"/><line stroke=\"black\" stroke-width=\"1\" x1=\"30.0\" x2=\"795.1156250000001\" y1=\"85.0\" y2=\"85.0\"/><line stroke=\"black\" stroke-width=\"1\" x1=\"30.0\" x2=\"795.1156250000001\" y1=\"145.0\" y2=\"145.0\"/><line stroke=\"black\" stroke-width=\"3\" x1=\"150.0\" x2=\"150.0\" y1=\"25.0\" y2=\"85.0\"/><line stroke=\"black\" stroke-width=\"3\" x1=\"210.0\" x2=\"210.0\" y1=\"85.0\" y2=\"145.0\"/><line stroke=\"black\" stroke-width=\"3\" x1=\"330.0\" x2=\"330.0\" y1=\"25.0\" y2=\"145.0\"/><line stroke=\"black\" stroke-width=\"3\" x1=\"390.0\" x2=\"390.0\" y1=\"25.0\" y2=\"85.0\"/><line stroke=\"black\" stroke-width=\"3\" x1=\"450.0\" x2=\"450.0\" y1=\"25.0\" y2=\"145.0\"/><line stroke=\"black\" stroke-width=\"3\" x1=\"510.0\" x2=\"510.0\" y1=\"25.0\" y2=\"145.0\"/><line stroke=\"black\" stroke-width=\"3\" x1=\"583.05837890625\" x2=\"583.05837890625\" y1=\"25.0\" y2=\"85.0\"/><rect fill=\"white\" height=\"40\" stroke=\"black\" stroke-width=\"0\" width=\"40\" x=\"10.0\" y=\"5.0\"/><text dominant-baseline=\"middle\" font-size=\"14px\" text-anchor=\"middle\" x=\"30.0\" y=\"25.0\">0: </text><rect fill=\"white\" height=\"40\" stroke=\"black\" stroke-width=\"0\" width=\"40\" x=\"10.0\" y=\"65.0\"/><text dominant-baseline=\"middle\" font-size=\"14px\" text-anchor=\"middle\" x=\"30.0\" y=\"85.0\">1: </text><rect fill=\"white\" height=\"40\" stroke=\"black\" stroke-width=\"0\" width=\"40\" x=\"10.0\" y=\"125.0\"/><text dominant-baseline=\"middle\" font-size=\"14px\" text-anchor=\"middle\" x=\"30.0\" y=\"145.0\">2: </text><rect fill=\"white\" height=\"40\" stroke=\"black\" stroke-width=\"1\" width=\"40\" x=\"70.0\" y=\"5.0\"/><text dominant-baseline=\"middle\" font-size=\"18px\" text-anchor=\"middle\" x=\"90.0\" y=\"25.0\">X</text><rect fill=\"white\" height=\"40\" stroke=\"black\" stroke-width=\"1\" width=\"40\" x=\"70.0\" y=\"65.0\"/><text dominant-baseline=\"middle\" font-size=\"18px\" text-anchor=\"middle\" x=\"90.0\" y=\"85.0\">Y</text><rect fill=\"white\" height=\"40\" stroke=\"black\" stroke-width=\"1\" width=\"40\" x=\"70.0\" y=\"125.0\"/><text dominant-baseline=\"middle\" font-size=\"18px\" text-anchor=\"middle\" x=\"90.0\" y=\"145.0\">Z</text><circle cx=\"150.0\" cy=\"25.0\" r=\"10.0\"/><circle cx=\"150.0\" cy=\"85.0\" r=\"10.0\"/><circle cx=\"210.0\" cy=\"85.0\" r=\"10.0\"/><rect fill=\"white\" height=\"40\" stroke=\"black\" stroke-width=\"1\" width=\"40\" x=\"190.0\" y=\"125.0\"/><text dominant-baseline=\"middle\" font-size=\"18px\" text-anchor=\"middle\" x=\"210.0\" y=\"145.0\">X</text><rect fill=\"white\" height=\"40\" stroke=\"black\" stroke-width=\"1\" width=\"40\" x=\"190.0\" y=\"5.0\"/><text dominant-baseline=\"middle\" font-size=\"18px\" text-anchor=\"middle\" x=\"210.0\" y=\"25.0\">H</text><rect fill=\"white\" height=\"40\" stroke=\"black\" stroke-width=\"1\" width=\"40\" x=\"250.0\" y=\"65.0\"/><text dominant-baseline=\"middle\" font-size=\"18px\" text-anchor=\"middle\" x=\"270.0\" y=\"85.0\">T</text><rect fill=\"white\" height=\"40\" stroke=\"black\" stroke-width=\"1\" width=\"40\" x=\"250.0\" y=\"125.0\"/><text dominant-baseline=\"middle\" font-size=\"18px\" text-anchor=\"middle\" x=\"270.0\" y=\"145.0\">S</text><circle cx=\"330.0\" cy=\"25.0\" r=\"10.0\"/><circle cx=\"330.0\" cy=\"85.0\" r=\"10.0\"/><circle cx=\"330.0\" cy=\"145.0\" r=\"10.0\"/><text dominant-baseline=\"middle\" font-size=\"40px\" text-anchor=\"middle\" x=\"390.0\" y=\"28.0\">×</text><text dominant-baseline=\"middle\" font-size=\"40px\" text-anchor=\"middle\" x=\"390.0\" y=\"88.0\">×</text><circle cx=\"450.0\" cy=\"25.0\" r=\"10.0\"/><text dominant-baseline=\"middle\" font-size=\"40px\" text-anchor=\"middle\" x=\"450.0\" y=\"88.0\">×</text><text dominant-baseline=\"middle\" font-size=\"40px\" text-anchor=\"middle\" x=\"450.0\" y=\"148.0\">×</text><circle cx=\"510.0\" cy=\"25.0\" r=\"10.0\"/><circle cx=\"510.0\" cy=\"85.0\" r=\"10.0\"/><rect fill=\"white\" height=\"40\" stroke=\"black\" stroke-width=\"1\" width=\"40\" x=\"490.0\" y=\"125.0\"/><text dominant-baseline=\"middle\" font-size=\"18px\" text-anchor=\"middle\" x=\"510.0\" y=\"145.0\">X</text><rect fill=\"white\" height=\"40\" stroke=\"black\" stroke-width=\"1\" width=\"49.6087890625\" x=\"558.2539843750001\" y=\"5.0\"/><text dominant-baseline=\"middle\" font-size=\"14px\" text-anchor=\"middle\" x=\"583.05837890625\" y=\"25.0\">iSwap</text><rect fill=\"white\" height=\"40\" stroke=\"black\" stroke-width=\"1\" width=\"49.6087890625\" x=\"558.2539843750001\" y=\"65.0\"/><text dominant-baseline=\"middle\" font-size=\"14px\" text-anchor=\"middle\" x=\"583.05837890625\" y=\"85.0\">iSwap</text><rect fill=\"white\" height=\"40\" stroke=\"black\" stroke-width=\"1\" width=\"66.1167578125\" x=\"550.0\" y=\"125.0\"/><text dominant-baseline=\"middle\" font-size=\"14px\" text-anchor=\"middle\" x=\"583.05837890625\" y=\"145.0\">Rz(0.5π)</text><rect fill=\"white\" height=\"40\" stroke=\"black\" stroke-width=\"1\" width=\"67.05328125\" x=\"636.1167578125\" y=\"5.0\"/><text dominant-baseline=\"middle\" font-size=\"14px\" text-anchor=\"middle\" x=\"669.6433984375001\" y=\"25.0\">Rx(0.5π)</text><rect fill=\"white\" height=\"40\" stroke=\"black\" stroke-width=\"1\" width=\"67.04234375000001\" x=\"636.1222265625\" y=\"65.0\"/><text dominant-baseline=\"middle\" font-size=\"14px\" text-anchor=\"middle\" x=\"669.6433984375001\" y=\"85.0\">Ry(0.5π)</text><rect fill=\"white\" height=\"40\" stroke=\"black\" stroke-width=\"1\" width=\"51.945585937500006\" x=\"723.1700390625001\" y=\"5.0\"/><text dominant-baseline=\"middle\" font-size=\"14px\" text-anchor=\"middle\" x=\"749.1428320312501\" y=\"25.0\">X^0.5</text></svg>"
          },
          "metadata": {
            "tags": []
          }
        }
      ]
    },
    {
      "cell_type": "markdown",
      "metadata": {
        "id": "WzJ1XzrJjphj",
        "colab_type": "text"
      },
      "source": [
        "For each of these gates, calling `cirq.unitary` on the gate will tell you how it acts on the computational basis.  For example for the Controlled NOT gate,\n",
        "$ \\,\n",
        "CNOT \n",
        "= \n",
        "\\begin{pmatrix}\n",
        "1&0&0&0\\\\\n",
        "0&1&0&0\\\\\n",
        "0&0&0&1\\\\\n",
        "0&0&1&0\n",
        "\\end{pmatrix} \\,\\,$, \n",
        "and the Hadamard gate, \n",
        "$\\,\n",
        "H \n",
        "= \n",
        "\\tfrac{1}{\\sqrt{2}}\n",
        "\\begin{pmatrix}\n",
        "1&1\\\\\n",
        "1&-1\n",
        "\\end{pmatrix}\\,$, we get the following:"
      ]
    },
    {
      "cell_type": "code",
      "metadata": {
        "id": "hloiPJDXjqVG",
        "colab_type": "code",
        "colab": {
          "base_uri": "https://localhost:8080/",
          "height": 196
        },
        "outputId": "dbc99f3b-3a00-4a3e-cba1-64e62109f0ea"
      },
      "source": [
        "print('CNOT =')\n",
        "print(cirq.unitary(cirq.CNOT))\n",
        "print('\\nH =')\n",
        "print(cirq.unitary(cirq.H))"
      ],
      "execution_count": null,
      "outputs": [
        {
          "output_type": "stream",
          "text": [
            "CNOT =\n",
            "[[1.+0.j 0.+0.j 0.+0.j 0.+0.j]\n",
            " [0.+0.j 1.+0.j 0.+0.j 0.+0.j]\n",
            " [0.+0.j 0.+0.j 0.+0.j 1.+0.j]\n",
            " [0.+0.j 0.+0.j 1.+0.j 0.+0.j]]\n",
            "\n",
            "H =\n",
            "[[ 0.70710678+0.j  0.70710678+0.j]\n",
            " [ 0.70710678+0.j -0.70710678+0.j]]\n"
          ],
          "name": "stdout"
        }
      ]
    },
    {
      "cell_type": "markdown",
      "metadata": {
        "id": "1p-uJBGoiR2N",
        "colab_type": "text"
      },
      "source": [
        " There are two ways to apply a gate onto qubits. E.g., we can apply the Hadamard gate `H`  onto a qubit `a` \n",
        "\n",
        "1.  using the `on` method:  `cirq.H.on(a)`\n",
        "\n",
        "2.  calling the gate directly on the qubit (as if the gate was a function and the qubits were arguments): `cirq.H(a)`"
      ]
    },
    {
      "cell_type": "markdown",
      "metadata": {
        "id": "ET8UFY3-kVJm",
        "colab_type": "text"
      },
      "source": [
        "##Measurements\n",
        "\n",
        "*Measurements* are another type of `Operation`. We can measure a qubit in the computational basis via `cirq.measure()`. For example:"
      ]
    },
    {
      "cell_type": "code",
      "metadata": {
        "id": "-tAKMDF1kiWF",
        "colab_type": "code",
        "colab": {
          "base_uri": "https://localhost:8080/",
          "height": 101
        },
        "outputId": "04502ed8-56e4-42c5-a069-11e9a9ddc43c"
      },
      "source": [
        "m = [cirq.H(q0), cirq.measure(q0)]\n",
        "cprint(cirq.Circuit(*m))"
      ],
      "execution_count": null,
      "outputs": [
        {
          "output_type": "display_data",
          "data": {
            "text/plain": [
              "<IPython.core.display.SVG object>"
            ],
            "image/svg+xml": "<svg height=\"60\" width=\"220.0\"><line stroke=\"black\" stroke-width=\"1\" x1=\"30.0\" x2=\"190.0\" y1=\"25.0\" y2=\"25.0\"/><rect fill=\"white\" height=\"40\" stroke=\"black\" stroke-width=\"0\" width=\"40\" x=\"10.0\" y=\"5.0\"/><text dominant-baseline=\"middle\" font-size=\"14px\" text-anchor=\"middle\" x=\"30.0\" y=\"25.0\">0: </text><rect fill=\"white\" height=\"40\" stroke=\"black\" stroke-width=\"1\" width=\"40\" x=\"70.0\" y=\"5.0\"/><text dominant-baseline=\"middle\" font-size=\"18px\" text-anchor=\"middle\" x=\"90.0\" y=\"25.0\">H</text><rect fill=\"white\" height=\"40\" stroke=\"black\" stroke-width=\"1\" width=\"40\" x=\"130.0\" y=\"5.0\"/><text dominant-baseline=\"middle\" font-size=\"18px\" text-anchor=\"middle\" x=\"150.0\" y=\"25.0\">M</text></svg>"
          },
          "metadata": {
            "tags": []
          }
        }
      ]
    },
    {
      "cell_type": "markdown",
      "metadata": {
        "id": "axFJPQPQVLzd",
        "colab_type": "text"
      },
      "source": [
        "## Creating a Circuit\n",
        "\n",
        "There are different ways to create a circuit. \n",
        "1.   `from_ops` or `(*ops)`: This is the simplest way to make a circuit. This method takes a collection of `Operation`s and outputs a `Circuit`:"
      ]
    },
    {
      "cell_type": "code",
      "metadata": {
        "id": "XPEHFE8-hPPA",
        "colab_type": "code",
        "colab": {
          "base_uri": "https://localhost:8080/",
          "height": 239
        },
        "outputId": "8d9f9645-48a8-48a2-e7c9-a8ac28ed93d3"
      },
      "source": [
        "a = cirq.NamedQubit(\"a\")\n",
        "b = cirq.NamedQubit(\"b\")\n",
        "c = cirq.NamedQubit(\"c\")\n",
        "ops = [cirq.H(a), cirq.H(b), cirq.CNOT(b, c), cirq.H(b)]\n",
        "circuit = cirq.Circuit(*ops)\n",
        "cprint(circuit)"
      ],
      "execution_count": null,
      "outputs": [
        {
          "output_type": "stream",
          "text": [
            "findfont: Font family ['Arial'] not found. Falling back to DejaVu Sans.\n"
          ],
          "name": "stderr"
        },
        {
          "output_type": "display_data",
          "data": {
            "text/plain": [
              "<IPython.core.display.SVG object>"
            ],
            "image/svg+xml": "<svg height=\"180\" width=\"280.0\"><line stroke=\"black\" stroke-width=\"1\" x1=\"30.0\" x2=\"250.0\" y1=\"25.0\" y2=\"25.0\"/><line stroke=\"black\" stroke-width=\"1\" x1=\"30.0\" x2=\"250.0\" y1=\"85.0\" y2=\"85.0\"/><line stroke=\"black\" stroke-width=\"1\" x1=\"30.0\" x2=\"250.0\" y1=\"145.0\" y2=\"145.0\"/><line stroke=\"black\" stroke-width=\"3\" x1=\"150.0\" x2=\"150.0\" y1=\"85.0\" y2=\"145.0\"/><rect fill=\"white\" height=\"40\" stroke=\"black\" stroke-width=\"0\" width=\"40\" x=\"10.0\" y=\"5.0\"/><text dominant-baseline=\"middle\" font-size=\"14px\" text-anchor=\"middle\" x=\"30.0\" y=\"25.0\">a: </text><rect fill=\"white\" height=\"40\" stroke=\"black\" stroke-width=\"0\" width=\"40\" x=\"10.0\" y=\"65.0\"/><text dominant-baseline=\"middle\" font-size=\"14px\" text-anchor=\"middle\" x=\"30.0\" y=\"85.0\">b: </text><rect fill=\"white\" height=\"40\" stroke=\"black\" stroke-width=\"0\" width=\"40\" x=\"10.0\" y=\"125.0\"/><text dominant-baseline=\"middle\" font-size=\"14px\" text-anchor=\"middle\" x=\"30.0\" y=\"145.0\">c: </text><rect fill=\"white\" height=\"40\" stroke=\"black\" stroke-width=\"1\" width=\"40\" x=\"70.0\" y=\"5.0\"/><text dominant-baseline=\"middle\" font-size=\"18px\" text-anchor=\"middle\" x=\"90.0\" y=\"25.0\">H</text><rect fill=\"white\" height=\"40\" stroke=\"black\" stroke-width=\"1\" width=\"40\" x=\"70.0\" y=\"65.0\"/><text dominant-baseline=\"middle\" font-size=\"18px\" text-anchor=\"middle\" x=\"90.0\" y=\"85.0\">H</text><circle cx=\"150.0\" cy=\"85.0\" r=\"10.0\"/><rect fill=\"white\" height=\"40\" stroke=\"black\" stroke-width=\"1\" width=\"40\" x=\"130.0\" y=\"125.0\"/><text dominant-baseline=\"middle\" font-size=\"18px\" text-anchor=\"middle\" x=\"150.0\" y=\"145.0\">X</text><rect fill=\"white\" height=\"40\" stroke=\"black\" stroke-width=\"1\" width=\"40\" x=\"190.0\" y=\"65.0\"/><text dominant-baseline=\"middle\" font-size=\"18px\" text-anchor=\"middle\" x=\"210.0\" y=\"85.0\">H</text></svg>"
          },
          "metadata": {
            "tags": []
          }
        }
      ]
    },
    {
      "cell_type": "markdown",
      "metadata": {
        "id": "VKc_9k23hBjB",
        "colab_type": "text"
      },
      "source": [
        "In this example code we print the circuit as a text diagram.\n",
        "A `Circuit` is made up of a sequence of `Moment` objects and each `Moment` is made up of `Operation`s.\n",
        "To see this internal structure, we can iterate over the `Moment`s in the `Circuit` while printing them out:"
      ]
    },
    {
      "cell_type": "code",
      "metadata": {
        "id": "aSku6MjwhC2w",
        "colab_type": "code",
        "colab": {
          "base_uri": "https://localhost:8080/",
          "height": 90
        },
        "outputId": "bd35b267-aa15-4bed-8bdf-fac1308cbf12"
      },
      "source": [
        "for i, moment in enumerate(circuit):\n",
        "    print('Moment {}: {}'.format(i, moment))"
      ],
      "execution_count": null,
      "outputs": [
        {
          "output_type": "stream",
          "text": [
            "Moment 0: H(a) and H(b)\n",
            "Moment 1: CNOT(b, c)\n",
            "Moment 2: H(b)\n"
          ],
          "name": "stdout"
        }
      ]
    },
    {
      "cell_type": "markdown",
      "metadata": {
        "id": "-g3wkdBzhdw8",
        "colab_type": "text"
      },
      "source": [
        "We can also just print the circuit's representation `repr` :"
      ]
    },
    {
      "cell_type": "code",
      "metadata": {
        "id": "JhbiCVDdhiM0",
        "colab_type": "code",
        "colab": {
          "base_uri": "https://localhost:8080/",
          "height": 248
        },
        "outputId": "fbb79243-26d4-4105-ee63-71c6051ddbc0"
      },
      "source": [
        "print(repr(circuit))"
      ],
      "execution_count": null,
      "outputs": [
        {
          "output_type": "stream",
          "text": [
            "cirq.Circuit([\n",
            "    cirq.Moment(operations=[\n",
            "        cirq.H.on(cirq.NamedQubit('a')),\n",
            "        cirq.H.on(cirq.NamedQubit('b')),\n",
            "    ]),\n",
            "    cirq.Moment(operations=[\n",
            "        cirq.CNOT.on(cirq.NamedQubit('b'), cirq.NamedQubit('c')),\n",
            "    ]),\n",
            "    cirq.Moment(operations=[\n",
            "        cirq.H.on(cirq.NamedQubit('b')),\n",
            "    ]),\n",
            "])\n"
          ],
          "name": "stdout"
        }
      ]
    },
    {
      "cell_type": "markdown",
      "metadata": {
        "id": "vN903oQdv83v",
        "colab_type": "text"
      },
      "source": [
        "\n",
        "2.  `append`:  Another way to create a circuit is to start with an empty circuit `c = cirq.Circuit()` and simply `c.append(operations)` to add on more and more operations:"
      ]
    },
    {
      "cell_type": "code",
      "metadata": {
        "id": "I4cklzN0iIuX",
        "colab_type": "code",
        "colab": {
          "base_uri": "https://localhost:8080/",
          "height": 221
        },
        "outputId": "bf6106f3-2e59-4656-f1af-be44c6a6348b"
      },
      "source": [
        "circuit = cirq.Circuit()\n",
        "circuit.append([cirq.H(a), cirq.CNOT(b,c), cirq.X(a), cirq.H(b), cirq.CZ(b,c)])\n",
        "cprint(circuit)"
      ],
      "execution_count": null,
      "outputs": [
        {
          "output_type": "display_data",
          "data": {
            "text/plain": [
              "<IPython.core.display.SVG object>"
            ],
            "image/svg+xml": "<svg height=\"180\" width=\"280.0\"><line stroke=\"black\" stroke-width=\"1\" x1=\"30.0\" x2=\"250.0\" y1=\"25.0\" y2=\"25.0\"/><line stroke=\"black\" stroke-width=\"1\" x1=\"30.0\" x2=\"250.0\" y1=\"85.0\" y2=\"85.0\"/><line stroke=\"black\" stroke-width=\"1\" x1=\"30.0\" x2=\"250.0\" y1=\"145.0\" y2=\"145.0\"/><line stroke=\"black\" stroke-width=\"3\" x1=\"90.0\" x2=\"90.0\" y1=\"85.0\" y2=\"145.0\"/><line stroke=\"black\" stroke-width=\"3\" x1=\"210.0\" x2=\"210.0\" y1=\"85.0\" y2=\"145.0\"/><rect fill=\"white\" height=\"40\" stroke=\"black\" stroke-width=\"0\" width=\"40\" x=\"10.0\" y=\"5.0\"/><text dominant-baseline=\"middle\" font-size=\"14px\" text-anchor=\"middle\" x=\"30.0\" y=\"25.0\">a: </text><rect fill=\"white\" height=\"40\" stroke=\"black\" stroke-width=\"0\" width=\"40\" x=\"10.0\" y=\"65.0\"/><text dominant-baseline=\"middle\" font-size=\"14px\" text-anchor=\"middle\" x=\"30.0\" y=\"85.0\">b: </text><rect fill=\"white\" height=\"40\" stroke=\"black\" stroke-width=\"0\" width=\"40\" x=\"10.0\" y=\"125.0\"/><text dominant-baseline=\"middle\" font-size=\"14px\" text-anchor=\"middle\" x=\"30.0\" y=\"145.0\">c: </text><rect fill=\"white\" height=\"40\" stroke=\"black\" stroke-width=\"1\" width=\"40\" x=\"70.0\" y=\"5.0\"/><text dominant-baseline=\"middle\" font-size=\"18px\" text-anchor=\"middle\" x=\"90.0\" y=\"25.0\">H</text><circle cx=\"90.0\" cy=\"85.0\" r=\"10.0\"/><rect fill=\"white\" height=\"40\" stroke=\"black\" stroke-width=\"1\" width=\"40\" x=\"70.0\" y=\"125.0\"/><text dominant-baseline=\"middle\" font-size=\"18px\" text-anchor=\"middle\" x=\"90.0\" y=\"145.0\">X</text><rect fill=\"white\" height=\"40\" stroke=\"black\" stroke-width=\"1\" width=\"40\" x=\"130.0\" y=\"5.0\"/><text dominant-baseline=\"middle\" font-size=\"18px\" text-anchor=\"middle\" x=\"150.0\" y=\"25.0\">X</text><rect fill=\"white\" height=\"40\" stroke=\"black\" stroke-width=\"1\" width=\"40\" x=\"130.0\" y=\"65.0\"/><text dominant-baseline=\"middle\" font-size=\"18px\" text-anchor=\"middle\" x=\"150.0\" y=\"85.0\">H</text><circle cx=\"210.0\" cy=\"85.0\" r=\"10.0\"/><circle cx=\"210.0\" cy=\"145.0\" r=\"10.0\"/></svg>"
          },
          "metadata": {
            "tags": []
          }
        }
      ]
    },
    {
      "cell_type": "markdown",
      "metadata": {
        "id": "haPmISqesdJr",
        "colab_type": "text"
      },
      "source": [
        "3. `insert`:  Instead of appending, you can insert before a particular moment location (labeled by an integer index):"
      ]
    },
    {
      "cell_type": "code",
      "metadata": {
        "id": "YH--N4NclWh6",
        "colab_type": "code",
        "colab": {
          "base_uri": "https://localhost:8080/",
          "height": 221
        },
        "outputId": "90cdae5e-fccc-40c4-ce89-a512e0323b4b"
      },
      "source": [
        "circuit.insert(1, cirq.H(c))\n",
        "cprint(circuit)"
      ],
      "execution_count": null,
      "outputs": [
        {
          "output_type": "display_data",
          "data": {
            "text/plain": [
              "<IPython.core.display.SVG object>"
            ],
            "image/svg+xml": "<svg height=\"180\" width=\"280.0\"><line stroke=\"black\" stroke-width=\"1\" x1=\"30.0\" x2=\"250.0\" y1=\"25.0\" y2=\"25.0\"/><line stroke=\"black\" stroke-width=\"1\" x1=\"30.0\" x2=\"250.0\" y1=\"85.0\" y2=\"85.0\"/><line stroke=\"black\" stroke-width=\"1\" x1=\"30.0\" x2=\"250.0\" y1=\"145.0\" y2=\"145.0\"/><line stroke=\"black\" stroke-width=\"3\" x1=\"90.0\" x2=\"90.0\" y1=\"85.0\" y2=\"145.0\"/><line stroke=\"black\" stroke-width=\"3\" x1=\"210.0\" x2=\"210.0\" y1=\"85.0\" y2=\"145.0\"/><rect fill=\"white\" height=\"40\" stroke=\"black\" stroke-width=\"0\" width=\"40\" x=\"10.0\" y=\"5.0\"/><text dominant-baseline=\"middle\" font-size=\"14px\" text-anchor=\"middle\" x=\"30.0\" y=\"25.0\">a: </text><rect fill=\"white\" height=\"40\" stroke=\"black\" stroke-width=\"0\" width=\"40\" x=\"10.0\" y=\"65.0\"/><text dominant-baseline=\"middle\" font-size=\"14px\" text-anchor=\"middle\" x=\"30.0\" y=\"85.0\">b: </text><rect fill=\"white\" height=\"40\" stroke=\"black\" stroke-width=\"0\" width=\"40\" x=\"10.0\" y=\"125.0\"/><text dominant-baseline=\"middle\" font-size=\"14px\" text-anchor=\"middle\" x=\"30.0\" y=\"145.0\">c: </text><rect fill=\"white\" height=\"40\" stroke=\"black\" stroke-width=\"1\" width=\"40\" x=\"70.0\" y=\"5.0\"/><text dominant-baseline=\"middle\" font-size=\"18px\" text-anchor=\"middle\" x=\"90.0\" y=\"25.0\">H</text><circle cx=\"90.0\" cy=\"85.0\" r=\"10.0\"/><rect fill=\"white\" height=\"40\" stroke=\"black\" stroke-width=\"1\" width=\"40\" x=\"70.0\" y=\"125.0\"/><text dominant-baseline=\"middle\" font-size=\"18px\" text-anchor=\"middle\" x=\"90.0\" y=\"145.0\">X</text><rect fill=\"white\" height=\"40\" stroke=\"black\" stroke-width=\"1\" width=\"40\" x=\"130.0\" y=\"5.0\"/><text dominant-baseline=\"middle\" font-size=\"18px\" text-anchor=\"middle\" x=\"150.0\" y=\"25.0\">X</text><rect fill=\"white\" height=\"40\" stroke=\"black\" stroke-width=\"1\" width=\"40\" x=\"130.0\" y=\"65.0\"/><text dominant-baseline=\"middle\" font-size=\"18px\" text-anchor=\"middle\" x=\"150.0\" y=\"85.0\">H</text><rect fill=\"white\" height=\"40\" stroke=\"black\" stroke-width=\"1\" width=\"40\" x=\"130.0\" y=\"125.0\"/><text dominant-baseline=\"middle\" font-size=\"18px\" text-anchor=\"middle\" x=\"150.0\" y=\"145.0\">H</text><circle cx=\"210.0\" cy=\"85.0\" r=\"10.0\"/><circle cx=\"210.0\" cy=\"145.0\" r=\"10.0\"/></svg>"
          },
          "metadata": {
            "tags": []
          }
        }
      ]
    },
    {
      "cell_type": "markdown",
      "metadata": {
        "id": "mAXPGTTNskIB",
        "colab_type": "text"
      },
      "source": [
        "4.  By using `Circuit`'s constructor, which takes a list of `Moment`s. Each `Moment` must be explicitly constructed with its own list of `Operation`s. This gives complete control over how the operations are layed out:\n"
      ]
    },
    {
      "cell_type": "code",
      "metadata": {
        "id": "qUdPH8a-ldKU",
        "colab_type": "code",
        "colab": {
          "base_uri": "https://localhost:8080/",
          "height": 274
        },
        "outputId": "f82e05fd-a30b-4768-f95a-14ca2353adad"
      },
      "source": [
        "# Define some Operations\n",
        "cz01 = cirq.CZ(a, b)\n",
        "cz12 = cirq.CZ(b, c)\n",
        "x2 = cirq.X(c)\n",
        "h0 = cirq.H(a)\n",
        "h2 = cirq.H(c)\n",
        "# Define some Moments\n",
        "moment0 = cirq.Moment([cz01, x2])\n",
        "moment1 = cirq.Moment([cz12])\n",
        "moment2 = cirq.Moment([h0, h2])\n",
        "print('1st Moment: ',moment0)\n",
        "print('2nd Moment: ',moment1)\n",
        "print('3rd Moment: ',moment2)\n",
        "# Define a Circuit by combining all Moments togeteher\n",
        "circuit = cirq.Circuit((moment0, moment1, moment2))\n",
        "cprint(circuit)"
      ],
      "execution_count": null,
      "outputs": [
        {
          "output_type": "stream",
          "text": [
            "1st Moment:  CZ(a, b) and X(c)\n",
            "2nd Moment:  CZ(b, c)\n",
            "3rd Moment:  H(a) and H(c)\n"
          ],
          "name": "stdout"
        },
        {
          "output_type": "display_data",
          "data": {
            "text/plain": [
              "<IPython.core.display.SVG object>"
            ],
            "image/svg+xml": "<svg height=\"180\" width=\"280.0\"><line stroke=\"black\" stroke-width=\"1\" x1=\"30.0\" x2=\"250.0\" y1=\"25.0\" y2=\"25.0\"/><line stroke=\"black\" stroke-width=\"1\" x1=\"30.0\" x2=\"250.0\" y1=\"85.0\" y2=\"85.0\"/><line stroke=\"black\" stroke-width=\"1\" x1=\"30.0\" x2=\"250.0\" y1=\"145.0\" y2=\"145.0\"/><line stroke=\"black\" stroke-width=\"3\" x1=\"90.0\" x2=\"90.0\" y1=\"25.0\" y2=\"85.0\"/><line stroke=\"black\" stroke-width=\"3\" x1=\"150.0\" x2=\"150.0\" y1=\"85.0\" y2=\"145.0\"/><rect fill=\"white\" height=\"40\" stroke=\"black\" stroke-width=\"0\" width=\"40\" x=\"10.0\" y=\"5.0\"/><text dominant-baseline=\"middle\" font-size=\"14px\" text-anchor=\"middle\" x=\"30.0\" y=\"25.0\">a: </text><rect fill=\"white\" height=\"40\" stroke=\"black\" stroke-width=\"0\" width=\"40\" x=\"10.0\" y=\"65.0\"/><text dominant-baseline=\"middle\" font-size=\"14px\" text-anchor=\"middle\" x=\"30.0\" y=\"85.0\">b: </text><rect fill=\"white\" height=\"40\" stroke=\"black\" stroke-width=\"0\" width=\"40\" x=\"10.0\" y=\"125.0\"/><text dominant-baseline=\"middle\" font-size=\"14px\" text-anchor=\"middle\" x=\"30.0\" y=\"145.0\">c: </text><circle cx=\"90.0\" cy=\"25.0\" r=\"10.0\"/><circle cx=\"90.0\" cy=\"85.0\" r=\"10.0\"/><rect fill=\"white\" height=\"40\" stroke=\"black\" stroke-width=\"1\" width=\"40\" x=\"70.0\" y=\"125.0\"/><text dominant-baseline=\"middle\" font-size=\"18px\" text-anchor=\"middle\" x=\"90.0\" y=\"145.0\">X</text><circle cx=\"150.0\" cy=\"85.0\" r=\"10.0\"/><circle cx=\"150.0\" cy=\"145.0\" r=\"10.0\"/><rect fill=\"white\" height=\"40\" stroke=\"black\" stroke-width=\"1\" width=\"40\" x=\"190.0\" y=\"5.0\"/><text dominant-baseline=\"middle\" font-size=\"18px\" text-anchor=\"middle\" x=\"210.0\" y=\"25.0\">H</text><rect fill=\"white\" height=\"40\" stroke=\"black\" stroke-width=\"1\" width=\"40\" x=\"190.0\" y=\"125.0\"/><text dominant-baseline=\"middle\" font-size=\"18px\" text-anchor=\"middle\" x=\"210.0\" y=\"145.0\">H</text></svg>"
          },
          "metadata": {
            "tags": []
          }
        }
      ]
    },
    {
      "cell_type": "markdown",
      "metadata": {
        "id": "qnP40BjLZqAa",
        "colab_type": "text"
      },
      "source": [
        "## Simulating a Circuit"
      ]
    },
    {
      "cell_type": "markdown",
      "metadata": {
        "id": "Jy1wcKfjiuGB",
        "colab_type": "text"
      },
      "source": [
        "Now that we know how to construct a `Circuit`, let's use Cirq to simulate one. We can create a simulator with `cirq.Simulator()`. In Cirq, simulators make a distinction between a “run” and a “simulation”:\n",
        "\n",
        "*   The “run” method mimics the actual quantum hardware. \n",
        "*   “Simulate” commands are more broad and allow different forms of simulation. For example, it allows us to access the amplitudes of the wave function of the system, even though the wave function is not experimentally accessible. When prototyping small circuits, it is useful to execute “simulate” methods."
      ]
    },
    {
      "cell_type": "markdown",
      "metadata": {
        "id": "yHTUQCuSKznq",
        "colab_type": "text"
      },
      "source": [
        "### Example 1: Bell state\n",
        "\n",
        "As an example, let us now create the basic circuit which we encountered in Lecture 2, which entangles two qubits to create a Bell state. After creating the circuit and a simulator, we can \"run\" a simulation of the circuit and thereby simulate an actual measurement outcome:"
      ]
    },
    {
      "cell_type": "code",
      "metadata": {
        "id": "t2x6tRskFLNz",
        "colab_type": "code",
        "colab": {
          "base_uri": "https://localhost:8080/",
          "height": 176
        },
        "outputId": "19c3f89a-72d8-450a-d62c-ffb789bf5975"
      },
      "source": [
        "# Define two qubits and some operations\n",
        "q0 = cirq.NamedQubit(\"q0\")\n",
        "q1 = cirq.NamedQubit(\"q1\")\n",
        "ops = [cirq.H(q0), cirq.CNOT(q0,q1), cirq.measure(q0,q1)]\n",
        "\n",
        "# Define a basic circuit\n",
        "circuit = cirq.Circuit(*ops)\n",
        "cprint(circuit)\n",
        "\n",
        "# Define a simulator\n",
        "simulator = cirq.Simulator()\n",
        "\n",
        "# Run a simulation and print the measurement results:\n",
        "result = simulator.run(circuit)\n",
        "print('\\nMeasurement results: ',result)"
      ],
      "execution_count": null,
      "outputs": [
        {
          "output_type": "display_data",
          "data": {
            "text/plain": [
              "<IPython.core.display.SVG object>"
            ],
            "image/svg+xml": "<svg height=\"120\" width=\"280.0\"><line stroke=\"black\" stroke-width=\"1\" x1=\"30.0\" x2=\"250.0\" y1=\"25.0\" y2=\"25.0\"/><line stroke=\"black\" stroke-width=\"1\" x1=\"30.0\" x2=\"250.0\" y1=\"85.0\" y2=\"85.0\"/><line stroke=\"black\" stroke-width=\"3\" x1=\"150.0\" x2=\"150.0\" y1=\"25.0\" y2=\"85.0\"/><line stroke=\"black\" stroke-width=\"3\" x1=\"210.0\" x2=\"210.0\" y1=\"25.0\" y2=\"85.0\"/><rect fill=\"white\" height=\"40\" stroke=\"black\" stroke-width=\"0\" width=\"40\" x=\"10.0\" y=\"5.0\"/><text dominant-baseline=\"middle\" font-size=\"14px\" text-anchor=\"middle\" x=\"30.0\" y=\"25.0\">q0: </text><rect fill=\"white\" height=\"40\" stroke=\"black\" stroke-width=\"0\" width=\"40\" x=\"10.0\" y=\"65.0\"/><text dominant-baseline=\"middle\" font-size=\"14px\" text-anchor=\"middle\" x=\"30.0\" y=\"85.0\">q1: </text><rect fill=\"white\" height=\"40\" stroke=\"black\" stroke-width=\"1\" width=\"40\" x=\"70.0\" y=\"5.0\"/><text dominant-baseline=\"middle\" font-size=\"18px\" text-anchor=\"middle\" x=\"90.0\" y=\"25.0\">H</text><circle cx=\"150.0\" cy=\"25.0\" r=\"10.0\"/><rect fill=\"white\" height=\"40\" stroke=\"black\" stroke-width=\"1\" width=\"40\" x=\"130.0\" y=\"65.0\"/><text dominant-baseline=\"middle\" font-size=\"18px\" text-anchor=\"middle\" x=\"150.0\" y=\"85.0\">X</text><rect fill=\"white\" height=\"40\" stroke=\"black\" stroke-width=\"1\" width=\"40\" x=\"190.0\" y=\"5.0\"/><text dominant-baseline=\"middle\" font-size=\"18px\" text-anchor=\"middle\" x=\"210.0\" y=\"25.0\">M</text><rect fill=\"white\" height=\"40\" stroke=\"black\" stroke-width=\"1\" width=\"40\" x=\"190.0\" y=\"65.0\"/><text dominant-baseline=\"middle\" font-size=\"18px\" text-anchor=\"middle\" x=\"210.0\" y=\"85.0\">M</text></svg>"
          },
          "metadata": {
            "tags": []
          }
        },
        {
          "output_type": "stream",
          "text": [
            "\n",
            "Measurement results:  q0,q1=1, 1\n"
          ],
          "name": "stdout"
        }
      ]
    },
    {
      "cell_type": "markdown",
      "metadata": {
        "id": "l2uzD2CZi2yY",
        "colab_type": "text"
      },
      "source": [
        "The `run` method mimics the actual hardware -- it doesn't give us access to unphysical objects like the wavefunction. If we want to know what the wave function looks like, we use the `simulate` methods:\n"
      ]
    },
    {
      "cell_type": "code",
      "metadata": {
        "id": "tbrFZ2iSI9Uq",
        "colab_type": "code",
        "colab": {
          "base_uri": "https://localhost:8080/",
          "height": 247
        },
        "outputId": "4a72b44f-4749-423a-faba-2bbd1e8222cd"
      },
      "source": [
        "q0 = cirq.NamedQubit(\"q0\")\n",
        "q1 = cirq.NamedQubit(\"q1\")\n",
        "ops = [cirq.H(q0), cirq.CNOT(q0,q1)]\n",
        "\n",
        "# Define a basic Circuit\n",
        "circuit = cirq.Circuit(*ops)\n",
        "cprint(circuit)\n",
        "\n",
        "# Define a simulator\n",
        "simulator = cirq.Simulator()\n",
        "\n",
        "# Simulate the circuit\n",
        "result = simulator.simulate(circuit)\n",
        "\n",
        "print('\\nWavefunction:')\n",
        "print(np.around(result.final_state, 3))\n",
        "print('\\nDirac notation:')\n",
        "print(result.dirac_notation())"
      ],
      "execution_count": null,
      "outputs": [
        {
          "output_type": "display_data",
          "data": {
            "text/plain": [
              "<IPython.core.display.SVG object>"
            ],
            "image/svg+xml": "<svg height=\"120\" width=\"220.0\"><line stroke=\"black\" stroke-width=\"1\" x1=\"30.0\" x2=\"190.0\" y1=\"25.0\" y2=\"25.0\"/><line stroke=\"black\" stroke-width=\"1\" x1=\"30.0\" x2=\"190.0\" y1=\"85.0\" y2=\"85.0\"/><line stroke=\"black\" stroke-width=\"3\" x1=\"150.0\" x2=\"150.0\" y1=\"25.0\" y2=\"85.0\"/><rect fill=\"white\" height=\"40\" stroke=\"black\" stroke-width=\"0\" width=\"40\" x=\"10.0\" y=\"5.0\"/><text dominant-baseline=\"middle\" font-size=\"14px\" text-anchor=\"middle\" x=\"30.0\" y=\"25.0\">q0: </text><rect fill=\"white\" height=\"40\" stroke=\"black\" stroke-width=\"0\" width=\"40\" x=\"10.0\" y=\"65.0\"/><text dominant-baseline=\"middle\" font-size=\"14px\" text-anchor=\"middle\" x=\"30.0\" y=\"85.0\">q1: </text><rect fill=\"white\" height=\"40\" stroke=\"black\" stroke-width=\"1\" width=\"40\" x=\"70.0\" y=\"5.0\"/><text dominant-baseline=\"middle\" font-size=\"18px\" text-anchor=\"middle\" x=\"90.0\" y=\"25.0\">H</text><circle cx=\"150.0\" cy=\"25.0\" r=\"10.0\"/><rect fill=\"white\" height=\"40\" stroke=\"black\" stroke-width=\"1\" width=\"40\" x=\"130.0\" y=\"65.0\"/><text dominant-baseline=\"middle\" font-size=\"18px\" text-anchor=\"middle\" x=\"150.0\" y=\"85.0\">X</text></svg>"
          },
          "metadata": {
            "tags": []
          }
        },
        {
          "output_type": "stream",
          "text": [
            "\n",
            "Wavefunction:\n",
            "[ 0.707+0.j  0.   +0.j -0.   +0.j  0.707+0.j]\n",
            "\n",
            "Dirac notation:\n",
            "0.71|00⟩ + 0.71|11⟩\n"
          ],
          "name": "stdout"
        }
      ]
    },
    {
      "cell_type": "markdown",
      "metadata": {
        "id": "03AcKkElFFX7",
        "colab_type": "text"
      },
      "source": [
        "### Example 2: \n",
        "\n",
        "Here is another simple circuit and a \"simulation\", as well as a \"run\", of the circuit:\n"
      ]
    },
    {
      "cell_type": "code",
      "metadata": {
        "id": "XDe5RB95i5KE",
        "colab_type": "code",
        "colab": {
          "base_uri": "https://localhost:8080/",
          "height": 441
        },
        "outputId": "8b859c96-1189-4850-b018-6ed38ef5b420"
      },
      "source": [
        "sqrt_x = cirq.X**0.5\n",
        "print('X**0.5 =\\n',cirq.unitary(sqrt_x),'\\n')\n",
        "ops = [sqrt_x(a), sqrt_x(b), cirq.CZ(a,b), sqrt_x(a), sqrt_x(b)]    \n",
        "\n",
        "# Define a circuit from the Operations ops\n",
        "circuit = cirq.Circuit(*ops)\n",
        "cprint(circuit)\n",
        "\n",
        "# Define a simulator \n",
        "simulator = cirq.Simulator()\n",
        "\n",
        "# Simulate the circuit\n",
        "result = simulator.simulate(circuit, qubit_order=[a, b])\n",
        "\n",
        "print('\\nWavefunction:',np.around(result.final_state, 3))\n",
        "print('Dirac notation:',result.dirac_notation(),'\\n')\n",
        "\n",
        "# Run a simulation and print the measurement results\n",
        "circuit.append(cirq.measure(a,b))\n",
        "cprint(circuit)\n",
        "result = simulator.run(circuit)\n",
        "print('\\nMeasurement results: ',result)"
      ],
      "execution_count": null,
      "outputs": [
        {
          "output_type": "stream",
          "text": [
            "X**0.5 =\n",
            " [[0.5+0.5j 0.5-0.5j]\n",
            " [0.5-0.5j 0.5+0.5j]] \n",
            "\n"
          ],
          "name": "stdout"
        },
        {
          "output_type": "display_data",
          "data": {
            "text/plain": [
              "<IPython.core.display.SVG object>"
            ],
            "image/svg+xml": "<svg height=\"120\" width=\"303.891171875\"><line stroke=\"black\" stroke-width=\"1\" x1=\"30.0\" x2=\"273.891171875\" y1=\"25.0\" y2=\"25.0\"/><line stroke=\"black\" stroke-width=\"1\" x1=\"30.0\" x2=\"273.891171875\" y1=\"85.0\" y2=\"85.0\"/><line stroke=\"black\" stroke-width=\"3\" x1=\"161.9455859375\" x2=\"161.9455859375\" y1=\"25.0\" y2=\"85.0\"/><rect fill=\"white\" height=\"40\" stroke=\"black\" stroke-width=\"0\" width=\"40\" x=\"10.0\" y=\"5.0\"/><text dominant-baseline=\"middle\" font-size=\"14px\" text-anchor=\"middle\" x=\"30.0\" y=\"25.0\">a: </text><rect fill=\"white\" height=\"40\" stroke=\"black\" stroke-width=\"0\" width=\"40\" x=\"10.0\" y=\"65.0\"/><text dominant-baseline=\"middle\" font-size=\"14px\" text-anchor=\"middle\" x=\"30.0\" y=\"85.0\">b: </text><rect fill=\"white\" height=\"40\" stroke=\"black\" stroke-width=\"1\" width=\"51.945585937500006\" x=\"70.0\" y=\"5.0\"/><text dominant-baseline=\"middle\" font-size=\"14px\" text-anchor=\"middle\" x=\"95.97279296875\" y=\"25.0\">X^0.5</text><rect fill=\"white\" height=\"40\" stroke=\"black\" stroke-width=\"1\" width=\"51.945585937500006\" x=\"70.0\" y=\"65.0\"/><text dominant-baseline=\"middle\" font-size=\"14px\" text-anchor=\"middle\" x=\"95.97279296875\" y=\"85.0\">X^0.5</text><circle cx=\"161.9455859375\" cy=\"25.0\" r=\"10.0\"/><circle cx=\"161.9455859375\" cy=\"85.0\" r=\"10.0\"/><rect fill=\"white\" height=\"40\" stroke=\"black\" stroke-width=\"1\" width=\"51.945585937500006\" x=\"201.94558593749997\" y=\"5.0\"/><text dominant-baseline=\"middle\" font-size=\"14px\" text-anchor=\"middle\" x=\"227.91837890624998\" y=\"25.0\">X^0.5</text><rect fill=\"white\" height=\"40\" stroke=\"black\" stroke-width=\"1\" width=\"51.945585937500006\" x=\"201.94558593749997\" y=\"65.0\"/><text dominant-baseline=\"middle\" font-size=\"14px\" text-anchor=\"middle\" x=\"227.91837890624998\" y=\"85.0\">X^0.5</text></svg>"
          },
          "metadata": {
            "tags": []
          }
        },
        {
          "output_type": "stream",
          "text": [
            "\n",
            "Wavefunction: [0.5+0.j  0. +0.5j 0. +0.5j 0.5+0.j ]\n",
            "Dirac notation: 0.5|00⟩ + 0.5j|01⟩ + 0.5j|10⟩ + 0.5|11⟩ \n",
            "\n"
          ],
          "name": "stdout"
        },
        {
          "output_type": "display_data",
          "data": {
            "text/plain": [
              "<IPython.core.display.SVG object>"
            ],
            "image/svg+xml": "<svg height=\"120\" width=\"363.891171875\"><line stroke=\"black\" stroke-width=\"1\" x1=\"30.0\" x2=\"333.891171875\" y1=\"25.0\" y2=\"25.0\"/><line stroke=\"black\" stroke-width=\"1\" x1=\"30.0\" x2=\"333.891171875\" y1=\"85.0\" y2=\"85.0\"/><line stroke=\"black\" stroke-width=\"3\" x1=\"161.9455859375\" x2=\"161.9455859375\" y1=\"25.0\" y2=\"85.0\"/><line stroke=\"black\" stroke-width=\"3\" x1=\"293.891171875\" x2=\"293.891171875\" y1=\"25.0\" y2=\"85.0\"/><rect fill=\"white\" height=\"40\" stroke=\"black\" stroke-width=\"0\" width=\"40\" x=\"10.0\" y=\"5.0\"/><text dominant-baseline=\"middle\" font-size=\"14px\" text-anchor=\"middle\" x=\"30.0\" y=\"25.0\">a: </text><rect fill=\"white\" height=\"40\" stroke=\"black\" stroke-width=\"0\" width=\"40\" x=\"10.0\" y=\"65.0\"/><text dominant-baseline=\"middle\" font-size=\"14px\" text-anchor=\"middle\" x=\"30.0\" y=\"85.0\">b: </text><rect fill=\"white\" height=\"40\" stroke=\"black\" stroke-width=\"1\" width=\"51.945585937500006\" x=\"70.0\" y=\"5.0\"/><text dominant-baseline=\"middle\" font-size=\"14px\" text-anchor=\"middle\" x=\"95.97279296875\" y=\"25.0\">X^0.5</text><rect fill=\"white\" height=\"40\" stroke=\"black\" stroke-width=\"1\" width=\"51.945585937500006\" x=\"70.0\" y=\"65.0\"/><text dominant-baseline=\"middle\" font-size=\"14px\" text-anchor=\"middle\" x=\"95.97279296875\" y=\"85.0\">X^0.5</text><circle cx=\"161.9455859375\" cy=\"25.0\" r=\"10.0\"/><circle cx=\"161.9455859375\" cy=\"85.0\" r=\"10.0\"/><rect fill=\"white\" height=\"40\" stroke=\"black\" stroke-width=\"1\" width=\"51.945585937500006\" x=\"201.94558593749997\" y=\"5.0\"/><text dominant-baseline=\"middle\" font-size=\"14px\" text-anchor=\"middle\" x=\"227.91837890624998\" y=\"25.0\">X^0.5</text><rect fill=\"white\" height=\"40\" stroke=\"black\" stroke-width=\"1\" width=\"51.945585937500006\" x=\"201.94558593749997\" y=\"65.0\"/><text dominant-baseline=\"middle\" font-size=\"14px\" text-anchor=\"middle\" x=\"227.91837890624998\" y=\"85.0\">X^0.5</text><rect fill=\"white\" height=\"40\" stroke=\"black\" stroke-width=\"1\" width=\"40\" x=\"273.891171875\" y=\"5.0\"/><text dominant-baseline=\"middle\" font-size=\"18px\" text-anchor=\"middle\" x=\"293.891171875\" y=\"25.0\">M</text><rect fill=\"white\" height=\"40\" stroke=\"black\" stroke-width=\"1\" width=\"40\" x=\"273.891171875\" y=\"65.0\"/><text dominant-baseline=\"middle\" font-size=\"18px\" text-anchor=\"middle\" x=\"293.891171875\" y=\"85.0\">M</text></svg>"
          },
          "metadata": {
            "tags": []
          }
        },
        {
          "output_type": "stream",
          "text": [
            "\n",
            "Measurement results:  a,b=0, 1\n"
          ],
          "name": "stdout"
        }
      ]
    },
    {
      "cell_type": "markdown",
      "metadata": {
        "id": "2kiAAZ85I0kK",
        "colab_type": "text"
      },
      "source": [
        "Running this multiple times should result in different measurement results, since the above circuit produces a superposition over all computational basis states.   "
      ]
    },
    {
      "cell_type": "markdown",
      "metadata": {
        "id": "SIUFw0yzi7A0",
        "colab_type": "text"
      },
      "source": [
        "Notice that we passed a `qubit_order` into the `simulate` method. This order helps define the qubit order used in the resulting `final_state` vector.  The `qubit_order` argument is optional. The simplest `qubit_order` value you can provide is a list of the qubits in the desired order. When it is omitted, qubits are sorted ascending according to the ordering methods defined by their python class (for example `cirq.NamedQubit` sorts lexicographically by name).\n",
        "\n",
        "The mapping from the order of the qubits to the order of the  amplitudes in the wave function goes as follows: If wave function is array \n",
        "`(0.1, 0.2, 0.3, 0.4)`\n",
        "then this is \n",
        "`0.1|00⟩ + 0.2|01⟩ + 0.3|10⟩ + 0.4|11⟩ `\n",
        "in Dirac notation.  If the qubit order is `qubit_order=[a,b]`, then `|00>` means qubit a is in state |0> and qubit b is in state |0>, `|01>` means qubit a is in state |0> and qubit b is in state |1>, etc."
      ]
    },
    {
      "cell_type": "markdown",
      "metadata": {
        "id": "BGnHLbCDZGGH",
        "colab_type": "text"
      },
      "source": [
        "### Repetitions"
      ]
    },
    {
      "cell_type": "markdown",
      "metadata": {
        "id": "ZodmTv_Rz8s1",
        "colab_type": "text"
      },
      "source": [
        "In Example 1, the circuit creates a Bell state \n",
        "$ \\,\\frac{1}{\\sqrt{2}} \\big( |00\\rangle + |11\\rangle \\big)\\,.$\n",
        "The Born rule tells us that we should obtain the measurement results 0,0 and 1,1 with equal probability: $$p(0,0) = p(1,1)=\\bigg|\\frac{1}{\\sqrt{2}}\\bigg|^{\\,2} = \\frac{1}{2} $$\n",
        "We can run a simulation of the circuit multiple times and obtain a statistic for the measurement results.\n",
        "\n",
        "The simulator `run` methods take an option for repeating the circuit. If \n",
        "the measurements in the circuit are terminal, and all other operations are unitary, this simulator is optimized to not recompute the wavefunction before sampling from the circuit.  \n",
        "\n",
        "So for example this code doesn't recompute the wave function but knows to sample from the final probability distribution:"
      ]
    },
    {
      "cell_type": "code",
      "metadata": {
        "id": "NQfmZf9vi940",
        "colab_type": "code",
        "colab": {
          "base_uri": "https://localhost:8080/",
          "height": 438
        },
        "outputId": "ef981481-f95f-4f72-9bab-d6d21cc860fb"
      },
      "source": [
        "ops = [cirq.H(q0), cirq.CNOT(q0,q1), cirq.measure(q0,q1)]    \n",
        "circuit = cirq.Circuit(*ops)\n",
        "cprint(circuit)\n",
        "result = simulator.run(circuit, repetitions=1000)\n",
        "print(result.histogram(key='q0,q1'))\n",
        "# We can also plot the results as a histogram:\n",
        "cirq.plot_state_histogram(result)"
      ],
      "execution_count": null,
      "outputs": [
        {
          "output_type": "display_data",
          "data": {
            "text/plain": [
              "<IPython.core.display.SVG object>"
            ],
            "image/svg+xml": "<svg height=\"120\" width=\"280.0\"><line stroke=\"black\" stroke-width=\"1\" x1=\"30.0\" x2=\"250.0\" y1=\"25.0\" y2=\"25.0\"/><line stroke=\"black\" stroke-width=\"1\" x1=\"30.0\" x2=\"250.0\" y1=\"85.0\" y2=\"85.0\"/><line stroke=\"black\" stroke-width=\"3\" x1=\"150.0\" x2=\"150.0\" y1=\"25.0\" y2=\"85.0\"/><line stroke=\"black\" stroke-width=\"3\" x1=\"210.0\" x2=\"210.0\" y1=\"25.0\" y2=\"85.0\"/><rect fill=\"white\" height=\"40\" stroke=\"black\" stroke-width=\"0\" width=\"40\" x=\"10.0\" y=\"5.0\"/><text dominant-baseline=\"middle\" font-size=\"14px\" text-anchor=\"middle\" x=\"30.0\" y=\"25.0\">q0: </text><rect fill=\"white\" height=\"40\" stroke=\"black\" stroke-width=\"0\" width=\"40\" x=\"10.0\" y=\"65.0\"/><text dominant-baseline=\"middle\" font-size=\"14px\" text-anchor=\"middle\" x=\"30.0\" y=\"85.0\">q1: </text><rect fill=\"white\" height=\"40\" stroke=\"black\" stroke-width=\"1\" width=\"40\" x=\"70.0\" y=\"5.0\"/><text dominant-baseline=\"middle\" font-size=\"18px\" text-anchor=\"middle\" x=\"90.0\" y=\"25.0\">H</text><circle cx=\"150.0\" cy=\"25.0\" r=\"10.0\"/><rect fill=\"white\" height=\"40\" stroke=\"black\" stroke-width=\"1\" width=\"40\" x=\"130.0\" y=\"65.0\"/><text dominant-baseline=\"middle\" font-size=\"18px\" text-anchor=\"middle\" x=\"150.0\" y=\"85.0\">X</text><rect fill=\"white\" height=\"40\" stroke=\"black\" stroke-width=\"1\" width=\"40\" x=\"190.0\" y=\"5.0\"/><text dominant-baseline=\"middle\" font-size=\"18px\" text-anchor=\"middle\" x=\"210.0\" y=\"25.0\">M</text><rect fill=\"white\" height=\"40\" stroke=\"black\" stroke-width=\"1\" width=\"40\" x=\"190.0\" y=\"65.0\"/><text dominant-baseline=\"middle\" font-size=\"18px\" text-anchor=\"middle\" x=\"210.0\" y=\"85.0\">M</text></svg>"
          },
          "metadata": {
            "tags": []
          }
        },
        {
          "output_type": "stream",
          "text": [
            "Counter({3: 515, 0: 485})\n"
          ],
          "name": "stdout"
        },
        {
          "output_type": "display_data",
          "data": {
            "image/png": "[encoded data removed]",
            "text/plain": [
              "<Figure size 432x288 with 1 Axes>"
            ]
          },
          "metadata": {
            "tags": []
          }
        },
        {
          "output_type": "execute_result",
          "data": {
            "text/plain": [
              "array([485., 515.])"
            ]
          },
          "metadata": {
            "tags": []
          },
          "execution_count": 22
        }
      ]
    },
    {
      "cell_type": "markdown",
      "metadata": {
        "id": "FlrpcsYvjGRx",
        "colab_type": "text"
      },
      "source": [
        "The `histogram` method applied on the `result` sums over all the different results for all of the different repetitions. In the Counter, the states |00>, |01>, |10>, |11> are indexed by 0, 1, 2, 3 respectively.\n"
      ]
    },
    {
      "cell_type": "markdown",
      "metadata": {
        "id": "1OFzpKx528Nk",
        "colab_type": "text"
      },
      "source": [
        "##Bloch sphere representation of single qubit states and operations\n",
        "\n"
      ]
    },
    {
      "cell_type": "markdown",
      "metadata": {
        "id": "EdbOR6PiMDN1",
        "colab_type": "text"
      },
      "source": [
        "We can visualize the state of a single qubit on the Bloch sphere using `cirq.bloch_vector_from_state_vector()`, which gives us the Bloch vector in Cartesian coordinates $\\left[x, y, z\\right]$. \n",
        "\n",
        "As an example, let us create a circuit from three qubits $a$, $b$ and $c$, and prepare qubit $a$ in the state $|0\\rangle$, qubit $b$ in the state $\\tfrac{1}{\\sqrt{2}}(|0\\rangle + |1\\rangle)$ and qubit $c$ in the state $|1\\rangle$. Printing the Bloch sphere representation of the final states of the three qubits, we can see where these three states lie on the Bloch sphere respectively:"
      ]
    },
    {
      "cell_type": "code",
      "metadata": {
        "id": "kSBA-44mMG5o",
        "colab_type": "code",
        "colab": {
          "base_uri": "https://localhost:8080/",
          "height": 272
        },
        "outputId": "10b35946-f8f8-434c-9361-1bbe47a62768"
      },
      "source": [
        "a = cirq.NamedQubit(\"a\")\n",
        "b = cirq.NamedQubit(\"b\")\n",
        "c = cirq.NamedQubit(\"c\")\n",
        "# Put a into |0>, b into |+> and c into |1>:\n",
        "circuit = cirq.Circuit([cirq.X(a),cirq.X(a),cirq.H(b),cirq.X(c)])\n",
        "cprint(circuit)\n",
        "simulator = cirq.Simulator()\n",
        "result=simulator.simulate(circuit)\n",
        "x0,y0,z0 = np.around(cirq.bloch_vector_from_state_vector(result.final_state,0),3)\n",
        "x1,y1,z1 = np.around(cirq.bloch_vector_from_state_vector(result.final_state,1),3)\n",
        "x2,y2,z2 = np.around(cirq.bloch_vector_from_state_vector(result.final_state,2),3)\n",
        "print('\\nBloch vector qubit a: ','x =',x0,'  y =',y0,'  z =',z0)\n",
        "print('Bloch vector qubit b: ','x =',x1,'  y =',y1,'  z =',z1)\n",
        "print('Bloch vector qubit c: ','x =',x2,'  y =',y2,'  z =',z2)"
      ],
      "execution_count": null,
      "outputs": [
        {
          "output_type": "display_data",
          "data": {
            "text/plain": [
              "<IPython.core.display.SVG object>"
            ],
            "image/svg+xml": "<svg height=\"180\" width=\"220.0\"><line stroke=\"black\" stroke-width=\"1\" x1=\"30.0\" x2=\"190.0\" y1=\"25.0\" y2=\"25.0\"/><line stroke=\"black\" stroke-width=\"1\" x1=\"30.0\" x2=\"190.0\" y1=\"85.0\" y2=\"85.0\"/><line stroke=\"black\" stroke-width=\"1\" x1=\"30.0\" x2=\"190.0\" y1=\"145.0\" y2=\"145.0\"/><rect fill=\"white\" height=\"40\" stroke=\"black\" stroke-width=\"0\" width=\"40\" x=\"10.0\" y=\"5.0\"/><text dominant-baseline=\"middle\" font-size=\"14px\" text-anchor=\"middle\" x=\"30.0\" y=\"25.0\">a: </text><rect fill=\"white\" height=\"40\" stroke=\"black\" stroke-width=\"0\" width=\"40\" x=\"10.0\" y=\"65.0\"/><text dominant-baseline=\"middle\" font-size=\"14px\" text-anchor=\"middle\" x=\"30.0\" y=\"85.0\">b: </text><rect fill=\"white\" height=\"40\" stroke=\"black\" stroke-width=\"0\" width=\"40\" x=\"10.0\" y=\"125.0\"/><text dominant-baseline=\"middle\" font-size=\"14px\" text-anchor=\"middle\" x=\"30.0\" y=\"145.0\">c: </text><rect fill=\"white\" height=\"40\" stroke=\"black\" stroke-width=\"1\" width=\"40\" x=\"70.0\" y=\"5.0\"/><text dominant-baseline=\"middle\" font-size=\"18px\" text-anchor=\"middle\" x=\"90.0\" y=\"25.0\">X</text><rect fill=\"white\" height=\"40\" stroke=\"black\" stroke-width=\"1\" width=\"40\" x=\"70.0\" y=\"65.0\"/><text dominant-baseline=\"middle\" font-size=\"18px\" text-anchor=\"middle\" x=\"90.0\" y=\"85.0\">H</text><rect fill=\"white\" height=\"40\" stroke=\"black\" stroke-width=\"1\" width=\"40\" x=\"70.0\" y=\"125.0\"/><text dominant-baseline=\"middle\" font-size=\"18px\" text-anchor=\"middle\" x=\"90.0\" y=\"145.0\">X</text><rect fill=\"white\" height=\"40\" stroke=\"black\" stroke-width=\"1\" width=\"40\" x=\"130.0\" y=\"5.0\"/><text dominant-baseline=\"middle\" font-size=\"18px\" text-anchor=\"middle\" x=\"150.0\" y=\"25.0\">X</text></svg>"
          },
          "metadata": {
            "tags": []
          }
        },
        {
          "output_type": "stream",
          "text": [
            "\n",
            "Bloch vector qubit a:  x = 0.0   y = 0.0   z = 1.0\n",
            "Bloch vector qubit b:  x = 1.0   y = 0.0   z = 0.0\n",
            "Bloch vector qubit c:  x = 0.0   y = 0.0   z = -1.0\n"
          ],
          "name": "stdout"
        }
      ]
    },
    {
      "cell_type": "markdown",
      "metadata": {
        "id": "QR-G47-uZbJI",
        "colab_type": "text"
      },
      "source": [
        "### Single qubit gates visualized on Bloch sphere"
      ]
    },
    {
      "cell_type": "markdown",
      "metadata": {
        "id": "-eownkB52EIe",
        "colab_type": "text"
      },
      "source": [
        "The Bloch sphere can also help us visualize the action of single qubit gates on a single qubit state (namely as rotations of the Bloch vector). Let us visualize the action of the Pauli gates $X, Y, Z$ and the Hadamard gate $H$ on a single qubit state. First, we create some non-trivial qubit state by applying a couple of rotation gates:"
      ]
    },
    {
      "cell_type": "code",
      "metadata": {
        "id": "1aZ9lide4F75",
        "colab_type": "code",
        "colab": {
          "base_uri": "https://localhost:8080/",
          "height": 70
        },
        "outputId": "44f829e4-8aae-4646-9a2b-63c8544b684f"
      },
      "source": [
        "circuit = cirq.Circuit(cirq.Rx(0.2 * np.pi)(a), cirq.Rz(0.2 * np.pi)(a))\n",
        "simulator = cirq.Simulator()\n",
        "result0=simulator.simulate(circuit)\n",
        "print('\\nQubit state:',result0.dirac_notation())\n",
        "Bloch_vector0 = np.around(cirq.bloch_vector_from_state_vector(result0.final_state,0),3)\n",
        "print('Bloch vector: ',Bloch_vector0)"
      ],
      "execution_count": null,
      "outputs": [
        {
          "output_type": "stream",
          "text": [
            "\n",
            "Qubit state: (0.9-0.29j)|0⟩ + (0.1-0.29j)|1⟩\n",
            "Bloch vector:  [ 0.345 -0.476  0.809]\n"
          ],
          "name": "stdout"
        }
      ]
    },
    {
      "cell_type": "markdown",
      "metadata": {
        "id": "t4rrxQ2qCosO",
        "colab_type": "text"
      },
      "source": [
        "Now apply a Pauli X gate (180 deg rotation around x axis):"
      ]
    },
    {
      "cell_type": "code",
      "metadata": {
        "id": "nWMOvleLCpCJ",
        "colab_type": "code",
        "colab": {
          "base_uri": "https://localhost:8080/",
          "height": 70
        },
        "outputId": "a2c3d1fe-ea52-436f-b890-06bd35abdf62"
      },
      "source": [
        "circuit.append(cirq.X(a))\n",
        "result1=simulator.simulate(circuit)\n",
        "print('\\nQubit state after X gate:',result1.dirac_notation())\n",
        "Bloch_vector1 = np.around(cirq.bloch_vector_from_state_vector(result1.final_state,0),3)\n",
        "print('Bloch vector: ',Bloch_vector1)"
      ],
      "execution_count": null,
      "outputs": [
        {
          "output_type": "stream",
          "text": [
            "\n",
            "Qubit state after X gate: (0.1-0.29j)|0⟩ + (0.9-0.29j)|1⟩\n",
            "Bloch vector:  [ 0.345  0.476 -0.809]\n"
          ],
          "name": "stdout"
        }
      ]
    },
    {
      "cell_type": "markdown",
      "metadata": {
        "id": "hq9ZnOrMCtsY",
        "colab_type": "text"
      },
      "source": [
        "Now apply a Pauli Y gate (180 deg rotation around y axis):"
      ]
    },
    {
      "cell_type": "code",
      "metadata": {
        "id": "oQLhqva1Ct_d",
        "colab_type": "code",
        "colab": {
          "base_uri": "https://localhost:8080/",
          "height": 70
        },
        "outputId": "c61c5bc7-7aa8-4348-a76a-3d8e32575ae6"
      },
      "source": [
        "circuit.append(cirq.Y(a))\n",
        "result2=simulator.simulate(circuit)\n",
        "print('\\nQubit state after Y gate:',result2.dirac_notation())\n",
        "Bloch_vector2 = np.around(cirq.bloch_vector_from_state_vector(result2.final_state,0),3)\n",
        "print('Bloch vector: ',Bloch_vector2)"
      ],
      "execution_count": null,
      "outputs": [
        {
          "output_type": "stream",
          "text": [
            "\n",
            "Qubit state after Y gate: (-0.29-0.9j)|0⟩ + (0.29+0.1j)|1⟩\n",
            "Bloch vector:  [-0.345  0.476  0.809]\n"
          ],
          "name": "stdout"
        }
      ]
    },
    {
      "cell_type": "markdown",
      "metadata": {
        "id": "UvJHQDfTCywQ",
        "colab_type": "text"
      },
      "source": [
        "Now apply a Pauli Z gate (180 deg rotation around z axis):"
      ]
    },
    {
      "cell_type": "code",
      "metadata": {
        "id": "J9uuENwZCzIJ",
        "colab_type": "code",
        "colab": {
          "base_uri": "https://localhost:8080/",
          "height": 70
        },
        "outputId": "6f987ad4-3cba-438e-9ec5-17accf617370"
      },
      "source": [
        "circuit.append(cirq.Z(a))\n",
        "result3=simulator.simulate(circuit)\n",
        "print('\\nQubit state after Z gate:',result3.dirac_notation())\n",
        "Bloch_vector3 = np.around(cirq.bloch_vector_from_state_vector(result3.final_state,0),3)\n",
        "print('Bloch vector: ',Bloch_vector3)"
      ],
      "execution_count": null,
      "outputs": [
        {
          "output_type": "stream",
          "text": [
            "\n",
            "Qubit state after Z gate: (-0.29-0.9j)|0⟩ + (-0.29-0.1j)|1⟩\n",
            "Bloch vector:  [ 0.345 -0.476  0.809]\n"
          ],
          "name": "stdout"
        }
      ]
    },
    {
      "cell_type": "markdown",
      "metadata": {
        "id": "_pI42LtvC2r0",
        "colab_type": "text"
      },
      "source": [
        "Now apply a H gate (180 deg rotation around (x+z) axis):"
      ]
    },
    {
      "cell_type": "code",
      "metadata": {
        "id": "eRqBRwjvC23c",
        "colab_type": "code",
        "colab": {
          "base_uri": "https://localhost:8080/",
          "height": 70
        },
        "outputId": "c3ffd165-0475-43f6-ee75-674c2665fbe2"
      },
      "source": [
        "circuit.append(cirq.H(a))\n",
        "result4=simulator.simulate(circuit)\n",
        "print('\\nQubit state after H gate:',result4.dirac_notation())\n",
        "Bloch_vector4 = np.around(cirq.bloch_vector_from_state_vector(result4.final_state,0),3)\n",
        "print('Bloch vector: ',Bloch_vector4)"
      ],
      "execution_count": null,
      "outputs": [
        {
          "output_type": "stream",
          "text": [
            "\n",
            "Qubit state after H gate: (-0.42-0.71j)|0⟩ - 0.57j|1⟩\n",
            "Bloch vector:  [0.809 0.476 0.345]\n"
          ],
          "name": "stdout"
        }
      ]
    },
    {
      "cell_type": "markdown",
      "metadata": {
        "id": "VDp1poBTiKz4",
        "colab_type": "text"
      },
      "source": [
        "##Insertion strategies\n",
        "\n",
        "We effectively take a 1-dimensional sequence of operations and output a 2-dimensional circuit.\n",
        "There is a degree of freedom that hasn't been account for: how Cirq chooses the moment that each operation will be placed within depends on the  `InsertStrategy` you choose."
      ]
    },
    {
      "cell_type": "markdown",
      "metadata": {
        "id": "RMw6vf2ZvnDt",
        "colab_type": "text"
      },
      "source": [
        "There are currently four insertion strategies in Cirq:\n",
        "\n",
        "1.  `InsertStrategy.EARLIEST` (default strategy)\n",
        "2. `InsertStrategy.NEW`\n",
        "3. `InsertStrategy.INLINE`\n",
        "4.  `InsertStrategy.NEW_THEN_INLINE` \n",
        "\n",
        "An `InsertStrategy` defines how ``Operations`` are placed in a `Circuit` when requested to be inserted at a given location.\n",
        "Here a `location` is identified by the index of the `Moment` in the `Circuit` that operations should be placed before.\n",
        "\n",
        "`InsertStrategy.EARLIEST` is the default strategy: When we request to add an operation affecting certain qubits, this strategy scans backward from the insert location, until a moment is found which already has operations touching these qubits. The new operation is then added into the moment just after that location.\n",
        "For example, if we first create an `Operation` in a single moment,\n",
        "and then use `InsertStrategy.EARLIEST`, the `Operation` can slide back to this first `Moment` if there is space:"
      ]
    },
    {
      "cell_type": "code",
      "metadata": {
        "id": "LfDoFQujiNWo",
        "colab_type": "code",
        "colab": {
          "base_uri": "https://localhost:8080/",
          "height": 201
        },
        "outputId": "6e53b66c-6055-4fb6-ef8b-d4b9089a083e"
      },
      "source": [
        "from cirq.circuits import InsertStrategy\n",
        "circuit = cirq.Circuit()\n",
        "circuit.append([cirq.CZ(a, b)])\n",
        "circuit.append([cirq.H(c), cirq.H(b), cirq.H(b), cirq.H(a)], strategy=InsertStrategy.EARLIEST)\n",
        "cprint(circuit)"
      ],
      "execution_count": null,
      "outputs": [
        {
          "output_type": "display_data",
          "data": {
            "text/plain": [
              "<IPython.core.display.SVG object>"
            ],
            "image/svg+xml": "<svg height=\"180\" width=\"280.0\"><line stroke=\"black\" stroke-width=\"1\" x1=\"30.0\" x2=\"250.0\" y1=\"25.0\" y2=\"25.0\"/><line stroke=\"black\" stroke-width=\"1\" x1=\"30.0\" x2=\"250.0\" y1=\"85.0\" y2=\"85.0\"/><line stroke=\"black\" stroke-width=\"1\" x1=\"30.0\" x2=\"250.0\" y1=\"145.0\" y2=\"145.0\"/><line stroke=\"black\" stroke-width=\"3\" x1=\"90.0\" x2=\"90.0\" y1=\"25.0\" y2=\"85.0\"/><rect fill=\"white\" height=\"40\" stroke=\"black\" stroke-width=\"0\" width=\"40\" x=\"10.0\" y=\"5.0\"/><text dominant-baseline=\"middle\" font-size=\"14px\" text-anchor=\"middle\" x=\"30.0\" y=\"25.0\">a: </text><rect fill=\"white\" height=\"40\" stroke=\"black\" stroke-width=\"0\" width=\"40\" x=\"10.0\" y=\"65.0\"/><text dominant-baseline=\"middle\" font-size=\"14px\" text-anchor=\"middle\" x=\"30.0\" y=\"85.0\">b: </text><rect fill=\"white\" height=\"40\" stroke=\"black\" stroke-width=\"0\" width=\"40\" x=\"10.0\" y=\"125.0\"/><text dominant-baseline=\"middle\" font-size=\"14px\" text-anchor=\"middle\" x=\"30.0\" y=\"145.0\">c: </text><circle cx=\"90.0\" cy=\"25.0\" r=\"10.0\"/><circle cx=\"90.0\" cy=\"85.0\" r=\"10.0\"/><rect fill=\"white\" height=\"40\" stroke=\"black\" stroke-width=\"1\" width=\"40\" x=\"70.0\" y=\"125.0\"/><text dominant-baseline=\"middle\" font-size=\"18px\" text-anchor=\"middle\" x=\"90.0\" y=\"145.0\">H</text><rect fill=\"white\" height=\"40\" stroke=\"black\" stroke-width=\"1\" width=\"40\" x=\"130.0\" y=\"65.0\"/><text dominant-baseline=\"middle\" font-size=\"18px\" text-anchor=\"middle\" x=\"150.0\" y=\"85.0\">H</text><rect fill=\"white\" height=\"40\" stroke=\"black\" stroke-width=\"1\" width=\"40\" x=\"130.0\" y=\"5.0\"/><text dominant-baseline=\"middle\" font-size=\"18px\" text-anchor=\"middle\" x=\"150.0\" y=\"25.0\">H</text><rect fill=\"white\" height=\"40\" stroke=\"black\" stroke-width=\"1\" width=\"40\" x=\"190.0\" y=\"65.0\"/><text dominant-baseline=\"middle\" font-size=\"18px\" text-anchor=\"middle\" x=\"210.0\" y=\"85.0\">H</text></svg>"
          },
          "metadata": {
            "tags": []
          }
        }
      ]
    },
    {
      "cell_type": "markdown",
      "metadata": {
        "id": "o2bS-je2iPbC",
        "colab_type": "text"
      },
      "source": [
        "`InsertStrategy.NEW` creates a new moment for every operation that is inserted:"
      ]
    },
    {
      "cell_type": "code",
      "metadata": {
        "id": "T5A2J1jkLEll",
        "colab_type": "code",
        "colab": {
          "base_uri": "https://localhost:8080/",
          "height": 201
        },
        "outputId": "41563e2b-c751-40ae-8c53-6fa5f3764a9f"
      },
      "source": [
        "circuit = cirq.Circuit()\n",
        "circuit.append([cirq.CZ(a, b)])\n",
        "circuit.append([cirq.H(c), cirq.H(b), cirq.H(b), cirq.H(a)], strategy=InsertStrategy.NEW)\n",
        "cprint(circuit)"
      ],
      "execution_count": null,
      "outputs": [
        {
          "output_type": "display_data",
          "data": {
            "text/plain": [
              "<IPython.core.display.SVG object>"
            ],
            "image/svg+xml": "<svg height=\"180\" width=\"400.0\"><line stroke=\"black\" stroke-width=\"1\" x1=\"30.0\" x2=\"370.0\" y1=\"25.0\" y2=\"25.0\"/><line stroke=\"black\" stroke-width=\"1\" x1=\"30.0\" x2=\"370.0\" y1=\"85.0\" y2=\"85.0\"/><line stroke=\"black\" stroke-width=\"1\" x1=\"30.0\" x2=\"370.0\" y1=\"145.0\" y2=\"145.0\"/><line stroke=\"black\" stroke-width=\"3\" x1=\"90.0\" x2=\"90.0\" y1=\"25.0\" y2=\"85.0\"/><rect fill=\"white\" height=\"40\" stroke=\"black\" stroke-width=\"0\" width=\"40\" x=\"10.0\" y=\"5.0\"/><text dominant-baseline=\"middle\" font-size=\"14px\" text-anchor=\"middle\" x=\"30.0\" y=\"25.0\">a: </text><rect fill=\"white\" height=\"40\" stroke=\"black\" stroke-width=\"0\" width=\"40\" x=\"10.0\" y=\"65.0\"/><text dominant-baseline=\"middle\" font-size=\"14px\" text-anchor=\"middle\" x=\"30.0\" y=\"85.0\">b: </text><rect fill=\"white\" height=\"40\" stroke=\"black\" stroke-width=\"0\" width=\"40\" x=\"10.0\" y=\"125.0\"/><text dominant-baseline=\"middle\" font-size=\"14px\" text-anchor=\"middle\" x=\"30.0\" y=\"145.0\">c: </text><circle cx=\"90.0\" cy=\"25.0\" r=\"10.0\"/><circle cx=\"90.0\" cy=\"85.0\" r=\"10.0\"/><rect fill=\"white\" height=\"40\" stroke=\"black\" stroke-width=\"1\" width=\"40\" x=\"130.0\" y=\"125.0\"/><text dominant-baseline=\"middle\" font-size=\"18px\" text-anchor=\"middle\" x=\"150.0\" y=\"145.0\">H</text><rect fill=\"white\" height=\"40\" stroke=\"black\" stroke-width=\"1\" width=\"40\" x=\"190.0\" y=\"65.0\"/><text dominant-baseline=\"middle\" font-size=\"18px\" text-anchor=\"middle\" x=\"210.0\" y=\"85.0\">H</text><rect fill=\"white\" height=\"40\" stroke=\"black\" stroke-width=\"1\" width=\"40\" x=\"250.0\" y=\"65.0\"/><text dominant-baseline=\"middle\" font-size=\"18px\" text-anchor=\"middle\" x=\"270.0\" y=\"85.0\">H</text><rect fill=\"white\" height=\"40\" stroke=\"black\" stroke-width=\"1\" width=\"40\" x=\"310.0\" y=\"5.0\"/><text dominant-baseline=\"middle\" font-size=\"18px\" text-anchor=\"middle\" x=\"330.0\" y=\"25.0\">H</text></svg>"
          },
          "metadata": {
            "tags": []
          }
        }
      ]
    },
    {
      "cell_type": "markdown",
      "metadata": {
        "id": "zXS749PiMZfa",
        "colab_type": "text"
      },
      "source": [
        "`InsertStrategy.INLINE` attempts to add the operation to insert into the moment just before the desired insert location. But, if there’s already an existing operation affecting any of the qubits touched by the operation to insert, a new moment is created instead:"
      ]
    },
    {
      "cell_type": "code",
      "metadata": {
        "id": "6SOiCYziMm3T",
        "colab_type": "code",
        "colab": {
          "base_uri": "https://localhost:8080/",
          "height": 201
        },
        "outputId": "9e25f3d4-0ae3-42eb-fb43-77672ed9c134"
      },
      "source": [
        "circuit = cirq.Circuit()\n",
        "circuit.append([cirq.CZ(a, b)])\n",
        "circuit.append([cirq.H(c), cirq.H(b), cirq.H(b), cirq.H(a)], strategy=InsertStrategy.INLINE)\n",
        "cprint(circuit)"
      ],
      "execution_count": null,
      "outputs": [
        {
          "output_type": "display_data",
          "data": {
            "text/plain": [
              "<IPython.core.display.SVG object>"
            ],
            "image/svg+xml": "<svg height=\"180\" width=\"280.0\"><line stroke=\"black\" stroke-width=\"1\" x1=\"30.0\" x2=\"250.0\" y1=\"25.0\" y2=\"25.0\"/><line stroke=\"black\" stroke-width=\"1\" x1=\"30.0\" x2=\"250.0\" y1=\"85.0\" y2=\"85.0\"/><line stroke=\"black\" stroke-width=\"1\" x1=\"30.0\" x2=\"250.0\" y1=\"145.0\" y2=\"145.0\"/><line stroke=\"black\" stroke-width=\"3\" x1=\"90.0\" x2=\"90.0\" y1=\"25.0\" y2=\"85.0\"/><rect fill=\"white\" height=\"40\" stroke=\"black\" stroke-width=\"0\" width=\"40\" x=\"10.0\" y=\"5.0\"/><text dominant-baseline=\"middle\" font-size=\"14px\" text-anchor=\"middle\" x=\"30.0\" y=\"25.0\">a: </text><rect fill=\"white\" height=\"40\" stroke=\"black\" stroke-width=\"0\" width=\"40\" x=\"10.0\" y=\"65.0\"/><text dominant-baseline=\"middle\" font-size=\"14px\" text-anchor=\"middle\" x=\"30.0\" y=\"85.0\">b: </text><rect fill=\"white\" height=\"40\" stroke=\"black\" stroke-width=\"0\" width=\"40\" x=\"10.0\" y=\"125.0\"/><text dominant-baseline=\"middle\" font-size=\"14px\" text-anchor=\"middle\" x=\"30.0\" y=\"145.0\">c: </text><circle cx=\"90.0\" cy=\"25.0\" r=\"10.0\"/><circle cx=\"90.0\" cy=\"85.0\" r=\"10.0\"/><rect fill=\"white\" height=\"40\" stroke=\"black\" stroke-width=\"1\" width=\"40\" x=\"70.0\" y=\"125.0\"/><text dominant-baseline=\"middle\" font-size=\"18px\" text-anchor=\"middle\" x=\"90.0\" y=\"145.0\">H</text><rect fill=\"white\" height=\"40\" stroke=\"black\" stroke-width=\"1\" width=\"40\" x=\"130.0\" y=\"65.0\"/><text dominant-baseline=\"middle\" font-size=\"18px\" text-anchor=\"middle\" x=\"150.0\" y=\"85.0\">H</text><rect fill=\"white\" height=\"40\" stroke=\"black\" stroke-width=\"1\" width=\"40\" x=\"190.0\" y=\"65.0\"/><text dominant-baseline=\"middle\" font-size=\"18px\" text-anchor=\"middle\" x=\"210.0\" y=\"85.0\">H</text><rect fill=\"white\" height=\"40\" stroke=\"black\" stroke-width=\"1\" width=\"40\" x=\"190.0\" y=\"5.0\"/><text dominant-baseline=\"middle\" font-size=\"18px\" text-anchor=\"middle\" x=\"210.0\" y=\"25.0\">H</text></svg>"
          },
          "metadata": {
            "tags": []
          }
        }
      ]
    },
    {
      "cell_type": "markdown",
      "metadata": {
        "id": "huaxNhJRL1-N",
        "colab_type": "text"
      },
      "source": [
        "`InsertStrategy.NEW_THEN_INLINE` creates a new moment at the desired insert location for the first operation, but then switches to inserting operations according to `InsertStrategy.INLINE` :"
      ]
    },
    {
      "cell_type": "code",
      "metadata": {
        "id": "d98OjIuEiRjx",
        "colab_type": "code",
        "colab": {
          "base_uri": "https://localhost:8080/",
          "height": 201
        },
        "outputId": "065d8122-f97f-4d57-f02e-45b1d2ce82d9"
      },
      "source": [
        "circuit = cirq.Circuit()\n",
        "circuit.append([cirq.CZ(a, b)])\n",
        "circuit.append([cirq.H(c), cirq.H(b), cirq.H(b), cirq.H(a)], strategy=InsertStrategy.NEW_THEN_INLINE)\n",
        "cprint(circuit)"
      ],
      "execution_count": null,
      "outputs": [
        {
          "output_type": "display_data",
          "data": {
            "text/plain": [
              "<IPython.core.display.SVG object>"
            ],
            "image/svg+xml": "<svg height=\"180\" width=\"280.0\"><line stroke=\"black\" stroke-width=\"1\" x1=\"30.0\" x2=\"250.0\" y1=\"25.0\" y2=\"25.0\"/><line stroke=\"black\" stroke-width=\"1\" x1=\"30.0\" x2=\"250.0\" y1=\"85.0\" y2=\"85.0\"/><line stroke=\"black\" stroke-width=\"1\" x1=\"30.0\" x2=\"250.0\" y1=\"145.0\" y2=\"145.0\"/><line stroke=\"black\" stroke-width=\"3\" x1=\"90.0\" x2=\"90.0\" y1=\"25.0\" y2=\"85.0\"/><rect fill=\"white\" height=\"40\" stroke=\"black\" stroke-width=\"0\" width=\"40\" x=\"10.0\" y=\"5.0\"/><text dominant-baseline=\"middle\" font-size=\"14px\" text-anchor=\"middle\" x=\"30.0\" y=\"25.0\">a: </text><rect fill=\"white\" height=\"40\" stroke=\"black\" stroke-width=\"0\" width=\"40\" x=\"10.0\" y=\"65.0\"/><text dominant-baseline=\"middle\" font-size=\"14px\" text-anchor=\"middle\" x=\"30.0\" y=\"85.0\">b: </text><rect fill=\"white\" height=\"40\" stroke=\"black\" stroke-width=\"0\" width=\"40\" x=\"10.0\" y=\"125.0\"/><text dominant-baseline=\"middle\" font-size=\"14px\" text-anchor=\"middle\" x=\"30.0\" y=\"145.0\">c: </text><circle cx=\"90.0\" cy=\"25.0\" r=\"10.0\"/><circle cx=\"90.0\" cy=\"85.0\" r=\"10.0\"/><rect fill=\"white\" height=\"40\" stroke=\"black\" stroke-width=\"1\" width=\"40\" x=\"130.0\" y=\"125.0\"/><text dominant-baseline=\"middle\" font-size=\"18px\" text-anchor=\"middle\" x=\"150.0\" y=\"145.0\">H</text><rect fill=\"white\" height=\"40\" stroke=\"black\" stroke-width=\"1\" width=\"40\" x=\"130.0\" y=\"65.0\"/><text dominant-baseline=\"middle\" font-size=\"18px\" text-anchor=\"middle\" x=\"150.0\" y=\"85.0\">H</text><rect fill=\"white\" height=\"40\" stroke=\"black\" stroke-width=\"1\" width=\"40\" x=\"190.0\" y=\"65.0\"/><text dominant-baseline=\"middle\" font-size=\"18px\" text-anchor=\"middle\" x=\"210.0\" y=\"85.0\">H</text><rect fill=\"white\" height=\"40\" stroke=\"black\" stroke-width=\"1\" width=\"40\" x=\"190.0\" y=\"5.0\"/><text dominant-baseline=\"middle\" font-size=\"18px\" text-anchor=\"middle\" x=\"210.0\" y=\"25.0\">H</text></svg>"
          },
          "metadata": {
            "tags": []
          }
        }
      ]
    },
    {
      "cell_type": "markdown",
      "metadata": {
        "id": "LpnSdOGAWn17",
        "colab_type": "text"
      },
      "source": [
        "### Exercise: Create a circuit with `.append()`"
      ]
    },
    {
      "cell_type": "markdown",
      "metadata": {
        "id": "jPC1xJeYiTj_",
        "colab_type": "text"
      },
      "source": [
        "Create the following circuit, creating exactly the moments indicated by the spacing of the circuit diagram and using the least number of appends:\n",
        "\n",
        "(Hint: the best you can do is using two appends)\n",
        "\n",
        "```\n",
        "a: ───@───H───────────H───H───\n",
        "      │\n",
        "b: ───@───────H───@───H───────\n",
        "                  │\n",
        "c: ───H───────────@───────────\n",
        "```\n"
      ]
    },
    {
      "cell_type": "markdown",
      "metadata": {
        "id": "YTrkBZJNiiP5",
        "colab_type": "text"
      },
      "source": [
        "\n",
        "### Solution"
      ]
    },
    {
      "cell_type": "code",
      "metadata": {
        "id": "Nmgts3soile_",
        "colab_type": "code",
        "cellView": "both",
        "colab": {
          "base_uri": "https://localhost:8080/",
          "height": 122
        },
        "outputId": "ba2c8dc4-45e8-4dbf-91ef-40078a9baaca"
      },
      "source": [
        "#@title \n",
        "a = cirq.NamedQubit('a')\n",
        "b = cirq.NamedQubit('b')\n",
        "c = cirq.NamedQubit('c')\n",
        "circuit = cirq.Circuit()\n",
        "circuit.append([cirq.CZ(a, b), cirq.H(c), cirq.H(a)] )\n",
        "circuit.append([cirq.H(b), cirq.CZ(b, c), cirq.H(b), cirq.H(a), cirq.H(a)],\n",
        "               strategy=cirq.InsertStrategy.NEW_THEN_INLINE)\n",
        "print(circuit)"
      ],
      "execution_count": null,
      "outputs": [
        {
          "output_type": "stream",
          "text": [
            "a: ───@───H───────────H───H───\n",
            "      │\n",
            "b: ───@───────H───@───H───────\n",
            "                  │\n",
            "c: ───H───────────@───────────\n"
          ],
          "name": "stdout"
        }
      ]
    },
    {
      "cell_type": "markdown",
      "metadata": {
        "id": "Fnv7DDlqRGpL",
        "colab_type": "text"
      },
      "source": [
        "##Moment by Moment simulations"
      ]
    },
    {
      "cell_type": "markdown",
      "metadata": {
        "id": "9I8w7Z79jsW2",
        "colab_type": "text"
      },
      "source": [
        "Very useful in practice are the following single qubit rotation gates:\n",
        "\n",
        "$$ \n",
        "{\\tt cirq.Rx(θ)}: \\exp(-i \\theta X) = cos \\theta I - i \\sin \\theta X \n",
        "=\n",
        "\\begin{pmatrix}\n",
        " ~\\cos \\theta & -i \\sin \\theta \\\\ -i \\sin \\theta & \\cos \\theta\n",
        " \\end{pmatrix} \n",
        " \\\\\n",
        "$$ \n",
        "$$ \n",
        "{\\tt cirq.Ry(θ)}: \\exp(-i \\theta Y) = cos \\theta I - i \\sin \\theta Y \n",
        "=\n",
        "\\begin{pmatrix}\n",
        " ~\\cos \\theta &  -\\sin \\theta \\\\  \\sin \\theta & \\cos \\theta\n",
        " \\end{pmatrix}\n",
        " \\\\\n",
        "$$ \n",
        "$$ \n",
        "{\\tt cirq.Rz(θ)}: \\exp(-i \\theta Z) = cos \\theta I - i \\sin \\theta Z \n",
        "=\n",
        "\\begin{pmatrix} \n",
        "~e^{i \\theta} & 0 \\\\ 0 & e^{-i \\theta} \n",
        "\\end{pmatrix}\n",
        " \\\\\n",
        "$$ \n",
        "\n",
        "\n",
        "If we apply `cirq.Rx` to a state we can see how it rotates the state by a specified angle.  To do this let us introduce a new simulate method `simulate_moment_steps`.  This allows us to simulate the circuit `Moment` by `Moment`.  At each point we can access the state.  For example here we can use this to create a circuit that is a series of small `cirq.Rx` rotations and plot the probablility of measureing the state in the $|0\\rangle$ state:"
      ]
    },
    {
      "cell_type": "code",
      "metadata": {
        "id": "C1zgckwbjwO1",
        "colab_type": "code",
        "colab": {
          "base_uri": "https://localhost:8080/",
          "height": 405
        },
        "outputId": "6f79c4f2-e798-4f3d-e382-b6780462a339"
      },
      "source": [
        "a = cirq.NamedQubit('a')\n",
        "circuit = cirq.Circuit(*[cirq.Rx(np.pi / 50.0)(a) for theta in range(199)])\n",
        "print('Circuit consists of 200 small rotations about Pauli X axis:\\n')\n",
        "print(circuit)\n",
        "p0 = []\n",
        "z = []\n",
        "print('\\nWe step through the circuit and plot the z component of the vector '\n",
        "      'as a function of the index of the moment being stepped over:\\n')\n",
        "for i, step in enumerate(simulator.simulate_moment_steps(circuit)):\n",
        "    prob = np.abs(step.state_vector()) ** 2\n",
        "    z.append(i)\n",
        "    p0.append(prob[0])\n",
        "matplotlib.pyplot.style.use('seaborn-whitegrid')\n",
        "matplotlib.pyplot.plot(z, p0, 'o')"
      ],
      "execution_count": null,
      "outputs": [
        {
          "output_type": "stream",
          "text": [
            "Circuit consists of 200 small rotations about Pauli X axis:\n",
            "\n",
            "a: ───Rx(0.02π)───Rx(0.02π)───Rx(0.02π)───Rx(0.02π)───Rx(0.02π)───Rx(0.02π)───Rx(0.02π)───Rx(0.02π)───Rx(0.02π)───Rx(0.02π)───Rx(0.02π)───Rx(0.02π)───Rx(0.02π)───Rx(0.02π)───Rx(0.02π)───Rx(0.02π)───Rx(0.02π)───Rx(0.02π)───Rx(0.02π)───Rx(0.02π)───Rx(0.02π)───Rx(0.02π)───Rx(0.02π)───Rx(0.02π)───Rx(0.02π)───Rx(0.02π)───Rx(0.02π)───Rx(0.02π)───Rx(0.02π)───Rx(0.02π)───Rx(0.02π)───Rx(0.02π)───Rx(0.02π)───Rx(0.02π)───Rx(0.02π)───Rx(0.02π)───Rx(0.02π)───Rx(0.02π)───Rx(0.02π)───Rx(0.02π)───Rx(0.02π)───Rx(0.02π)───Rx(0.02π)───Rx(0.02π)───Rx(0.02π)───Rx(0.02π)───Rx(0.02π)───Rx(0.02π)───Rx(0.02π)───Rx(0.02π)───Rx(0.02π)───Rx(0.02π)───Rx(0.02π)───Rx(0.02π)───Rx(0.02π)───Rx(0.02π)───Rx(0.02π)───Rx(0.02π)───Rx(0.02π)───Rx(0.02π)───Rx(0.02π)───Rx(0.02π)───Rx(0.02π)───Rx(0.02π)───Rx(0.02π)───Rx(0.02π)───Rx(0.02π)───Rx(0.02π)───Rx(0.02π)───Rx(0.02π)───Rx(0.02π)───Rx(0.02π)───Rx(0.02π)───Rx(0.02π)───Rx(0.02π)───Rx(0.02π)───Rx(0.02π)───Rx(0.02π)───Rx(0.02π)───Rx(0.02π)───Rx(0.02π)───Rx(0.02π)───Rx(0.02π)───Rx(0.02π)───Rx(0.02π)───Rx(0.02π)───Rx(0.02π)───Rx(0.02π)───Rx(0.02π)───Rx(0.02π)───Rx(0.02π)───Rx(0.02π)───Rx(0.02π)───Rx(0.02π)───Rx(0.02π)───Rx(0.02π)───Rx(0.02π)───Rx(0.02π)───Rx(0.02π)───Rx(0.02π)───Rx(0.02π)───Rx(0.02π)───Rx(0.02π)───Rx(0.02π)───Rx(0.02π)───Rx(0.02π)───Rx(0.02π)───Rx(0.02π)───Rx(0.02π)───Rx(0.02π)───Rx(0.02π)───Rx(0.02π)───Rx(0.02π)───Rx(0.02π)───Rx(0.02π)───Rx(0.02π)───Rx(0.02π)───Rx(0.02π)───Rx(0.02π)───Rx(0.02π)───Rx(0.02π)───Rx(0.02π)───Rx(0.02π)───Rx(0.02π)───Rx(0.02π)───Rx(0.02π)───Rx(0.02π)───Rx(0.02π)───Rx(0.02π)───Rx(0.02π)───Rx(0.02π)───Rx(0.02π)───Rx(0.02π)───Rx(0.02π)───Rx(0.02π)───Rx(0.02π)───Rx(0.02π)───Rx(0.02π)───Rx(0.02π)───Rx(0.02π)───Rx(0.02π)───Rx(0.02π)───Rx(0.02π)───Rx(0.02π)───Rx(0.02π)───Rx(0.02π)───Rx(0.02π)───Rx(0.02π)───Rx(0.02π)───Rx(0.02π)───Rx(0.02π)───Rx(0.02π)───Rx(0.02π)───Rx(0.02π)───Rx(0.02π)───Rx(0.02π)───Rx(0.02π)───Rx(0.02π)───Rx(0.02π)───Rx(0.02π)───Rx(0.02π)───Rx(0.02π)───Rx(0.02π)───Rx(0.02π)───Rx(0.02π)───Rx(0.02π)───Rx(0.02π)───Rx(0.02π)───Rx(0.02π)───Rx(0.02π)───Rx(0.02π)───Rx(0.02π)───Rx(0.02π)───Rx(0.02π)───Rx(0.02π)───Rx(0.02π)───Rx(0.02π)───Rx(0.02π)───Rx(0.02π)───Rx(0.02π)───Rx(0.02π)───Rx(0.02π)───Rx(0.02π)───Rx(0.02π)───Rx(0.02π)───Rx(0.02π)───Rx(0.02π)───Rx(0.02π)───Rx(0.02π)───Rx(0.02π)───Rx(0.02π)───Rx(0.02π)───Rx(0.02π)───Rx(0.02π)───Rx(0.02π)───Rx(0.02π)───Rx(0.02π)───Rx(0.02π)───Rx(0.02π)───\n",
            "\n",
            "We step through the circuit and plot the z component of the vector as a function of the index of the moment being stepped over:\n",
            "\n"
          ],
          "name": "stdout"
        },
        {
          "output_type": "execute_result",
          "data": {
            "text/plain": [
              "[<matplotlib.lines.Line2D at 0x7f93335d8978>]"
            ]
          },
          "metadata": {
            "tags": []
          },
          "execution_count": 34
        },
        {
          "output_type": "display_data",
          "data": {
            "image/png": "[encoded data removed]",
            "text/plain": [
              "<Figure size 432x288 with 1 Axes>"
            ]
          },
          "metadata": {
            "tags": []
          }
        }
      ]
    },
    {
      "cell_type": "markdown",
      "metadata": {
        "id": "iq603jvOjze6",
        "colab_type": "text"
      },
      "source": [
        "Above we have given ourselves direct access to the wave function and calculated the exact probabilities.  Suppose we wanted to sample from the wave function at each point instead.  "
      ]
    },
    {
      "cell_type": "code",
      "metadata": {
        "id": "B_1L59Eqj2tM",
        "colab_type": "code",
        "colab": {
          "base_uri": "https://localhost:8080/",
          "height": 280
        },
        "outputId": "a36c9c8a-30bf-4e66-891b-a12a4b02caad"
      },
      "source": [
        "repetitions = 100\n",
        "a = cirq.NamedQubit('a')\n",
        "circuit = cirq.Circuit(*[cirq.Rx(np.pi / 50.0)(a) for theta in range(199)])\n",
        "p0 = []\n",
        "z = []\n",
        "for i, step in enumerate(simulator.simulate_moment_steps(circuit)):\n",
        "    samples = step.sample([a], repetitions=repetitions)\n",
        "    prob0 = np.sum(samples, axis=0)[0] / repetitions\n",
        "    p0.append(prob0)\n",
        "    z.append(i)\n",
        "matplotlib.pyplot.style.use('seaborn-whitegrid')\n",
        "matplotlib.pyplot.plot(z, p0, 'o')"
      ],
      "execution_count": null,
      "outputs": [
        {
          "output_type": "execute_result",
          "data": {
            "text/plain": [
              "[<matplotlib.lines.Line2D at 0x7f93335a3400>]"
            ]
          },
          "metadata": {
            "tags": []
          },
          "execution_count": 35
        },
        {
          "output_type": "display_data",
          "data": {
            "image/png": "[encoded data removed]",
            "text/plain": [
              "<Figure size 432x288 with 1 Axes>"
            ]
          },
          "metadata": {
            "tags": []
          }
        }
      ]
    },
    {
      "cell_type": "markdown",
      "metadata": {
        "id": "tPEZBrwxQ7CA",
        "colab_type": "text"
      },
      "source": [
        "##Google's Xmon Gates\n"
      ]
    },
    {
      "cell_type": "markdown",
      "metadata": {
        "id": "t28m2T2YkO7X",
        "colab_type": "text"
      },
      "source": [
        "Cirq was built because Google has a class of superconducting qubit devices on which they want to explore algorithms on Noisy Intermediate-Scale Quantum (NISQ) technology.\n",
        "At the hardware level, the basic gate set that the xmon architecture supports is rotations about the Pauli $Z$ axis,\n",
        "$$\\exp(-iZt) = \n",
        "\\begin{pmatrix}\n",
        "e^{it} & 0 \\\\\n",
        "0 & e^{-it}\n",
        "\\end{pmatrix}$$\n",
        "rotations about any axis in the Pauli $X$ and $Y$ plane,\n",
        "$$\\exp(-i(\\cos \\theta X + \\sin \\theta Y) t) = \n",
        "\\begin{pmatrix}\n",
        "\\cos t & -i\\sin t e^{-i \\theta} \\\\\n",
        "-i\\sin t e^{i \\theta} & \\cos t\n",
        "\\end{pmatrix}\n",
        "$$\n",
        "and a two-qubit phase gate about the $|11\\rangle$ state:\n",
        "$$\n",
        "\\exp(-it |11\\rangle \\langle 11|) =\n",
        "\\begin{pmatrix}\n",
        "1 & 0 & 0 & 0 \\\\\n",
        "0 & 1 & 0 & 0 \\\\\n",
        "0 & 0 & 1 & 0 \\\\\n",
        "0 & 0 & 0 & \\exp(-it)\n",
        "\\end{pmatrix}\n",
        "$$\n",
        "And finally a measurement in the computational basis.\n",
        "\n",
        "To check whether the gate one is using is in the xmon gate set, one can use `is_native_xmon_op`."
      ]
    },
    {
      "cell_type": "code",
      "metadata": {
        "id": "jBWZI3dOlHFA",
        "colab_type": "code",
        "colab": {
          "base_uri": "https://localhost:8080/",
          "height": 35
        },
        "outputId": "00fa3e74-c5d4-420e-db9d-6a22716890c3"
      },
      "source": [
        "cirq.google.is_native_xmon_op(cirq.X(cirq.NamedQubit('a')))"
      ],
      "execution_count": null,
      "outputs": [
        {
          "output_type": "execute_result",
          "data": {
            "text/plain": [
              "True"
            ]
          },
          "metadata": {
            "tags": []
          },
          "execution_count": 36
        }
      ]
    },
    {
      "cell_type": "code",
      "metadata": {
        "id": "mrcE-NgdlJQr",
        "colab_type": "code",
        "colab": {
          "base_uri": "https://localhost:8080/",
          "height": 35
        },
        "outputId": "4a5b469a-e3da-46a9-85ba-d88bdd1402e6"
      },
      "source": [
        "cirq.google.is_native_xmon_op(cirq.CNOT(cirq.NamedQubit('a'), cirq.NamedQubit('b')))"
      ],
      "execution_count": null,
      "outputs": [
        {
          "output_type": "execute_result",
          "data": {
            "text/plain": [
              "False"
            ]
          },
          "metadata": {
            "tags": []
          },
          "execution_count": 37
        }
      ]
    },
    {
      "cell_type": "markdown",
      "metadata": {
        "id": "SwnZhOOhlPdM",
        "colab_type": "text"
      },
      "source": [
        "When a gate is not a native xmon gate, Cirq can often convert it to an xmon native gate:"
      ]
    },
    {
      "cell_type": "code",
      "metadata": {
        "id": "In44-E07lOju",
        "colab_type": "code",
        "colab": {
          "base_uri": "https://localhost:8080/",
          "height": 70
        },
        "outputId": "cace5ab6-c723-45bb-f4f7-72825d19811d"
      },
      "source": [
        "converter = cirq.google.ConvertToXmonGates()\n",
        "converted = converter.convert(cirq.CNOT(cirq.NamedQubit('a'), cirq.NamedQubit('b')))\n",
        "print(cirq.Circuit(*converted))"
      ],
      "execution_count": null,
      "outputs": [
        {
          "output_type": "stream",
          "text": [
            "a: ───Z^0.75────X^0.5────S^-1───Y^-0.5───@───S^-1───Y^0.5───Y^0.5─────Z^-0.75───\n",
            "                                         │\n",
            "b: ───X^-0.25───Y^-0.5───────────────────@───S^-1───Y^0.5───X^-0.25─────────────\n"
          ],
          "name": "stdout"
        }
      ]
    },
    {
      "cell_type": "markdown",
      "metadata": {
        "id": "WnaYt9rp71e_",
        "colab_type": "text"
      },
      "source": [
        "##Custom Gate Implementation"
      ]
    },
    {
      "cell_type": "markdown",
      "metadata": {
        "id": "wIIvvwDe70aT",
        "colab_type": "text"
      },
      "source": [
        "Let's see how to define a custom gate.  \n",
        "\n",
        "As an example, we will define a single qubit gate that has only rational amplitudes:\n",
        "$$\n",
        "\\zeta =\\left[ \\begin{array}\n",
        "~\\frac{3}{5} & \\frac{4}{5} \\\\\n",
        "-\\frac{4}{5} & \\frac{3}{5}\n",
        "\\end{array} \\right]\n",
        "$$\n",
        "\n",
        "To implement this gate, we define a class that inherits from `cirq.SingleQubitGate` and implements the `cirq.SupportsUnitary` protocol by implementing the `_unitary_(self)` magic method.  Implementing also the `__str__` magic method, we define a string representation, which Cirq will use when priting out the gate in a circuit diagram:\n"
      ]
    },
    {
      "cell_type": "code",
      "metadata": {
        "id": "r0NJ-Sll7_dU",
        "colab_type": "code",
        "colab": {
          "base_uri": "https://localhost:8080/",
          "height": 152
        },
        "outputId": "c921a66e-5c69-4fa8-fc7e-59c9e750f038"
      },
      "source": [
        "class RationalGate(cirq.SingleQubitGate):\n",
        "    \n",
        "    def _unitary_(self):\n",
        "        return np.array([[3 / 5, 4 / 5], [-4 / 5, 3 / 5]])\n",
        "    \n",
        "    def __str__(self):\n",
        "        return 'ζ'\n",
        "\n",
        "a = cirq.NamedQubit('a')\n",
        "rg = RationalGate()\n",
        "cprint(cirq.Circuit(*[rg(a)]))\n",
        "print('\\nζ = ',cirq.unitary(rg))"
      ],
      "execution_count": null,
      "outputs": [
        {
          "output_type": "stream",
          "text": [
            "findfont: Font family ['Arial'] not found. Falling back to DejaVu Sans.\n"
          ],
          "name": "stderr"
        },
        {
          "output_type": "display_data",
          "data": {
            "text/plain": [
              "<IPython.core.display.SVG object>"
            ],
            "image/svg+xml": "<svg height=\"60\" width=\"160.0\"><line stroke=\"black\" stroke-width=\"1\" x1=\"30.0\" x2=\"130.0\" y1=\"25.0\" y2=\"25.0\"/><rect fill=\"white\" height=\"40\" stroke=\"black\" stroke-width=\"0\" width=\"40\" x=\"10.0\" y=\"5.0\"/><text dominant-baseline=\"middle\" font-size=\"14px\" text-anchor=\"middle\" x=\"30.0\" y=\"25.0\">a: </text><rect fill=\"white\" height=\"40\" stroke=\"black\" stroke-width=\"1\" width=\"40\" x=\"70.0\" y=\"5.0\"/><text dominant-baseline=\"middle\" font-size=\"18px\" text-anchor=\"middle\" x=\"90.0\" y=\"25.0\">ζ</text></svg>"
          },
          "metadata": {
            "tags": []
          }
        },
        {
          "output_type": "stream",
          "text": [
            "\n",
            "ζ =  [[ 0.6  0.8]\n",
            " [-0.8  0.6]]\n"
          ],
          "name": "stdout"
        }
      ]
    },
    {
      "cell_type": "markdown",
      "metadata": {
        "id": "Lor9xzqn86Xm",
        "colab_type": "text"
      },
      "source": [
        "Most of the time, we will work with qubits. However, in principle we could also work with qudits and Cirq supports simulating circuits involving qudits. \n",
        "\n",
        "In order to apply a gate to some qudits, the dimensions of the gate must match the dimensions of the qudits. \n",
        "\n",
        "For example, if we want a gate to represent a unitary evolution on a qubit, a qutrit, and another qutrit, the gate's \"qid shape\" is (2,3,3) and its `on` method will accept only 3 Qids with dimensions 2, 3 and 3 respectively. We can specify the dimension of each qudit to act on by implementing the `_qid_shape_` magic method. \n",
        "\n",
        "Let's here define a qutrit gate, i.e. a gate represented as a $3\\times 3$ matrix, which we can apply to a qutrit:\n",
        "\n"
      ]
    },
    {
      "cell_type": "code",
      "metadata": {
        "id": "ju4IUHsW_Bkl",
        "colab_type": "code",
        "colab": {
          "base_uri": "https://localhost:8080/",
          "height": 222
        },
        "outputId": "bc252230-16cb-47ca-9e8a-ad2e7a927f1e"
      },
      "source": [
        "class QutritGate(cirq.SingleQubitGate):\n",
        "  \n",
        "  def _qid_shape_(self):\n",
        "      return (3,)\n",
        "\n",
        "  def _unitary_(self):\n",
        "      return np.array([[1/2, 2**0.5/2, 1/2], [1/2, -2**0.5/2, 1/2], [2**0.5/2, 0, -2**0.5/2]])\n",
        "\n",
        "  #def _circuit_diagram_info_(self, args):\n",
        "      #return 'Q3'\n",
        "  def __str__(self):\n",
        "        return 'H3'\n",
        "\n",
        "H3 = QutritGate()\n",
        "print('H3 = \\n',cirq.unitary(QutritGate()),'\\n')\n",
        "q = cirq.NamedQubit('q').with_dimension(3)\n",
        "\n",
        "circuit = cirq.Circuit(H3(q))\n",
        "cprint(circuit)\n",
        "\n",
        "# Define a simulator\n",
        "simulator = cirq.Simulator()\n",
        "\n",
        "# Simulate the circuit\n",
        "result = simulator.simulate(circuit)\n",
        "\n",
        "print('\\nFinal state in Dirac notation:', result.dirac_notation())\n",
        "\n",
        "circuit.append(cirq.measure(q))\n",
        "result = simulator.run(circuit)\n",
        "print(result)"
      ],
      "execution_count": null,
      "outputs": [
        {
          "output_type": "stream",
          "text": [
            "H3 = \n",
            " [[ 0.5         0.70710678  0.5       ]\n",
            " [ 0.5        -0.70710678  0.5       ]\n",
            " [ 0.70710678  0.         -0.70710678]] \n",
            "\n"
          ],
          "name": "stdout"
        },
        {
          "output_type": "display_data",
          "data": {
            "text/plain": [
              "<IPython.core.display.SVG object>"
            ],
            "image/svg+xml": "<svg height=\"60\" width=\"186.09515625\"><line stroke=\"black\" stroke-width=\"1\" x1=\"43.047578125\" x2=\"156.09515625\" y1=\"25.0\" y2=\"25.0\"/><rect fill=\"white\" height=\"40\" stroke=\"black\" stroke-width=\"0\" width=\"66.09515625\" x=\"10.0\" y=\"5.0\"/><text dominant-baseline=\"middle\" font-size=\"14px\" text-anchor=\"middle\" x=\"43.047578125\" y=\"25.0\">q (d=3): </text><rect fill=\"white\" height=\"40\" stroke=\"black\" stroke-width=\"1\" width=\"40\" x=\"96.09515625\" y=\"5.0\"/><text dominant-baseline=\"middle\" font-size=\"14px\" text-anchor=\"middle\" x=\"116.09515625\" y=\"25.0\">H3</text></svg>"
          },
          "metadata": {
            "tags": []
          }
        },
        {
          "output_type": "stream",
          "text": [
            "\n",
            "Final state in Dirac notation: 0.5|0⟩ + 0.5|1⟩ + 0.71|2⟩\n",
            "q (d=3)=1\n"
          ],
          "name": "stdout"
        }
      ]
    }
  ]
}