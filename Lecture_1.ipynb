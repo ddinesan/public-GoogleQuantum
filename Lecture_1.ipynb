{
  "nbformat": 4,
  "nbformat_minor": 0,
  "metadata": {
    "colab": {
      "name": "Lecture 1.ipynb",
      "provenance": [],
      "include_colab_link": true
    },
    "kernelspec": {
      "name": "python3",
      "display_name": "Python 3"
    }
  },
  "cells": [
    {
      "cell_type": "markdown",
      "metadata": {
        "id": "view-in-github",
        "colab_type": "text"
      },
      "source": [
        "<a href=\"https://colab.research.google.com/github/ddinesan/Manga/blob/master/Lecture_1.ipynb\" target=\"_parent\"><img src=\"https://colab.research.google.com/assets/colab-badge.svg\" alt=\"Open In Colab\"/></a>"
      ]
    },
    {
      "cell_type": "markdown",
      "metadata": {
        "id": "ecw_fr0vKXIy",
        "colab_type": "text"
      },
      "source": [
        "# **Welcome to Introduction to Quantum Computer Programming (with Cirq!)**\n",
        "\n",
        "This is a worksheet prepared by Evan Peters for Lecture 1 of the reading course \"Introduction to Quantum Computer Programming\" (AMATH 900/ AMATH 495/ QIC 895) at the University of Waterloo. \n",
        "\n",
        "Course Webpage: https://sites.google.com/view/quantum-computer-programming\n",
        "\n",
        "Text followed in the course: [Quantum Computing, An Applied Approach](https://www.springer.com/gp/book/9783030239213) by Jack D. Hidary (2019)\n",
        "\n",
        "This is a Colab notebook that makes it convenient to explain material that involves algorithms and quantum circuits alongside actual running code examples, without having to install/run any of the software on your local machine. \n",
        "The following sections will give a brief overview of how colab notebooks work.\n",
        "\n",
        "## Writing text cells using markdown\n",
        "\n",
        "You can add a cell for text or pictures by clicking the `+ Text` button in the top left corner (or hover your mouse at the bottom middle of this cell). When you're done writing out the text, type **Shift+Enter** to finalize the cell.\n",
        "\n",
        "Text cells are formatted using [Markdown](https://www.markdownguide.org/getting-started/), which provides some standardized options for formatting using only text entries. The best way to learn is to start writing out your presentation and have a [Markdown Cheatsheet](https://guides.github.com/features/mastering-markdown/) open for reference.\n",
        "\n",
        "*your test cell appears below this line*\n",
        "\n",
        "---\n"
      ]
    },
    {
      "cell_type": "markdown",
      "metadata": {
        "id": "Btk8GHOBKsLg",
        "colab_type": "text"
      },
      "source": [
        "## Writing and running code\n",
        "\n",
        "The notebook you're currently in is a [Jupyter Notebook](https://jupyter.readthedocs.io/en/latest/) hosted by [Google Colaboratory](https://colab.research.google.com/notebooks/basic_features_overview.ipynb). This notebook runs python scripts on remote servers, and so you don't need to install all of the software on your local machine if you don't want to. However, much longer code examples can be difficult to develop in a notebook setting, so you might want to write your code locally and then copy and paste it into colab to share with others.\n",
        "\n",
        "### Running Python code cells\n",
        "\n",
        "Click the cell below this one and type **Shift+Enter** (or click the 'play' button on the left) to run the Python code it contains."
      ]
    },
    {
      "cell_type": "code",
      "metadata": {
        "id": "2Ey3Agi7VCRB",
        "colab_type": "code",
        "colab": {}
      },
      "source": [
        "print(\"I am the print function. I am your best friend for debugging\")"
      ],
      "execution_count": null,
      "outputs": []
    },
    {
      "cell_type": "markdown",
      "metadata": {
        "id": "Th3yHYXhVtct",
        "colab_type": "text"
      },
      "source": [
        "Notice three things:\n",
        " 1. A small 'stop' symbol appears on the left. This is to show you that the code is running\n",
        " 2. The output appears immediately below the code cell it came from, which reports results of running the code when/if it completes.\n",
        " 3. A number appears in brackets to the left of the code cell (e.g. `[2]`). This is to tell you what order the cells ran in, since _the code environment depends on the specific sequence of cells you have run_.\n",
        "\n",
        "Lets explore number (3) in more detail. Click this cell, and then tap the down arrow on your keyboard twice to skip over one code cell. Then type **Shift+Enter**.\n",
        "\n"
      ]
    },
    {
      "cell_type": "code",
      "metadata": {
        "id": "B5W7QoCcXQY9",
        "colab_type": "code",
        "colab": {}
      },
      "source": [
        "def my_print_function(x):\n",
        "  print(\"The value of x is {}\".format(x))"
      ],
      "execution_count": null,
      "outputs": []
    },
    {
      "cell_type": "code",
      "metadata": {
        "id": "V0BfwMhnXYrU",
        "colab_type": "code",
        "colab": {}
      },
      "source": [
        "y = 3\n",
        "my_print_function(y)"
      ],
      "execution_count": null,
      "outputs": []
    },
    {
      "cell_type": "markdown",
      "metadata": {
        "id": "O7ytnlN_XpQN",
        "colab_type": "text"
      },
      "source": [
        "The code should have failed, because you never ran the code that defined `my_print_function`. Now, run both of the above code cells again, but this time in sequence - it should now run because the cells were run in the order that they were intended. **If code is failing in a colab notebook, you should always check that you have been running all of the code cells in sequence up to that point**"
      ]
    },
    {
      "cell_type": "markdown",
      "metadata": {
        "id": "SeOisK4jUnRe",
        "colab_type": "text"
      },
      "source": [
        "### Setting up dependencies\n",
        "The server hosting our notebooks has no idea what kinds of dependencies our programs will have. Therefore at the beginning of each notebook we need to set up an environment with all the packages we'll want. This requires a few commands that are not strictly Python.\n",
        "\n",
        "Run the next cell to install Cirq"
      ]
    },
    {
      "cell_type": "code",
      "metadata": {
        "id": "O5uzkaoGJLdr",
        "colab_type": "code",
        "colab": {}
      },
      "source": [
        "!pip install cirq"
      ],
      "execution_count": null,
      "outputs": []
    },
    {
      "cell_type": "markdown",
      "metadata": {
        "id": "PpctVSodMgrG",
        "colab_type": "text"
      },
      "source": [
        "Now we're ready to write code with Cirq!\n",
        "\n",
        "### Displaying circuits\n",
        "\n",
        "You will learn how to write Cirq code in the course of this seminar, but here we will share a few tools to visualize quantum circuits."
      ]
    },
    {
      "cell_type": "code",
      "metadata": {
        "id": "plpd9BinMgfv",
        "colab_type": "code",
        "colab": {}
      },
      "source": [
        "# Define an arbitrary circuit - this just prepares the bell state\n",
        "import cirq\n",
        "q0, q1 = cirq.GridQubit.rect(1, 2)\n",
        "my_circuit = cirq.Circuit(cirq.H(q0), cirq.CNOT(q0, q1))"
      ],
      "execution_count": null,
      "outputs": []
    },
    {
      "cell_type": "markdown",
      "metadata": {
        "id": "HMxA473uP1mz",
        "colab_type": "text"
      },
      "source": [
        "#### Method 1: ASCII circuit diagrams"
      ]
    },
    {
      "cell_type": "code",
      "metadata": {
        "id": "ocq46GgPQMWd",
        "colab_type": "code",
        "colab": {}
      },
      "source": [
        "print(my_circuit) # you can also use `display(my_circuit)`"
      ],
      "execution_count": null,
      "outputs": []
    },
    {
      "cell_type": "markdown",
      "metadata": {
        "id": "cQ0psRrJbYXX",
        "colab_type": "text"
      },
      "source": [
        "#### Method 2: Render an SVG circuit"
      ]
    },
    {
      "cell_type": "code",
      "metadata": {
        "id": "7Q6Zc1jLKRoB",
        "colab_type": "code",
        "colab": {}
      },
      "source": [
        "# Here I'm defining a utility function to print circuits nicely using an svg\n",
        "from cirq.contrib.svg import circuit_to_svg\n",
        "from IPython.display import SVG, display\n",
        "import os\n",
        "\n",
        "def circuit_print(circuit):\n",
        "  \"\"\"Convert the cirq.Circuit to a temp svg and display + garbage collect.\"\"\"\n",
        "  with open(\"temp.svg\", 'w+') as f:\n",
        "    f.write(circuit_to_svg(circuit))\n",
        "  display(SVG('temp.svg'))\n",
        "  os.remove('temp.svg')\n",
        "\n",
        "# Now we can use the above-defined function anywhere in the notebook\n",
        "circuit_print(my_circuit)"
      ],
      "execution_count": null,
      "outputs": []
    },
    {
      "cell_type": "markdown",
      "metadata": {
        "id": "JyS6s3Fwbf4q",
        "colab_type": "text"
      },
      "source": [
        "#### Method 3: Convert the circuit to LaTeX via the QCircuit package"
      ]
    },
    {
      "cell_type": "code",
      "metadata": {
        "id": "EVI4iHJSOfPX",
        "colab_type": "code",
        "colab": {}
      },
      "source": [
        "from cirq.contrib import qcircuit \n",
        "# Colab doesn't support inline LaTeX compilation, but you can copy and paste\n",
        "# the printed LaTeX code to run on your own machine. Follow these instructions:\n",
        "# http://physics.unm.edu/CQuIC/Qcircuit/Qtutorial.pdf\n",
        "print(qcircuit.circuit_to_latex_using_qcircuit(my_circuit))"
      ],
      "execution_count": null,
      "outputs": []
    }
  ]
}