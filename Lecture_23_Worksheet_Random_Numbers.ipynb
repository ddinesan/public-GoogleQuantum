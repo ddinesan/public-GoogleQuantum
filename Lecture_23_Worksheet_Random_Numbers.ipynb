{
  "nbformat": 4,
  "nbformat_minor": 0,
  "metadata": {
    "colab": {
      "name": "Lecture_23_Worksheet_Random_Numbers.ipynb",
      "provenance": [],
      "collapsed_sections": [],
      "include_colab_link": true
    },
    "kernelspec": {
      "display_name": "Python 3",
      "language": "python",
      "name": "python3"
    },
    "language_info": {
      "codemirror_mode": {
        "name": "ipython",
        "version": 3
      },
      "file_extension": ".py",
      "mimetype": "text/x-python",
      "name": "python",
      "nbconvert_exporter": "python",
      "pygments_lexer": "ipython3",
      "version": "3.7.4"
    }
  },
  "cells": [
    {
      "cell_type": "markdown",
      "metadata": {
        "id": "view-in-github",
        "colab_type": "text"
      },
      "source": [
        "<a href=\"https://colab.research.google.com/github/ddinesan/Manga/blob/master/Lecture_23_Worksheet_Random_Numbers.ipynb\" target=\"_parent\"><img src=\"https://colab.research.google.com/assets/colab-badge.svg\" alt=\"Open In Colab\"/></a>"
      ]
    },
    {
      "cell_type": "code",
      "metadata": {
        "colab_type": "code",
        "id": "UelGiTjxFURo",
        "scrolled": true,
        "colab": {
          "base_uri": "https://localhost:8080/",
          "height": 1000
        },
        "outputId": "f641c0c0-67dd-40bc-a1ff-428310b9b811"
      },
      "source": [
        "!pip install cirq"
      ],
      "execution_count": null,
      "outputs": [
        {
          "output_type": "stream",
          "text": [
            "Requirement already satisfied: cirq in c:\\users\\gurleen\\anaconda3\\lib\\site-packages (0.7.0)\n",
            "Requirement already satisfied: google-api-python-client~=1.6 in c:\\users\\gurleen\\anaconda3\\lib\\site-packages (from cirq) (1.7.11)\n",
            "Requirement already satisfied: requests~=2.18 in c:\\users\\gurleen\\anaconda3\\lib\\site-packages (from cirq) (2.22.0)\n",
            "Requirement already satisfied: numpy~=1.16 in c:\\users\\gurleen\\anaconda3\\lib\\site-packages (from cirq) (1.16.5)\n",
            "Requirement already satisfied: networkx==2.3 in c:\\users\\gurleen\\anaconda3\\lib\\site-packages (from cirq) (2.3)\n",
            "Requirement already satisfied: scipy in c:\\users\\gurleen\\anaconda3\\lib\\site-packages (from cirq) (1.3.1)\n",
            "Requirement already satisfied: sortedcontainers~=2.0 in c:\\users\\gurleen\\anaconda3\\lib\\site-packages (from cirq) (2.1.0)\n",
            "Requirement already satisfied: typing-extensions in c:\\users\\gurleen\\anaconda3\\lib\\site-packages (from cirq) (3.7.4.1)\n",
            "Requirement already satisfied: protobuf==3.8.0 in c:\\users\\gurleen\\anaconda3\\lib\\site-packages (from cirq) (3.8.0)\n",
            "Requirement already satisfied: pandas in c:\\users\\gurleen\\anaconda3\\lib\\site-packages (from cirq) (0.25.1)\n",
            "Requirement already satisfied: matplotlib~=3.0 in c:\\users\\gurleen\\anaconda3\\lib\\site-packages (from cirq) (3.1.1)\n",
            "Requirement already satisfied: sympy==1.4 in c:\\users\\gurleen\\anaconda3\\lib\\site-packages (from cirq) (1.4)\n",
            "Requirement already satisfied: uritemplate<4dev,>=3.0.0 in c:\\users\\gurleen\\anaconda3\\lib\\site-packages (from google-api-python-client~=1.6->cirq) (3.0.1)\n",
            "Requirement already satisfied: google-auth>=1.4.1 in c:\\users\\gurleen\\anaconda3\\lib\\site-packages (from google-api-python-client~=1.6->cirq) (1.11.2)\n",
            "Requirement already satisfied: httplib2<1dev,>=0.9.2 in c:\\users\\gurleen\\anaconda3\\lib\\site-packages (from google-api-python-client~=1.6->cirq) (0.17.0)\n",
            "Requirement already satisfied: google-auth-httplib2>=0.0.3 in c:\\users\\gurleen\\anaconda3\\lib\\site-packages (from google-api-python-client~=1.6->cirq) (0.0.3)\n",
            "Requirement already satisfied: six<2dev,>=1.6.1 in c:\\users\\gurleen\\anaconda3\\lib\\site-packages (from google-api-python-client~=1.6->cirq) (1.12.0)\n",
            "Requirement already satisfied: certifi>=2017.4.17 in c:\\users\\gurleen\\anaconda3\\lib\\site-packages (from requests~=2.18->cirq) (2019.9.11)\n",
            "Requirement already satisfied: chardet<3.1.0,>=3.0.2 in c:\\users\\gurleen\\anaconda3\\lib\\site-packages (from requests~=2.18->cirq) (3.0.4)\n",
            "Requirement already satisfied: idna<2.9,>=2.5 in c:\\users\\gurleen\\anaconda3\\lib\\site-packages (from requests~=2.18->cirq) (2.8)\n",
            "Requirement already satisfied: urllib3!=1.25.0,!=1.25.1,<1.26,>=1.21.1 in c:\\users\\gurleen\\anaconda3\\lib\\site-packages (from requests~=2.18->cirq) (1.24.2)\n",
            "Requirement already satisfied: decorator>=4.3.0 in c:\\users\\gurleen\\anaconda3\\lib\\site-packages (from networkx==2.3->cirq) (4.4.0)\n",
            "Requirement already satisfied: setuptools in c:\\users\\gurleen\\anaconda3\\lib\\site-packages (from protobuf==3.8.0->cirq) (41.4.0)\n",
            "Requirement already satisfied: pytz>=2017.2 in c:\\users\\gurleen\\anaconda3\\lib\\site-packages (from pandas->cirq) (2019.3)\n",
            "Requirement already satisfied: python-dateutil>=2.6.1 in c:\\users\\gurleen\\anaconda3\\lib\\site-packages (from pandas->cirq) (2.8.0)\n",
            "Requirement already satisfied: cycler>=0.10 in c:\\users\\gurleen\\anaconda3\\lib\\site-packages (from matplotlib~=3.0->cirq) (0.10.0)\n",
            "Requirement already satisfied: kiwisolver>=1.0.1 in c:\\users\\gurleen\\anaconda3\\lib\\site-packages (from matplotlib~=3.0->cirq) (1.1.0)\n",
            "Requirement already satisfied: pyparsing!=2.0.4,!=2.1.2,!=2.1.6,>=2.0.1 in c:\\users\\gurleen\\anaconda3\\lib\\site-packages (from matplotlib~=3.0->cirq) (2.4.2)\n",
            "Requirement already satisfied: mpmath>=0.19 in c:\\users\\gurleen\\anaconda3\\lib\\site-packages (from sympy==1.4->cirq) (1.1.0)\n",
            "Requirement already satisfied: rsa<4.1,>=3.1.4 in c:\\users\\gurleen\\anaconda3\\lib\\site-packages (from google-auth>=1.4.1->google-api-python-client~=1.6->cirq) (4.0)\n",
            "Requirement already satisfied: cachetools<5.0,>=2.0.0 in c:\\users\\gurleen\\anaconda3\\lib\\site-packages (from google-auth>=1.4.1->google-api-python-client~=1.6->cirq) (4.0.0)\n",
            "Requirement already satisfied: pyasn1-modules>=0.2.1 in c:\\users\\gurleen\\anaconda3\\lib\\site-packages (from google-auth>=1.4.1->google-api-python-client~=1.6->cirq) (0.2.8)\n",
            "Requirement already satisfied: pyasn1>=0.1.3 in c:\\users\\gurleen\\anaconda3\\lib\\site-packages (from rsa<4.1,>=3.1.4->google-auth>=1.4.1->google-api-python-client~=1.6->cirq) (0.4.8)\n"
          ],
          "name": "stdout"
        }
      ]
    },
    {
      "cell_type": "code",
      "metadata": {
        "colab_type": "code",
        "id": "rePW7eVifzI0",
        "scrolled": false,
        "colab": {}
      },
      "source": [
        "import cirq\n",
        "import numpy as np\n",
        "import matplotlib"
      ],
      "execution_count": null,
      "outputs": []
    },
    {
      "cell_type": "code",
      "metadata": {
        "colab_type": "code",
        "id": "my-DyBzbf0Eg",
        "scrolled": false,
        "colab": {}
      },
      "source": [
        "# Here Evan defined a utility function to print circuits as described in Lecture 1\n",
        "from cirq.contrib.svg import circuit_to_svg\n",
        "from IPython.display import SVG, display\n",
        "import os\n",
        "\n",
        "def cprint(circuit):\n",
        "  \"\"\"Convert the cirq.Circuit to a temp svg and display + garbage collect.\"\"\"\n",
        "  with open(\"temp.svg\", 'w+') as f:\n",
        "    f.write(circuit_to_svg(circuit))\n",
        "  display(SVG('temp.svg'))\n",
        "  os.remove('temp.svg')"
      ],
      "execution_count": null,
      "outputs": []
    },
    {
      "cell_type": "markdown",
      "metadata": {
        "colab_type": "text",
        "id": "63tfGz9xji8_"
      },
      "source": [
        "There are two ways to implement the random generator: by using a single qubit and repeating the circuit [log n(with base 2)] times and another by using [log n (with base 2)] qubits, where n is the range of an integer."
      ]
    },
    {
      "cell_type": "markdown",
      "metadata": {
        "id": "y6rK6NRQ5Xlk",
        "colab_type": "text"
      },
      "source": [
        "## Method 1"
      ]
    },
    {
      "cell_type": "markdown",
      "metadata": {
        "colab_type": "text",
        "id": "qfBARPRYiQDg"
      },
      "source": [
        "**Simulating the circuit using 1 qubit**"
      ]
    },
    {
      "cell_type": "markdown",
      "metadata": {
        "colab_type": "text",
        "id": "nlirOnDinERw"
      },
      "source": [
        "Suppose we want an integer in range [0,1024), so repetitions = 10 in this case"
      ]
    },
    {
      "cell_type": "code",
      "metadata": {
        "colab_type": "code",
        "id": "zkZtRPSkgM0r",
        "scrolled": false,
        "colab": {}
      },
      "source": [
        "# Creating a qubit\n",
        "q0 = cirq.NamedQubit(\"q0\")"
      ],
      "execution_count": null,
      "outputs": []
    },
    {
      "cell_type": "code",
      "metadata": {
        "colab_type": "code",
        "id": "ZQ4rVxipgNFp",
        "scrolled": false,
        "colab": {
          "base_uri": "https://localhost:8080/",
          "height": 71
        },
        "outputId": "c5b6cd74-094f-46a5-e46d-0f3db5e2a65a"
      },
      "source": [
        "# Defining the circuit\n",
        "circuit = cirq.Circuit()\n",
        "circuit.append([cirq.H(q0),cirq.measure(q0, key = 'N')])\n",
        "cprint(circuit)"
      ],
      "execution_count": null,
      "outputs": [
        {
          "output_type": "display_data",
          "data": {
            "image/svg+xml": "<svg height=\"50.0\" width=\"224.8974609375\" xmlns=\"http://www.w3.org/2000/svg\"><line stroke=\"#1967d2\" stroke-width=\"1\" x1=\"30.0\" x2=\"194.8974609375\" y1=\"25.0\" y2=\"25.0\"/><rect fill=\"white\" height=\"40\" stroke=\"black\" stroke-width=\"0\" width=\"40\" x=\"10.0\" y=\"5.0\"/><text dominant-baseline=\"middle\" font-size=\"14px\" text-anchor=\"middle\" x=\"30.0\" y=\"25.0\">q0: </text><rect fill=\"white\" height=\"40\" stroke=\"black\" stroke-width=\"1\" width=\"40\" x=\"70.0\" y=\"5.0\"/><text dominant-baseline=\"middle\" font-size=\"18px\" text-anchor=\"middle\" x=\"90.0\" y=\"25.0\">H</text><rect fill=\"white\" height=\"40\" stroke=\"black\" stroke-width=\"1\" width=\"44.8974609375\" x=\"130.0\" y=\"5.0\"/><text dominant-baseline=\"middle\" font-size=\"14px\" text-anchor=\"middle\" x=\"152.44873046875\" y=\"25.0\">M('N')</text></svg>",
            "text/plain": [
              "<IPython.core.display.SVG object>"
            ]
          },
          "metadata": {
            "tags": []
          }
        }
      ]
    },
    {
      "cell_type": "code",
      "metadata": {
        "colab_type": "code",
        "id": "eEeBLX3ggNNO",
        "scrolled": false,
        "colab": {
          "base_uri": "https://localhost:8080/",
          "height": 35
        },
        "outputId": "2c59e4ba-d7a8-4b76-e0cb-c710d7054f6f"
      },
      "source": [
        "## Defining the simulator\n",
        "simulator = cirq.Simulator()\n",
        "\n",
        "# Running the simulation \n",
        "result = simulator.run(circuit, repetitions=10)\n",
        "\n",
        "## printing the result:\n",
        "print(result)"
      ],
      "execution_count": null,
      "outputs": [
        {
          "output_type": "stream",
          "text": [
            "N=0110001010\n"
          ],
          "name": "stdout"
        }
      ]
    },
    {
      "cell_type": "code",
      "metadata": {
        "colab_type": "code",
        "id": "Y6-OhUgsgNcJ",
        "scrolled": false,
        "colab": {}
      },
      "source": [
        ""
      ],
      "execution_count": null,
      "outputs": []
    },
    {
      "cell_type": "code",
      "metadata": {
        "colab_type": "code",
        "id": "TMGTiPZhmpiF",
        "scrolled": false,
        "colab": {}
      },
      "source": [
        ""
      ],
      "execution_count": null,
      "outputs": []
    },
    {
      "cell_type": "code",
      "metadata": {
        "id": "gAcy8nP15Xl1",
        "colab_type": "code",
        "colab": {}
      },
      "source": [
        ""
      ],
      "execution_count": null,
      "outputs": []
    },
    {
      "cell_type": "code",
      "metadata": {
        "id": "yP4r063-5Xl5",
        "colab_type": "code",
        "colab": {}
      },
      "source": [
        ""
      ],
      "execution_count": null,
      "outputs": []
    },
    {
      "cell_type": "markdown",
      "metadata": {
        "id": "Y6QvkNFK5Xl8",
        "colab_type": "text"
      },
      "source": [
        "## Method 2"
      ]
    },
    {
      "cell_type": "markdown",
      "metadata": {
        "colab_type": "text",
        "id": "iP_a5Bgmmu-Z"
      },
      "source": [
        "**Simulating the circuit using log n qubits**"
      ]
    },
    {
      "cell_type": "code",
      "metadata": {
        "colab_type": "code",
        "id": "TlfjgzkmgNkC",
        "scrolled": false,
        "colab": {}
      },
      "source": [
        "# Defining n qubits\n",
        "n = 10\n",
        "q = cirq.LineQubit.range(n)"
      ],
      "execution_count": null,
      "outputs": []
    },
    {
      "cell_type": "code",
      "metadata": {
        "colab_type": "code",
        "id": "kJU4bVoWgNzr",
        "scrolled": false,
        "colab": {
          "base_uri": "https://localhost:8080/",
          "height": 521
        },
        "outputId": "6593d9dd-a678-4f84-f13a-1f83e5add57b"
      },
      "source": [
        "## defining circuit\n",
        "circuit = cirq.Circuit()\n",
        "\n",
        "\n",
        "## adding operators\n",
        "for i in range(n):\n",
        "  circuit.append([cirq.H(q[i]),cirq.measure(q[i])])\n",
        "\n",
        "\n",
        "cprint(circuit)"
      ],
      "execution_count": null,
      "outputs": [
        {
          "output_type": "display_data",
          "data": {
            "image/svg+xml": "<svg height=\"500.0\" width=\"220.0\" xmlns=\"http://www.w3.org/2000/svg\"><line stroke=\"#1967d2\" stroke-width=\"1\" x1=\"30.0\" x2=\"190.0\" y1=\"25.0\" y2=\"25.0\"/><line stroke=\"#1967d2\" stroke-width=\"1\" x1=\"30.0\" x2=\"190.0\" y1=\"75.0\" y2=\"75.0\"/><line stroke=\"#1967d2\" stroke-width=\"1\" x1=\"30.0\" x2=\"190.0\" y1=\"125.0\" y2=\"125.0\"/><line stroke=\"#1967d2\" stroke-width=\"1\" x1=\"30.0\" x2=\"190.0\" y1=\"175.0\" y2=\"175.0\"/><line stroke=\"#1967d2\" stroke-width=\"1\" x1=\"30.0\" x2=\"190.0\" y1=\"225.0\" y2=\"225.0\"/><line stroke=\"#1967d2\" stroke-width=\"1\" x1=\"30.0\" x2=\"190.0\" y1=\"275.0\" y2=\"275.0\"/><line stroke=\"#1967d2\" stroke-width=\"1\" x1=\"30.0\" x2=\"190.0\" y1=\"325.0\" y2=\"325.0\"/><line stroke=\"#1967d2\" stroke-width=\"1\" x1=\"30.0\" x2=\"190.0\" y1=\"375.0\" y2=\"375.0\"/><line stroke=\"#1967d2\" stroke-width=\"1\" x1=\"30.0\" x2=\"190.0\" y1=\"425.0\" y2=\"425.0\"/><line stroke=\"#1967d2\" stroke-width=\"1\" x1=\"30.0\" x2=\"190.0\" y1=\"475.0\" y2=\"475.0\"/><rect fill=\"white\" height=\"40\" stroke=\"black\" stroke-width=\"0\" width=\"40\" x=\"10.0\" y=\"5.0\"/><text dominant-baseline=\"middle\" font-size=\"14px\" text-anchor=\"middle\" x=\"30.0\" y=\"25.0\">0: </text><rect fill=\"white\" height=\"40\" stroke=\"black\" stroke-width=\"0\" width=\"40\" x=\"10.0\" y=\"55.0\"/><text dominant-baseline=\"middle\" font-size=\"14px\" text-anchor=\"middle\" x=\"30.0\" y=\"75.0\">1: </text><rect fill=\"white\" height=\"40\" stroke=\"black\" stroke-width=\"0\" width=\"40\" x=\"10.0\" y=\"105.0\"/><text dominant-baseline=\"middle\" font-size=\"14px\" text-anchor=\"middle\" x=\"30.0\" y=\"125.0\">2: </text><rect fill=\"white\" height=\"40\" stroke=\"black\" stroke-width=\"0\" width=\"40\" x=\"10.0\" y=\"155.0\"/><text dominant-baseline=\"middle\" font-size=\"14px\" text-anchor=\"middle\" x=\"30.0\" y=\"175.0\">3: </text><rect fill=\"white\" height=\"40\" stroke=\"black\" stroke-width=\"0\" width=\"40\" x=\"10.0\" y=\"205.0\"/><text dominant-baseline=\"middle\" font-size=\"14px\" text-anchor=\"middle\" x=\"30.0\" y=\"225.0\">4: </text><rect fill=\"white\" height=\"40\" stroke=\"black\" stroke-width=\"0\" width=\"40\" x=\"10.0\" y=\"255.0\"/><text dominant-baseline=\"middle\" font-size=\"14px\" text-anchor=\"middle\" x=\"30.0\" y=\"275.0\">5: </text><rect fill=\"white\" height=\"40\" stroke=\"black\" stroke-width=\"0\" width=\"40\" x=\"10.0\" y=\"305.0\"/><text dominant-baseline=\"middle\" font-size=\"14px\" text-anchor=\"middle\" x=\"30.0\" y=\"325.0\">6: </text><rect fill=\"white\" height=\"40\" stroke=\"black\" stroke-width=\"0\" width=\"40\" x=\"10.0\" y=\"355.0\"/><text dominant-baseline=\"middle\" font-size=\"14px\" text-anchor=\"middle\" x=\"30.0\" y=\"375.0\">7: </text><rect fill=\"white\" height=\"40\" stroke=\"black\" stroke-width=\"0\" width=\"40\" x=\"10.0\" y=\"405.0\"/><text dominant-baseline=\"middle\" font-size=\"14px\" text-anchor=\"middle\" x=\"30.0\" y=\"425.0\">8: </text><rect fill=\"white\" height=\"40\" stroke=\"black\" stroke-width=\"0\" width=\"40\" x=\"10.0\" y=\"455.0\"/><text dominant-baseline=\"middle\" font-size=\"14px\" text-anchor=\"middle\" x=\"30.0\" y=\"475.0\">9: </text><rect fill=\"white\" height=\"40\" stroke=\"black\" stroke-width=\"1\" width=\"40\" x=\"70.0\" y=\"5.0\"/><text dominant-baseline=\"middle\" font-size=\"18px\" text-anchor=\"middle\" x=\"90.0\" y=\"25.0\">H</text><rect fill=\"white\" height=\"40\" stroke=\"black\" stroke-width=\"1\" width=\"40\" x=\"70.0\" y=\"55.0\"/><text dominant-baseline=\"middle\" font-size=\"18px\" text-anchor=\"middle\" x=\"90.0\" y=\"75.0\">H</text><rect fill=\"white\" height=\"40\" stroke=\"black\" stroke-width=\"1\" width=\"40\" x=\"70.0\" y=\"105.0\"/><text dominant-baseline=\"middle\" font-size=\"18px\" text-anchor=\"middle\" x=\"90.0\" y=\"125.0\">H</text><rect fill=\"white\" height=\"40\" stroke=\"black\" stroke-width=\"1\" width=\"40\" x=\"70.0\" y=\"155.0\"/><text dominant-baseline=\"middle\" font-size=\"18px\" text-anchor=\"middle\" x=\"90.0\" y=\"175.0\">H</text><rect fill=\"white\" height=\"40\" stroke=\"black\" stroke-width=\"1\" width=\"40\" x=\"70.0\" y=\"205.0\"/><text dominant-baseline=\"middle\" font-size=\"18px\" text-anchor=\"middle\" x=\"90.0\" y=\"225.0\">H</text><rect fill=\"white\" height=\"40\" stroke=\"black\" stroke-width=\"1\" width=\"40\" x=\"70.0\" y=\"255.0\"/><text dominant-baseline=\"middle\" font-size=\"18px\" text-anchor=\"middle\" x=\"90.0\" y=\"275.0\">H</text><rect fill=\"white\" height=\"40\" stroke=\"black\" stroke-width=\"1\" width=\"40\" x=\"70.0\" y=\"305.0\"/><text dominant-baseline=\"middle\" font-size=\"18px\" text-anchor=\"middle\" x=\"90.0\" y=\"325.0\">H</text><rect fill=\"white\" height=\"40\" stroke=\"black\" stroke-width=\"1\" width=\"40\" x=\"70.0\" y=\"355.0\"/><text dominant-baseline=\"middle\" font-size=\"18px\" text-anchor=\"middle\" x=\"90.0\" y=\"375.0\">H</text><rect fill=\"white\" height=\"40\" stroke=\"black\" stroke-width=\"1\" width=\"40\" x=\"70.0\" y=\"405.0\"/><text dominant-baseline=\"middle\" font-size=\"18px\" text-anchor=\"middle\" x=\"90.0\" y=\"425.0\">H</text><rect fill=\"white\" height=\"40\" stroke=\"black\" stroke-width=\"1\" width=\"40\" x=\"70.0\" y=\"455.0\"/><text dominant-baseline=\"middle\" font-size=\"18px\" text-anchor=\"middle\" x=\"90.0\" y=\"475.0\">H</text><rect fill=\"white\" height=\"40\" stroke=\"black\" stroke-width=\"1\" width=\"40\" x=\"130.0\" y=\"5.0\"/><text dominant-baseline=\"middle\" font-size=\"18px\" text-anchor=\"middle\" x=\"150.0\" y=\"25.0\">M</text><rect fill=\"white\" height=\"40\" stroke=\"black\" stroke-width=\"1\" width=\"40\" x=\"130.0\" y=\"55.0\"/><text dominant-baseline=\"middle\" font-size=\"18px\" text-anchor=\"middle\" x=\"150.0\" y=\"75.0\">M</text><rect fill=\"white\" height=\"40\" stroke=\"black\" stroke-width=\"1\" width=\"40\" x=\"130.0\" y=\"105.0\"/><text dominant-baseline=\"middle\" font-size=\"18px\" text-anchor=\"middle\" x=\"150.0\" y=\"125.0\">M</text><rect fill=\"white\" height=\"40\" stroke=\"black\" stroke-width=\"1\" width=\"40\" x=\"130.0\" y=\"155.0\"/><text dominant-baseline=\"middle\" font-size=\"18px\" text-anchor=\"middle\" x=\"150.0\" y=\"175.0\">M</text><rect fill=\"white\" height=\"40\" stroke=\"black\" stroke-width=\"1\" width=\"40\" x=\"130.0\" y=\"205.0\"/><text dominant-baseline=\"middle\" font-size=\"18px\" text-anchor=\"middle\" x=\"150.0\" y=\"225.0\">M</text><rect fill=\"white\" height=\"40\" stroke=\"black\" stroke-width=\"1\" width=\"40\" x=\"130.0\" y=\"255.0\"/><text dominant-baseline=\"middle\" font-size=\"18px\" text-anchor=\"middle\" x=\"150.0\" y=\"275.0\">M</text><rect fill=\"white\" height=\"40\" stroke=\"black\" stroke-width=\"1\" width=\"40\" x=\"130.0\" y=\"305.0\"/><text dominant-baseline=\"middle\" font-size=\"18px\" text-anchor=\"middle\" x=\"150.0\" y=\"325.0\">M</text><rect fill=\"white\" height=\"40\" stroke=\"black\" stroke-width=\"1\" width=\"40\" x=\"130.0\" y=\"355.0\"/><text dominant-baseline=\"middle\" font-size=\"18px\" text-anchor=\"middle\" x=\"150.0\" y=\"375.0\">M</text><rect fill=\"white\" height=\"40\" stroke=\"black\" stroke-width=\"1\" width=\"40\" x=\"130.0\" y=\"405.0\"/><text dominant-baseline=\"middle\" font-size=\"18px\" text-anchor=\"middle\" x=\"150.0\" y=\"425.0\">M</text><rect fill=\"white\" height=\"40\" stroke=\"black\" stroke-width=\"1\" width=\"40\" x=\"130.0\" y=\"455.0\"/><text dominant-baseline=\"middle\" font-size=\"18px\" text-anchor=\"middle\" x=\"150.0\" y=\"475.0\">M</text></svg>",
            "text/plain": [
              "<IPython.core.display.SVG object>"
            ]
          },
          "metadata": {
            "tags": []
          }
        }
      ]
    },
    {
      "cell_type": "code",
      "metadata": {
        "colab_type": "code",
        "id": "mMBskrzRf0kA",
        "scrolled": false,
        "colab": {
          "base_uri": "https://localhost:8080/",
          "height": 191
        },
        "outputId": "887f0214-a05b-45a8-d2f4-1a9b74e43a81"
      },
      "source": [
        "## Defining the simulator\n",
        "simulator = cirq.Simulator()\n",
        "\n",
        "# Running the simulation \n",
        "result = simulator.run(circuit)\n",
        "\n",
        "#print( list(result.histogram)[0])\n",
        "\n",
        "## printing the result:\n",
        "print(result)"
      ],
      "execution_count": null,
      "outputs": [
        {
          "output_type": "stream",
          "text": [
            "0=0\n",
            "1=0\n",
            "2=1\n",
            "3=1\n",
            "4=0\n",
            "5=0\n",
            "6=0\n",
            "7=0\n",
            "8=1\n",
            "9=0\n"
          ],
          "name": "stdout"
        }
      ]
    },
    {
      "cell_type": "code",
      "metadata": {
        "colab_type": "code",
        "id": "GTrezMYqrcu6",
        "colab": {}
      },
      "source": [
        "## Getting integers"
      ],
      "execution_count": null,
      "outputs": []
    },
    {
      "cell_type": "code",
      "metadata": {
        "id": "-p-mxnBE5XmG",
        "colab_type": "code",
        "colab": {}
      },
      "source": [
        "def random_bit():\n",
        "  qubit = cirq.NamedQubit('q0')\n",
        "  circuit = cirq.Circuit()\n",
        "  circuit.append([cirq.H(q0),cirq.measure(q0, key = 'N')])\n",
        "\n",
        "\n",
        "  simulator = cirq.Simulator()\n",
        "  result = simulator.run(circuit)\n",
        "\n",
        "\n",
        "  bit = list(result.histogram(key='N'))[0] ## Adding the index helps to get \n",
        "    #the actual bit instead of list of the single number\n",
        "  return bit"
      ],
      "execution_count": null,
      "outputs": []
    },
    {
      "cell_type": "code",
      "metadata": {
        "id": "XtW2f61K5XmK",
        "colab_type": "code",
        "colab": {},
        "outputId": "29c92154-7a13-4c5d-9709-8f16e0b830b4"
      },
      "source": [
        "bit = random_bit()\n",
        "print(bit)"
      ],
      "execution_count": null,
      "outputs": [
        {
          "output_type": "stream",
          "text": [
            "0\n"
          ],
          "name": "stdout"
        }
      ]
    },
    {
      "cell_type": "code",
      "metadata": {
        "id": "wHVQ5IS95XmO",
        "colab_type": "code",
        "colab": {},
        "outputId": "3205124a-f08b-4307-c186-97b9a3848a86"
      },
      "source": [
        "Integer = 0\n",
        "bit_string = ''\n",
        "for i in range(0,4):\n",
        "    bit = random_bit()\n",
        "    bit_string = str(bit) + bit_string ##stores the binary string\n",
        "    ##print(bit)\n",
        "    Integer = Integer + bit* (2**i) ## to convert the bit to integer\n",
        "\n",
        "print(bit_string)\n",
        "print(Integer)"
      ],
      "execution_count": null,
      "outputs": [
        {
          "output_type": "stream",
          "text": [
            "0001\n",
            "1\n"
          ],
          "name": "stdout"
        }
      ]
    },
    {
      "cell_type": "code",
      "metadata": {
        "id": "rWZDsR2K5XmQ",
        "colab_type": "code",
        "colab": {}
      },
      "source": [
        ""
      ],
      "execution_count": null,
      "outputs": []
    },
    {
      "cell_type": "code",
      "metadata": {
        "id": "Stkcrt_j5XmS",
        "colab_type": "code",
        "colab": {}
      },
      "source": [
        ""
      ],
      "execution_count": null,
      "outputs": []
    },
    {
      "cell_type": "code",
      "metadata": {
        "id": "J2atbjTJ5XmU",
        "colab_type": "code",
        "colab": {}
      },
      "source": [
        ""
      ],
      "execution_count": null,
      "outputs": []
    },
    {
      "cell_type": "code",
      "metadata": {
        "id": "GgoYEpBC5XmX",
        "colab_type": "code",
        "colab": {}
      },
      "source": [
        ""
      ],
      "execution_count": null,
      "outputs": []
    },
    {
      "cell_type": "markdown",
      "metadata": {
        "id": "sOuz5-gU5Xmb",
        "colab_type": "text"
      },
      "source": [
        "## What if the integer is not in range [0, $2^n$) ?"
      ]
    },
    {
      "cell_type": "markdown",
      "metadata": {
        "id": "CaPdKoMk5Xmb",
        "colab_type": "text"
      },
      "source": [
        "Suppose we want the no. in the range [0,10]"
      ]
    },
    {
      "cell_type": "code",
      "metadata": {
        "colab_type": "code",
        "id": "OjrnqqeQrdDN",
        "scrolled": false,
        "colab": {}
      },
      "source": [
        "def output():\n",
        "    Integer = 0\n",
        "    bit_string = ''\n",
        "    for i in range(0,4):\n",
        "        bit = random_bit()\n",
        "        bit_string = str(bit) + bit_string ##stores the binary string\n",
        "        ##print(bit)\n",
        "        Integer = Integer + bit* (2**i) ## to convert the bit to integer\n",
        "\n",
        "    print(bit_string)\n",
        "    if(Integer > 10):\n",
        "        output()\n",
        "    else:   \n",
        "        print(Integer)"
      ],
      "execution_count": null,
      "outputs": []
    },
    {
      "cell_type": "code",
      "metadata": {
        "id": "4mqeNPVP5Xmf",
        "colab_type": "code",
        "colab": {},
        "outputId": "0d26e09c-a966-4fc7-c39a-b86fa7c2c92f"
      },
      "source": [
        "output()"
      ],
      "execution_count": null,
      "outputs": [
        {
          "output_type": "stream",
          "text": [
            "1101\n",
            "0011\n",
            "3\n"
          ],
          "name": "stdout"
        }
      ]
    },
    {
      "cell_type": "code",
      "metadata": {
        "id": "e962MDzZ5Xmi",
        "colab_type": "code",
        "colab": {}
      },
      "source": [
        ""
      ],
      "execution_count": null,
      "outputs": []
    }
  ]
}