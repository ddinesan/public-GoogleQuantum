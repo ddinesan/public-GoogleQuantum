{
  "nbformat": 4,
  "nbformat_minor": 0,
  "metadata": {
    "kernelspec": {
      "display_name": "Python 3",
      "language": "python",
      "name": "python3"
    },
    "language_info": {
      "codemirror_mode": {
        "name": "ipython",
        "version": 3
      },
      "file_extension": ".py",
      "mimetype": "text/x-python",
      "name": "python",
      "nbconvert_exporter": "python",
      "pygments_lexer": "ipython3",
      "version": "3.8.0"
    },
    "colab": {
      "name": "Lecture 8.ipynb",
      "provenance": [],
      "include_colab_link": true
    }
  },
  "cells": [
    {
      "cell_type": "markdown",
      "metadata": {
        "id": "view-in-github",
        "colab_type": "text"
      },
      "source": [
        "<a href=\"https://colab.research.google.com/github/ddinesan/Manga/blob/master/Lecture_8.ipynb\" target=\"_parent\"><img src=\"https://colab.research.google.com/assets/colab-badge.svg\" alt=\"Open In Colab\"/></a>"
      ]
    },
    {
      "cell_type": "markdown",
      "metadata": {
        "id": "I1Y95YCp9Bdc",
        "colab_type": "text"
      },
      "source": [
        "# How to Create Superposition of Qubits Using Cirq"
      ]
    },
    {
      "cell_type": "markdown",
      "metadata": {
        "id": "LdqNn2xMmaZ3",
        "colab_type": "text"
      },
      "source": [
        "This is a worksheet prepared by Samantha Buck, Julien Roth and Kelly Zheng for Lecture 8 of the reading course \"Introduction to Quantum Computer Programming\" (AMATH 900/ AMATH 495/ QIC 895) at the University of Waterloo.\n",
        "\n",
        "Course Webpage: https://sites.google.com/view/quantum-computer-programming\n",
        "\n",
        "Text followed in the course: [Quantum Computing, An Applied Approach](https://www.springer.com/gp/book/9783030239213) by Jack D. Hidary (2019)\n"
      ]
    },
    {
      "cell_type": "code",
      "metadata": {
        "id": "AeuMmUZY9Gq3",
        "colab_type": "code",
        "colab": {
          "base_uri": "https://localhost:8080/",
          "height": 1000
        },
        "outputId": "412db15c-ea6d-41c9-a8b3-87da3672e386"
      },
      "source": [
        "!pip install cirq qutip"
      ],
      "execution_count": null,
      "outputs": [
        {
          "output_type": "stream",
          "text": [
            "Collecting cirq\n",
            "\u001b[?25l  Downloading https://files.pythonhosted.org/packages/53/29/a66c4c28306dae359745e37c4c10120e477da44cb050d06d8ceb1117a22a/cirq-0.7.0-py3-none-any.whl (1.2MB)\n",
            "\u001b[K     |████████████████████████████████| 1.2MB 2.8MB/s \n",
            "\u001b[?25hCollecting qutip\n",
            "\u001b[?25l  Downloading https://files.pythonhosted.org/packages/61/ae/96cd2050155b125b70be182f13d052746e9ee000e93f466ab1de4e2b9c1f/qutip-4.4.1.tar.gz (3.8MB)\n",
            "\u001b[K     |████████████████████████████████| 3.8MB 21.1MB/s \n",
            "\u001b[?25hRequirement already satisfied: matplotlib~=3.0 in /usr/local/lib/python3.6/dist-packages (from cirq) (3.1.2)\n",
            "Requirement already satisfied: requests~=2.18 in /usr/local/lib/python3.6/dist-packages (from cirq) (2.21.0)\n",
            "Requirement already satisfied: numpy~=1.16 in /usr/local/lib/python3.6/dist-packages (from cirq) (1.17.5)\n",
            "Requirement already satisfied: google-api-python-client~=1.6 in /usr/local/lib/python3.6/dist-packages (from cirq) (1.7.11)\n",
            "Collecting networkx==2.3\n",
            "\u001b[?25l  Downloading https://files.pythonhosted.org/packages/85/08/f20aef11d4c343b557e5de6b9548761811eb16e438cee3d32b1c66c8566b/networkx-2.3.zip (1.7MB)\n",
            "\u001b[K     |████████████████████████████████| 1.8MB 27.7MB/s \n",
            "\u001b[?25hCollecting protobuf==3.8.0\n",
            "\u001b[?25l  Downloading https://files.pythonhosted.org/packages/d2/fb/29de8d08967f0cce1bb10b39846d836b0f3bf6776ddc36aed7c73498ca7e/protobuf-3.8.0-cp36-cp36m-manylinux1_x86_64.whl (1.2MB)\n",
            "\u001b[K     |████████████████████████████████| 1.2MB 42.8MB/s \n",
            "\u001b[?25hRequirement already satisfied: pandas in /usr/local/lib/python3.6/dist-packages (from cirq) (0.25.3)\n",
            "Requirement already satisfied: typing-extensions in /usr/local/lib/python3.6/dist-packages (from cirq) (3.6.6)\n",
            "Collecting sympy==1.4\n",
            "\u001b[?25l  Downloading https://files.pythonhosted.org/packages/21/21/f4105795ca7f35c541d82c5b06be684dd2f5cb4f508fb487cd7aea4de776/sympy-1.4-py2.py3-none-any.whl (5.3MB)\n",
            "\u001b[K     |████████████████████████████████| 5.3MB 39.7MB/s \n",
            "\u001b[?25hRequirement already satisfied: sortedcontainers~=2.0 in /usr/local/lib/python3.6/dist-packages (from cirq) (2.1.0)\n",
            "Requirement already satisfied: dataclasses; python_version < \"3.7\" in /usr/local/lib/python3.6/dist-packages (from cirq) (0.7)\n",
            "Requirement already satisfied: scipy in /usr/local/lib/python3.6/dist-packages (from cirq) (1.4.1)\n",
            "Requirement already satisfied: cython>=0.21 in /usr/local/lib/python3.6/dist-packages (from qutip) (0.29.14)\n",
            "Requirement already satisfied: kiwisolver>=1.0.1 in /usr/local/lib/python3.6/dist-packages (from matplotlib~=3.0->cirq) (1.1.0)\n",
            "Requirement already satisfied: python-dateutil>=2.1 in /usr/local/lib/python3.6/dist-packages (from matplotlib~=3.0->cirq) (2.6.1)\n",
            "Requirement already satisfied: pyparsing!=2.0.4,!=2.1.2,!=2.1.6,>=2.0.1 in /usr/local/lib/python3.6/dist-packages (from matplotlib~=3.0->cirq) (2.4.6)\n",
            "Requirement already satisfied: cycler>=0.10 in /usr/local/lib/python3.6/dist-packages (from matplotlib~=3.0->cirq) (0.10.0)\n",
            "Requirement already satisfied: idna<2.9,>=2.5 in /usr/local/lib/python3.6/dist-packages (from requests~=2.18->cirq) (2.8)\n",
            "Requirement already satisfied: chardet<3.1.0,>=3.0.2 in /usr/local/lib/python3.6/dist-packages (from requests~=2.18->cirq) (3.0.4)\n",
            "Requirement already satisfied: urllib3<1.25,>=1.21.1 in /usr/local/lib/python3.6/dist-packages (from requests~=2.18->cirq) (1.24.3)\n",
            "Requirement already satisfied: certifi>=2017.4.17 in /usr/local/lib/python3.6/dist-packages (from requests~=2.18->cirq) (2019.11.28)\n",
            "Requirement already satisfied: google-auth-httplib2>=0.0.3 in /usr/local/lib/python3.6/dist-packages (from google-api-python-client~=1.6->cirq) (0.0.3)\n",
            "Requirement already satisfied: httplib2<1dev,>=0.9.2 in /usr/local/lib/python3.6/dist-packages (from google-api-python-client~=1.6->cirq) (0.11.3)\n",
            "Requirement already satisfied: six<2dev,>=1.6.1 in /usr/local/lib/python3.6/dist-packages (from google-api-python-client~=1.6->cirq) (1.12.0)\n",
            "Requirement already satisfied: uritemplate<4dev,>=3.0.0 in /usr/local/lib/python3.6/dist-packages (from google-api-python-client~=1.6->cirq) (3.0.1)\n",
            "Requirement already satisfied: google-auth>=1.4.1 in /usr/local/lib/python3.6/dist-packages (from google-api-python-client~=1.6->cirq) (1.4.2)\n",
            "Requirement already satisfied: decorator>=4.3.0 in /usr/local/lib/python3.6/dist-packages (from networkx==2.3->cirq) (4.4.1)\n",
            "Requirement already satisfied: setuptools in /usr/local/lib/python3.6/dist-packages (from protobuf==3.8.0->cirq) (42.0.2)\n",
            "Requirement already satisfied: pytz>=2017.2 in /usr/local/lib/python3.6/dist-packages (from pandas->cirq) (2018.9)\n",
            "Requirement already satisfied: mpmath>=0.19 in /usr/local/lib/python3.6/dist-packages (from sympy==1.4->cirq) (1.1.0)\n",
            "Requirement already satisfied: pyasn1-modules>=0.2.1 in /usr/local/lib/python3.6/dist-packages (from google-auth>=1.4.1->google-api-python-client~=1.6->cirq) (0.2.7)\n",
            "Requirement already satisfied: cachetools>=2.0.0 in /usr/local/lib/python3.6/dist-packages (from google-auth>=1.4.1->google-api-python-client~=1.6->cirq) (4.0.0)\n",
            "Requirement already satisfied: rsa>=3.1.4 in /usr/local/lib/python3.6/dist-packages (from google-auth>=1.4.1->google-api-python-client~=1.6->cirq) (4.0)\n",
            "Requirement already satisfied: pyasn1<0.5.0,>=0.4.6 in /usr/local/lib/python3.6/dist-packages (from pyasn1-modules>=0.2.1->google-auth>=1.4.1->google-api-python-client~=1.6->cirq) (0.4.8)\n",
            "Building wheels for collected packages: qutip, networkx\n",
            "  Building wheel for qutip (setup.py) ... \u001b[?25l\u001b[?25hdone\n",
            "  Created wheel for qutip: filename=qutip-4.4.1-cp36-cp36m-linux_x86_64.whl size=13219071 sha256=6dc84c84ab28c92e3c79b6ff1f754110e7a24d3269924a0743fa69bcc2b989ae\n",
            "  Stored in directory: /root/.cache/pip/wheels/3b/23/d5/612753c4a08bf617138f3ed26e57933dc606b3f0f4e9cc60b8\n",
            "  Building wheel for networkx (setup.py) ... \u001b[?25l\u001b[?25hdone\n",
            "  Created wheel for networkx: filename=networkx-2.3-py2.py3-none-any.whl size=1556408 sha256=dc4188b6982db0684c6f87ffbf4447d8141767876c04a13ab484aeb13c4185a4\n",
            "  Stored in directory: /root/.cache/pip/wheels/de/63/64/3699be2a9d0ccdb37c7f16329acf3863fd76eda58c39c737af\n",
            "Successfully built qutip networkx\n",
            "\u001b[31mERROR: albumentations 0.1.12 has requirement imgaug<0.2.7,>=0.2.5, but you'll have imgaug 0.2.9 which is incompatible.\u001b[0m\n",
            "Installing collected packages: networkx, protobuf, sympy, cirq, qutip\n",
            "  Found existing installation: networkx 2.4\n",
            "    Uninstalling networkx-2.4:\n",
            "      Successfully uninstalled networkx-2.4\n",
            "  Found existing installation: protobuf 3.10.0\n",
            "    Uninstalling protobuf-3.10.0:\n",
            "      Successfully uninstalled protobuf-3.10.0\n",
            "  Found existing installation: sympy 1.1.1\n",
            "    Uninstalling sympy-1.1.1:\n",
            "      Successfully uninstalled sympy-1.1.1\n",
            "Successfully installed cirq-0.7.0 networkx-2.3 protobuf-3.8.0 qutip-4.4.1 sympy-1.4\n"
          ],
          "name": "stdout"
        },
        {
          "output_type": "display_data",
          "data": {
            "application/vnd.colab-display-data+json": {
              "pip_warning": {
                "packages": [
                  "google"
                ]
              }
            }
          },
          "metadata": {
            "tags": []
          }
        }
      ]
    },
    {
      "cell_type": "code",
      "metadata": {
        "id": "gb0FCHdw9Bdf",
        "colab_type": "code",
        "colab": {}
      },
      "source": [
        "import random \n",
        "import cirq\n",
        "import qutip\n",
        "import numpy as np\n",
        "from cirq.circuits import InsertStrategy\n",
        "\n",
        "from cirq.contrib.svg import circuit_to_svg\n",
        "from IPython.display import SVG, display\n",
        "import os\n"
      ],
      "execution_count": null,
      "outputs": []
    },
    {
      "cell_type": "code",
      "metadata": {
        "id": "NzHoURA69Bdj",
        "colab_type": "code",
        "colab": {}
      },
      "source": [
        "#Defining a function to print/output circuits in a clean way. This was shown to us by Nadine in lecture one \n",
        "def cprint(circuit):\n",
        "  \"\"\"Convert the cirq.Circuit to a temp svg and display + garbage collect.\"\"\"\n",
        "  with open(\"temp.svg\", 'w+') as f:\n",
        "    f.write(circuit_to_svg(circuit))\n",
        "  display(SVG('temp.svg'))\n",
        "  os.remove('temp.svg')"
      ],
      "execution_count": null,
      "outputs": []
    },
    {
      "cell_type": "markdown",
      "metadata": {
        "id": "Qu4s1K5B9Bdm",
        "colab_type": "text"
      },
      "source": [
        "# How to Create Entanglement of Qubits Using Cirq"
      ]
    },
    {
      "cell_type": "code",
      "metadata": {
        "id": "72KqXNmY9Bdn",
        "colab_type": "code",
        "colab": {
          "base_uri": "https://localhost:8080/",
          "height": 608
        },
        "outputId": "54dd67db-641f-4e51-d73c-c26426162364"
      },
      "source": [
        "#generate the qubits you want to entangle. Here there are two, you can define more if you wish \n",
        "q0, q1 = cirq.LineQubit.range(2)\n",
        "\n",
        "#how to apply the H gate to a qubit \n",
        "hadamardgate = cirq.H(q0)\n",
        "cprint(cirq.Circuit(hadamardgate))\n",
        "\n",
        "#how to apply a CNOT gate to your qubits\n",
        "controllednot = cirq.CNOT(q0,q1)\n",
        "cprint(cirq.Circuit(controllednot))\n",
        "\n",
        "#out them together to generate the entanglement of qubits 1 and 2\n",
        "q0 = cirq.NamedQubit(\"A\")\n",
        "q1 = cirq.NamedQubit(\"A2\")\n",
        "#q2 = cirq.NamedQubit(\"B\")\n",
        "ops = [cirq.H(q0), cirq.CNOT(q0, q1)]\n",
        "circuit = cirq.Circuit(*ops)\n",
        "cprint(circuit)\n",
        "\n",
        "# Remember by using Circuit's constructor as the tool to construct out circuit, which we have here, cirq takes a list of Moments. Each Moment must be explicitly constructed with its own list of Operations. \n",
        "#This gives complete control over how the operations are layed out\n",
        "\n",
        "#HOWEVER, there are altenrate methods to generating a ciruit, such as the \"append\" and instert\" functions, which would look like the following for our above example:\n",
        "\n",
        "#Using Append:\n",
        "\n",
        "circuit = cirq.Circuit()\n",
        "circuit.append([cirq.H(q0), cirq.CNOT(q0, q1)])\n",
        "cprint(circuit)\n",
        "\n",
        "#Using Insert:\n",
        "\n",
        "circuit.insert(2, cirq.H(q1))\n",
        "cprint(circuit)\n",
        "\n",
        "\n",
        "#can also measure our ciruit \n",
        "#measure:\n",
        "\n",
        "m = [cirq.H(q0), cirq.CNOT(q0, q1), cirq.measure(q0),cirq.measure(q1)]\n",
        "cprint(cirq.Circuit(*m))\n",
        "    "
      ],
      "execution_count": null,
      "outputs": [
        {
          "output_type": "stream",
          "text": [
            "WARNING:matplotlib.font_manager:findfont: Font family ['Arial'] not found. Falling back to DejaVu Sans.\n"
          ],
          "name": "stderr"
        },
        {
          "output_type": "display_data",
          "data": {
            "text/plain": [
              "<IPython.core.display.SVG object>"
            ],
            "image/svg+xml": "<svg height=\"50.0\" width=\"160.0\" xmlns=\"http://www.w3.org/2000/svg\"><line stroke=\"#1967d2\" stroke-width=\"1\" x1=\"30.0\" x2=\"130.0\" y1=\"25.0\" y2=\"25.0\"/><rect fill=\"white\" height=\"40\" stroke=\"black\" stroke-width=\"0\" width=\"40\" x=\"10.0\" y=\"5.0\"/><text dominant-baseline=\"middle\" font-size=\"14px\" text-anchor=\"middle\" x=\"30.0\" y=\"25.0\">0: </text><rect fill=\"white\" height=\"40\" stroke=\"black\" stroke-width=\"1\" width=\"40\" x=\"70.0\" y=\"5.0\"/><text dominant-baseline=\"middle\" font-size=\"18px\" text-anchor=\"middle\" x=\"90.0\" y=\"25.0\">H</text></svg>"
          },
          "metadata": {
            "tags": []
          }
        },
        {
          "output_type": "display_data",
          "data": {
            "text/plain": [
              "<IPython.core.display.SVG object>"
            ],
            "image/svg+xml": "<svg height=\"100.0\" width=\"160.0\" xmlns=\"http://www.w3.org/2000/svg\"><line stroke=\"#1967d2\" stroke-width=\"1\" x1=\"30.0\" x2=\"130.0\" y1=\"25.0\" y2=\"25.0\"/><line stroke=\"#1967d2\" stroke-width=\"1\" x1=\"30.0\" x2=\"130.0\" y1=\"75.0\" y2=\"75.0\"/><line stroke=\"black\" stroke-width=\"3\" x1=\"90.0\" x2=\"90.0\" y1=\"25.0\" y2=\"75.0\"/><rect fill=\"white\" height=\"40\" stroke=\"black\" stroke-width=\"0\" width=\"40\" x=\"10.0\" y=\"5.0\"/><text dominant-baseline=\"middle\" font-size=\"14px\" text-anchor=\"middle\" x=\"30.0\" y=\"25.0\">0: </text><rect fill=\"white\" height=\"40\" stroke=\"black\" stroke-width=\"0\" width=\"40\" x=\"10.0\" y=\"55.0\"/><text dominant-baseline=\"middle\" font-size=\"14px\" text-anchor=\"middle\" x=\"30.0\" y=\"75.0\">1: </text><circle cx=\"90.0\" cy=\"25.0\" r=\"10.0\"/><rect fill=\"white\" height=\"40\" stroke=\"black\" stroke-width=\"1\" width=\"40\" x=\"70.0\" y=\"55.0\"/><text dominant-baseline=\"middle\" font-size=\"18px\" text-anchor=\"middle\" x=\"90.0\" y=\"75.0\">X</text></svg>"
          },
          "metadata": {
            "tags": []
          }
        },
        {
          "output_type": "display_data",
          "data": {
            "text/plain": [
              "<IPython.core.display.SVG object>"
            ],
            "image/svg+xml": "<svg height=\"100.0\" width=\"220.0\" xmlns=\"http://www.w3.org/2000/svg\"><line stroke=\"#1967d2\" stroke-width=\"1\" x1=\"30.0\" x2=\"190.0\" y1=\"25.0\" y2=\"25.0\"/><line stroke=\"#1967d2\" stroke-width=\"1\" x1=\"30.0\" x2=\"190.0\" y1=\"75.0\" y2=\"75.0\"/><line stroke=\"black\" stroke-width=\"3\" x1=\"150.0\" x2=\"150.0\" y1=\"25.0\" y2=\"75.0\"/><rect fill=\"white\" height=\"40\" stroke=\"black\" stroke-width=\"0\" width=\"40\" x=\"10.0\" y=\"5.0\"/><text dominant-baseline=\"middle\" font-size=\"14px\" text-anchor=\"middle\" x=\"30.0\" y=\"25.0\">A: </text><rect fill=\"white\" height=\"40\" stroke=\"black\" stroke-width=\"0\" width=\"40\" x=\"10.0\" y=\"55.0\"/><text dominant-baseline=\"middle\" font-size=\"14px\" text-anchor=\"middle\" x=\"30.0\" y=\"75.0\">A2: </text><rect fill=\"white\" height=\"40\" stroke=\"black\" stroke-width=\"1\" width=\"40\" x=\"70.0\" y=\"5.0\"/><text dominant-baseline=\"middle\" font-size=\"18px\" text-anchor=\"middle\" x=\"90.0\" y=\"25.0\">H</text><circle cx=\"150.0\" cy=\"25.0\" r=\"10.0\"/><rect fill=\"white\" height=\"40\" stroke=\"black\" stroke-width=\"1\" width=\"40\" x=\"130.0\" y=\"55.0\"/><text dominant-baseline=\"middle\" font-size=\"18px\" text-anchor=\"middle\" x=\"150.0\" y=\"75.0\">X</text></svg>"
          },
          "metadata": {
            "tags": []
          }
        },
        {
          "output_type": "display_data",
          "data": {
            "text/plain": [
              "<IPython.core.display.SVG object>"
            ],
            "image/svg+xml": "<svg height=\"100.0\" width=\"220.0\" xmlns=\"http://www.w3.org/2000/svg\"><line stroke=\"#1967d2\" stroke-width=\"1\" x1=\"30.0\" x2=\"190.0\" y1=\"25.0\" y2=\"25.0\"/><line stroke=\"#1967d2\" stroke-width=\"1\" x1=\"30.0\" x2=\"190.0\" y1=\"75.0\" y2=\"75.0\"/><line stroke=\"black\" stroke-width=\"3\" x1=\"150.0\" x2=\"150.0\" y1=\"25.0\" y2=\"75.0\"/><rect fill=\"white\" height=\"40\" stroke=\"black\" stroke-width=\"0\" width=\"40\" x=\"10.0\" y=\"5.0\"/><text dominant-baseline=\"middle\" font-size=\"14px\" text-anchor=\"middle\" x=\"30.0\" y=\"25.0\">A: </text><rect fill=\"white\" height=\"40\" stroke=\"black\" stroke-width=\"0\" width=\"40\" x=\"10.0\" y=\"55.0\"/><text dominant-baseline=\"middle\" font-size=\"14px\" text-anchor=\"middle\" x=\"30.0\" y=\"75.0\">A2: </text><rect fill=\"white\" height=\"40\" stroke=\"black\" stroke-width=\"1\" width=\"40\" x=\"70.0\" y=\"5.0\"/><text dominant-baseline=\"middle\" font-size=\"18px\" text-anchor=\"middle\" x=\"90.0\" y=\"25.0\">H</text><circle cx=\"150.0\" cy=\"25.0\" r=\"10.0\"/><rect fill=\"white\" height=\"40\" stroke=\"black\" stroke-width=\"1\" width=\"40\" x=\"130.0\" y=\"55.0\"/><text dominant-baseline=\"middle\" font-size=\"18px\" text-anchor=\"middle\" x=\"150.0\" y=\"75.0\">X</text></svg>"
          },
          "metadata": {
            "tags": []
          }
        },
        {
          "output_type": "display_data",
          "data": {
            "text/plain": [
              "<IPython.core.display.SVG object>"
            ],
            "image/svg+xml": "<svg height=\"100.0\" width=\"280.0\" xmlns=\"http://www.w3.org/2000/svg\"><line stroke=\"#1967d2\" stroke-width=\"1\" x1=\"30.0\" x2=\"250.0\" y1=\"25.0\" y2=\"25.0\"/><line stroke=\"#1967d2\" stroke-width=\"1\" x1=\"30.0\" x2=\"250.0\" y1=\"75.0\" y2=\"75.0\"/><line stroke=\"black\" stroke-width=\"3\" x1=\"150.0\" x2=\"150.0\" y1=\"25.0\" y2=\"75.0\"/><rect fill=\"white\" height=\"40\" stroke=\"black\" stroke-width=\"0\" width=\"40\" x=\"10.0\" y=\"5.0\"/><text dominant-baseline=\"middle\" font-size=\"14px\" text-anchor=\"middle\" x=\"30.0\" y=\"25.0\">A: </text><rect fill=\"white\" height=\"40\" stroke=\"black\" stroke-width=\"0\" width=\"40\" x=\"10.0\" y=\"55.0\"/><text dominant-baseline=\"middle\" font-size=\"14px\" text-anchor=\"middle\" x=\"30.0\" y=\"75.0\">A2: </text><rect fill=\"white\" height=\"40\" stroke=\"black\" stroke-width=\"1\" width=\"40\" x=\"70.0\" y=\"5.0\"/><text dominant-baseline=\"middle\" font-size=\"18px\" text-anchor=\"middle\" x=\"90.0\" y=\"25.0\">H</text><circle cx=\"150.0\" cy=\"25.0\" r=\"10.0\"/><rect fill=\"white\" height=\"40\" stroke=\"black\" stroke-width=\"1\" width=\"40\" x=\"130.0\" y=\"55.0\"/><text dominant-baseline=\"middle\" font-size=\"18px\" text-anchor=\"middle\" x=\"150.0\" y=\"75.0\">X</text><rect fill=\"white\" height=\"40\" stroke=\"black\" stroke-width=\"1\" width=\"40\" x=\"190.0\" y=\"55.0\"/><text dominant-baseline=\"middle\" font-size=\"18px\" text-anchor=\"middle\" x=\"210.0\" y=\"75.0\">H</text></svg>"
          },
          "metadata": {
            "tags": []
          }
        },
        {
          "output_type": "display_data",
          "data": {
            "text/plain": [
              "<IPython.core.display.SVG object>"
            ],
            "image/svg+xml": "<svg height=\"100.0\" width=\"280.0\" xmlns=\"http://www.w3.org/2000/svg\"><line stroke=\"#1967d2\" stroke-width=\"1\" x1=\"30.0\" x2=\"250.0\" y1=\"25.0\" y2=\"25.0\"/><line stroke=\"#1967d2\" stroke-width=\"1\" x1=\"30.0\" x2=\"250.0\" y1=\"75.0\" y2=\"75.0\"/><line stroke=\"black\" stroke-width=\"3\" x1=\"150.0\" x2=\"150.0\" y1=\"25.0\" y2=\"75.0\"/><rect fill=\"white\" height=\"40\" stroke=\"black\" stroke-width=\"0\" width=\"40\" x=\"10.0\" y=\"5.0\"/><text dominant-baseline=\"middle\" font-size=\"14px\" text-anchor=\"middle\" x=\"30.0\" y=\"25.0\">A: </text><rect fill=\"white\" height=\"40\" stroke=\"black\" stroke-width=\"0\" width=\"40\" x=\"10.0\" y=\"55.0\"/><text dominant-baseline=\"middle\" font-size=\"14px\" text-anchor=\"middle\" x=\"30.0\" y=\"75.0\">A2: </text><rect fill=\"white\" height=\"40\" stroke=\"black\" stroke-width=\"1\" width=\"40\" x=\"70.0\" y=\"5.0\"/><text dominant-baseline=\"middle\" font-size=\"18px\" text-anchor=\"middle\" x=\"90.0\" y=\"25.0\">H</text><circle cx=\"150.0\" cy=\"25.0\" r=\"10.0\"/><rect fill=\"white\" height=\"40\" stroke=\"black\" stroke-width=\"1\" width=\"40\" x=\"130.0\" y=\"55.0\"/><text dominant-baseline=\"middle\" font-size=\"18px\" text-anchor=\"middle\" x=\"150.0\" y=\"75.0\">X</text><rect fill=\"white\" height=\"40\" stroke=\"black\" stroke-width=\"1\" width=\"40\" x=\"190.0\" y=\"5.0\"/><text dominant-baseline=\"middle\" font-size=\"18px\" text-anchor=\"middle\" x=\"210.0\" y=\"25.0\">M</text><rect fill=\"white\" height=\"40\" stroke=\"black\" stroke-width=\"1\" width=\"40\" x=\"190.0\" y=\"55.0\"/><text dominant-baseline=\"middle\" font-size=\"18px\" text-anchor=\"middle\" x=\"210.0\" y=\"75.0\">M</text></svg>"
          },
          "metadata": {
            "tags": []
          }
        }
      ]
    },
    {
      "cell_type": "code",
      "metadata": {
        "id": "eOzq3DFF9Bds",
        "colab_type": "code",
        "colab": {
          "base_uri": "https://localhost:8080/",
          "height": 255
        },
        "outputId": "ea1a704e-ad2e-47f4-eaa2-5c533af17ab2"
      },
      "source": [
        "#Remember, there are also methods of represting these cirits that can be used such as a text diagram, which we would define for the example above as :\n",
        "for i, moment in enumerate(circuit):\n",
        "    print('Moment {}: {}'.format(i, moment))\n",
        "    \n",
        "# if we were to elect this manner of representatin and wanted to inspect the internal structure of the circiit , we can simple ask cirq to deconstruct this for us by the following command:\n",
        "print(repr(circuit))"
      ],
      "execution_count": null,
      "outputs": [
        {
          "output_type": "stream",
          "text": [
            "Moment 0: H(A)\n",
            "Moment 1: CNOT(A, A2)\n",
            "Moment 2: H(A2)\n",
            "cirq.Circuit([\n",
            "    cirq.Moment(operations=[\n",
            "        cirq.H.on(cirq.NamedQubit('A')),\n",
            "    ]),\n",
            "    cirq.Moment(operations=[\n",
            "        cirq.CNOT.on(cirq.NamedQubit('A'), cirq.NamedQubit('A2')),\n",
            "    ]),\n",
            "    cirq.Moment(operations=[\n",
            "        cirq.H.on(cirq.NamedQubit('A2')),\n",
            "    ]),\n",
            "])\n"
          ],
          "name": "stdout"
        }
      ]
    },
    {
      "cell_type": "code",
      "metadata": {
        "id": "6C9P30pR9Bdu",
        "colab_type": "code",
        "colab": {}
      },
      "source": [
        "#Remember, there are two ways to apply a gate onto qubits. \n",
        "#First, we can apply the Hadamard gate H onto a qubit a using the on method: cirq.H.on(a) \n",
        "#Alternatively we can achieve this by calling the gate directly on the qubit (as if the gate was a function and the qubits were arguments): cirq.H(a)"
      ],
      "execution_count": null,
      "outputs": []
    },
    {
      "cell_type": "code",
      "metadata": {
        "id": "bkBTNRmI9Bdx",
        "colab_type": "code",
        "colab": {
          "base_uri": "https://localhost:8080/",
          "height": 170
        },
        "outputId": "59d73681-e788-4085-86fd-50fde278b0e0"
      },
      "source": [
        "#Remember, for each of these gates, calling cirq.unitary on the gate will tell you how it acts on the computational basis.\n",
        "\n",
        "print('CNOT =')\n",
        "print(cirq.unitary(cirq.CNOT))\n",
        "print('\\nH =')\n",
        "print(cirq.unitary(cirq.H))"
      ],
      "execution_count": null,
      "outputs": [
        {
          "output_type": "stream",
          "text": [
            "CNOT =\n",
            "[[1.+0.j 0.+0.j 0.+0.j 0.+0.j]\n",
            " [0.+0.j 1.+0.j 0.+0.j 0.+0.j]\n",
            " [0.+0.j 0.+0.j 0.+0.j 1.+0.j]\n",
            " [0.+0.j 0.+0.j 1.+0.j 0.+0.j]]\n",
            "\n",
            "H =\n",
            "[[ 0.70710678+0.j  0.70710678+0.j]\n",
            " [ 0.70710678+0.j -0.70710678+0.j]]\n"
          ],
          "name": "stdout"
        }
      ]
    },
    {
      "cell_type": "code",
      "metadata": {
        "id": "14b12OCl9Bd1",
        "colab_type": "code",
        "colab": {
          "base_uri": "https://localhost:8080/",
          "height": 155
        },
        "outputId": "4c360923-2144-47e2-ad5a-fb184257293c"
      },
      "source": [
        "# to verify that entagnlement was generated between the qubits, let us re-prent the circuit and then apply a bell measurement and see if we get the expected outcome:\n",
        "#Remember in Cirq, simulators make a distinction between a “run” and a “simulation”\n",
        "#Remember, after creating the circuit and a simulator, we can \"run\" a simulation of the circuit and thereby simulate an actual measurement outcome. If we don't simulate the circuit we will be using \"run\", which will mimics the actual quantum hardware\n",
        "\n",
        "# Define our two qubits and some operations (the entanglement operation in this case, and H gate and a CNOT gate)\n",
        "q0 = cirq.NamedQubit(\"A\")\n",
        "q1 = cirq.NamedQubit(\"A2\")\n",
        "#q2 = cirq.NamedQubit(\"B\")\n",
        "\n",
        "\n",
        "# Define our entangelement circuit\n",
        "ops = [cirq.H(q0), cirq.CNOT(q0, q1), cirq.measure(q0,q1)]\n",
        "circuit = cirq.Circuit(*ops)\n",
        "cprint(circuit)\n",
        "\n",
        "\n",
        "# Define a simulator\n",
        "simulator = cirq.Simulator()\n",
        "\n",
        "# Run a simulation and print the measurement results:\n",
        "result = simulator.run(circuit)\n",
        "print('\\nMeasurement results: ',result)\n",
        "\n"
      ],
      "execution_count": null,
      "outputs": [
        {
          "output_type": "display_data",
          "data": {
            "text/plain": [
              "<IPython.core.display.SVG object>"
            ],
            "image/svg+xml": "<svg height=\"100.0\" width=\"280.0\" xmlns=\"http://www.w3.org/2000/svg\"><line stroke=\"#1967d2\" stroke-width=\"1\" x1=\"30.0\" x2=\"250.0\" y1=\"25.0\" y2=\"25.0\"/><line stroke=\"#1967d2\" stroke-width=\"1\" x1=\"30.0\" x2=\"250.0\" y1=\"75.0\" y2=\"75.0\"/><line stroke=\"black\" stroke-width=\"3\" x1=\"150.0\" x2=\"150.0\" y1=\"25.0\" y2=\"75.0\"/><line stroke=\"black\" stroke-width=\"3\" x1=\"210.0\" x2=\"210.0\" y1=\"25.0\" y2=\"75.0\"/><rect fill=\"white\" height=\"40\" stroke=\"black\" stroke-width=\"0\" width=\"40\" x=\"10.0\" y=\"5.0\"/><text dominant-baseline=\"middle\" font-size=\"14px\" text-anchor=\"middle\" x=\"30.0\" y=\"25.0\">A: </text><rect fill=\"white\" height=\"40\" stroke=\"black\" stroke-width=\"0\" width=\"40\" x=\"10.0\" y=\"55.0\"/><text dominant-baseline=\"middle\" font-size=\"14px\" text-anchor=\"middle\" x=\"30.0\" y=\"75.0\">A2: </text><rect fill=\"white\" height=\"40\" stroke=\"black\" stroke-width=\"1\" width=\"40\" x=\"70.0\" y=\"5.0\"/><text dominant-baseline=\"middle\" font-size=\"18px\" text-anchor=\"middle\" x=\"90.0\" y=\"25.0\">H</text><circle cx=\"150.0\" cy=\"25.0\" r=\"10.0\"/><rect fill=\"white\" height=\"40\" stroke=\"black\" stroke-width=\"1\" width=\"40\" x=\"130.0\" y=\"55.0\"/><text dominant-baseline=\"middle\" font-size=\"18px\" text-anchor=\"middle\" x=\"150.0\" y=\"75.0\">X</text><rect fill=\"white\" height=\"40\" stroke=\"black\" stroke-width=\"1\" width=\"40\" x=\"190.0\" y=\"5.0\"/><text dominant-baseline=\"middle\" font-size=\"18px\" text-anchor=\"middle\" x=\"210.0\" y=\"25.0\">M</text><rect fill=\"white\" height=\"40\" stroke=\"black\" stroke-width=\"1\" width=\"40\" x=\"190.0\" y=\"55.0\"/><text dominant-baseline=\"middle\" font-size=\"18px\" text-anchor=\"middle\" x=\"210.0\" y=\"75.0\">M</text></svg>"
          },
          "metadata": {
            "tags": []
          }
        },
        {
          "output_type": "stream",
          "text": [
            "\n",
            "Measurement results:  A,A2=1, 1\n"
          ],
          "name": "stdout"
        }
      ]
    },
    {
      "cell_type": "code",
      "metadata": {
        "id": "tH0V-SwJ9Bd5",
        "colab_type": "code",
        "colab": {
          "base_uri": "https://localhost:8080/",
          "height": 223
        },
        "outputId": "0c0b1fe2-fb78-4c56-ec28-e2468c31d3c3"
      },
      "source": [
        "#Notice: Employing the \"run\" method of simulating our circuit (used above) mimics the actual hardware and therefore it doesn't give us access to unphysical objects like the wavefunction. If we want to know what the wave function looks like, we use the simulate methods:\n",
        "q0 = cirq.NamedQubit(\"q0\")\n",
        "q1 = cirq.NamedQubit(\"q1\")\n",
        "ops = [cirq.H(q0), cirq.CNOT(q0,q1)]\n",
        "\n",
        "# Define a basic Circuit\n",
        "circuit = cirq.Circuit(*ops)\n",
        "cprint(circuit)\n",
        "\n",
        "# Define a simulator\n",
        "simulator = cirq.Simulator()\n",
        "\n",
        "# Simulate the circuit\n",
        "result = simulator.simulate(circuit)\n",
        "\n",
        "print('\\nWavefunction:')\n",
        "print(np.around(result.final_state, 3))\n",
        "print('\\nDirac notation:')\n",
        "print(result.dirac_notation())\n"
      ],
      "execution_count": null,
      "outputs": [
        {
          "output_type": "display_data",
          "data": {
            "text/plain": [
              "<IPython.core.display.SVG object>"
            ],
            "image/svg+xml": "<svg height=\"100.0\" width=\"220.0\" xmlns=\"http://www.w3.org/2000/svg\"><line stroke=\"#1967d2\" stroke-width=\"1\" x1=\"30.0\" x2=\"190.0\" y1=\"25.0\" y2=\"25.0\"/><line stroke=\"#1967d2\" stroke-width=\"1\" x1=\"30.0\" x2=\"190.0\" y1=\"75.0\" y2=\"75.0\"/><line stroke=\"black\" stroke-width=\"3\" x1=\"150.0\" x2=\"150.0\" y1=\"25.0\" y2=\"75.0\"/><rect fill=\"white\" height=\"40\" stroke=\"black\" stroke-width=\"0\" width=\"40\" x=\"10.0\" y=\"5.0\"/><text dominant-baseline=\"middle\" font-size=\"14px\" text-anchor=\"middle\" x=\"30.0\" y=\"25.0\">q0: </text><rect fill=\"white\" height=\"40\" stroke=\"black\" stroke-width=\"0\" width=\"40\" x=\"10.0\" y=\"55.0\"/><text dominant-baseline=\"middle\" font-size=\"14px\" text-anchor=\"middle\" x=\"30.0\" y=\"75.0\">q1: </text><rect fill=\"white\" height=\"40\" stroke=\"black\" stroke-width=\"1\" width=\"40\" x=\"70.0\" y=\"5.0\"/><text dominant-baseline=\"middle\" font-size=\"18px\" text-anchor=\"middle\" x=\"90.0\" y=\"25.0\">H</text><circle cx=\"150.0\" cy=\"25.0\" r=\"10.0\"/><rect fill=\"white\" height=\"40\" stroke=\"black\" stroke-width=\"1\" width=\"40\" x=\"130.0\" y=\"55.0\"/><text dominant-baseline=\"middle\" font-size=\"18px\" text-anchor=\"middle\" x=\"150.0\" y=\"75.0\">X</text></svg>"
          },
          "metadata": {
            "tags": []
          }
        },
        {
          "output_type": "stream",
          "text": [
            "\n",
            "Wavefunction:\n",
            "[ 0.707+0.j  0.   +0.j -0.   +0.j  0.707+0.j]\n",
            "\n",
            "Dirac notation:\n",
            "0.71|00⟩ + 0.71|11⟩\n"
          ],
          "name": "stdout"
        }
      ]
    },
    {
      "cell_type": "markdown",
      "metadata": {
        "id": "oPU57Y1S9Bd8",
        "colab_type": "text"
      },
      "source": [
        "# How to Create a Bell Inequality Test Using Cirq"
      ]
    },
    {
      "cell_type": "code",
      "metadata": {
        "id": "XC3KPifl9Bd9",
        "colab_type": "code",
        "colab": {
          "base_uri": "https://localhost:8080/",
          "height": 85
        },
        "outputId": "3150d930-8278-444c-d97c-74295673a301"
      },
      "source": [
        "#Julien \n",
        "\n",
        "import cirq\n",
        "import math\n",
        "import numpy as np\n",
        "import matplotlib\n",
        "import array as arr\n",
        "from cirq.circuits import InsertStrategy\n",
        "\n",
        "#Creating the different gates used in the circuit the spin\n",
        "class Bob1(cirq.SingleQubitGate):\n",
        "    \n",
        "    def _unitary_(self):\n",
        "        return np.array([[-1/math.sqrt(2),-1/math.sqrt(2)], [-1/math.sqrt(2), 1/math.sqrt(2)]])\n",
        "    \n",
        "    def __str__(self):\n",
        "        return 'S'\n",
        "\n",
        "class Bob2(cirq.SingleQubitGate):\n",
        "    \n",
        "    def _unitary_(self):\n",
        "        return np.array([[1/math.sqrt(2),-1/math.sqrt(2)], [-1/math.sqrt(2), -1/math.sqrt(2)]])\n",
        "    \n",
        "    def __str__(self):\n",
        "        return 'T'\n",
        "\n",
        "#Gates used to switch from computational basis to the eigenbasis of the differents spinors\n",
        "\n",
        "class TM(cirq.SingleQubitGate):\n",
        "    \n",
        "    def _unitary_(self):\n",
        "        return np.array([[math.cos(math.pi*0.375),math.sin(math.pi*0.375)], [math.sin(math.pi*0.375), -math.cos(math.pi*0.375)]])\n",
        "    \n",
        "    def __str__(self):\n",
        "        return 'TM'\n",
        "\n",
        "class SM(cirq.SingleQubitGate):\n",
        "    \n",
        "    def _unitary_(self):\n",
        "        return np.array([[math.cos(math.pi*0.625),math.sin(math.pi*0.625)], [math.sin(math.pi*0.625), -math.cos(math.pi*0.625)]])\n",
        "    \n",
        "    def __str__(self):\n",
        "        return 'SM'\n",
        "\n",
        "class RM(cirq.SingleQubitGate):\n",
        "    \n",
        "    def _unitary_(self):\n",
        "        return np.array([[math.cos(math.pi*0.25),math.sin(math.pi*0.25)], [math.sin(math.pi*0.25), -math.cos(math.pi*0.25)]])\n",
        "    \n",
        "    def __str__(self):\n",
        "        return 'RM'\n",
        "\n",
        "#Creating the differents circuits for the different settings\n",
        "\n",
        "q0, q1 = cirq.LineQubit.range(2)\n",
        "\n",
        "Bob1 = Bob1()\n",
        "\n",
        "Bob2 = Bob2()\n",
        "\n",
        "SM = SM()\n",
        "TM = TM()\n",
        "RM = RM()\n",
        "\n",
        "ops1 = [cirq.H(q0), cirq.CNOT(q0,q1), cirq.X(q0), cirq.Z(q0),cirq.Z(q0),Bob1(q1),cirq.measure(q0, key ='Q1'),SM(q1),cirq.measure(q1, key='S1')]\n",
        "ops2 = [cirq.H(q0), cirq.CNOT(q0,q1), cirq.X(q0), cirq.Z(q0),cirq.X(q0),Bob1(q1),RM(q0),cirq.measure(q0, key ='R1'),SM(q1),cirq.measure(q1, key='S2')]\n",
        "ops3 = [cirq.H(q0), cirq.CNOT(q0,q1), cirq.X(q0), cirq.Z(q0),cirq.Z(q0),Bob2(q1),cirq.measure(q0, key ='Q2'),TM(q1),cirq.measure(q1, key='T1')]\n",
        "ops4 = [cirq.H(q0), cirq.CNOT(q0,q1), cirq.X(q0), cirq.Z(q0),cirq.X(q0),Bob2(q1),RM(q0),cirq.measure(q0, key ='R2'),TM(q1),cirq.measure(q1, key='T2')]\n",
        "\n",
        "\n",
        "circuit1 = cirq.Circuit(*ops1, strategy=InsertStrategy.NEW)\n",
        "circuit2 = cirq.Circuit(*ops2, strategy=InsertStrategy.NEW)\n",
        "circuit3 = cirq.Circuit(*ops3, strategy=InsertStrategy.NEW)\n",
        "circuit4 = cirq.Circuit(*ops4, strategy=InsertStrategy.NEW)\n",
        "\n",
        "# Defining the simulator and collecting the datas from the different experiments\n",
        "simulator = cirq.Simulator()\n",
        "\n",
        "result1 = simulator.run(circuit1, repetitions= 1000)\n",
        "Q1 = np.array(result1.measurements['Q1'][:, 0],'i')\n",
        "S1 = np.array(result1.measurements['S1'][:, 0],'i')\n",
        "\n",
        "result2 = simulator.run(circuit2, repetitions= 1000)\n",
        "R1 = np.array(result2.measurements['R1'][:, 0],'i')\n",
        "S2 = np.array(result2.measurements['S2'][:, 0],'i')\n",
        "\n",
        "result3 = simulator.run(circuit3, repetitions= 1000)\n",
        "Q2 = np.array(result3.measurements['Q2'][:, 0],'i')\n",
        "T1 = np.array(result3.measurements['T1'][:, 0],'i')\n",
        "\n",
        "result4 = simulator.run(circuit4, repetitions= 1000)\n",
        "R2 = np.array(result4.measurements['R2'][:, 0],'i')\n",
        "T2 = np.array(result4.measurements['T2'][:, 0],'i')\n",
        "\n",
        "# Converting the measurments 0 into -1 as it is needed in the protocol\n",
        "for i in range(len(Q1)):\n",
        "  if Q1[i] == 0:\n",
        "    Q1[i] = -1\n",
        "  if Q2[i] == 0:\n",
        "    Q2[i] = -1\n",
        "  if S1[i] == 0:\n",
        "    S1[i] = -1\n",
        "  if S2[i] == 0:\n",
        "    S2[i] = -1\n",
        "  if R1[i] == 0:\n",
        "    R1[i] = -1\n",
        "  if R2[i] == 0:\n",
        "    R2[i] = -1\n",
        "  if T1[i] == 0:\n",
        "    T1[i] = -1\n",
        "  if T2[i] == 0:\n",
        "    T2[i] = -1\n",
        "\n",
        "#Calculating and printing out the correlators\n",
        "\n",
        "print('<QS> = ', np.vdot(Q1,S1)/1000)\n",
        "print('<RS> = ', np.vdot(R1,S2)/1000)\n",
        "print('<QT> = ', np.vdot(Q2,T1)/1000)\n",
        "print('<RT> = ', np.vdot(R2,T2)/1000)"
      ],
      "execution_count": null,
      "outputs": [
        {
          "output_type": "stream",
          "text": [
            "<QS> =  0.69\n",
            "<RS> =  0.73\n",
            "<QT> =  0.68\n",
            "<RT> =  -0.708\n"
          ],
          "name": "stdout"
        }
      ]
    },
    {
      "cell_type": "markdown",
      "metadata": {
        "id": "nAXfP0Bz9BeA",
        "colab_type": "text"
      },
      "source": [
        "# How to Demonstrate Quantum Teleportation Using Cirq"
      ]
    },
    {
      "cell_type": "code",
      "metadata": {
        "id": "EYwWp59o9BeB",
        "colab_type": "code",
        "colab": {}
      },
      "source": [
        "#First, let us define a function that returns a quantum teleportation circuit\n",
        "\n",
        "def make_quantum_teleportation_circuit(ranX, ranY):\n",
        "    \n",
        "    \n",
        "# Step 1: We need to create three qubits; A1 to be teleported, A2 to represent Alice's qubit, B is Bob's qubit that will be entangled with A2:\n",
        "    A1, A2, B = cirq.LineQubit.range(3)\n",
        "\n",
        "# Step 2: Now we need to create a circuit that will put Alice's first qubit, A1, into a random (i.e unknown to Alice) state:\n",
        "    circuit = cirq.Circuit()\n",
        "    circuit.append([cirq.X(A1)**ranX, cirq.Y(A1)**ranY])\n",
        "\n",
        "# Step 3: We can verify the state in which we prepared Alice's qubit A1, simulate circuit and store result in \"message\"\n",
        "    simulator = cirq.Simulator()\n",
        "    message = simulator.simulate(circuit)\n",
        "    \n",
        "# Step 4: Now we are ready to create the Bell state between Alice's second qubit A2 and Bob's qubit B:\n",
        "    circuit.append([cirq.H(A2), cirq.CNOT(A2,B)])\n",
        "    \n",
        "# Step 5: Now we teleport the state of A1 via the entanglement between A2 and B by making Alice perform a Bell measurement on her two qubits A1 and A2 \n",
        "    circuit.append([cirq.CNOT(A1,A2), cirq.H(A1), cirq.measure(A1,A2)])\n",
        "    \n",
        "# Step 6: After Alice's measurement, A1 and A2  will represent two classical bits, q and a. Bob will use these classical bits to perform the operations (Z^q)(X^a) on his entangled qubit B\n",
        "    circuit.append([cirq.CNOT(A2,B), cirq.CZ(A1,B)])\n",
        "\n",
        "    return message, circuit"
      ],
      "execution_count": null,
      "outputs": []
    },
    {
      "cell_type": "code",
      "metadata": {
        "id": "gRDvM5kH9BeF",
        "colab_type": "code",
        "colab": {
          "base_uri": "https://localhost:8080/",
          "height": 647
        },
        "outputId": "bbb86911-c801-473e-cb6d-c2eb2c5ebfa4"
      },
      "source": [
        "#Now let us create two random numbers and use them as input for our make_quantum_teleportation_circuit function. \n",
        "\n",
        "# Create two random numbers between 0 and 1\n",
        "ranX = random.random()\n",
        "ranY = random.random()\n",
        "\n",
        "# Create the teleportation circuit\n",
        "quantummessage, circuit = make_quantum_teleportation_circuit(ranX, ranY)\n",
        "    \n",
        "a = np.round_(cirq.bloch_vector_from_state_vector(quantummessage.final_state, 0),4)\n",
        "print(\"Bloch vector of Alice's first qubit A1:  \", \"a = [qx, qy, qz] = \", np.array2string(a,separator=', '), '\\n')\n",
        "BSphere = qutip.Bloch()\n",
        "BSphere.add_vectors(a)\n",
        "\n",
        "cprint(circuit)\n",
        "    \n",
        "simulator = cirq.Simulator()\n",
        "receivedmessage = simulator.simulate(circuit)\n",
        "\n",
        "b = np.round_(cirq.bloch_vector_from_state_vector(receivedmessage.final_state, 2),4)\n",
        "print(\"\\nFinal Bloch vector of B:  \",\"b = [bx, by, bz] = \", np.array2string(b,separator=', '), '\\n')\n",
        "BSphere.add_vectors(b)\n",
        "BSphere.show()\n",
        "\n",
        "if (a==b).any(): \n",
        "  print('The state of Alices first qubit A1 was successfully teleported from Alice to Bob.')\n",
        "else:\n",
        "  print('The teleportation of qubit A1 to Bob failed.')"
      ],
      "execution_count": null,
      "outputs": [
        {
          "output_type": "stream",
          "text": [
            "Bloch vector of Alice's first qubit A1:   a = [qx, qy, qz] =  [-0.0195, -0.8616,  0.5072] \n",
            "\n"
          ],
          "name": "stdout"
        },
        {
          "output_type": "display_data",
          "data": {
            "text/plain": [
              "<IPython.core.display.SVG object>"
            ],
            "image/svg+xml": "<svg height=\"150.0\" width=\"579.430390625\" xmlns=\"http://www.w3.org/2000/svg\"><line stroke=\"#1967d2\" stroke-width=\"1\" x1=\"30.0\" x2=\"549.430390625\" y1=\"25.0\" y2=\"25.0\"/><line stroke=\"#1967d2\" stroke-width=\"1\" x1=\"30.0\" x2=\"549.430390625\" y1=\"75.0\" y2=\"75.0\"/><line stroke=\"#1967d2\" stroke-width=\"1\" x1=\"30.0\" x2=\"549.430390625\" y1=\"125.0\" y2=\"125.0\"/><line stroke=\"black\" stroke-width=\"3\" x1=\"194.71443359375002\" x2=\"194.71443359375002\" y1=\"75.0\" y2=\"125.0\"/><line stroke=\"black\" stroke-width=\"3\" x1=\"269.430390625\" x2=\"269.430390625\" y1=\"25.0\" y2=\"75.0\"/><line stroke=\"black\" stroke-width=\"3\" x1=\"389.430390625\" x2=\"389.430390625\" y1=\"25.0\" y2=\"75.0\"/><line stroke=\"black\" stroke-width=\"3\" x1=\"449.430390625\" x2=\"449.430390625\" y1=\"75.0\" y2=\"125.0\"/><line stroke=\"black\" stroke-width=\"3\" x1=\"509.430390625\" x2=\"509.430390625\" y1=\"25.0\" y2=\"125.0\"/><rect fill=\"white\" height=\"40\" stroke=\"black\" stroke-width=\"0\" width=\"40\" x=\"10.0\" y=\"5.0\"/><text dominant-baseline=\"middle\" font-size=\"14px\" text-anchor=\"middle\" x=\"30.0\" y=\"25.0\">0: </text><rect fill=\"white\" height=\"40\" stroke=\"black\" stroke-width=\"0\" width=\"40\" x=\"10.0\" y=\"55.0\"/><text dominant-baseline=\"middle\" font-size=\"14px\" text-anchor=\"middle\" x=\"30.0\" y=\"75.0\">1: </text><rect fill=\"white\" height=\"40\" stroke=\"black\" stroke-width=\"0\" width=\"40\" x=\"10.0\" y=\"105.0\"/><text dominant-baseline=\"middle\" font-size=\"14px\" text-anchor=\"middle\" x=\"30.0\" y=\"125.0\">2: </text><rect fill=\"white\" height=\"40\" stroke=\"black\" stroke-width=\"1\" width=\"69.9984765625\" x=\"70.0\" y=\"5.0\"/><text dominant-baseline=\"middle\" font-size=\"14px\" text-anchor=\"middle\" x=\"104.99923828125\" y=\"25.0\">X^0.669</text><rect fill=\"white\" height=\"40\" stroke=\"black\" stroke-width=\"1\" width=\"69.9984765625\" x=\"70.0\" y=\"55.0\"/><text dominant-baseline=\"middle\" font-size=\"18px\" text-anchor=\"middle\" x=\"104.99923828125\" y=\"75.0\">H</text><rect fill=\"white\" height=\"40\" stroke=\"black\" stroke-width=\"1\" width=\"69.4319140625\" x=\"159.9984765625\" y=\"5.0\"/><text dominant-baseline=\"middle\" font-size=\"14px\" text-anchor=\"middle\" x=\"194.71443359375002\" y=\"25.0\">Y^0.988</text><circle cx=\"194.71443359375002\" cy=\"75.0\" r=\"10.0\"/><rect fill=\"white\" height=\"40\" stroke=\"black\" stroke-width=\"1\" width=\"69.4319140625\" x=\"159.9984765625\" y=\"105.0\"/><text dominant-baseline=\"middle\" font-size=\"18px\" text-anchor=\"middle\" x=\"194.71443359375002\" y=\"125.0\">X</text><circle cx=\"269.430390625\" cy=\"25.0\" r=\"10.0\"/><rect fill=\"white\" height=\"40\" stroke=\"black\" stroke-width=\"1\" width=\"40\" x=\"249.43039062499997\" y=\"55.0\"/><text dominant-baseline=\"middle\" font-size=\"18px\" text-anchor=\"middle\" x=\"269.430390625\" y=\"75.0\">X</text><rect fill=\"white\" height=\"40\" stroke=\"black\" stroke-width=\"1\" width=\"40\" x=\"309.430390625\" y=\"5.0\"/><text dominant-baseline=\"middle\" font-size=\"18px\" text-anchor=\"middle\" x=\"329.430390625\" y=\"25.0\">H</text><rect fill=\"white\" height=\"40\" stroke=\"black\" stroke-width=\"1\" width=\"40\" x=\"369.430390625\" y=\"5.0\"/><text dominant-baseline=\"middle\" font-size=\"18px\" text-anchor=\"middle\" x=\"389.430390625\" y=\"25.0\">M</text><rect fill=\"white\" height=\"40\" stroke=\"black\" stroke-width=\"1\" width=\"40\" x=\"369.430390625\" y=\"55.0\"/><text dominant-baseline=\"middle\" font-size=\"18px\" text-anchor=\"middle\" x=\"389.430390625\" y=\"75.0\">M</text><circle cx=\"449.430390625\" cy=\"75.0\" r=\"10.0\"/><rect fill=\"white\" height=\"40\" stroke=\"black\" stroke-width=\"1\" width=\"40\" x=\"429.430390625\" y=\"105.0\"/><text dominant-baseline=\"middle\" font-size=\"18px\" text-anchor=\"middle\" x=\"449.430390625\" y=\"125.0\">X</text><circle cx=\"509.430390625\" cy=\"25.0\" r=\"10.0\"/><circle cx=\"509.430390625\" cy=\"125.0\" r=\"10.0\"/></svg>"
          },
          "metadata": {
            "tags": []
          }
        },
        {
          "output_type": "stream",
          "text": [
            "\n",
            "Final Bloch vector of B:   b = [bx, by, bz] =  [-0.0195, -0.8616,  0.5072] \n",
            "\n",
            "The state of Alices first qubit A1 was successfully teleported from Alice to Bob.\n"
          ],
          "name": "stdout"
        },
        {
          "output_type": "display_data",
          "data": {
            "image/png": "[encoded data removed]",
            "text/plain": [
              "<Figure size 360x360 with 1 Axes>"
            ]
          },
          "metadata": {
            "tags": []
          }
        }
      ]
    },
    {
      "cell_type": "markdown",
      "metadata": {
        "id": "_ch4foLw9BeI",
        "colab_type": "text"
      },
      "source": [
        "# A Second Example of a Teleportation Circuit Using Cirq"
      ]
    },
    {
      "cell_type": "code",
      "metadata": {
        "id": "3--1mqRt9BeJ",
        "colab_type": "code",
        "colab": {
          "base_uri": "https://localhost:8080/",
          "height": 584
        },
        "outputId": "ef08b5e7-2fd3-42d4-82bc-901ff921c1c0"
      },
      "source": [
        "#Creating Alice’s message (which will be teleported) by first creating our first qubit (object):\n",
        "\n",
        "import cirq\n",
        "quantmsg = cirq.LineQubit(0)\n",
        "print('message is {0} of type {1}'.format(quantmsg, type(quantmsg)))\n",
        "\n",
        "# Now we want to fill this object with a random qubit value, by applying an X gate and a Y gate to it, and multiplying by a random float number:'='\n",
        "\n",
        "import random\n",
        "ranX = random.random()\n",
        "ranY = random.random()\n",
        "ranq = cirq.X(quantmsg)**ranX, cirq.Y(quantmsg)**ranY\n",
        "\n",
        "#Now we can create a circuit and add Alice's first qubit (the message) to it. NOTICE how we have chosen to create our circuit using the append feature of cirq:\n",
        "\n",
        "circuit = cirq.Circuit()\n",
        "circuit.append(ranq)\n",
        "cprint(circuit)\n",
        "\n",
        "#The variable below, \"original_message\", holds Alice's message, which will be compared to the teleported message Bob recovers in the end. This will allow us to verify if teleportation was successful:\n",
        "\n",
        "import numpy as np\n",
        "sim = cirq.Simulator()\n",
        "original_message = sim.simulate(circuit)\n",
        "expected = cirq.bloch_vector_from_state_vector(original_message.final_state, 0)\n",
        "print(\"x: \", np.around(expected[0], 4), \"y: \", np.around(expected[1], 4), \"z: \", np.around(expected[2], 4))\n",
        "\n",
        "# print(\"Bloch vector of Alice's first qubit 'quantmsg':  \", \"quantmsg = [qx, qy, qz] = \", np.array2string(expected,separator=', '), '\\n')\n",
        "# BSphere = qutip.Bloch()\n",
        "# BSphere.add_vectors(expected)\n",
        "\n",
        "\n",
        "\n",
        "#Creating the entangled state between Alice's second qubit and Bob's qubit that will teleport Alice’s original message:\n",
        "\n",
        "alice, bob = cirq.LineQubit.range(1, 3)\n",
        "circuit.append([cirq.H(alice), cirq.CNOT(alice, bob)])\n",
        "cprint(circuit)\n",
        "\n",
        "#Entangling Alice’s original message into Alice's second qubit (labelled alice) that comprises half of the bell pair of qubits that Bob and Alice share:\n",
        "\n",
        "circuit.append([cirq.CNOT(quantmsg, alice), cirq.H(quantmsg)])\n",
        "cprint(circuit)\n",
        "\n",
        "#Alice processes her message by measuring her two qubits (labelled quantmsg and alice, respectively):\n",
        "\n",
        "circuit.append(cirq.measure(quantmsg, alice))\n",
        "cprint(circuit)\n",
        "\n",
        "\n",
        "#Bob measures his qubit and confirms whether the state from Alice's original message was teleported successfully:\n",
        "\n",
        "circuit.append([cirq.CNOT(alice, bob), cirq.CZ(quantmsg, bob)])\n",
        "final_results = sim.simulate(circuit)\n",
        "teleported = cirq.bloch_vector_from_state_vector(final_results.final_state, 2)\n",
        "print(\"x: \", np.around(teleported[0], 4), \"y: \", np.around(teleported[1], 4), \"z: \", np.around(teleported[2], 4))\n",
        "\n",
        "\n",
        "# print(\"\\nFinal Bloch vector of Bob's qubit B:  \",\"B = [bx, by, bz] = \", np.array2string(teleported,separator=', '), '\\n')\n",
        "# BSphere.add_vectors(teleported)\n",
        "# BSphere.show()\n",
        "\n",
        "\n",
        "#notice that we get the same result as the original message that was encoded into Alice's qubit, therefore the teleportation was indeed successful \n"
      ],
      "execution_count": null,
      "outputs": [
        {
          "output_type": "stream",
          "text": [
            "message is 0 of type <class 'cirq.devices.line_qubit.LineQubit'>\n"
          ],
          "name": "stdout"
        },
        {
          "output_type": "display_data",
          "data": {
            "text/plain": [
              "<IPython.core.display.SVG object>"
            ],
            "image/svg+xml": "<svg height=\"50.0\" width=\"279.121953125\" xmlns=\"http://www.w3.org/2000/svg\"><line stroke=\"#1967d2\" stroke-width=\"1\" x1=\"30.0\" x2=\"249.121953125\" y1=\"25.0\" y2=\"25.0\"/><rect fill=\"white\" height=\"40\" stroke=\"black\" stroke-width=\"0\" width=\"40\" x=\"10.0\" y=\"5.0\"/><text dominant-baseline=\"middle\" font-size=\"14px\" text-anchor=\"middle\" x=\"30.0\" y=\"25.0\">0: </text><rect fill=\"white\" height=\"40\" stroke=\"black\" stroke-width=\"1\" width=\"70.0247265625\" x=\"70.0\" y=\"5.0\"/><text dominant-baseline=\"middle\" font-size=\"14px\" text-anchor=\"middle\" x=\"105.01236328125\" y=\"25.0\">X^0.658</text><rect fill=\"white\" height=\"40\" stroke=\"black\" stroke-width=\"1\" width=\"69.0972265625\" x=\"160.0247265625\" y=\"5.0\"/><text dominant-baseline=\"middle\" font-size=\"14px\" text-anchor=\"middle\" x=\"194.57333984375\" y=\"25.0\">Y^0.881</text></svg>"
          },
          "metadata": {
            "tags": []
          }
        },
        {
          "output_type": "stream",
          "text": [
            "x:  -0.173 y:  -0.8797 z:  0.4429\n"
          ],
          "name": "stdout"
        },
        {
          "output_type": "display_data",
          "data": {
            "text/plain": [
              "<IPython.core.display.SVG object>"
            ],
            "image/svg+xml": "<svg height=\"150.0\" width=\"279.121953125\" xmlns=\"http://www.w3.org/2000/svg\"><line stroke=\"#1967d2\" stroke-width=\"1\" x1=\"30.0\" x2=\"249.121953125\" y1=\"25.0\" y2=\"25.0\"/><line stroke=\"#1967d2\" stroke-width=\"1\" x1=\"30.0\" x2=\"249.121953125\" y1=\"75.0\" y2=\"75.0\"/><line stroke=\"#1967d2\" stroke-width=\"1\" x1=\"30.0\" x2=\"249.121953125\" y1=\"125.0\" y2=\"125.0\"/><line stroke=\"black\" stroke-width=\"3\" x1=\"194.57333984375\" x2=\"194.57333984375\" y1=\"75.0\" y2=\"125.0\"/><rect fill=\"white\" height=\"40\" stroke=\"black\" stroke-width=\"0\" width=\"40\" x=\"10.0\" y=\"5.0\"/><text dominant-baseline=\"middle\" font-size=\"14px\" text-anchor=\"middle\" x=\"30.0\" y=\"25.0\">0: </text><rect fill=\"white\" height=\"40\" stroke=\"black\" stroke-width=\"0\" width=\"40\" x=\"10.0\" y=\"55.0\"/><text dominant-baseline=\"middle\" font-size=\"14px\" text-anchor=\"middle\" x=\"30.0\" y=\"75.0\">1: </text><rect fill=\"white\" height=\"40\" stroke=\"black\" stroke-width=\"0\" width=\"40\" x=\"10.0\" y=\"105.0\"/><text dominant-baseline=\"middle\" font-size=\"14px\" text-anchor=\"middle\" x=\"30.0\" y=\"125.0\">2: </text><rect fill=\"white\" height=\"40\" stroke=\"black\" stroke-width=\"1\" width=\"70.0247265625\" x=\"70.0\" y=\"5.0\"/><text dominant-baseline=\"middle\" font-size=\"14px\" text-anchor=\"middle\" x=\"105.01236328125\" y=\"25.0\">X^0.658</text><rect fill=\"white\" height=\"40\" stroke=\"black\" stroke-width=\"1\" width=\"70.0247265625\" x=\"70.0\" y=\"55.0\"/><text dominant-baseline=\"middle\" font-size=\"18px\" text-anchor=\"middle\" x=\"105.01236328125\" y=\"75.0\">H</text><rect fill=\"white\" height=\"40\" stroke=\"black\" stroke-width=\"1\" width=\"69.0972265625\" x=\"160.0247265625\" y=\"5.0\"/><text dominant-baseline=\"middle\" font-size=\"14px\" text-anchor=\"middle\" x=\"194.57333984375\" y=\"25.0\">Y^0.881</text><circle cx=\"194.57333984375\" cy=\"75.0\" r=\"10.0\"/><rect fill=\"white\" height=\"40\" stroke=\"black\" stroke-width=\"1\" width=\"69.0972265625\" x=\"160.0247265625\" y=\"105.0\"/><text dominant-baseline=\"middle\" font-size=\"18px\" text-anchor=\"middle\" x=\"194.57333984375\" y=\"125.0\">X</text></svg>"
          },
          "metadata": {
            "tags": []
          }
        },
        {
          "output_type": "display_data",
          "data": {
            "text/plain": [
              "<IPython.core.display.SVG object>"
            ],
            "image/svg+xml": "<svg height=\"150.0\" width=\"399.121953125\" xmlns=\"http://www.w3.org/2000/svg\"><line stroke=\"#1967d2\" stroke-width=\"1\" x1=\"30.0\" x2=\"369.121953125\" y1=\"25.0\" y2=\"25.0\"/><line stroke=\"#1967d2\" stroke-width=\"1\" x1=\"30.0\" x2=\"369.121953125\" y1=\"75.0\" y2=\"75.0\"/><line stroke=\"#1967d2\" stroke-width=\"1\" x1=\"30.0\" x2=\"369.121953125\" y1=\"125.0\" y2=\"125.0\"/><line stroke=\"black\" stroke-width=\"3\" x1=\"194.57333984375\" x2=\"194.57333984375\" y1=\"75.0\" y2=\"125.0\"/><line stroke=\"black\" stroke-width=\"3\" x1=\"269.121953125\" x2=\"269.121953125\" y1=\"25.0\" y2=\"75.0\"/><rect fill=\"white\" height=\"40\" stroke=\"black\" stroke-width=\"0\" width=\"40\" x=\"10.0\" y=\"5.0\"/><text dominant-baseline=\"middle\" font-size=\"14px\" text-anchor=\"middle\" x=\"30.0\" y=\"25.0\">0: </text><rect fill=\"white\" height=\"40\" stroke=\"black\" stroke-width=\"0\" width=\"40\" x=\"10.0\" y=\"55.0\"/><text dominant-baseline=\"middle\" font-size=\"14px\" text-anchor=\"middle\" x=\"30.0\" y=\"75.0\">1: </text><rect fill=\"white\" height=\"40\" stroke=\"black\" stroke-width=\"0\" width=\"40\" x=\"10.0\" y=\"105.0\"/><text dominant-baseline=\"middle\" font-size=\"14px\" text-anchor=\"middle\" x=\"30.0\" y=\"125.0\">2: </text><rect fill=\"white\" height=\"40\" stroke=\"black\" stroke-width=\"1\" width=\"70.0247265625\" x=\"70.0\" y=\"5.0\"/><text dominant-baseline=\"middle\" font-size=\"14px\" text-anchor=\"middle\" x=\"105.01236328125\" y=\"25.0\">X^0.658</text><rect fill=\"white\" height=\"40\" stroke=\"black\" stroke-width=\"1\" width=\"70.0247265625\" x=\"70.0\" y=\"55.0\"/><text dominant-baseline=\"middle\" font-size=\"18px\" text-anchor=\"middle\" x=\"105.01236328125\" y=\"75.0\">H</text><rect fill=\"white\" height=\"40\" stroke=\"black\" stroke-width=\"1\" width=\"69.0972265625\" x=\"160.0247265625\" y=\"5.0\"/><text dominant-baseline=\"middle\" font-size=\"14px\" text-anchor=\"middle\" x=\"194.57333984375\" y=\"25.0\">Y^0.881</text><circle cx=\"194.57333984375\" cy=\"75.0\" r=\"10.0\"/><rect fill=\"white\" height=\"40\" stroke=\"black\" stroke-width=\"1\" width=\"69.0972265625\" x=\"160.0247265625\" y=\"105.0\"/><text dominant-baseline=\"middle\" font-size=\"18px\" text-anchor=\"middle\" x=\"194.57333984375\" y=\"125.0\">X</text><circle cx=\"269.121953125\" cy=\"25.0\" r=\"10.0\"/><rect fill=\"white\" height=\"40\" stroke=\"black\" stroke-width=\"1\" width=\"40\" x=\"249.121953125\" y=\"55.0\"/><text dominant-baseline=\"middle\" font-size=\"18px\" text-anchor=\"middle\" x=\"269.121953125\" y=\"75.0\">X</text><rect fill=\"white\" height=\"40\" stroke=\"black\" stroke-width=\"1\" width=\"40\" x=\"309.121953125\" y=\"5.0\"/><text dominant-baseline=\"middle\" font-size=\"18px\" text-anchor=\"middle\" x=\"329.121953125\" y=\"25.0\">H</text></svg>"
          },
          "metadata": {
            "tags": []
          }
        },
        {
          "output_type": "display_data",
          "data": {
            "text/plain": [
              "<IPython.core.display.SVG object>"
            ],
            "image/svg+xml": "<svg height=\"150.0\" width=\"459.121953125\" xmlns=\"http://www.w3.org/2000/svg\"><line stroke=\"#1967d2\" stroke-width=\"1\" x1=\"30.0\" x2=\"429.121953125\" y1=\"25.0\" y2=\"25.0\"/><line stroke=\"#1967d2\" stroke-width=\"1\" x1=\"30.0\" x2=\"429.121953125\" y1=\"75.0\" y2=\"75.0\"/><line stroke=\"#1967d2\" stroke-width=\"1\" x1=\"30.0\" x2=\"429.121953125\" y1=\"125.0\" y2=\"125.0\"/><line stroke=\"black\" stroke-width=\"3\" x1=\"194.57333984375\" x2=\"194.57333984375\" y1=\"75.0\" y2=\"125.0\"/><line stroke=\"black\" stroke-width=\"3\" x1=\"269.121953125\" x2=\"269.121953125\" y1=\"25.0\" y2=\"75.0\"/><line stroke=\"black\" stroke-width=\"3\" x1=\"389.121953125\" x2=\"389.121953125\" y1=\"25.0\" y2=\"75.0\"/><rect fill=\"white\" height=\"40\" stroke=\"black\" stroke-width=\"0\" width=\"40\" x=\"10.0\" y=\"5.0\"/><text dominant-baseline=\"middle\" font-size=\"14px\" text-anchor=\"middle\" x=\"30.0\" y=\"25.0\">0: </text><rect fill=\"white\" height=\"40\" stroke=\"black\" stroke-width=\"0\" width=\"40\" x=\"10.0\" y=\"55.0\"/><text dominant-baseline=\"middle\" font-size=\"14px\" text-anchor=\"middle\" x=\"30.0\" y=\"75.0\">1: </text><rect fill=\"white\" height=\"40\" stroke=\"black\" stroke-width=\"0\" width=\"40\" x=\"10.0\" y=\"105.0\"/><text dominant-baseline=\"middle\" font-size=\"14px\" text-anchor=\"middle\" x=\"30.0\" y=\"125.0\">2: </text><rect fill=\"white\" height=\"40\" stroke=\"black\" stroke-width=\"1\" width=\"70.0247265625\" x=\"70.0\" y=\"5.0\"/><text dominant-baseline=\"middle\" font-size=\"14px\" text-anchor=\"middle\" x=\"105.01236328125\" y=\"25.0\">X^0.658</text><rect fill=\"white\" height=\"40\" stroke=\"black\" stroke-width=\"1\" width=\"70.0247265625\" x=\"70.0\" y=\"55.0\"/><text dominant-baseline=\"middle\" font-size=\"18px\" text-anchor=\"middle\" x=\"105.01236328125\" y=\"75.0\">H</text><rect fill=\"white\" height=\"40\" stroke=\"black\" stroke-width=\"1\" width=\"69.0972265625\" x=\"160.0247265625\" y=\"5.0\"/><text dominant-baseline=\"middle\" font-size=\"14px\" text-anchor=\"middle\" x=\"194.57333984375\" y=\"25.0\">Y^0.881</text><circle cx=\"194.57333984375\" cy=\"75.0\" r=\"10.0\"/><rect fill=\"white\" height=\"40\" stroke=\"black\" stroke-width=\"1\" width=\"69.0972265625\" x=\"160.0247265625\" y=\"105.0\"/><text dominant-baseline=\"middle\" font-size=\"18px\" text-anchor=\"middle\" x=\"194.57333984375\" y=\"125.0\">X</text><circle cx=\"269.121953125\" cy=\"25.0\" r=\"10.0\"/><rect fill=\"white\" height=\"40\" stroke=\"black\" stroke-width=\"1\" width=\"40\" x=\"249.121953125\" y=\"55.0\"/><text dominant-baseline=\"middle\" font-size=\"18px\" text-anchor=\"middle\" x=\"269.121953125\" y=\"75.0\">X</text><rect fill=\"white\" height=\"40\" stroke=\"black\" stroke-width=\"1\" width=\"40\" x=\"309.121953125\" y=\"5.0\"/><text dominant-baseline=\"middle\" font-size=\"18px\" text-anchor=\"middle\" x=\"329.121953125\" y=\"25.0\">H</text><rect fill=\"white\" height=\"40\" stroke=\"black\" stroke-width=\"1\" width=\"40\" x=\"369.121953125\" y=\"5.0\"/><text dominant-baseline=\"middle\" font-size=\"18px\" text-anchor=\"middle\" x=\"389.121953125\" y=\"25.0\">M</text><rect fill=\"white\" height=\"40\" stroke=\"black\" stroke-width=\"1\" width=\"40\" x=\"369.121953125\" y=\"55.0\"/><text dominant-baseline=\"middle\" font-size=\"18px\" text-anchor=\"middle\" x=\"389.121953125\" y=\"75.0\">M</text></svg>"
          },
          "metadata": {
            "tags": []
          }
        },
        {
          "output_type": "stream",
          "text": [
            "x:  -0.173 y:  -0.8797 z:  0.4429\n"
          ],
          "name": "stdout"
        }
      ]
    },
    {
      "cell_type": "markdown",
      "metadata": {
        "id": "Zze9oQaZ9BeY",
        "colab_type": "text"
      },
      "source": [
        "# Example of Entanglement Using IBM Qiskit (can run on actual hardware, this will show how noise will yield non 50/50 outcome for bell state preparation)"
      ]
    },
    {
      "cell_type": "code",
      "metadata": {
        "id": "4p1GVEb69BeZ",
        "colab_type": "code",
        "colab": {}
      },
      "source": [
        ""
      ],
      "execution_count": null,
      "outputs": []
    },
    {
      "cell_type": "code",
      "metadata": {
        "id": "MbfLahGa9Bec",
        "colab_type": "code",
        "colab": {}
      },
      "source": [
        ""
      ],
      "execution_count": null,
      "outputs": []
    },
    {
      "cell_type": "code",
      "metadata": {
        "id": "P9IwEK829Beg",
        "colab_type": "code",
        "colab": {}
      },
      "source": [
        ""
      ],
      "execution_count": null,
      "outputs": []
    }
  ]
}