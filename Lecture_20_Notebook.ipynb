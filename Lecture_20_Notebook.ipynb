{
  "nbformat": 4,
  "nbformat_minor": 0,
  "metadata": {
    "colab": {
      "name": "Lecture_20_Notebook.ipynb",
      "provenance": [],
      "collapsed_sections": [],
      "include_colab_link": true
    },
    "kernelspec": {
      "name": "python3",
      "display_name": "Python 3"
    }
  },
  "cells": [
    {
      "cell_type": "markdown",
      "metadata": {
        "id": "view-in-github",
        "colab_type": "text"
      },
      "source": [
        "<a href=\"https://colab.research.google.com/github/ddinesan/Manga/blob/master/Lecture_20_Notebook.ipynb\" target=\"_parent\"><img src=\"https://colab.research.google.com/assets/colab-badge.svg\" alt=\"Open In Colab\"/></a>"
      ]
    },
    {
      "cell_type": "markdown",
      "metadata": {
        "id": "eU-8TlBfTFkA",
        "colab_type": "text"
      },
      "source": [
        "This is a worksheet prepared by Kai Wang and Dominic Fluet for Lecture 20 of the reading course \"Introduction to Quantum Computer Programming\" (AMATH 900/ AMATH 495/ QIC 895) at the University of Waterloo.\n",
        "\n",
        "Course Webpage: https://sites.google.com/view/quantum-computer-programming\n",
        "\n",
        "Text followed in the course: [Quantum Computing, An Applied Approach](https://www.springer.com/gp/book/9783030239213) by Jack D. Hidary (2019)\n"
      ]
    },
    {
      "cell_type": "markdown",
      "metadata": {
        "id": "JTPtR8n3TYMv",
        "colab_type": "text"
      },
      "source": [
        "#Quantum Approximate Optimization Algorithm (QAOA)\n",
        "QAOA of the Ising model"
      ]
    },
    {
      "cell_type": "code",
      "metadata": {
        "id": "fT7bcDSAXTWg",
        "colab_type": "code",
        "colab": {
          "base_uri": "https://localhost:8080/",
          "height": 641
        },
        "outputId": "c84c47d9-cad3-4b4d-b040-3352ba3ff1ba"
      },
      "source": [
        "# Imports\n",
        "!pip install cirq\n",
        "import numpy as np\n",
        "import matplotlib.pyplot as plt\n",
        "import cirq\n",
        "\n",
        "from cirq.contrib.svg import circuit_to_svg\n",
        "from IPython.display import SVG, display\n",
        "import os\n",
        "\n",
        "def cprint(circuit):\n",
        "  \"\"\"Convert the cirq.Circuit to a temp svg and display + garbage collect.\"\"\"\n",
        "  with open(\"temp.svg\", 'w+') as f:\n",
        "    f.write(circuit_to_svg(circuit))\n",
        "  display(SVG('temp.svg'))\n",
        "  os.remove('temp.svg')"
      ],
      "execution_count": null,
      "outputs": [
        {
          "output_type": "stream",
          "text": [
            "Requirement already satisfied: cirq in /usr/local/lib/python3.6/dist-packages (0.7.0)\n",
            "Requirement already satisfied: sympy==1.4 in /usr/local/lib/python3.6/dist-packages (from cirq) (1.4)\n",
            "Requirement already satisfied: scipy in /usr/local/lib/python3.6/dist-packages (from cirq) (1.4.1)\n",
            "Requirement already satisfied: pandas in /usr/local/lib/python3.6/dist-packages (from cirq) (0.25.3)\n",
            "Requirement already satisfied: google-api-python-client~=1.6 in /usr/local/lib/python3.6/dist-packages (from cirq) (1.7.11)\n",
            "Requirement already satisfied: matplotlib~=3.0 in /usr/local/lib/python3.6/dist-packages (from cirq) (3.2.0)\n",
            "Requirement already satisfied: networkx==2.3 in /usr/local/lib/python3.6/dist-packages (from cirq) (2.3)\n",
            "Requirement already satisfied: requests~=2.18 in /usr/local/lib/python3.6/dist-packages (from cirq) (2.21.0)\n",
            "Requirement already satisfied: typing-extensions in /usr/local/lib/python3.6/dist-packages (from cirq) (3.6.6)\n",
            "Requirement already satisfied: sortedcontainers~=2.0 in /usr/local/lib/python3.6/dist-packages (from cirq) (2.1.0)\n",
            "Requirement already satisfied: protobuf==3.8.0 in /usr/local/lib/python3.6/dist-packages (from cirq) (3.8.0)\n",
            "Requirement already satisfied: numpy~=1.16 in /usr/local/lib/python3.6/dist-packages (from cirq) (1.18.1)\n",
            "Requirement already satisfied: dataclasses; python_version < \"3.7\" in /usr/local/lib/python3.6/dist-packages (from cirq) (0.7)\n",
            "Requirement already satisfied: mpmath>=0.19 in /usr/local/lib/python3.6/dist-packages (from sympy==1.4->cirq) (1.1.0)\n",
            "Requirement already satisfied: python-dateutil>=2.6.1 in /usr/local/lib/python3.6/dist-packages (from pandas->cirq) (2.8.1)\n",
            "Requirement already satisfied: pytz>=2017.2 in /usr/local/lib/python3.6/dist-packages (from pandas->cirq) (2018.9)\n",
            "Requirement already satisfied: httplib2<1dev,>=0.9.2 in /usr/local/lib/python3.6/dist-packages (from google-api-python-client~=1.6->cirq) (0.11.3)\n",
            "Requirement already satisfied: google-auth>=1.4.1 in /usr/local/lib/python3.6/dist-packages (from google-api-python-client~=1.6->cirq) (1.7.2)\n",
            "Requirement already satisfied: google-auth-httplib2>=0.0.3 in /usr/local/lib/python3.6/dist-packages (from google-api-python-client~=1.6->cirq) (0.0.3)\n",
            "Requirement already satisfied: uritemplate<4dev,>=3.0.0 in /usr/local/lib/python3.6/dist-packages (from google-api-python-client~=1.6->cirq) (3.0.1)\n",
            "Requirement already satisfied: six<2dev,>=1.6.1 in /usr/local/lib/python3.6/dist-packages (from google-api-python-client~=1.6->cirq) (1.12.0)\n",
            "Requirement already satisfied: pyparsing!=2.0.4,!=2.1.2,!=2.1.6,>=2.0.1 in /usr/local/lib/python3.6/dist-packages (from matplotlib~=3.0->cirq) (2.4.6)\n",
            "Requirement already satisfied: kiwisolver>=1.0.1 in /usr/local/lib/python3.6/dist-packages (from matplotlib~=3.0->cirq) (1.1.0)\n",
            "Requirement already satisfied: cycler>=0.10 in /usr/local/lib/python3.6/dist-packages (from matplotlib~=3.0->cirq) (0.10.0)\n",
            "Requirement already satisfied: decorator>=4.3.0 in /usr/local/lib/python3.6/dist-packages (from networkx==2.3->cirq) (4.4.2)\n",
            "Requirement already satisfied: urllib3<1.25,>=1.21.1 in /usr/local/lib/python3.6/dist-packages (from requests~=2.18->cirq) (1.24.3)\n",
            "Requirement already satisfied: certifi>=2017.4.17 in /usr/local/lib/python3.6/dist-packages (from requests~=2.18->cirq) (2019.11.28)\n",
            "Requirement already satisfied: chardet<3.1.0,>=3.0.2 in /usr/local/lib/python3.6/dist-packages (from requests~=2.18->cirq) (3.0.4)\n",
            "Requirement already satisfied: idna<2.9,>=2.5 in /usr/local/lib/python3.6/dist-packages (from requests~=2.18->cirq) (2.8)\n",
            "Requirement already satisfied: setuptools in /usr/local/lib/python3.6/dist-packages (from protobuf==3.8.0->cirq) (45.2.0)\n",
            "Requirement already satisfied: cachetools<3.2,>=2.0.0 in /usr/local/lib/python3.6/dist-packages (from google-auth>=1.4.1->google-api-python-client~=1.6->cirq) (3.1.1)\n",
            "Requirement already satisfied: rsa<4.1,>=3.1.4 in /usr/local/lib/python3.6/dist-packages (from google-auth>=1.4.1->google-api-python-client~=1.6->cirq) (4.0)\n",
            "Requirement already satisfied: pyasn1-modules>=0.2.1 in /usr/local/lib/python3.6/dist-packages (from google-auth>=1.4.1->google-api-python-client~=1.6->cirq) (0.2.8)\n",
            "Requirement already satisfied: pyasn1>=0.1.3 in /usr/local/lib/python3.6/dist-packages (from rsa<4.1,>=3.1.4->google-auth>=1.4.1->google-api-python-client~=1.6->cirq) (0.4.8)\n"
          ],
          "name": "stdout"
        }
      ]
    },
    {
      "cell_type": "markdown",
      "metadata": {
        "id": "ThqSoOuUGzzm",
        "colab_type": "text"
      },
      "source": [
        "We write a function which gives us a circuit for\n",
        "implementing the unitary $e^{i\\pi\\gamma Z_i Z_j}$. We then test our function by printing out the circuit for an example set of qubits $i$ and $j$ with an arbitrary value of $\\gamma$ and ensuring that the unitary matrix of this circuit is what we expect."
      ]
    },
    {
      "cell_type": "code",
      "metadata": {
        "id": "gh91_uXBgaA7",
        "colab_type": "code",
        "colab": {}
      },
      "source": [
        "# Function to implement a ZZ gate on qubits a, b with angle gamma\n",
        "def ZZ(a, b, gamma):\n",
        "  \"\"\"Returns a circuit implementing exp(-i \\pi \\gamma Z_i Z_j).\"\"\"\n",
        "  # Get a circuit\n",
        "  circuit = cirq.Circuit()\n",
        "  # Gives the fourth diagonal component\n",
        "  circuit.append(cirq.CZ(a, b)**gamma)\n",
        "  # Gives the third diagonal component\n",
        "  circuit.append([cirq.X(b), cirq.CZ(a,b)**(-1 * gamma), cirq.X(b)])\n",
        "  # Gives the second diagonal component\n",
        "  circuit.append([cirq.X(a), cirq.CZ(a,b)**-gamma, cirq.X(a)])\n",
        "  # Gives the first diagonal component\n",
        "  circuit.append([cirq.X(a), cirq.X(b), cirq.CZ(a,b)**gamma,\n",
        "  cirq.X(a), cirq.X(b)])\n",
        "  return circuit"
      ],
      "execution_count": null,
      "outputs": []
    },
    {
      "cell_type": "markdown",
      "metadata": {
        "id": "1F4R8SJTPc02",
        "colab_type": "text"
      },
      "source": [
        "$\\gamma=0.5$\n",
        "\n",
        "$e^{i\\pi0.5}=i$\n",
        "\n",
        "$e^{-i\\pi0.5}=-i$"
      ]
    },
    {
      "cell_type": "code",
      "metadata": {
        "colab_type": "code",
        "id": "ZUgn6xd4jJoF",
        "colab": {
          "base_uri": "https://localhost:8080/",
          "height": 231
        },
        "outputId": "031e3999-680d-4686-9ac9-78277023ab36"
      },
      "source": [
        "# Make sure the circuit gives the correct matrix\n",
        "qreg = cirq.LineQubit.range(2)\n",
        "zzcirc = ZZ(qreg[0], qreg[1], 0.5)\n",
        "#print(\"Circuit for ZZ gate:\", zzcirc, sep=\"\\n\")\n",
        "cprint(cirq.Circuit(*zzcirc))\n",
        "print(\"\\nUnitary of circuit:\", zzcirc.unitary().round(2), sep=\"\\n\")"
      ],
      "execution_count": null,
      "outputs": [
        {
          "output_type": "display_data",
          "data": {
            "text/plain": [
              "<IPython.core.display.SVG object>"
            ],
            "image/svg+xml": "<svg height=\"100.0\" width=\"713.501328125\" xmlns=\"http://www.w3.org/2000/svg\"><line stroke=\"#1967d2\" stroke-width=\"1\" x1=\"30.0\" x2=\"683.501328125\" y1=\"25.0\" y2=\"25.0\"/><line stroke=\"#1967d2\" stroke-width=\"1\" x1=\"30.0\" x2=\"683.501328125\" y1=\"75.0\" y2=\"75.0\"/><line stroke=\"black\" stroke-width=\"3\" x1=\"97.9247265625\" x2=\"97.9247265625\" y1=\"25.0\" y2=\"75.0\"/><line stroke=\"black\" stroke-width=\"3\" x1=\"236.30005859375\" x2=\"236.30005859375\" y1=\"25.0\" y2=\"75.0\"/><line stroke=\"black\" stroke-width=\"3\" x1=\"377.20126953125\" x2=\"377.20126953125\" y1=\"25.0\" y2=\"75.0\"/><line stroke=\"black\" stroke-width=\"3\" x1=\"575.5766015625001\" x2=\"575.5766015625001\" y1=\"25.0\" y2=\"75.0\"/><rect fill=\"white\" height=\"40\" stroke=\"black\" stroke-width=\"0\" width=\"40\" x=\"10.0\" y=\"5.0\"/><text dominant-baseline=\"middle\" font-size=\"14px\" text-anchor=\"middle\" x=\"30.0\" y=\"25.0\">0: </text><rect fill=\"white\" height=\"40\" stroke=\"black\" stroke-width=\"0\" width=\"40\" x=\"10.0\" y=\"55.0\"/><text dominant-baseline=\"middle\" font-size=\"14px\" text-anchor=\"middle\" x=\"30.0\" y=\"75.0\">1: </text><circle cx=\"97.9247265625\" cy=\"25.0\" r=\"10.0\"/><rect fill=\"white\" height=\"40\" stroke=\"black\" stroke-width=\"1\" width=\"55.849453125\" x=\"70.0\" y=\"55.0\"/><text dominant-baseline=\"middle\" font-size=\"14px\" text-anchor=\"middle\" x=\"97.9247265625\" y=\"75.0\">@^0.5</text><rect fill=\"white\" height=\"40\" stroke=\"black\" stroke-width=\"1\" width=\"40\" x=\"145.849453125\" y=\"55.0\"/><text dominant-baseline=\"middle\" font-size=\"18px\" text-anchor=\"middle\" x=\"165.849453125\" y=\"75.0\">X</text><circle cx=\"236.30005859375\" cy=\"25.0\" r=\"10.0\"/><rect fill=\"white\" height=\"40\" stroke=\"black\" stroke-width=\"1\" width=\"60.9012109375\" x=\"205.84945312500003\" y=\"55.0\"/><text dominant-baseline=\"middle\" font-size=\"14px\" text-anchor=\"middle\" x=\"236.30005859375\" y=\"75.0\">@^-0.5</text><rect fill=\"white\" height=\"40\" stroke=\"black\" stroke-width=\"1\" width=\"40\" x=\"286.7506640625\" y=\"55.0\"/><text dominant-baseline=\"middle\" font-size=\"18px\" text-anchor=\"middle\" x=\"306.7506640625\" y=\"75.0\">X</text><rect fill=\"white\" height=\"40\" stroke=\"black\" stroke-width=\"1\" width=\"40\" x=\"286.7506640625\" y=\"5.0\"/><text dominant-baseline=\"middle\" font-size=\"18px\" text-anchor=\"middle\" x=\"306.7506640625\" y=\"25.0\">X</text><circle cx=\"377.20126953125\" cy=\"25.0\" r=\"10.0\"/><rect fill=\"white\" height=\"40\" stroke=\"black\" stroke-width=\"1\" width=\"60.9012109375\" x=\"346.7506640625\" y=\"55.0\"/><text dominant-baseline=\"middle\" font-size=\"14px\" text-anchor=\"middle\" x=\"377.20126953125\" y=\"75.0\">@^-0.5</text><rect fill=\"white\" height=\"40\" stroke=\"black\" stroke-width=\"1\" width=\"40\" x=\"427.651875\" y=\"5.0\"/><text dominant-baseline=\"middle\" font-size=\"18px\" text-anchor=\"middle\" x=\"447.651875\" y=\"25.0\">X</text><rect fill=\"white\" height=\"40\" stroke=\"black\" stroke-width=\"1\" width=\"40\" x=\"427.651875\" y=\"55.0\"/><text dominant-baseline=\"middle\" font-size=\"18px\" text-anchor=\"middle\" x=\"447.651875\" y=\"75.0\">X</text><rect fill=\"white\" height=\"40\" stroke=\"black\" stroke-width=\"1\" width=\"40\" x=\"487.651875\" y=\"5.0\"/><text dominant-baseline=\"middle\" font-size=\"18px\" text-anchor=\"middle\" x=\"507.651875\" y=\"25.0\">X</text><circle cx=\"575.5766015625001\" cy=\"25.0\" r=\"10.0\"/><rect fill=\"white\" height=\"40\" stroke=\"black\" stroke-width=\"1\" width=\"55.849453125\" x=\"547.651875\" y=\"55.0\"/><text dominant-baseline=\"middle\" font-size=\"14px\" text-anchor=\"middle\" x=\"575.5766015625001\" y=\"75.0\">@^0.5</text><rect fill=\"white\" height=\"40\" stroke=\"black\" stroke-width=\"1\" width=\"40\" x=\"623.501328125\" y=\"5.0\"/><text dominant-baseline=\"middle\" font-size=\"18px\" text-anchor=\"middle\" x=\"643.501328125\" y=\"25.0\">X</text><rect fill=\"white\" height=\"40\" stroke=\"black\" stroke-width=\"1\" width=\"40\" x=\"623.501328125\" y=\"55.0\"/><text dominant-baseline=\"middle\" font-size=\"18px\" text-anchor=\"middle\" x=\"643.501328125\" y=\"75.0\">X</text></svg>"
          },
          "metadata": {
            "tags": []
          }
        },
        {
          "output_type": "stream",
          "text": [
            "\n",
            "Unitary of circuit:\n",
            "[[0.+1.j 0.+0.j 0.+0.j 0.+0.j]\n",
            " [0.+0.j 0.-1.j 0.+0.j 0.+0.j]\n",
            " [0.+0.j 0.+0.j 0.-1.j 0.+0.j]\n",
            " [0.+0.j 0.+0.j 0.+0.j 0.+1.j]]\n"
          ],
          "name": "stdout"
        }
      ]
    },
    {
      "cell_type": "markdown",
      "metadata": {
        "id": "9wT0pYaSJOsj",
        "colab_type": "text"
      },
      "source": [
        "We can see that this circuit indeed implements the\n",
        "desired unitary operator. \n",
        "\n",
        "In the next block of code, we define a 2x2 grid of qubits."
      ]
    },
    {
      "cell_type": "code",
      "metadata": {
        "id": "5m-Y52_llvxG",
        "colab_type": "code",
        "colab": {}
      },
      "source": [
        "ncols = 2\n",
        "nrows = 2\n",
        "qreg = [[cirq.GridQubit(i,j) for j in range(ncols)] for i in range(nrows)]"
      ],
      "execution_count": null,
      "outputs": []
    },
    {
      "cell_type": "markdown",
      "metadata": {
        "id": "tJhtbqbCJV44",
        "colab_type": "text"
      },
      "source": [
        "Then we write functions for implementing the operators $U(H_C,\\gamma)$ and $U(H_B,\\beta)$."
      ]
    },
    {
      "cell_type": "code",
      "metadata": {
        "id": "igZGGfqgl72Y",
        "colab_type": "code",
        "colab": {}
      },
      "source": [
        "# Function to implement the cost Hamiltonian\n",
        "def cost_circuit(gamma):\n",
        "  \"\"\"Returns a circuit for the cost Hamiltonian.\"\"\"\n",
        "  circ = cirq.Circuit()\n",
        "  for i in range(nrows):\n",
        "    for j in range(ncols):\n",
        "      if i < nrows - 1:\n",
        "        circ += ZZ(qreg[i][j], qreg[i + 1][j], gamma)\n",
        "      if j < ncols - 1:\n",
        "        circ += ZZ(qreg[i][j], qreg[i][j + 1], gamma)\n",
        "  return circ\n",
        "# Function to implement the mixer Hamiltonian\n",
        "def mixer(beta):\n",
        "  \"\"\"Generator for U(H_B, beta) layer (mixing layer)\"\"\"\n",
        "  for row in qreg:\n",
        "    for qubit in row:\n",
        "      yield cirq.X(qubit)**beta"
      ],
      "execution_count": null,
      "outputs": []
    },
    {
      "cell_type": "markdown",
      "metadata": {
        "id": "ZbYz0pQcJwLb",
        "colab_type": "text"
      },
      "source": [
        "These functions allow us to construct the entire QAOA circuit. The function below builds this circuit for an arbitrary number $p$ of parameters."
      ]
    },
    {
      "cell_type": "code",
      "metadata": {
        "id": "6BxW06nXmNnT",
        "colab_type": "code",
        "colab": {}
      },
      "source": [
        "# Function to build the QAOA circuit\n",
        "def qaoa(gammas, betas):\n",
        "  \"\"\"Returns a QAOA circuit.\"\"\"\n",
        "  circ = cirq.Circuit()\n",
        "  circ.append(cirq.H.on_each(*[q for row in qreg for q in row]))\n",
        "  for i in range(len(gammas)):\n",
        "    circ += cost_circuit(gammas[i])\n",
        "    circ.append(mixer(betas[i]))\n",
        "  return circ"
      ],
      "execution_count": null,
      "outputs": []
    },
    {
      "cell_type": "markdown",
      "metadata": {
        "id": "H32dcemYK2t0",
        "colab_type": "text"
      },
      "source": [
        "Now that we can build our QAOA circuit for a given set of parameters, we\n",
        "can compute the expectation of the cost Hamiltonian in the final state.\n",
        "For simplicity we use Cirq’s ability to access the wavefunction to compute\n",
        "this expectation rather than sampling from the circuit itself. The following\n",
        "function shows how we can access the wavefunction after applying a circuit:"
      ]
    },
    {
      "cell_type": "code",
      "metadata": {
        "id": "6eJFwNx-mUuD",
        "colab_type": "code",
        "colab": {}
      },
      "source": [
        "def simulate(circ):\n",
        "  \"\"\"Returns the wavefunction after applying the circuit.\"\"\"\n",
        "  sim = cirq.Simulator()\n",
        "  return sim.simulate(circ).final_state"
      ],
      "execution_count": null,
      "outputs": []
    },
    {
      "cell_type": "markdown",
      "metadata": {
        "id": "VLU0oWRuLIUx",
        "colab_type": "text"
      },
      "source": [
        "The next function evaluates the expectation using the wavefunction:"
      ]
    },
    {
      "cell_type": "code",
      "metadata": {
        "id": "3ZgTuLB1mbyf",
        "colab_type": "code",
        "colab": {}
      },
      "source": [
        "def energy_from_wavefunction(wf):\n",
        "  \"\"\"Computes the energy-per-site of the Ising Model from the wavefunction.\"\"\"\n",
        "  # Z is a (n_sites x 2**n_sites) array. Each row consists of the\n",
        "  # 2**n_sites non-zero entries in the operator that is the Pauli-Z matrix on\n",
        "  # one of the qubits times the identites on the other qubits.\n",
        "  # The (i*n_cols + j)th row corresponds to qubit (i,j).\n",
        "  nsites = 4\n",
        "  Z = np.array([(-1)**(np.arange(2**nsites) >> i)\n",
        "    for i in range(nsites-1,-1,-1)])\n",
        "  # Create the operator corresponding to the interaction energy summed over all\n",
        "  # nearest-neighbor pairs of qubits\n",
        "  ZZ_filter = np.zeros_like(wf, dtype=float)\n",
        "  for i in range(nrows):\n",
        "    for j in range(ncols):\n",
        "      if i < nrows-1:\n",
        "        ZZ_filter += Z[i*ncols + j]*Z[(i+1)*ncols + j]\n",
        "      if j < ncols-1:\n",
        "        ZZ_filter += Z[i*ncols + j]*Z[i*ncols + (j+1)]\n",
        "  # Expectation value of the energy divided by the number of sites\n",
        "  return -np.sum(np.abs(wf)**2 * ZZ_filter) / nsites"
      ],
      "execution_count": null,
      "outputs": []
    },
    {
      "cell_type": "markdown",
      "metadata": {
        "id": "psgh6m8CLMOa",
        "colab_type": "text"
      },
      "source": [
        "Finally, for convenience, we define a function that computes the energy/cost directly from a set of parameters. This function uses the parameters to\n",
        "build a circuit, then gets the wavefunction of the final state and lastly computes the energy/cost using the previous function."
      ]
    },
    {
      "cell_type": "code",
      "metadata": {
        "id": "ZNqSiK1OnBQ5",
        "colab_type": "code",
        "colab": {}
      },
      "source": [
        "def cost(gammas, betas):\n",
        "  \"\"\"Returns the cost function of the problem.\"\"\"\n",
        "  wavefunction = simulate(qaoa(gammas, betas))\n",
        "  return energy_from_wavefunction(wavefunction)"
      ],
      "execution_count": null,
      "outputs": []
    },
    {
      "cell_type": "markdown",
      "metadata": {
        "id": "2uZGTMJVM5m3",
        "colab_type": "text"
      },
      "source": [
        "These functions provide the set up for QAOA, and we could now optimize the\n",
        "parameters to minimize the cost. For instructional purposes, we implement\n",
        "QAOA with $p=1$ layers and perform a grid search, plotting the 2D cost\n",
        "landscape for each parameter $\\gamma$ and $\\beta$. The function for the grid search over a range of parameters is given below:"
      ]
    },
    {
      "cell_type": "code",
      "metadata": {
        "id": "7ALnNF8vnLWW",
        "colab_type": "code",
        "colab": {}
      },
      "source": [
        "def grid_search(gammavals, betavals):\n",
        "  \"\"\"Does a grid search over all parameter values.\"\"\"\n",
        "  costmat = np.zeros((len(gammavals), len(betavals)))\n",
        "  for (i, gamma) in enumerate(gammavals):\n",
        "    for (j, beta) in enumerate(betavals):\n",
        "      costmat[i, j] = cost([gamma], [beta])\n",
        "  return costmat"
      ],
      "execution_count": null,
      "outputs": []
    },
    {
      "cell_type": "markdown",
      "metadata": {
        "id": "rq_KJWbsQMXj",
        "colab_type": "text"
      },
      "source": [
        "Finally, here is the code for using this function within the main script and\n",
        "plotting the cost landscape:"
      ]
    },
    {
      "cell_type": "code",
      "metadata": {
        "id": "cI-psUXvnURo",
        "colab_type": "code",
        "colab": {
          "base_uri": "https://localhost:8080/",
          "height": 281
        },
        "outputId": "9a6be178-2b43-4abf-c0ab-0391669ac10d"
      },
      "source": [
        "# Get a range of parameters\n",
        "gammavals = np.linspace(0, 1.0, 50)\n",
        "betavals = np.linspace(0, np.pi, 75)\n",
        "# Compute the cost at all parameter values using a grid search\n",
        "costmat = grid_search(gammavals, betavals)\n",
        "# Plot the cost landscape\n",
        "plt.imshow(costmat, extent=(0, 1, 0, np.pi), origin=\"lower\", aspect=\"auto\")\n",
        "plt.colorbar()\n",
        "plt.xlabel(r\"$\\gamma$\")\n",
        "plt.ylabel(r\"$\\beta$\", rotation=0)\n",
        "plt.show()"
      ],
      "execution_count": null,
      "outputs": [
        {
          "output_type": "display_data",
          "data": {
            "image/png": "[encoded data removed]",
            "text/plain": [
              "<Figure size 432x288 with 2 Axes>"
            ]
          },
          "metadata": {
            "tags": []
          }
        }
      ]
    },
    {
      "cell_type": "markdown",
      "metadata": {
        "id": "hjrIYwz8NYR1",
        "colab_type": "text"
      },
      "source": [
        "We can now obtain a set of optimal parameters by taking the coordinates\n",
        "of a minimum in our cost landscape. The following short block of code does\n",
        "this and prints out the numerical value of the cost at these parameters."
      ]
    },
    {
      "cell_type": "code",
      "metadata": {
        "id": "-uN_qlMasfys",
        "colab_type": "code",
        "colab": {
          "base_uri": "https://localhost:8080/",
          "height": 164
        },
        "outputId": "f230088b-c9a1-4ce2-c181-fcfdf24e4b5d"
      },
      "source": [
        "# Coordinates from the grid of cost values\n",
        "gamma_coord, beta_coord = np.where(costmat == np.min(costmat))\n",
        "# Values from the coordinates\n",
        "gamma_opt = gammavals[gamma_coord[0]]\n",
        "beta_opt = betavals[beta_coord[0]]\n",
        "print(\"Optimal gamma:\")\n",
        "print(gamma_opt)\n",
        "print(\"\\nOptimal beta:\")\n",
        "print(beta_opt)\n",
        "print(\"\\nMinimum cost\")\n",
        "print(np.min(costmat))"
      ],
      "execution_count": null,
      "outputs": [
        {
          "output_type": "stream",
          "text": [
            "Optimal gamma:\n",
            "0.8775510204081632\n",
            "\n",
            "Optimal beta:\n",
            "2.2500596032467435\n",
            "\n",
            "Minimum cost\n",
            "-0.4997431207448244\n"
          ],
          "name": "stdout"
        }
      ]
    },
    {
      "cell_type": "markdown",
      "metadata": {
        "id": "B4BLfDN-OAIX",
        "colab_type": "text"
      },
      "source": [
        "Now that we have the optimal parameters, we can run the QAOA circuit with\n",
        "these parameters and measure in the computational basis to get bitstrings that\n",
        "solve our original optimization problem. The function below runs the circuit\n",
        "and returns the measurement results."
      ]
    },
    {
      "cell_type": "code",
      "metadata": {
        "id": "7SThu5zAso-F",
        "colab_type": "code",
        "colab": {}
      },
      "source": [
        "def get_bit_strings(gammas, betas, nreps=10000):\n",
        "  \"\"\"Measures the QAOA circuit in the computational basis to get bitstrings.\"\"\"\n",
        "  circ = qaoa(gammas, betas)\n",
        "  circ.append(cirq.measure(*[qubit for row in qreg for qubit in row], key='m'))\n",
        "  # Simulate the circuit\n",
        "  sim = cirq.Simulator()\n",
        "  res = sim.run(circ, repetitions=nreps)\n",
        "  return res"
      ],
      "execution_count": null,
      "outputs": []
    },
    {
      "cell_type": "markdown",
      "metadata": {
        "id": "4UH9pknOOIJ9",
        "colab_type": "text"
      },
      "source": [
        "Finally, we use this function to sample from the circuit at the optimal parameters found above. Then, we parse the output and print out the two most\n",
        "common bitstrings sampled from the circuit."
      ]
    },
    {
      "cell_type": "code",
      "metadata": {
        "id": "faVqPp6cs8L_",
        "colab_type": "code",
        "colab": {
          "base_uri": "https://localhost:8080/",
          "height": 184
        },
        "outputId": "5d7a96a6-3ea7-4139-da81-fabe84ea3e63"
      },
      "source": [
        "# Sample to get bits and convert to a histogram\n",
        "bits = get_bit_strings([gamma_opt], [beta_opt])\n",
        "hist = bits.histogram(key=\"m\")\n",
        "# Get the most common bits\n",
        "top = hist.most_common(16)\n",
        "# Print out the most common bitstrings measured\n",
        "print(\"Most common bitstring:\")\n",
        "print(format(top[0][0], 'b').zfill(4))\n",
        "print(\"\\nSecond most common bitstring:\")\n",
        "print(format(top[1][0], 'b').zfill(4))\n",
        "print(\"\\nMost common to least common:\")\n",
        "order=[]\n",
        "for el in top:\n",
        "  el = list(el)\n",
        "  el[0]=format(el[0], 'b').zfill(4)\n",
        "  order.append(el)\n",
        "print(order)"
      ],
      "execution_count": null,
      "outputs": [
        {
          "output_type": "stream",
          "text": [
            "Most common bitstring:\n",
            "1111\n",
            "\n",
            "Second most common bitstring:\n",
            "0000\n",
            "\n",
            "Most common to least common:\n",
            "[['1111', 2658], ['0000', 2640], ['1010', 788], ['0011', 770], ['0101', 754], ['1100', 722], ['1101', 195], ['0111', 190], ['0010', 180], ['0001', 174], ['0100', 161], ['1000', 160], ['1110', 159], ['1011', 152], ['0110', 152], ['1001', 145]]\n"
          ],
          "name": "stdout"
        }
      ]
    },
    {
      "cell_type": "markdown",
      "metadata": {
        "id": "Q98JT4eEbvCF",
        "colab_type": "text"
      },
      "source": [
        "#References\n",
        "\n",
        "1.   Jack D. Hidary, \"*Quantum Computing: An Applied Approach*\", 2019\n",
        "\n"
      ]
    }
  ]
}