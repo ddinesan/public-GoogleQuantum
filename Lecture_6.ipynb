{
  "nbformat": 4,
  "nbformat_minor": 0,
  "metadata": {
    "colab": {
      "name": "Lecture 6.ipynb",
      "provenance": [],
      "collapsed_sections": [],
      "include_colab_link": true
    },
    "kernelspec": {
      "name": "python3",
      "display_name": "Python 3"
    }
  },
  "cells": [
    {
      "cell_type": "markdown",
      "metadata": {
        "id": "view-in-github",
        "colab_type": "text"
      },
      "source": [
        "<a href=\"https://colab.research.google.com/github/ddinesan/Manga/blob/master/Lecture_6.ipynb\" target=\"_parent\"><img src=\"https://colab.research.google.com/assets/colab-badge.svg\" alt=\"Open In Colab\"/></a>"
      ]
    },
    {
      "cell_type": "markdown",
      "metadata": {
        "id": "N1iC2Vl4q6Mr",
        "colab_type": "text"
      },
      "source": [
        "# **Software for Quantum Computing**\n",
        "\n",
        "This is a worksheet prepared by Evan Peters for Lecture 6 of the reading course \"Introduction to Quantum Computer Programming\" (AMATH 900/ AMATH 495/ QIC 895) at the University of Waterloo.\n",
        "\n",
        "Course Webpage: https://sites.google.com/view/quantum-computer-programming\n",
        "\n",
        "Text followed in the course: [Quantum Computing, An Applied Approach](https://www.springer.com/gp/book/9783030239213) by Jack D. Hidary (2019)"
      ]
    },
    {
      "cell_type": "code",
      "metadata": {
        "id": "1AItphBwLaG3",
        "colab_type": "code",
        "colab": {
          "base_uri": "https://localhost:8080/",
          "height": 1000
        },
        "outputId": "f4a75abd-9ab8-4678-8d18-c5ba271f3ae6"
      },
      "source": [
        "!pip install cirq qiskit pyquil"
      ],
      "execution_count": null,
      "outputs": [
        {
          "output_type": "stream",
          "text": [
            "Requirement already satisfied: cirq in /usr/local/lib/python3.6/dist-packages (0.7.0)\n",
            "Requirement already satisfied: qiskit in /usr/local/lib/python3.6/dist-packages (0.14.1)\n",
            "Requirement already satisfied: pyquil in /usr/local/lib/python3.6/dist-packages (2.16.0)\n",
            "Requirement already satisfied: networkx==2.3 in /usr/local/lib/python3.6/dist-packages (from cirq) (2.3)\n",
            "Requirement already satisfied: scipy in /usr/local/lib/python3.6/dist-packages (from cirq) (1.4.1)\n",
            "Requirement already satisfied: protobuf==3.8.0 in /usr/local/lib/python3.6/dist-packages (from cirq) (3.8.0)\n",
            "Requirement already satisfied: sympy==1.4 in /usr/local/lib/python3.6/dist-packages (from cirq) (1.4)\n",
            "Requirement already satisfied: typing-extensions in /usr/local/lib/python3.6/dist-packages (from cirq) (3.6.6)\n",
            "Requirement already satisfied: pandas in /usr/local/lib/python3.6/dist-packages (from cirq) (0.25.3)\n",
            "Requirement already satisfied: requests~=2.18 in /usr/local/lib/python3.6/dist-packages (from cirq) (2.21.0)\n",
            "Requirement already satisfied: matplotlib~=3.0 in /usr/local/lib/python3.6/dist-packages (from cirq) (3.1.2)\n",
            "Requirement already satisfied: google-api-python-client~=1.6 in /usr/local/lib/python3.6/dist-packages (from cirq) (1.7.11)\n",
            "Requirement already satisfied: dataclasses; python_version < \"3.7\" in /usr/local/lib/python3.6/dist-packages (from cirq) (0.7)\n",
            "Requirement already satisfied: sortedcontainers~=2.0 in /usr/local/lib/python3.6/dist-packages (from cirq) (2.1.0)\n",
            "Requirement already satisfied: numpy~=1.16 in /usr/local/lib/python3.6/dist-packages (from cirq) (1.17.5)\n",
            "Requirement already satisfied: qiskit-terra==0.11.1 in /usr/local/lib/python3.6/dist-packages (from qiskit) (0.11.1)\n",
            "Requirement already satisfied: qiskit-ignis==0.2.0 in /usr/local/lib/python3.6/dist-packages (from qiskit) (0.2.0)\n",
            "Requirement already satisfied: qiskit-aqua==0.6.2 in /usr/local/lib/python3.6/dist-packages (from qiskit) (0.6.2)\n",
            "Requirement already satisfied: qiskit-ibmq-provider==0.4.5 in /usr/local/lib/python3.6/dist-packages (from qiskit) (0.4.5)\n",
            "Requirement already satisfied: qiskit-aer==0.3.4 in /usr/local/lib/python3.6/dist-packages (from qiskit) (0.3.4)\n",
            "Requirement already satisfied: immutables==0.6 in /usr/local/lib/python3.6/dist-packages (from pyquil) (0.6)\n",
            "Requirement already satisfied: rpcq>=3.0.0 in /usr/local/lib/python3.6/dist-packages (from pyquil) (3.0.0)\n",
            "Requirement already satisfied: antlr4-python3-runtime in /usr/local/lib/python3.6/dist-packages (from pyquil) (4.8)\n",
            "Requirement already satisfied: decorator>=4.3.0 in /usr/local/lib/python3.6/dist-packages (from networkx==2.3->cirq) (4.4.1)\n",
            "Requirement already satisfied: setuptools in /usr/local/lib/python3.6/dist-packages (from protobuf==3.8.0->cirq) (42.0.2)\n",
            "Requirement already satisfied: six>=1.9 in /usr/local/lib/python3.6/dist-packages (from protobuf==3.8.0->cirq) (1.12.0)\n",
            "Requirement already satisfied: mpmath>=0.19 in /usr/local/lib/python3.6/dist-packages (from sympy==1.4->cirq) (1.1.0)\n",
            "Requirement already satisfied: pytz>=2017.2 in /usr/local/lib/python3.6/dist-packages (from pandas->cirq) (2018.9)\n",
            "Requirement already satisfied: python-dateutil>=2.6.1 in /usr/local/lib/python3.6/dist-packages (from pandas->cirq) (2.6.1)\n",
            "Requirement already satisfied: certifi>=2017.4.17 in /usr/local/lib/python3.6/dist-packages (from requests~=2.18->cirq) (2019.11.28)\n",
            "Requirement already satisfied: chardet<3.1.0,>=3.0.2 in /usr/local/lib/python3.6/dist-packages (from requests~=2.18->cirq) (3.0.4)\n",
            "Requirement already satisfied: idna<2.9,>=2.5 in /usr/local/lib/python3.6/dist-packages (from requests~=2.18->cirq) (2.8)\n",
            "Requirement already satisfied: urllib3<1.25,>=1.21.1 in /usr/local/lib/python3.6/dist-packages (from requests~=2.18->cirq) (1.24.3)\n",
            "Requirement already satisfied: kiwisolver>=1.0.1 in /usr/local/lib/python3.6/dist-packages (from matplotlib~=3.0->cirq) (1.1.0)\n",
            "Requirement already satisfied: pyparsing!=2.0.4,!=2.1.2,!=2.1.6,>=2.0.1 in /usr/local/lib/python3.6/dist-packages (from matplotlib~=3.0->cirq) (2.4.6)\n",
            "Requirement already satisfied: cycler>=0.10 in /usr/local/lib/python3.6/dist-packages (from matplotlib~=3.0->cirq) (0.10.0)\n",
            "Requirement already satisfied: google-auth-httplib2>=0.0.3 in /usr/local/lib/python3.6/dist-packages (from google-api-python-client~=1.6->cirq) (0.0.3)\n",
            "Requirement already satisfied: httplib2<1dev,>=0.9.2 in /usr/local/lib/python3.6/dist-packages (from google-api-python-client~=1.6->cirq) (0.11.3)\n",
            "Requirement already satisfied: uritemplate<4dev,>=3.0.0 in /usr/local/lib/python3.6/dist-packages (from google-api-python-client~=1.6->cirq) (3.0.1)\n",
            "Requirement already satisfied: google-auth>=1.4.1 in /usr/local/lib/python3.6/dist-packages (from google-api-python-client~=1.6->cirq) (1.4.2)\n",
            "Requirement already satisfied: jsonschema>=2.6 in /usr/local/lib/python3.6/dist-packages (from qiskit-terra==0.11.1->qiskit) (2.6.0)\n",
            "Requirement already satisfied: dill>=0.3 in /usr/local/lib/python3.6/dist-packages (from qiskit-terra==0.11.1->qiskit) (0.3.1.1)\n",
            "Requirement already satisfied: ply>=3.10 in /usr/local/lib/python3.6/dist-packages (from qiskit-terra==0.11.1->qiskit) (3.11)\n",
            "Requirement already satisfied: psutil>=5 in /usr/local/lib/python3.6/dist-packages (from qiskit-terra==0.11.1->qiskit) (5.4.8)\n",
            "Requirement already satisfied: marshmallow<4,>=3 in /usr/local/lib/python3.6/dist-packages (from qiskit-terra==0.11.1->qiskit) (3.3.0)\n",
            "Requirement already satisfied: marshmallow-polyfield<6,>=5.7 in /usr/local/lib/python3.6/dist-packages (from qiskit-terra==0.11.1->qiskit) (5.7)\n",
            "Requirement already satisfied: dlx in /usr/local/lib/python3.6/dist-packages (from qiskit-aqua==0.6.2->qiskit) (1.0.4)\n",
            "Requirement already satisfied: h5py in /usr/local/lib/python3.6/dist-packages (from qiskit-aqua==0.6.2->qiskit) (2.8.0)\n",
            "Requirement already satisfied: docplex in /usr/local/lib/python3.6/dist-packages (from qiskit-aqua==0.6.2->qiskit) (2.12.182)\n",
            "Requirement already satisfied: scikit-learn>=0.20.0 in /usr/local/lib/python3.6/dist-packages (from qiskit-aqua==0.6.2->qiskit) (0.22.1)\n",
            "Requirement already satisfied: pyscf; sys_platform != \"win32\" in /usr/local/lib/python3.6/dist-packages (from qiskit-aqua==0.6.2->qiskit) (1.7.0)\n",
            "Requirement already satisfied: cvxopt in /usr/local/lib/python3.6/dist-packages (from qiskit-aqua==0.6.2->qiskit) (1.2.3)\n",
            "Requirement already satisfied: quandl in /usr/local/lib/python3.6/dist-packages (from qiskit-aqua==0.6.2->qiskit) (3.5.0)\n",
            "Requirement already satisfied: fastdtw in /usr/local/lib/python3.6/dist-packages (from qiskit-aqua==0.6.2->qiskit) (0.3.4)\n",
            "Requirement already satisfied: websockets<8,>=7 in /usr/local/lib/python3.6/dist-packages (from qiskit-ibmq-provider==0.4.5->qiskit) (7.0)\n",
            "Requirement already satisfied: nest-asyncio!=1.1.0,>=1.0.0 in /usr/local/lib/python3.6/dist-packages (from qiskit-ibmq-provider==0.4.5->qiskit) (1.2.2)\n",
            "Requirement already satisfied: requests-ntlm>=1.1.0 in /usr/local/lib/python3.6/dist-packages (from qiskit-ibmq-provider==0.4.5->qiskit) (1.1.0)\n",
            "Requirement already satisfied: msgpack>=0.6 in /usr/local/lib/python3.6/dist-packages (from rpcq>=3.0.0->pyquil) (0.6.2)\n",
            "Requirement already satisfied: python-rapidjson in /usr/local/lib/python3.6/dist-packages (from rpcq>=3.0.0->pyquil) (0.9.1)\n",
            "Requirement already satisfied: pyzmq>=17 in /usr/local/lib/python3.6/dist-packages (from rpcq>=3.0.0->pyquil) (17.0.0)\n",
            "Requirement already satisfied: ruamel.yaml in /usr/local/lib/python3.6/dist-packages (from rpcq>=3.0.0->pyquil) (0.16.6)\n",
            "Requirement already satisfied: cachetools>=2.0.0 in /usr/local/lib/python3.6/dist-packages (from google-auth>=1.4.1->google-api-python-client~=1.6->cirq) (4.0.0)\n",
            "Requirement already satisfied: pyasn1-modules>=0.2.1 in /usr/local/lib/python3.6/dist-packages (from google-auth>=1.4.1->google-api-python-client~=1.6->cirq) (0.2.7)\n",
            "Requirement already satisfied: rsa>=3.1.4 in /usr/local/lib/python3.6/dist-packages (from google-auth>=1.4.1->google-api-python-client~=1.6->cirq) (4.0)\n",
            "Requirement already satisfied: docloud>=1.0.375 in /usr/local/lib/python3.6/dist-packages (from docplex->qiskit-aqua==0.6.2->qiskit) (1.0.375)\n",
            "Requirement already satisfied: joblib>=0.11 in /usr/local/lib/python3.6/dist-packages (from scikit-learn>=0.20.0->qiskit-aqua==0.6.2->qiskit) (0.14.1)\n",
            "Requirement already satisfied: more-itertools in /usr/local/lib/python3.6/dist-packages (from quandl->qiskit-aqua==0.6.2->qiskit) (8.0.2)\n",
            "Requirement already satisfied: inflection>=0.3.1 in /usr/local/lib/python3.6/dist-packages (from quandl->qiskit-aqua==0.6.2->qiskit) (0.3.1)\n",
            "Requirement already satisfied: cryptography>=1.3 in /usr/local/lib/python3.6/dist-packages (from requests-ntlm>=1.1.0->qiskit-ibmq-provider==0.4.5->qiskit) (2.8)\n",
            "Requirement already satisfied: ntlm-auth>=1.0.2 in /usr/local/lib/python3.6/dist-packages (from requests-ntlm>=1.1.0->qiskit-ibmq-provider==0.4.5->qiskit) (1.4.0)\n",
            "Requirement already satisfied: ruamel.yaml.clib>=0.1.2; platform_python_implementation == \"CPython\" and python_version < \"3.8\" in /usr/local/lib/python3.6/dist-packages (from ruamel.yaml->rpcq>=3.0.0->pyquil) (0.2.0)\n",
            "Requirement already satisfied: pyasn1<0.5.0,>=0.4.6 in /usr/local/lib/python3.6/dist-packages (from pyasn1-modules>=0.2.1->google-auth>=1.4.1->google-api-python-client~=1.6->cirq) (0.4.8)\n",
            "Requirement already satisfied: cffi!=1.11.3,>=1.8 in /usr/local/lib/python3.6/dist-packages (from cryptography>=1.3->requests-ntlm>=1.1.0->qiskit-ibmq-provider==0.4.5->qiskit) (1.13.2)\n",
            "Requirement already satisfied: pycparser in /usr/local/lib/python3.6/dist-packages (from cffi!=1.11.3,>=1.8->cryptography>=1.3->requests-ntlm>=1.1.0->qiskit-ibmq-provider==0.4.5->qiskit) (2.19)\n"
          ],
          "name": "stdout"
        }
      ]
    },
    {
      "cell_type": "markdown",
      "metadata": {
        "id": "DkZrYPTzS7Ug",
        "colab_type": "text"
      },
      "source": [
        "# Quantum Computing Software\n",
        "\n",
        "In the lecture, we discussed abstractions of how software interfaces with quantum computers, as well as the need for extra layers of abstraction to account for high error rates in physical qubits. The goal of this notebook is the following:\n",
        "1. Demo some python quantum computing libraries\n",
        "2. Implement a logical qubit via Shor's code\n",
        "\n",
        "## Quantum computing libraries in Python\n",
        "\n",
        "## Qiskit\n",
        "\n",
        "Lets look at a sample program in Qiskit\n",
        "\n",
        "\n"
      ]
    },
    {
      "cell_type": "code",
      "metadata": {
        "id": "Qlkb2VkKgYsh",
        "colab_type": "code",
        "colab": {
          "base_uri": "https://localhost:8080/",
          "height": 109
        },
        "outputId": "edbf5d06-d938-4d71-a873-43567ec25e2d"
      },
      "source": [
        "import qiskit\n",
        "\n",
        "# Create a quantum register with one qubit\n",
        "qreg = qiskit.QuantumRegister(1, name='qreg')\n",
        "# Create a classical register with one qubit\n",
        "creg = qiskit.ClassicalRegister(1, name='creg')\n",
        "\n",
        "# Qubits in a circuit (registers) must be explicitly declared at circuit creation\n",
        "circuit = qiskit.QuantumCircuit(qreg, creg)\n",
        "\n",
        "# Add a Rx operation on the qubit\n",
        "circuit.rx(np.pi/2, qreg[0])\n",
        "# Print the circuit\n",
        "print(circuit.draw())"
      ],
      "execution_count": null,
      "outputs": [
        {
          "output_type": "stream",
          "text": [
            "           ┌──────────┐\n",
            "qreg_0: |0>┤ Rx(pi/2) ├\n",
            "           └──────────┘\n",
            " creg_0: 0 ════════════\n",
            "                       \n"
          ],
          "name": "stdout"
        }
      ]
    },
    {
      "cell_type": "code",
      "metadata": {
        "id": "K1PDWCA2nf3X",
        "colab_type": "code",
        "colab": {
          "base_uri": "https://localhost:8080/",
          "height": 184
        },
        "outputId": "39c2abae-144a-4066-bf90-a04857edcfdb"
      },
      "source": [
        "# There are multiple backends available to run on\n",
        "for backend in qiskit.BasicAer.backends():\n",
        "  print(backend)\n",
        "\n",
        "# For state-vector simulation:\n",
        "backend = qiskit.BasicAer.get_backend(\"statevector_simulator\")\n",
        "job = qiskit.execute(circuit, backend)\n",
        "print(\"State vector:\")\n",
        "print(job.result().get_statevector())\n",
        "\n",
        "# For measurement-based simulation: We must add a measurement on the qubit\n",
        "circuit.measure(qreg, creg)\n",
        "backend = qiskit.BasicAer.get_backend(\"qasm_simulator\")\n",
        "job = qiskit.execute(circuit, backend, shots=100)\n",
        "print(\"Measurements:\")\n",
        "print(job.result().get_counts())\n",
        "\n",
        "display(job.result())"
      ],
      "execution_count": null,
      "outputs": [
        {
          "output_type": "stream",
          "text": [
            "qasm_simulator\n",
            "statevector_simulator\n",
            "unitary_simulator\n",
            "State vector:\n",
            "[1.+0.j 0.+0.j]\n",
            "Measurements:\n",
            "{'1': 50, '0': 50}\n"
          ],
          "name": "stdout"
        },
        {
          "output_type": "display_data",
          "data": {
            "text/plain": [
              "Result(backend_name='qasm_simulator', backend_version='2.0.0', header=Obj(backend_name='qasm_simulator', backend_version='2.0.0'), job_id='3bcaca73-ba8f-427b-8d4f-e7826eb70063', qobj_id='3f3c5bc1-f886-4fff-b20a-dd7d0d99b67f', results=[ExperimentResult(data=ExperimentResultData(counts=Obj(0x0=50, 0x1=50)), header=Obj(clbit_labels=[['creg', 0]], creg_sizes=[['creg', 1]], memory_slots=1, n_qubits=1, name='circuit31', qreg_sizes=[['qreg', 1]], qubit_labels=[['qreg', 0]]), meas_level=<MeasLevel.CLASSIFIED: 2>, name='circuit31', seed_simulator=691107222, shots=100, status='DONE', success=True, time_taken=0.0011074542999267578)], status='COMPLETED', success=True, time_taken=0.0011513233184814453)"
            ]
          },
          "metadata": {
            "tags": []
          }
        }
      ]
    },
    {
      "cell_type": "markdown",
      "metadata": {
        "id": "vXnFzm_PgY-N",
        "colab_type": "text"
      },
      "source": [
        "### Cirq\n",
        "\n",
        "You should be familiar with Cirq by now. Instead of reviewing Cirq's code, lets look closer at how Cirq's software-hardware hierarchy is supposed to work.\n",
        "\n",
        "Cirq doesn't offer compilation into its own assembly language, but it _does_ support compilation to QASM:"
      ]
    },
    {
      "cell_type": "code",
      "metadata": {
        "id": "t3u0PsZRTJPm",
        "colab_type": "code",
        "colab": {
          "base_uri": "https://localhost:8080/",
          "height": 935
        },
        "outputId": "28fc47c5-54da-46fb-b739-e6e937ee6093"
      },
      "source": [
        "import cirq\n",
        "\n",
        "circuit = cirq.Circuit()\n",
        "q0, q1 = cirq.GridQubit.rect(1, 2)\n",
        "\n",
        "circuit += cirq.rx(np.pi/2).on(q0)\n",
        "circuit += cirq.FSimGate(np.pi/2, np.pi/6).on(q0, q1)\n",
        "\n",
        "# Convert this simple circuit into QASM\n",
        "qasm_circuit = cirq.qasm(circuit)\n",
        "print(qasm_circuit.replace(\"\\\\n\", \"\\n\")) # unescape special characters\n"
      ],
      "execution_count": null,
      "outputs": [
        {
          "output_type": "stream",
          "text": [
            "// Generated from Cirq v0.7.0\n",
            "\n",
            "OPENQASM 2.0;\n",
            "include \"qelib1.inc\";\n",
            "\n",
            "\n",
            "// Qubits: [(0, 0), (0, 1)]\n",
            "qreg q[2];\n",
            "\n",
            "\n",
            "rx(pi*0.5) q[0];\n",
            "\n",
            "// Gate: cirq.FSimGate(theta=1.5707963267948966, phi=0.5235987755982988)\n",
            "u3(0,0,pi*1.0) q[0];\n",
            "u3(0,0,pi*1.0) q[1];\n",
            "rx(pi*0.5) q[0];\n",
            "cx q[0],q[1];\n",
            "rx(0) q[0];\n",
            "ry(pi*0.5) q[1];\n",
            "cx q[1],q[0];\n",
            "rx(pi*-0.5) q[1];\n",
            "rz(pi*0.5) q[1];\n",
            "cx q[0],q[1];\n",
            "u3(pi*1.0,0,0) q[0];\n",
            "u3(pi*1.0,0,0) q[1];\n",
            "u3(0,pi*1.0,pi*0.5) q[0];\n",
            "u3(0,pi*1.0,pi*0.5) q[1];\n",
            "rx(pi*0.5) q[0];\n",
            "cx q[0],q[1];\n",
            "rx(0) q[0];\n",
            "ry(pi*0.5) q[1];\n",
            "cx q[1],q[0];\n",
            "rx(pi*-0.5) q[1];\n",
            "rz(pi*0.5) q[1];\n",
            "cx q[0],q[1];\n",
            "u3(pi*1.0,0,pi*0.5) q[0];\n",
            "u3(pi*1.0,0,pi*0.5) q[1];\n",
            "u3(pi*0.5,pi*1.0,pi*0.5878634621) q[0];\n",
            "u3(pi*0.5,0,pi*0.0878634621) q[1];\n",
            "rx(pi*0.5) q[0];\n",
            "cx q[0],q[1];\n",
            "rx(pi*0.4166666667) q[0];\n",
            "ry(pi*0.5) q[1];\n",
            "cx q[1],q[0];\n",
            "rx(pi*-0.5) q[1];\n",
            "rz(pi*0.5) q[1];\n",
            "cx q[0],q[1];\n",
            "u3(pi*0.5,pi*0.3288032046,0) q[0];\n",
            "u3(pi*0.5,pi*0.8288032046,pi*1.0) q[1];\n",
            "\n"
          ],
          "name": "stdout"
        }
      ]
    },
    {
      "cell_type": "markdown",
      "metadata": {
        "id": "D7IWUO8lhlp_",
        "colab_type": "text"
      },
      "source": [
        "**Do you notice anything odd about that program? Whats going on here?**\n",
        "\n",
        "---\n",
        "*Code Exercise*\n",
        "\n",
        "Try to determine IBM's native two-qubit gates. What are u1, u2, u3?\n",
        "\n",
        "(Answer at end of worksheet)\n"
      ]
    },
    {
      "cell_type": "code",
      "metadata": {
        "id": "KdAf32kXkYAD",
        "colab_type": "code",
        "colab": {
          "base_uri": "https://localhost:8080/",
          "height": 605
        },
        "outputId": "c1486090-7055-43d2-d5d4-cbcc05940f35"
      },
      "source": [
        "# Your code here\n",
        "def qasm_pretty(s):\n",
        "  return s.replace(\"\\\\n\", \"\\n\")\n",
        "\n",
        "print(qasm_pretty(cirq.qasm(cirq.Circuit(cirq.CNOT(q0, q1)))))\n",
        "print(qasm_pretty(cirq.qasm(cirq.Circuit(cirq.ISWAP(q0, q1)))))"
      ],
      "execution_count": null,
      "outputs": [
        {
          "output_type": "stream",
          "text": [
            "// Generated from Cirq v0.7.0\n",
            "\n",
            "OPENQASM 2.0;\n",
            "include \"qelib1.inc\";\n",
            "\n",
            "\n",
            "// Qubits: [(0, 0), (0, 1)]\n",
            "qreg q[2];\n",
            "\n",
            "\n",
            "cx q[0],q[1];\n",
            "\n",
            "// Generated from Cirq v0.7.0\n",
            "\n",
            "OPENQASM 2.0;\n",
            "include \"qelib1.inc\";\n",
            "\n",
            "\n",
            "// Qubits: [(0, 0), (0, 1)]\n",
            "qreg q[2];\n",
            "\n",
            "\n",
            "// Gate: ISWAP\n",
            "cx q[0],q[1];\n",
            "h q[0];\n",
            "cx q[1],q[0];\n",
            "rz(pi*0.5) q[0];\n",
            "cx q[1],q[0];\n",
            "rz(pi*-0.5) q[0];\n",
            "h q[0];\n",
            "cx q[0],q[1];\n",
            "\n"
          ],
          "name": "stdout"
        }
      ]
    },
    {
      "cell_type": "markdown",
      "metadata": {
        "id": "lZ2XcHYNknOa",
        "colab_type": "text"
      },
      "source": [
        "---\n",
        "\n",
        "In the lecture we saw that Google's software hierarchy seemed to be missing a compilation step. Instead of explicit compilation to a new language, Cirq programs are likely serialized and passed into a control device that can parse the serial circuit description for hardware control details.\n",
        "\n",
        "We can look at an example of this:"
      ]
    },
    {
      "cell_type": "code",
      "metadata": {
        "id": "IRjmUNLjmpt6",
        "colab_type": "code",
        "colab": {
          "base_uri": "https://localhost:8080/",
          "height": 917
        },
        "outputId": "021cda66-cf40-440d-98a3-16105541e1e7"
      },
      "source": [
        "print(circuit, \"\\n\")\n",
        "cirq.google.SYC_GATESET.serialize(circuit)"
      ],
      "execution_count": null,
      "outputs": [
        {
          "output_type": "stream",
          "text": [
            "(0, 0): ───Rx(0.5π)───fsim(0.5π, 0.167π)───\n",
            "                      │\n",
            "(0, 1): ──────────────#2─────────────────── \n",
            "\n"
          ],
          "name": "stdout"
        },
        {
          "output_type": "execute_result",
          "data": {
            "text/plain": [
              "language {\n",
              "  gate_set: \"sycamore\"\n",
              "}\n",
              "circuit {\n",
              "  scheduling_strategy: MOMENT_BY_MOMENT\n",
              "  moments {\n",
              "    operations {\n",
              "      gate {\n",
              "        id: \"xy\"\n",
              "      }\n",
              "      args {\n",
              "        key: \"axis_half_turns\"\n",
              "        value {\n",
              "          arg_value {\n",
              "            float_value: 0.0\n",
              "          }\n",
              "        }\n",
              "      }\n",
              "      args {\n",
              "        key: \"half_turns\"\n",
              "        value {\n",
              "          arg_value {\n",
              "            float_value: 0.5\n",
              "          }\n",
              "        }\n",
              "      }\n",
              "      qubits {\n",
              "        id: \"0_0\"\n",
              "      }\n",
              "    }\n",
              "  }\n",
              "  moments {\n",
              "    operations {\n",
              "      gate {\n",
              "        id: \"syc\"\n",
              "      }\n",
              "      qubits {\n",
              "        id: \"0_0\"\n",
              "      }\n",
              "      qubits {\n",
              "        id: \"0_1\"\n",
              "      }\n",
              "    }\n",
              "  }\n",
              "}"
            ]
          },
          "metadata": {
            "tags": []
          },
          "execution_count": 114
        }
      ]
    },
    {
      "cell_type": "markdown",
      "metadata": {
        "id": "NWhbmsVyqBrS",
        "colab_type": "text"
      },
      "source": [
        "### Pyquil\n",
        "\n",
        "Pyquil is Rigetti's quantum computing library written in Python. It features similar functionality as Cirq and Qiskit, but has a slightly different process flow.\n",
        "\n",
        "PyQuil/QUIL interface with a QVM (Quantum Virtual Machine), which is basically a quantum simulator (or hardware!) that also simulates the user interface with a quantum computer. Unfortunately, this means we can't actually run programs written in pyquil without also downloading the QVM, and so the following code will not work in Colaboratory:"
      ]
    },
    {
      "cell_type": "code",
      "metadata": {
        "id": "cMfDTK4Hhk7W",
        "colab_type": "code",
        "colab": {}
      },
      "source": [
        "import pyquil\n",
        "# Create a quantum program\n",
        "program = pyquil.Program()\n",
        "\n",
        "# As with qiskit, classical memory must be allocated in advance\n",
        "creg = program.declare(\"ro\", memory_type=\"BIT\", memory_size=1)\n",
        "\n",
        "# Make a simple program\n",
        "program += [\n",
        "  pyquil.gates.X(0),\n",
        "  pyquil.gates.MEASURE(0, creg[0]) # Measurement will go into classical register\n",
        "]\n",
        "print(\"Program:\")\n",
        "print(program)\n",
        "\n",
        "# # Get a 'quantum computer' to run on. QVM refers to \"quantum virtual machine\"\n",
        "# and basically functions as a quantum simulator that also simulates the interface\n",
        "# with real hardware\n",
        "qvm = pyquil.get_qc(\"1q-qvm\")\n",
        "\n",
        "# Specify number of measurements to take\n",
        "program.wrap_in_numshots_loop(100)\n",
        "\n",
        "result = qvm.run(prog)\n",
        "print(result)"
      ],
      "execution_count": null,
      "outputs": []
    },
    {
      "cell_type": "markdown",
      "metadata": {
        "id": "q8I9bD-1vOze",
        "colab_type": "text"
      },
      "source": [
        "## Logical Qubits example: Shor's code\n",
        "\n",
        "In the lecture we discussed \"Logical qubits\", which are encodings of qubits that themselves function as single qubits. Here we'll figure out how this is supposed to work."
      ]
    },
    {
      "cell_type": "code",
      "metadata": {
        "id": "RKoM0abmj-uM",
        "colab_type": "code",
        "colab": {}
      },
      "source": [
        "q0, q1, q2, a0, a1 = cirq.LineQubit.range(5)\n",
        "shor_circuit = cirq.Circuit()\n",
        "shor_circuit += cirq.CNOT(q0, q1)\n",
        "shor_circuit += cirq.CNOT(q1, q2)\n",
        "\n",
        "# SECRET ERROR BELOW:"
      ],
      "execution_count": null,
      "outputs": []
    },
    {
      "cell_type": "code",
      "metadata": {
        "id": "rHw9Lhg9wjjc",
        "colab_type": "code",
        "cellView": "form",
        "colab": {}
      },
      "source": [
        "#@title\n",
        "# X-ERROR ON ONE QUBIT\n",
        "shor_circuit += cirq.X(q1)"
      ],
      "execution_count": null,
      "outputs": []
    },
    {
      "cell_type": "code",
      "metadata": {
        "id": "quxP49uiwh6C",
        "colab_type": "code",
        "colab": {
          "base_uri": "https://localhost:8080/",
          "height": 237
        },
        "outputId": "2f22e3dd-9335-49c0-a0ea-3e517b553252"
      },
      "source": [
        "# Ancilla qubits will capture the error signature\n",
        "shor_circuit += cirq.CNOT(q0, a0)\n",
        "shor_circuit += cirq.CNOT(q1, a0)\n",
        "shor_circuit += cirq.CNOT(q0, a1)\n",
        "shor_circuit += cirq.CNOT(q2, a1)\n",
        "\n",
        "shor_circuit += cirq.measure(a0, a1)\n",
        "print(\"Error correction circuit (error hidden!)\")\n",
        "print(shor_circuit[0:2] + shor_circuit[3:] )"
      ],
      "execution_count": null,
      "outputs": [
        {
          "output_type": "stream",
          "text": [
            "Error correction circuit (error hidden!)\n",
            "          ┌──┐   ┌──┐\n",
            "0: ───@─────@───────────────\n",
            "      │     │\n",
            "1: ───X────@┼─────@─────────\n",
            "           ││     │\n",
            "2: ────────X┼─────┼@────────\n",
            "            │     ││\n",
            "3: ─────────X─────X┼────M───\n",
            "                   │    │\n",
            "4: ────────────────X────M───\n",
            "          └──┘   └──┘\n"
          ],
          "name": "stdout"
        }
      ]
    },
    {
      "cell_type": "markdown",
      "metadata": {
        "id": "zw22-yPlwSa2",
        "colab_type": "text"
      },
      "source": [
        "---\n",
        "_Code exercise_\n",
        "\n",
        "Determine which error was applied to the circuit, by only measuring qubits 3 and 4\n",
        "\n",
        "(Answer at end of worksheet)\n",
        "\n",
        "---"
      ]
    },
    {
      "cell_type": "markdown",
      "metadata": {
        "id": "-aWzmoZsz7bx",
        "colab_type": "text"
      },
      "source": [
        "In general, this code allows for a single X-error to be corrected for in the circuit using classical processing, _without observing the state of the working qubits 0-2_. This means that if we can design algorithms that manipulate the combined state of the first three qubits, the \"logical qubit\", we can correct errors that come up without destroying our quantum state!\n",
        "\n",
        "Such algorithms that can manipulate logical qubits employ logical gates. There are many more complicated and efficient error correction codes, such as the \"toric code\" and \"surface code\"."
      ]
    },
    {
      "cell_type": "markdown",
      "metadata": {
        "id": "zvMXSNvvjVgb",
        "colab_type": "text"
      },
      "source": [
        "## Code exercise solutions\n",
        "\n",
        "   \n"
      ]
    },
    {
      "cell_type": "markdown",
      "metadata": {
        "id": "818irG0SyqHO",
        "colab_type": "text"
      },
      "source": [
        "### IBM's hardware gates\n",
        "The hardware gateset for most IBM hardware (as of 2019) is :\n",
        "\n",
        " - CNOT\n",
        " - Rx(pi/2)\n",
        "\n",
        "u1 is a \"Virtual-Z\" gate that is performed in software, while u2 and u3 are just Virtual Z's interspersed with one or two Rx(pi/2) respectively. See the paper [Efficient Z-Gates for Quantum Computing](https://arxiv.org/pdf/1612.00858.pdf). From a user's manual for Quantum Experience:\n",
        "![](https://drive.google.com/uc?id=1POoUJwT44bag96r3JAjhqmFH-y17gJ5N) "
      ]
    },
    {
      "cell_type": "markdown",
      "metadata": {
        "id": "7uDJeIrVytM0",
        "colab_type": "text"
      },
      "source": [
        "### Determining error in a logical qubit"
      ]
    },
    {
      "cell_type": "code",
      "metadata": {
        "id": "cJzAMKVJkvG7",
        "colab_type": "code",
        "colab": {
          "base_uri": "https://localhost:8080/",
          "height": 36
        },
        "outputId": "e5efb495-5b3a-440a-a42d-50d21056573b"
      },
      "source": [
        "measurements = cirq.Simulator().run(shor_circuit)\n",
        "print(measurements)"
      ],
      "execution_count": null,
      "outputs": [
        {
          "output_type": "stream",
          "text": [
            "3,4=1, 0\n"
          ],
          "name": "stdout"
        }
      ]
    },
    {
      "cell_type": "markdown",
      "metadata": {
        "id": "Qjsfv7nxy6D0",
        "colab_type": "text"
      },
      "source": [
        "The outcomes indicate that qubit 3 (ancilla 0) is in a state of 1, qubit 4 (ancilla 1) is in a state zero. Based on the structure of CNOT's in the circit, this is consistent with an X-gate being applied to qubit 1.\n",
        "\n",
        "In general, you can read off the qubit where an X-error occured according to the table of ancilla readouts:\n",
        "\n",
        "```\n",
        "11 -> qubit 0\n",
        "10 -> qubit 1\n",
        "01 -> qubit 2\n",
        "00 -> no error\n",
        "```"
      ]
    },
    {
      "cell_type": "code",
      "metadata": {
        "id": "QgGuaemUztBT",
        "colab_type": "code",
        "colab": {}
      },
      "source": [
        ""
      ],
      "execution_count": null,
      "outputs": []
    }
  ]
}